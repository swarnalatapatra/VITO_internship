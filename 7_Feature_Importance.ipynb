{
 "cells": [
  {
   "cell_type": "code",
   "execution_count": 1,
   "metadata": {
    "scrolled": false
   },
   "outputs": [
    {
     "name": "stdout",
     "output_type": "stream",
     "text": [
      "\u001b[1m\u001b[37mthunder\u001b[m  Mon Jan 20 12:27:35 2020\r\n",
      "\u001b[36m[0]\u001b[m \u001b[34mGeForce GTX 1080 Ti\u001b[m |\u001b[31m 40'C\u001b[m, \u001b[32m  0 %\u001b[m | \u001b[36m\u001b[1m\u001b[33m   10\u001b[m / \u001b[33m11178\u001b[m MB |\r\n",
      "\u001b[36m[1]\u001b[m \u001b[34mGeForce GTX 1080 Ti\u001b[m |\u001b[31m 25'C\u001b[m, \u001b[32m  0 %\u001b[m | \u001b[36m\u001b[1m\u001b[33m   10\u001b[m / \u001b[33m11178\u001b[m MB |\r\n",
      "\u001b[36m[2]\u001b[m \u001b[34mGeForce GTX 1080 Ti\u001b[m |\u001b[31m 26'C\u001b[m, \u001b[32m  0 %\u001b[m | \u001b[36m\u001b[1m\u001b[33m   10\u001b[m / \u001b[33m11178\u001b[m MB |\r\n",
      "\u001b[36m[3]\u001b[m \u001b[34mGeForce GTX 1080 Ti\u001b[m |\u001b[31m 24'C\u001b[m, \u001b[32m  0 %\u001b[m | \u001b[36m\u001b[1m\u001b[33m   10\u001b[m / \u001b[33m11178\u001b[m MB |\r\n",
      "\u001b[36m[4]\u001b[m \u001b[34mGeForce GTX 1080 Ti\u001b[m |\u001b[31m 23'C\u001b[m, \u001b[32m  0 %\u001b[m | \u001b[36m\u001b[1m\u001b[33m   10\u001b[m / \u001b[33m11178\u001b[m MB |\r\n",
      "\u001b[36m[5]\u001b[m \u001b[34mGeForce GTX 1080 Ti\u001b[m |\u001b[31m 26'C\u001b[m, \u001b[32m  0 %\u001b[m | \u001b[36m\u001b[1m\u001b[33m   10\u001b[m / \u001b[33m11178\u001b[m MB |\r\n",
      "\u001b[36m[6]\u001b[m \u001b[34mGeForce GTX 1080 Ti\u001b[m |\u001b[31m 29'C\u001b[m, \u001b[32m  0 %\u001b[m | \u001b[36m\u001b[1m\u001b[33m   10\u001b[m / \u001b[33m11178\u001b[m MB |\r\n",
      "\u001b[36m[7]\u001b[m \u001b[34mGeForce GTX 1080 Ti\u001b[m |\u001b[31m 27'C\u001b[m, \u001b[32m  0 %\u001b[m | \u001b[36m\u001b[1m\u001b[33m   10\u001b[m / \u001b[33m11178\u001b[m MB |\r\n"
     ]
    },
    {
     "name": "stderr",
     "output_type": "stream",
     "text": [
      "/ds/environments/python2020/lib/python3.7/site-packages/sklearn/externals/joblib/__init__.py:15: DeprecationWarning: sklearn.externals.joblib is deprecated in 0.21 and will be removed in 0.23. Please import this functionality directly from joblib, which can be installed with: pip install joblib. If this warning is raised when loading pickled models, you may need to re-serialize those models with scikit-learn 0.21+.\n",
      "  warnings.warn(msg, category=DeprecationWarning)\n",
      "Using TensorFlow backend.\n",
      "/ds/environments/python2020/lib/python3.7/site-packages/keras/callbacks/callbacks.py:19: DeprecationWarning: Using or importing the ABCs from 'collections' instead of from 'collections.abc' is deprecated since Python 3.3,and in 3.9 it will stop working\n",
      "  from collections import Iterable\n"
     ]
    },
    {
     "name": "stdout",
     "output_type": "stream",
     "text": [
      "Dataset consist of 85730 patients data with 6251 features for each patient\n",
      "All Function definitions executed\n"
     ]
    }
   ],
   "source": [
    "%run ./1_Definitions.ipynb"
   ]
  },
  {
   "cell_type": "code",
   "execution_count": 2,
   "metadata": {
    "scrolled": true
   },
   "outputs": [
    {
     "name": "stdout",
     "output_type": "stream",
     "text": [
      "Mon Jan 20 12:27:50 2020       \n",
      "+-----------------------------------------------------------------------------+\n",
      "| NVIDIA-SMI 418.87.01    Driver Version: 418.87.01    CUDA Version: 10.1     |\n",
      "|-------------------------------+----------------------+----------------------+\n",
      "| GPU  Name        Persistence-M| Bus-Id        Disp.A | Volatile Uncorr. ECC |\n",
      "| Fan  Temp  Perf  Pwr:Usage/Cap|         Memory-Usage | GPU-Util  Compute M. |\n",
      "|===============================+======================+======================|\n",
      "|   0  GeForce GTX 108...  Off  | 00000000:04:00.0 Off |                  N/A |\n",
      "| 29%   40C    P0    59W / 250W |     10MiB / 11178MiB |      0%      Default |\n",
      "+-------------------------------+----------------------+----------------------+\n",
      "|   1  GeForce GTX 108...  Off  | 00000000:06:00.0 Off |                  N/A |\n",
      "| 29%   25C    P8     7W / 250W |     10MiB / 11178MiB |      0%      Default |\n",
      "+-------------------------------+----------------------+----------------------+\n",
      "|   2  GeForce GTX 108...  Off  | 00000000:07:00.0 Off |                  N/A |\n",
      "| 29%   26C    P8     7W / 250W |     10MiB / 11178MiB |      0%      Default |\n",
      "+-------------------------------+----------------------+----------------------+\n",
      "|   3  GeForce GTX 108...  Off  | 00000000:08:00.0 Off |                  N/A |\n",
      "| 29%   25C    P8     8W / 250W |     10MiB / 11178MiB |      0%      Default |\n",
      "+-------------------------------+----------------------+----------------------+\n",
      "|   4  GeForce GTX 108...  Off  | 00000000:0C:00.0 Off |                  N/A |\n",
      "| 29%   23C    P8     8W / 250W |     10MiB / 11178MiB |      0%      Default |\n",
      "+-------------------------------+----------------------+----------------------+\n",
      "|   5  GeForce GTX 108...  Off  | 00000000:0D:00.0 Off |                  N/A |\n",
      "| 29%   26C    P8     9W / 250W |     10MiB / 11178MiB |      0%      Default |\n",
      "+-------------------------------+----------------------+----------------------+\n",
      "|   6  GeForce GTX 108...  Off  | 00000000:0E:00.0 Off |                  N/A |\n",
      "| 29%   29C    P8     7W / 250W |     10MiB / 11178MiB |      0%      Default |\n",
      "+-------------------------------+----------------------+----------------------+\n",
      "|   7  GeForce GTX 108...  Off  | 00000000:0F:00.0 Off |                  N/A |\n",
      "| 29%   27C    P8     7W / 250W |     10MiB / 11178MiB |      0%      Default |\n",
      "+-------------------------------+----------------------+----------------------+\n",
      "                                                                               \n",
      "+-----------------------------------------------------------------------------+\n",
      "| Processes:                                                       GPU Memory |\n",
      "|  GPU       PID   Type   Process name                             Usage      |\n",
      "|=============================================================================|\n",
      "|  No running processes found                                                 |\n",
      "+-----------------------------------------------------------------------------+\n"
     ]
    }
   ],
   "source": [
    "!nvidia-smi\n",
    "import os\n",
    "\n",
    "os.environ[\"CUDA_DEVICE_ORDER\"] = \"PCI_BUS_ID\"   # so the IDs match nvidia-smi\n",
    "os.environ[\"CUDA_VISIBLE_DEVICES\"] = \"0\"   # choose here your GPU (0-7)\n",
    "\n",
    "import tensorflow as tf\n",
    "import tensorflow.compat.v1 as tf\n",
    "import keras\n",
    "# from keras import backend as K\n",
    "import tensorflow.python.keras.backend as K"
   ]
  },
  {
   "cell_type": "markdown",
   "metadata": {},
   "source": [
    "## Loading train data to use in Random Forest - union ground truth"
   ]
  },
  {
   "cell_type": "code",
   "execution_count": 3,
   "metadata": {},
   "outputs": [],
   "source": [
    "enc_df = pd.read_pickle(DATA_dir + 'enc_df.pkl')\n",
    "\n",
    "# union ground truth is used here\n",
    "\n",
    "y_train_df = pd.read_pickle(tts_path + 'yu_train.pkl')\n",
    "y_val_df = pd.read_pickle(tts_path + 'yu_val.pkl')\n",
    "y_test_df = pd.read_pickle(tts_path + 'yu_test.pkl')\n",
    "\n",
    "# indices are laoded to divide the meta-data w.r.t indices in train-val-test sets\n",
    "\n",
    "indices_train = np.load(tts_path + 'indices_train.npy')\n",
    "indices_val = np.load(tts_path + 'indices_val.npy')\n",
    "indices_test = np.load(tts_path + 'indices_test.npy')"
   ]
  },
  {
   "cell_type": "markdown",
   "metadata": {},
   "source": [
    "#### Converting the labels to list "
   ]
  },
  {
   "cell_type": "code",
   "execution_count": 4,
   "metadata": {},
   "outputs": [],
   "source": [
    "y_train = y_train_df['ClassLabel'].tolist()\n",
    "y_val = y_val_df['ClassLabel'].tolist()\n",
    "y_test = y_test_df['ClassLabel'].tolist()"
   ]
  },
  {
   "cell_type": "code",
   "execution_count": 6,
   "metadata": {},
   "outputs": [
    {
     "data": {
      "text/plain": [
       "((85730, 6251), 51438, 17146, 17146)"
      ]
     },
     "execution_count": 6,
     "metadata": {},
     "output_type": "execute_result"
    }
   ],
   "source": [
    "enc_df.shape, len(y_train), len(y_val), len(y_test)"
   ]
  },
  {
   "cell_type": "markdown",
   "metadata": {},
   "source": [
    "## Class Distribution"
   ]
  },
  {
   "cell_type": "markdown",
   "metadata": {},
   "source": [
    "#### No. of Glaucoma and non Glaucoma patients in training set"
   ]
  },
  {
   "cell_type": "code",
   "execution_count": 21,
   "metadata": {},
   "outputs": [
    {
     "name": "stdout",
     "output_type": "stream",
     "text": [
      "No. of Glaucoma patients in training set: 2506\n",
      "No. of non-Glaucoma patients in training set: 48932\n"
     ]
    }
   ],
   "source": [
    "n_NG = 0\n",
    "n_G = 0\n",
    "\n",
    "for i in range(len(y_train)):\n",
    "    if(y_train[i] == 1):\n",
    "        n_G += 1\n",
    "    else:\n",
    "        n_NG += 1\n",
    "        \n",
    "print(\"No. of Glaucoma patients in training set:\",n_G)\n",
    "print(\"No. of non-Glaucoma patients in training set:\",n_NG)"
   ]
  },
  {
   "cell_type": "code",
   "execution_count": 22,
   "metadata": {},
   "outputs": [
    {
     "data": {
      "image/png": "[encoded data removed]",
      "text/plain": [
       "<Figure size 432x288 with 1 Axes>"
      ]
     },
     "metadata": {
      "needs_background": "light"
     },
     "output_type": "display_data"
    }
   ],
   "source": [
    "import seaborn as sns\n",
    "\n",
    "class_name = ['Non-Glaucoma', 'Glaucoma']\n",
    "count = [n_NG, n_G]\n",
    "# plt.bar(class_name, count)\n",
    "sns.barplot(x=class_name, y=count, linewidth=2.5, errcolor=\".2\", edgecolor=\".2\")\n",
    "plt.xlabel('Class', fontsize=15)\n",
    "plt.ylabel('Number of patients', fontsize=15)\n",
    "plt.title('Class distribution')\n",
    "plt.show()"
   ]
  },
  {
   "cell_type": "markdown",
   "metadata": {},
   "source": [
    "## Class weights for imbalance data set to use in Random forest classifier\n",
    "Class weight is selected based on experimentation - ratio almost equivalent to ratio of class distribution."
   ]
  },
  {
   "cell_type": "code",
   "execution_count": 23,
   "metadata": {},
   "outputs": [],
   "source": [
    "class_weight = dict({0:1, 1:35})"
   ]
  },
  {
   "cell_type": "markdown",
   "metadata": {},
   "source": [
    "## Feature Reduction and Saving Dataframe with reduced features\n",
    "The features which implied glaucoma directly have been removed - **cols2rem**\n",
    "\n",
    "Rest of the columns are checked for which ones have higher importance in glaucoma detection"
   ]
  },
  {
   "cell_type": "code",
   "execution_count": 10,
   "metadata": {},
   "outputs": [],
   "source": [
    "# cols2rem = ['87-','92-','135-','2227-','4689-','5181-','5326-','5327-','5945-','6119-','6148-','20002-','20008-','20009-','20010-','20011','20013-',\n",
    "#             '20014-','40001-','40002-','41078-','41080-','41082-','41083-','41084-','41096-','41101-','41142-','41202-','41204-',\n",
    "#             '41200-','41210-']\n",
    "\n",
    "# # len(cols2rem) # 13\n",
    "# remove_df  = enc_df.loc[:,enc_df.columns.str.startswith(cols2rem[0])]\n",
    "# for i in range(1,len(cols2rem)):\n",
    "#     remove_df = remove_df.join(enc_df.loc[:,enc_df.columns.str.startswith(cols2rem[i])])\n",
    "    \n",
    "# new_enc_df = enc_df.drop(remove_df.columns, axis=1)\n",
    "# new_enc_df.shape"
   ]
  },
  {
   "cell_type": "markdown",
   "metadata": {},
   "source": [
    "### Spliting new_enc_df to train test val as per the indices - SAVED - hence code is commented out\n",
    "The new_enc_df created after removing the obvious columns, is then divided into train-val-test sets using respective indices"
   ]
  },
  {
   "cell_type": "code",
   "execution_count": 11,
   "metadata": {},
   "outputs": [],
   "source": [
    "# meta_train = []\n",
    "# meta_val = []\n",
    "# meta_test = []\n",
    "\n",
    "# for i in range(len(indices_train)):\n",
    "#     meta_train.append(new_enc_df.iloc[indices_train[i]])\n",
    "    \n",
    "# for i in range(len(indices_val)):\n",
    "#     meta_val.append(new_enc_df.iloc[indices_val[i]])\n",
    "#     meta_test.append(new_enc_df.iloc[indices_test[i]])\n",
    "\n",
    "# meta_train_arr = np.asarray(meta_train)\n",
    "# meta_val_arr = np.asarray(meta_val)\n",
    "# meta_test_arr = np.asarray(meta_test)\n",
    "\n",
    "# meta_train_df = pd.DataFrame(meta_train_arr,columns = new_enc_df.columns)\n",
    "# meta_val_df = pd.DataFrame(meta_val_arr,columns = new_enc_df.columns)\n",
    "# meta_test_df = pd.DataFrame(meta_test_arr,columns = new_enc_df.columns)"
   ]
  },
  {
   "cell_type": "markdown",
   "metadata": {},
   "source": [
    "Saved so that the entire time consuming process is not repeated again"
   ]
  },
  {
   "cell_type": "code",
   "execution_count": 12,
   "metadata": {},
   "outputs": [],
   "source": [
    "# #SAVE - DONE\n",
    "# meta_train_df.to_pickle(tts_path + 'reducedfeatures_meta_train.pkl')\n",
    "# meta_val_df.to_pickle(tts_path + 'reducedfeatures_meta_val.pkl')\n",
    "# meta_test_df.to_pickle(tts_path + 'reducedfeatures_meta_test.pkl')"
   ]
  },
  {
   "cell_type": "markdown",
   "metadata": {},
   "source": [
    "### Loading Reduced Features Encodeded Metadata - Train and Validation"
   ]
  },
  {
   "cell_type": "code",
   "execution_count": 24,
   "metadata": {},
   "outputs": [
    {
     "data": {
      "text/plain": [
       "((51438, 4898), (17146, 4898), (17146, 4898), 51438, 17146, 17146)"
      ]
     },
     "execution_count": 24,
     "metadata": {},
     "output_type": "execute_result"
    }
   ],
   "source": [
    "meta_train_df = pd.read_pickle(tts_path + 'reducedfeatures_meta_train.pkl')\n",
    "meta_val_df = pd.read_pickle(tts_path + 'reducedfeatures_meta_val.pkl')\n",
    "meta_test_df = pd.read_pickle(tts_path + 'reducedfeatures_meta_test.pkl')\n",
    "\n",
    "meta_train_df.shape, meta_val_df.shape, meta_test_df.shape, len(y_train), len(y_val), len(y_test)"
   ]
  },
  {
   "cell_type": "markdown",
   "metadata": {},
   "source": [
    "## RandomForestClassifier for Feature Importance"
   ]
  },
  {
   "cell_type": "markdown",
   "metadata": {},
   "source": [
    "#### 1. Without class weights - everything is classified as majority class - High accuracy but 0 precision and recall\n",
    "This code is commented out since we go with the classifier with class weights to obtain feature importance."
   ]
  },
  {
   "cell_type": "code",
   "execution_count": 15,
   "metadata": {},
   "outputs": [],
   "source": [
    "# # # Random forest classifier\n",
    "# rfc_all = RandomForestClassifier(n_estimators = 40, min_samples_leaf = 3, max_features = 0.5, n_jobs=-1, oob_score = True)\n",
    "# rfc_all.fit(meta_train_df, y_train)"
   ]
  },
  {
   "cell_type": "markdown",
   "metadata": {},
   "source": [
    "#### 2. With class weights - giving higher weight to minority class\n",
    "To reduce the bias towards majority class"
   ]
  },
  {
   "cell_type": "code",
   "execution_count": 25,
   "metadata": {},
   "outputs": [],
   "source": [
    "rfc_all_cw = RandomForestClassifier(bootstrap=True,\n",
    "                                    class_weight=class_weight, criterion='gini',\n",
    "                                    max_depth=8, max_features='auto', max_leaf_nodes=None,\n",
    "                                    min_impurity_decrease=0.0, min_impurity_split=None,\n",
    "                                    min_samples_leaf=4, min_samples_split=10,\n",
    "                                    min_weight_fraction_leaf=0.0, n_estimators=300,\n",
    "                                    n_jobs=-1, oob_score=True,\n",
    "                                    verbose=0, warm_start=False)"
   ]
  },
  {
   "cell_type": "code",
   "execution_count": 26,
   "metadata": {},
   "outputs": [
    {
     "data": {
      "text/plain": [
       "RandomForestClassifier(bootstrap=True, class_weight={0: 1, 1: 35},\n",
       "                       criterion='gini', max_depth=8, max_features='auto',\n",
       "                       max_leaf_nodes=None, min_impurity_decrease=0.0,\n",
       "                       min_impurity_split=None, min_samples_leaf=4,\n",
       "                       min_samples_split=10, min_weight_fraction_leaf=0.0,\n",
       "                       n_estimators=300, n_jobs=-1, oob_score=True,\n",
       "                       random_state=None, verbose=0, warm_start=False)"
      ]
     },
     "execution_count": 26,
     "metadata": {},
     "output_type": "execute_result"
    }
   ],
   "source": [
    "rfc_all_cw.fit(meta_train_df, y_train)"
   ]
  },
  {
   "cell_type": "markdown",
   "metadata": {},
   "source": [
    "### Feature Dictionaries\n",
    "Dictionary of all the disease codes and their respective names "
   ]
  },
  {
   "cell_type": "code",
   "execution_count": 27,
   "metadata": {},
   "outputs": [],
   "source": [
    "# FEATURE DESCRIPTION DICTIONARY\n",
    "feat_desc = pd.read_excel(DATA_dir + 'FeatureNames.xlsx')\n",
    "feat_unique = feat_desc['UDI'].str.split('-',expand=True)[0].unique()\n",
    "feat_desc_dict, feat_unique_dict = feature_desc()"
   ]
  },
  {
   "cell_type": "code",
   "execution_count": 28,
   "metadata": {},
   "outputs": [],
   "source": [
    "# Random forest is used to get the importance values of each of the feature columns\n",
    "feat_imp_dict, feat_unique_imp_dict = feature_imp(rfc_all_cw, meta_train_df)"
   ]
  },
  {
   "cell_type": "code",
   "execution_count": 29,
   "metadata": {
    "scrolled": true
   },
   "outputs": [
    {
     "data": {
      "text/html": [
       "<div>\n",
       "<style scoped>\n",
       "    .dataframe tbody tr th:only-of-type {\n",
       "        vertical-align: middle;\n",
       "    }\n",
       "\n",
       "    .dataframe tbody tr th {\n",
       "        vertical-align: top;\n",
       "    }\n",
       "\n",
       "    .dataframe thead th {\n",
       "        text-align: right;\n",
       "    }\n",
       "</style>\n",
       "<table border=\"1\" class=\"dataframe\">\n",
       "  <thead>\n",
       "    <tr style=\"text-align: right;\">\n",
       "      <th></th>\n",
       "      <th>Features</th>\n",
       "      <th>Importance</th>\n",
       "    </tr>\n",
       "  </thead>\n",
       "  <tbody>\n",
       "    <tr>\n",
       "      <th>0</th>\n",
       "      <td>Taking other prescription medications</td>\n",
       "      <td>0.014826</td>\n",
       "    </tr>\n",
       "    <tr>\n",
       "      <th>1</th>\n",
       "      <td>Year of birth</td>\n",
       "      <td>0.012486</td>\n",
       "    </tr>\n",
       "    <tr>\n",
       "      <th>2</th>\n",
       "      <td>Intra-ocular pressure, Goldmann-correlated (right)</td>\n",
       "      <td>0.010625</td>\n",
       "    </tr>\n",
       "    <tr>\n",
       "      <th>3</th>\n",
       "      <td>Intra-ocular pressure device ID (left)</td>\n",
       "      <td>0.009749</td>\n",
       "    </tr>\n",
       "    <tr>\n",
       "      <th>4</th>\n",
       "      <td>Age when attended assessment centre</td>\n",
       "      <td>0.008387</td>\n",
       "    </tr>\n",
       "    <tr>\n",
       "      <th>5</th>\n",
       "      <td>Intra-ocular pressure, Goldmann-correlated (left)</td>\n",
       "      <td>0.008227</td>\n",
       "    </tr>\n",
       "    <tr>\n",
       "      <th>6</th>\n",
       "      <td>Intra-ocular pressure, corneal-compensated (right)</td>\n",
       "      <td>0.007645</td>\n",
       "    </tr>\n",
       "    <tr>\n",
       "      <th>7</th>\n",
       "      <td>Overall health rating</td>\n",
       "      <td>0.006604</td>\n",
       "    </tr>\n",
       "    <tr>\n",
       "      <th>8</th>\n",
       "      <td>Forced expiratory volume in 1-second (FEV1)</td>\n",
       "      <td>0.005226</td>\n",
       "    </tr>\n",
       "    <tr>\n",
       "      <th>9</th>\n",
       "      <td>Long-standing illness, disability or infirmity</td>\n",
       "      <td>0.005170</td>\n",
       "    </tr>\n",
       "    <tr>\n",
       "      <th>10</th>\n",
       "      <td>Forced expiratory volume in 1-second (FEV1), Best measure</td>\n",
       "      <td>0.004961</td>\n",
       "    </tr>\n",
       "    <tr>\n",
       "      <th>11</th>\n",
       "      <td>Time since interview start at which blood pressure screen(s) shown</td>\n",
       "      <td>0.004787</td>\n",
       "    </tr>\n",
       "    <tr>\n",
       "      <th>12</th>\n",
       "      <td>Forced vital capacity (FVC)</td>\n",
       "      <td>0.004467</td>\n",
       "    </tr>\n",
       "    <tr>\n",
       "      <th>13</th>\n",
       "      <td>Duration visual-acuity screen displayed (right)</td>\n",
       "      <td>0.004456</td>\n",
       "    </tr>\n",
       "    <tr>\n",
       "      <th>14</th>\n",
       "      <td>Frequency of tenseness / restlessness in last 2 weeks</td>\n",
       "      <td>0.003875</td>\n",
       "    </tr>\n",
       "    <tr>\n",
       "      <th>15</th>\n",
       "      <td>Mean time to correctly identify matches</td>\n",
       "      <td>0.003764</td>\n",
       "    </tr>\n",
       "    <tr>\n",
       "      <th>16</th>\n",
       "      <td>Usual walking pace</td>\n",
       "      <td>0.003582</td>\n",
       "    </tr>\n",
       "    <tr>\n",
       "      <th>17</th>\n",
       "      <td>Number of days/week of vigorous physical activity 10+ minutes</td>\n",
       "      <td>0.003406</td>\n",
       "    </tr>\n",
       "    <tr>\n",
       "      <th>18</th>\n",
       "      <td>Waist circumference</td>\n",
       "      <td>0.003391</td>\n",
       "    </tr>\n",
       "    <tr>\n",
       "      <th>19</th>\n",
       "      <td>Forced vital capacity (FVC), Best measure</td>\n",
       "      <td>0.003192</td>\n",
       "    </tr>\n",
       "    <tr>\n",
       "      <th>20</th>\n",
       "      <td>Corneal hysteresis (right)</td>\n",
       "      <td>0.003082</td>\n",
       "    </tr>\n",
       "    <tr>\n",
       "      <th>21</th>\n",
       "      <td>logMAR, final (left)</td>\n",
       "      <td>0.003016</td>\n",
       "    </tr>\n",
       "    <tr>\n",
       "      <th>22</th>\n",
       "      <td>Corneal hysteresis (left)</td>\n",
       "      <td>0.002811</td>\n",
       "    </tr>\n",
       "    <tr>\n",
       "      <th>23</th>\n",
       "      <td>Peak expiratory flow (PEF)</td>\n",
       "      <td>0.002705</td>\n",
       "    </tr>\n",
       "    <tr>\n",
       "      <th>24</th>\n",
       "      <td>ECG, load</td>\n",
       "      <td>0.002616</td>\n",
       "    </tr>\n",
       "    <tr>\n",
       "      <th>25</th>\n",
       "      <td>Types of physical activity in last 4 weeks</td>\n",
       "      <td>0.002572</td>\n",
       "    </tr>\n",
       "    <tr>\n",
       "      <th>26</th>\n",
       "      <td>Bicycle speed</td>\n",
       "      <td>0.002499</td>\n",
       "    </tr>\n",
       "    <tr>\n",
       "      <th>27</th>\n",
       "      <td>Duration of vigorous activity</td>\n",
       "      <td>0.002478</td>\n",
       "    </tr>\n",
       "    <tr>\n",
       "      <th>28</th>\n",
       "      <td>Duration to first press of snap-button in each round</td>\n",
       "      <td>0.002443</td>\n",
       "    </tr>\n",
       "    <tr>\n",
       "      <th>29</th>\n",
       "      <td>logMAR, final (right)</td>\n",
       "      <td>0.002351</td>\n",
       "    </tr>\n",
       "    <tr>\n",
       "      <th>30</th>\n",
       "      <td>3mm weak meridian angle (right)</td>\n",
       "      <td>0.002217</td>\n",
       "    </tr>\n",
       "    <tr>\n",
       "      <th>31</th>\n",
       "      <td>Duration at which OCT screen shown (left)</td>\n",
       "      <td>0.002212</td>\n",
       "    </tr>\n",
       "    <tr>\n",
       "      <th>32</th>\n",
       "      <td>Duration visual-acuity screen displayed (left)</td>\n",
       "      <td>0.002188</td>\n",
       "    </tr>\n",
       "    <tr>\n",
       "      <th>33</th>\n",
       "      <td>Duration at which refractometer first shown (left)</td>\n",
       "      <td>0.002173</td>\n",
       "    </tr>\n",
       "    <tr>\n",
       "      <th>34</th>\n",
       "      <td>Duration at which OCT screen shown (right)</td>\n",
       "      <td>0.002012</td>\n",
       "    </tr>\n",
       "    <tr>\n",
       "      <th>35</th>\n",
       "      <td>Leg fat percentage (left)</td>\n",
       "      <td>0.001957</td>\n",
       "    </tr>\n",
       "    <tr>\n",
       "      <th>36</th>\n",
       "      <td>Impedance of arm (left)</td>\n",
       "      <td>0.001919</td>\n",
       "    </tr>\n",
       "    <tr>\n",
       "      <th>37</th>\n",
       "      <td>Corneal resistance factor (right)</td>\n",
       "      <td>0.001904</td>\n",
       "    </tr>\n",
       "    <tr>\n",
       "      <th>38</th>\n",
       "      <td>Duration of other exercises</td>\n",
       "      <td>0.001873</td>\n",
       "    </tr>\n",
       "    <tr>\n",
       "      <th>39</th>\n",
       "      <td>Trunk predicted mass</td>\n",
       "      <td>0.001821</td>\n",
       "    </tr>\n",
       "    <tr>\n",
       "      <th>40</th>\n",
       "      <td>ECG, stage name</td>\n",
       "      <td>0.001812</td>\n",
       "    </tr>\n",
       "    <tr>\n",
       "      <th>41</th>\n",
       "      <td>FEV1/ FVC ratio Z-score</td>\n",
       "      <td>0.001806</td>\n",
       "    </tr>\n",
       "    <tr>\n",
       "      <th>42</th>\n",
       "      <td>Forced vital capacity (FVC) Z-score</td>\n",
       "      <td>0.001787</td>\n",
       "    </tr>\n",
       "    <tr>\n",
       "      <th>43</th>\n",
       "      <td>Systolic blood pressure, automated reading</td>\n",
       "      <td>0.001782</td>\n",
       "    </tr>\n",
       "    <tr>\n",
       "      <th>44</th>\n",
       "      <td>Forced expiratory volume in 1-second (FEV1) Z-score</td>\n",
       "      <td>0.001754</td>\n",
       "    </tr>\n",
       "    <tr>\n",
       "      <th>45</th>\n",
       "      <td>ECG, heart rate</td>\n",
       "      <td>0.001753</td>\n",
       "    </tr>\n",
       "    <tr>\n",
       "      <th>46</th>\n",
       "      <td>Duration at which refractometer first shown (right)</td>\n",
       "      <td>0.001747</td>\n",
       "    </tr>\n",
       "    <tr>\n",
       "      <th>47</th>\n",
       "      <td>Body mass index (BMI)</td>\n",
       "      <td>0.001742</td>\n",
       "    </tr>\n",
       "    <tr>\n",
       "      <th>48</th>\n",
       "      <td>Data points for blow</td>\n",
       "      <td>0.001740</td>\n",
       "    </tr>\n",
       "    <tr>\n",
       "      <th>49</th>\n",
       "      <td>Leg fat percentage (right)</td>\n",
       "      <td>0.001722</td>\n",
       "    </tr>\n",
       "  </tbody>\n",
       "</table>\n",
       "</div>"
      ],
      "text/plain": [
       "                                                              Features  \\\n",
       "0                                Taking other prescription medications   \n",
       "1                                                        Year of birth   \n",
       "2                   Intra-ocular pressure, Goldmann-correlated (right)   \n",
       "3                               Intra-ocular pressure device ID (left)   \n",
       "4                                  Age when attended assessment centre   \n",
       "5                    Intra-ocular pressure, Goldmann-correlated (left)   \n",
       "6                   Intra-ocular pressure, corneal-compensated (right)   \n",
       "7                                                Overall health rating   \n",
       "8                          Forced expiratory volume in 1-second (FEV1)   \n",
       "9                       Long-standing illness, disability or infirmity   \n",
       "10           Forced expiratory volume in 1-second (FEV1), Best measure   \n",
       "11  Time since interview start at which blood pressure screen(s) shown   \n",
       "12                                         Forced vital capacity (FVC)   \n",
       "13                     Duration visual-acuity screen displayed (right)   \n",
       "14               Frequency of tenseness / restlessness in last 2 weeks   \n",
       "15                             Mean time to correctly identify matches   \n",
       "16                                                  Usual walking pace   \n",
       "17       Number of days/week of vigorous physical activity 10+ minutes   \n",
       "18                                                 Waist circumference   \n",
       "19                           Forced vital capacity (FVC), Best measure   \n",
       "20                                          Corneal hysteresis (right)   \n",
       "21                                                logMAR, final (left)   \n",
       "22                                           Corneal hysteresis (left)   \n",
       "23                                          Peak expiratory flow (PEF)   \n",
       "24                                                           ECG, load   \n",
       "25                          Types of physical activity in last 4 weeks   \n",
       "26                                                       Bicycle speed   \n",
       "27                                       Duration of vigorous activity   \n",
       "28                Duration to first press of snap-button in each round   \n",
       "29                                               logMAR, final (right)   \n",
       "30                                     3mm weak meridian angle (right)   \n",
       "31                           Duration at which OCT screen shown (left)   \n",
       "32                      Duration visual-acuity screen displayed (left)   \n",
       "33                  Duration at which refractometer first shown (left)   \n",
       "34                          Duration at which OCT screen shown (right)   \n",
       "35                                           Leg fat percentage (left)   \n",
       "36                                             Impedance of arm (left)   \n",
       "37                                   Corneal resistance factor (right)   \n",
       "38                                         Duration of other exercises   \n",
       "39                                                Trunk predicted mass   \n",
       "40                                                     ECG, stage name   \n",
       "41                                             FEV1/ FVC ratio Z-score   \n",
       "42                                 Forced vital capacity (FVC) Z-score   \n",
       "43                          Systolic blood pressure, automated reading   \n",
       "44                 Forced expiratory volume in 1-second (FEV1) Z-score   \n",
       "45                                                     ECG, heart rate   \n",
       "46                 Duration at which refractometer first shown (right)   \n",
       "47                                               Body mass index (BMI)   \n",
       "48                                                Data points for blow   \n",
       "49                                          Leg fat percentage (right)   \n",
       "\n",
       "    Importance  \n",
       "0     0.014826  \n",
       "1     0.012486  \n",
       "2     0.010625  \n",
       "3     0.009749  \n",
       "4     0.008387  \n",
       "5     0.008227  \n",
       "6     0.007645  \n",
       "7     0.006604  \n",
       "8     0.005226  \n",
       "9     0.005170  \n",
       "10    0.004961  \n",
       "11    0.004787  \n",
       "12    0.004467  \n",
       "13    0.004456  \n",
       "14    0.003875  \n",
       "15    0.003764  \n",
       "16    0.003582  \n",
       "17    0.003406  \n",
       "18    0.003391  \n",
       "19    0.003192  \n",
       "20    0.003082  \n",
       "21    0.003016  \n",
       "22    0.002811  \n",
       "23    0.002705  \n",
       "24    0.002616  \n",
       "25    0.002572  \n",
       "26    0.002499  \n",
       "27    0.002478  \n",
       "28    0.002443  \n",
       "29    0.002351  \n",
       "30    0.002217  \n",
       "31    0.002212  \n",
       "32    0.002188  \n",
       "33    0.002173  \n",
       "34    0.002012  \n",
       "35    0.001957  \n",
       "36    0.001919  \n",
       "37    0.001904  \n",
       "38    0.001873  \n",
       "39    0.001821  \n",
       "40    0.001812  \n",
       "41    0.001806  \n",
       "42    0.001787  \n",
       "43    0.001782  \n",
       "44    0.001754  \n",
       "45    0.001753  \n",
       "46    0.001747  \n",
       "47    0.001742  \n",
       "48    0.001740  \n",
       "49    0.001722  "
      ]
     },
     "metadata": {},
     "output_type": "display_data"
    }
   ],
   "source": [
    "pd.options.display.max_colwidth = 100\n",
    "\n",
    "fi_red = get_imp_features(50)\n",
    "display_all(fi_red)"
   ]
  },
  {
   "cell_type": "code",
   "execution_count": 30,
   "metadata": {
    "scrolled": false
   },
   "outputs": [
    {
     "data": {
      "text/plain": [
       "<matplotlib.axes._subplots.AxesSubplot at 0x7f8a8cc0dcd0>"
      ]
     },
     "execution_count": 30,
     "metadata": {},
     "output_type": "execute_result"
    },
    {
     "data": {
      "image/png": "[encoded data removed]",
      "text/plain": [
       "<Figure size 1080x1080 with 1 Axes>"
      ]
     },
     "metadata": {
      "needs_background": "light"
     },
     "output_type": "display_data"
    }
   ],
   "source": [
    "def plot_fi(finew):\n",
    "    return finew.plot('Features','Importance','barh',figsize=(15,15),legend=False)\n",
    "\n",
    "plot_fi(fi_red)"
   ]
  },
  {
   "cell_type": "markdown",
   "metadata": {},
   "source": [
    "## Creating Dataframe containing important features\n",
    "Taking a particular threshold from above figure to get the first few most important features only"
   ]
  },
  {
   "cell_type": "code",
   "execution_count": 31,
   "metadata": {},
   "outputs": [
    {
     "data": {
      "text/plain": [
       "50"
      ]
     },
     "execution_count": 31,
     "metadata": {},
     "output_type": "execute_result"
    }
   ],
   "source": [
    "# Getting feature from feature description\n",
    "feat_to_keep = fi_red[fi_red.Importance>0.0005].Features # threshold : 0.0005\n",
    "featval_to_keep = []\n",
    "for i in range(len(feat_to_keep)):\n",
    "    for feat, desc in feat_unique_dict.items():    # for name, age in dictionary.iteritems():  (for Python 2.x)\n",
    "        if desc == feat_to_keep[i]:\n",
    "            featval_to_keep.append(feat)\n",
    "            break\n",
    "            \n",
    "len(featval_to_keep) # unique features having importance > threshold."
   ]
  },
  {
   "cell_type": "code",
   "execution_count": 32,
   "metadata": {},
   "outputs": [
    {
     "data": {
      "text/plain": [
       "((51438, 4898), (17146, 4898), (17146, 4898))"
      ]
     },
     "execution_count": 32,
     "metadata": {},
     "output_type": "execute_result"
    }
   ],
   "source": [
    "meta_train_df.shape, meta_val_df.shape, meta_test_df.shape"
   ]
  },
  {
   "cell_type": "code",
   "execution_count": 68,
   "metadata": {},
   "outputs": [
    {
     "data": {
      "text/plain": [
       "(51438, 621)"
      ]
     },
     "execution_count": 68,
     "metadata": {},
     "output_type": "execute_result"
    }
   ],
   "source": [
    "# Creating TRAIN dataframe with only the important features\n",
    "\n",
    "redtrain_df = meta_train_df.loc[:,meta_train_df.columns.str.startswith(featval_to_keep[0]+'-')]\n",
    "for i in range(1,len(featval_to_keep)):\n",
    "    redtrain_df = redtrain_df.join(meta_train_df.loc[:,meta_train_df.columns.str.startswith(featval_to_keep[i]+'-')])\n",
    "    \n",
    "redtrain_df.shape"
   ]
  },
  {
   "cell_type": "code",
   "execution_count": 69,
   "metadata": {},
   "outputs": [
    {
     "data": {
      "text/plain": [
       "(17146, 621)"
      ]
     },
     "execution_count": 69,
     "metadata": {},
     "output_type": "execute_result"
    }
   ],
   "source": [
    "# Creating VALIDATION dataframe with only the important features\n",
    "\n",
    "redval_df = meta_val_df.loc[:,meta_val_df.columns.str.startswith(featval_to_keep[0]+'-')]\n",
    "for i in range(1,len(featval_to_keep)):\n",
    "    redval_df = redval_df.join(meta_val_df.loc[:,meta_val_df.columns.str.startswith(featval_to_keep[i]+'-')])\n",
    "    \n",
    "redval_df.shape"
   ]
  },
  {
   "cell_type": "code",
   "execution_count": 70,
   "metadata": {},
   "outputs": [
    {
     "data": {
      "text/plain": [
       "(17146, 621)"
      ]
     },
     "execution_count": 70,
     "metadata": {},
     "output_type": "execute_result"
    }
   ],
   "source": [
    "# Creating TEST dataframe with only the important features\n",
    "\n",
    "redtest_df = meta_test_df.loc[:,meta_test_df.columns.str.startswith(featval_to_keep[0]+'-')]\n",
    "for i in range(1,len(featval_to_keep)):\n",
    "    redtest_df = redtest_df.join(meta_test_df.loc[:,meta_test_df.columns.str.startswith(featval_to_keep[i]+'-')])\n",
    "    \n",
    "redtest_df.shape"
   ]
  },
  {
   "cell_type": "markdown",
   "metadata": {},
   "source": [
    "#### without class_weight\n",
    "Commented out as we train a classifier with class weights.\n"
   ]
  },
  {
   "cell_type": "code",
   "execution_count": 31,
   "metadata": {},
   "outputs": [],
   "source": [
    "\n",
    "# rfc_red = RandomForestClassifier(n_estimators = 40, min_samples_leaf = 3, max_features = 0.5, n_jobs=-1, oob_score = True)\n",
    "# rfc_red.fit(redtrain_df, y_train)"
   ]
  },
  {
   "cell_type": "markdown",
   "metadata": {},
   "source": [
    "#### with class weight"
   ]
  },
  {
   "cell_type": "code",
   "execution_count": 71,
   "metadata": {},
   "outputs": [
    {
     "data": {
      "text/plain": [
       "RandomForestClassifier(bootstrap=True, class_weight={0: 1, 1: 35},\n",
       "                       criterion='gini', max_depth=8, max_features='auto',\n",
       "                       max_leaf_nodes=None, min_impurity_decrease=0.0,\n",
       "                       min_impurity_split=None, min_samples_leaf=4,\n",
       "                       min_samples_split=10, min_weight_fraction_leaf=0.0,\n",
       "                       n_estimators=300, n_jobs=-1, oob_score=True,\n",
       "                       random_state=None, verbose=0, warm_start=False)"
      ]
     },
     "execution_count": 71,
     "metadata": {},
     "output_type": "execute_result"
    }
   ],
   "source": [
    "rfc_red_cw = RandomForestClassifier(bootstrap=True,\n",
    "                                    class_weight=class_weight, criterion='gini',\n",
    "                                    max_depth=8, max_features='auto', max_leaf_nodes=None,\n",
    "                                    min_impurity_decrease=0.0, min_impurity_split=None,\n",
    "                                    min_samples_leaf=4, min_samples_split=10,\n",
    "                                    min_weight_fraction_leaf=0.0, n_estimators=300,\n",
    "                                    n_jobs=-1, oob_score=True,\n",
    "                                    verbose=0, warm_start=False)\n",
    "\n",
    "rfc_red_cw.fit(redtrain_df, y_train)"
   ]
  },
  {
   "cell_type": "markdown",
   "metadata": {},
   "source": [
    "### Loading Reduced features random forest"
   ]
  },
  {
   "cell_type": "code",
   "execution_count": 72,
   "metadata": {},
   "outputs": [],
   "source": [
    "# FEATURE DESCRIPTION DICTIONARY\n",
    "feat_desc = pd.read_excel(DATA_dir + 'FeatureNames.xlsx')\n",
    "feat_unique = feat_desc['UDI'].str.split('-',expand=True)[0].unique()\n",
    "feat_desc_dict, feat_unique_dict = feature_desc()"
   ]
  },
  {
   "cell_type": "code",
   "execution_count": 73,
   "metadata": {
    "scrolled": true
   },
   "outputs": [
    {
     "data": {
      "text/html": [
       "<div>\n",
       "<style scoped>\n",
       "    .dataframe tbody tr th:only-of-type {\n",
       "        vertical-align: middle;\n",
       "    }\n",
       "\n",
       "    .dataframe tbody tr th {\n",
       "        vertical-align: top;\n",
       "    }\n",
       "\n",
       "    .dataframe thead th {\n",
       "        text-align: right;\n",
       "    }\n",
       "</style>\n",
       "<table border=\"1\" class=\"dataframe\">\n",
       "  <thead>\n",
       "    <tr style=\"text-align: right;\">\n",
       "      <th></th>\n",
       "      <th>Features</th>\n",
       "      <th>Importance</th>\n",
       "    </tr>\n",
       "  </thead>\n",
       "  <tbody>\n",
       "    <tr>\n",
       "      <th>0</th>\n",
       "      <td>Taking other prescription medications</td>\n",
       "      <td>0.030413</td>\n",
       "    </tr>\n",
       "    <tr>\n",
       "      <th>1</th>\n",
       "      <td>Intra-ocular pressure, Goldmann-correlated (right)</td>\n",
       "      <td>0.024139</td>\n",
       "    </tr>\n",
       "    <tr>\n",
       "      <th>2</th>\n",
       "      <td>Age when attended assessment centre</td>\n",
       "      <td>0.023092</td>\n",
       "    </tr>\n",
       "    <tr>\n",
       "      <th>3</th>\n",
       "      <td>Year of birth</td>\n",
       "      <td>0.022773</td>\n",
       "    </tr>\n",
       "    <tr>\n",
       "      <th>4</th>\n",
       "      <td>Intra-ocular pressure, Goldmann-correlated (left)</td>\n",
       "      <td>0.021815</td>\n",
       "    </tr>\n",
       "    <tr>\n",
       "      <th>5</th>\n",
       "      <td>Intra-ocular pressure, corneal-compensated (right)</td>\n",
       "      <td>0.020529</td>\n",
       "    </tr>\n",
       "    <tr>\n",
       "      <th>6</th>\n",
       "      <td>Overall health rating</td>\n",
       "      <td>0.013157</td>\n",
       "    </tr>\n",
       "    <tr>\n",
       "      <th>7</th>\n",
       "      <td>Time since interview start at which blood pressure screen(s) shown</td>\n",
       "      <td>0.012539</td>\n",
       "    </tr>\n",
       "    <tr>\n",
       "      <th>8</th>\n",
       "      <td>Forced expiratory volume in 1-second (FEV1), Best measure</td>\n",
       "      <td>0.011300</td>\n",
       "    </tr>\n",
       "    <tr>\n",
       "      <th>9</th>\n",
       "      <td>Forced expiratory volume in 1-second (FEV1)</td>\n",
       "      <td>0.010952</td>\n",
       "    </tr>\n",
       "    <tr>\n",
       "      <th>10</th>\n",
       "      <td>Forced vital capacity (FVC)</td>\n",
       "      <td>0.009831</td>\n",
       "    </tr>\n",
       "    <tr>\n",
       "      <th>11</th>\n",
       "      <td>Long-standing illness, disability or infirmity</td>\n",
       "      <td>0.009793</td>\n",
       "    </tr>\n",
       "    <tr>\n",
       "      <th>12</th>\n",
       "      <td>Corneal hysteresis (right)</td>\n",
       "      <td>0.009391</td>\n",
       "    </tr>\n",
       "    <tr>\n",
       "      <th>13</th>\n",
       "      <td>Duration visual-acuity screen displayed (right)</td>\n",
       "      <td>0.009364</td>\n",
       "    </tr>\n",
       "    <tr>\n",
       "      <th>14</th>\n",
       "      <td>Forced vital capacity (FVC), Best measure</td>\n",
       "      <td>0.008853</td>\n",
       "    </tr>\n",
       "    <tr>\n",
       "      <th>15</th>\n",
       "      <td>Mean time to correctly identify matches</td>\n",
       "      <td>0.008789</td>\n",
       "    </tr>\n",
       "    <tr>\n",
       "      <th>16</th>\n",
       "      <td>Waist circumference</td>\n",
       "      <td>0.008599</td>\n",
       "    </tr>\n",
       "    <tr>\n",
       "      <th>17</th>\n",
       "      <td>Number of days/week of vigorous physical activity 10+ minutes</td>\n",
       "      <td>0.008342</td>\n",
       "    </tr>\n",
       "    <tr>\n",
       "      <th>18</th>\n",
       "      <td>logMAR, final (left)</td>\n",
       "      <td>0.008313</td>\n",
       "    </tr>\n",
       "    <tr>\n",
       "      <th>19</th>\n",
       "      <td>Peak expiratory flow (PEF)</td>\n",
       "      <td>0.008165</td>\n",
       "    </tr>\n",
       "    <tr>\n",
       "      <th>20</th>\n",
       "      <td>Types of physical activity in last 4 weeks</td>\n",
       "      <td>0.008104</td>\n",
       "    </tr>\n",
       "    <tr>\n",
       "      <th>21</th>\n",
       "      <td>logMAR, final (right)</td>\n",
       "      <td>0.008068</td>\n",
       "    </tr>\n",
       "    <tr>\n",
       "      <th>22</th>\n",
       "      <td>Body mass index (BMI)</td>\n",
       "      <td>0.007586</td>\n",
       "    </tr>\n",
       "    <tr>\n",
       "      <th>23</th>\n",
       "      <td>Duration at which OCT screen shown (right)</td>\n",
       "      <td>0.007565</td>\n",
       "    </tr>\n",
       "    <tr>\n",
       "      <th>24</th>\n",
       "      <td>Usual walking pace</td>\n",
       "      <td>0.007001</td>\n",
       "    </tr>\n",
       "    <tr>\n",
       "      <th>25</th>\n",
       "      <td>Frequency of tenseness / restlessness in last 2 weeks</td>\n",
       "      <td>0.006987</td>\n",
       "    </tr>\n",
       "    <tr>\n",
       "      <th>26</th>\n",
       "      <td>FEV1/ FVC ratio Z-score</td>\n",
       "      <td>0.006889</td>\n",
       "    </tr>\n",
       "    <tr>\n",
       "      <th>27</th>\n",
       "      <td>Corneal hysteresis (left)</td>\n",
       "      <td>0.006731</td>\n",
       "    </tr>\n",
       "    <tr>\n",
       "      <th>28</th>\n",
       "      <td>Leg fat percentage (right)</td>\n",
       "      <td>0.006654</td>\n",
       "    </tr>\n",
       "    <tr>\n",
       "      <th>29</th>\n",
       "      <td>Duration at which OCT screen shown (left)</td>\n",
       "      <td>0.006363</td>\n",
       "    </tr>\n",
       "    <tr>\n",
       "      <th>30</th>\n",
       "      <td>3mm weak meridian angle (right)</td>\n",
       "      <td>0.006223</td>\n",
       "    </tr>\n",
       "    <tr>\n",
       "      <th>31</th>\n",
       "      <td>Forced vital capacity (FVC) Z-score</td>\n",
       "      <td>0.006192</td>\n",
       "    </tr>\n",
       "    <tr>\n",
       "      <th>32</th>\n",
       "      <td>Leg fat percentage (left)</td>\n",
       "      <td>0.006100</td>\n",
       "    </tr>\n",
       "    <tr>\n",
       "      <th>33</th>\n",
       "      <td>Impedance of arm (left)</td>\n",
       "      <td>0.006064</td>\n",
       "    </tr>\n",
       "    <tr>\n",
       "      <th>34</th>\n",
       "      <td>Duration of vigorous activity</td>\n",
       "      <td>0.006018</td>\n",
       "    </tr>\n",
       "    <tr>\n",
       "      <th>35</th>\n",
       "      <td>Duration to first press of snap-button in each round</td>\n",
       "      <td>0.005543</td>\n",
       "    </tr>\n",
       "    <tr>\n",
       "      <th>36</th>\n",
       "      <td>Bicycle speed</td>\n",
       "      <td>0.005500</td>\n",
       "    </tr>\n",
       "    <tr>\n",
       "      <th>37</th>\n",
       "      <td>Forced expiratory volume in 1-second (FEV1) Z-score</td>\n",
       "      <td>0.005242</td>\n",
       "    </tr>\n",
       "    <tr>\n",
       "      <th>38</th>\n",
       "      <td>ECG, load</td>\n",
       "      <td>0.005026</td>\n",
       "    </tr>\n",
       "    <tr>\n",
       "      <th>39</th>\n",
       "      <td>Duration of other exercises</td>\n",
       "      <td>0.004982</td>\n",
       "    </tr>\n",
       "  </tbody>\n",
       "</table>\n",
       "</div>"
      ],
      "text/plain": [
       "                                                              Features  \\\n",
       "0                                Taking other prescription medications   \n",
       "1                   Intra-ocular pressure, Goldmann-correlated (right)   \n",
       "2                                  Age when attended assessment centre   \n",
       "3                                                        Year of birth   \n",
       "4                    Intra-ocular pressure, Goldmann-correlated (left)   \n",
       "5                   Intra-ocular pressure, corneal-compensated (right)   \n",
       "6                                                Overall health rating   \n",
       "7   Time since interview start at which blood pressure screen(s) shown   \n",
       "8            Forced expiratory volume in 1-second (FEV1), Best measure   \n",
       "9                          Forced expiratory volume in 1-second (FEV1)   \n",
       "10                                         Forced vital capacity (FVC)   \n",
       "11                      Long-standing illness, disability or infirmity   \n",
       "12                                          Corneal hysteresis (right)   \n",
       "13                     Duration visual-acuity screen displayed (right)   \n",
       "14                           Forced vital capacity (FVC), Best measure   \n",
       "15                             Mean time to correctly identify matches   \n",
       "16                                                 Waist circumference   \n",
       "17       Number of days/week of vigorous physical activity 10+ minutes   \n",
       "18                                                logMAR, final (left)   \n",
       "19                                          Peak expiratory flow (PEF)   \n",
       "20                          Types of physical activity in last 4 weeks   \n",
       "21                                               logMAR, final (right)   \n",
       "22                                               Body mass index (BMI)   \n",
       "23                          Duration at which OCT screen shown (right)   \n",
       "24                                                  Usual walking pace   \n",
       "25               Frequency of tenseness / restlessness in last 2 weeks   \n",
       "26                                             FEV1/ FVC ratio Z-score   \n",
       "27                                           Corneal hysteresis (left)   \n",
       "28                                          Leg fat percentage (right)   \n",
       "29                           Duration at which OCT screen shown (left)   \n",
       "30                                     3mm weak meridian angle (right)   \n",
       "31                                 Forced vital capacity (FVC) Z-score   \n",
       "32                                           Leg fat percentage (left)   \n",
       "33                                             Impedance of arm (left)   \n",
       "34                                       Duration of vigorous activity   \n",
       "35                Duration to first press of snap-button in each round   \n",
       "36                                                       Bicycle speed   \n",
       "37                 Forced expiratory volume in 1-second (FEV1) Z-score   \n",
       "38                                                           ECG, load   \n",
       "39                                         Duration of other exercises   \n",
       "\n",
       "    Importance  \n",
       "0     0.030413  \n",
       "1     0.024139  \n",
       "2     0.023092  \n",
       "3     0.022773  \n",
       "4     0.021815  \n",
       "5     0.020529  \n",
       "6     0.013157  \n",
       "7     0.012539  \n",
       "8     0.011300  \n",
       "9     0.010952  \n",
       "10    0.009831  \n",
       "11    0.009793  \n",
       "12    0.009391  \n",
       "13    0.009364  \n",
       "14    0.008853  \n",
       "15    0.008789  \n",
       "16    0.008599  \n",
       "17    0.008342  \n",
       "18    0.008313  \n",
       "19    0.008165  \n",
       "20    0.008104  \n",
       "21    0.008068  \n",
       "22    0.007586  \n",
       "23    0.007565  \n",
       "24    0.007001  \n",
       "25    0.006987  \n",
       "26    0.006889  \n",
       "27    0.006731  \n",
       "28    0.006654  \n",
       "29    0.006363  \n",
       "30    0.006223  \n",
       "31    0.006192  \n",
       "32    0.006100  \n",
       "33    0.006064  \n",
       "34    0.006018  \n",
       "35    0.005543  \n",
       "36    0.005500  \n",
       "37    0.005242  \n",
       "38    0.005026  \n",
       "39    0.004982  "
      ]
     },
     "metadata": {},
     "output_type": "display_data"
    }
   ],
   "source": [
    "# Plotting the important features only to see the correlation between the features\n",
    "\n",
    "feat_imp_dict, feat_unique_imp_dict = feature_imp(rfc_red_cw, redtrain_df)\n",
    "fi_red = get_imp_features(40)\n",
    "display_all(fi_red)"
   ]
  },
  {
   "cell_type": "code",
   "execution_count": 74,
   "metadata": {
    "scrolled": false
   },
   "outputs": [
    {
     "data": {
      "text/plain": [
       "<matplotlib.axes._subplots.AxesSubplot at 0x7f8a8c805f50>"
      ]
     },
     "execution_count": 74,
     "metadata": {},
     "output_type": "execute_result"
    },
    {
     "data": {
      "image/png": "[encoded data removed]",
      "text/plain": [
       "<Figure size 1080x1080 with 1 Axes>"
      ]
     },
     "metadata": {
      "needs_background": "light"
     },
     "output_type": "display_data"
    }
   ],
   "source": [
    "plot_fi(fi_red)"
   ]
  },
  {
   "cell_type": "markdown",
   "metadata": {},
   "source": [
    "## Compare The Accuracy Of Full Feature Classifier To Limited Feature Classifier\n"
   ]
  },
  {
   "cell_type": "code",
   "execution_count": 75,
   "metadata": {},
   "outputs": [],
   "source": [
    "from sklearn.metrics import accuracy_score, f1_score, recall_score, precision_score, classification_report, confusion_matrix\n",
    "\n",
    "# Full Featured Classifier To The Test Data\n",
    "y_pred = rfc_all_cw.predict(meta_val_df) # prediction using all features\n",
    "y_important_pred = rfc_red_cw.predict(redval_df) # prediction using important features only"
   ]
  },
  {
   "cell_type": "code",
   "execution_count": 76,
   "metadata": {},
   "outputs": [],
   "source": [
    "all_pred_train = rfc_all_cw.predict(meta_train_df) # train\n",
    "all_pred_val = rfc_all_cw.predict(meta_val_df) # validation\n",
    "all_pred_test = rfc_all_cw.predict(meta_test_df) # test"
   ]
  },
  {
   "cell_type": "code",
   "execution_count": 78,
   "metadata": {},
   "outputs": [
    {
     "data": {
      "text/plain": [
       "((17146, 4898), (17146, 621))"
      ]
     },
     "execution_count": 78,
     "metadata": {},
     "output_type": "execute_result"
    }
   ],
   "source": [
    "# No. of features reduced from 4898 to 621\n",
    "\n",
    "meta_val_df.shape, redval_df.shape"
   ]
  },
  {
   "cell_type": "markdown",
   "metadata": {},
   "source": [
    "#### F1 score"
   ]
  },
  {
   "cell_type": "code",
   "execution_count": 79,
   "metadata": {},
   "outputs": [
    {
     "data": {
      "text/plain": [
       "(0.1293401965372017, 0.13264711594484366)"
      ]
     },
     "execution_count": 79,
     "metadata": {},
     "output_type": "execute_result"
    }
   ],
   "source": [
    "# 40 features\n",
    "f1_score(y_val, y_pred) , f1_score(y_val, y_important_pred)"
   ]
  },
  {
   "cell_type": "markdown",
   "metadata": {},
   "source": [
    "#### Accuracy score"
   ]
  },
  {
   "cell_type": "code",
   "execution_count": 80,
   "metadata": {},
   "outputs": [
    {
     "data": {
      "text/plain": [
       "(0.4574244721801003, 0.4790621719351452)"
      ]
     },
     "execution_count": 80,
     "metadata": {},
     "output_type": "execute_result"
    }
   ],
   "source": [
    "accuracy_score(y_val, y_pred) , accuracy_score(y_val, y_important_pred)"
   ]
  },
  {
   "cell_type": "markdown",
   "metadata": {},
   "source": [
    "#### Recall score"
   ]
  },
  {
   "cell_type": "code",
   "execution_count": 81,
   "metadata": {},
   "outputs": [
    {
     "data": {
      "text/plain": [
       "(0.8110328638497653, 0.8016431924882629)"
      ]
     },
     "execution_count": 81,
     "metadata": {},
     "output_type": "execute_result"
    }
   ],
   "source": [
    "recall_score(y_val, y_pred) , recall_score(y_val, y_important_pred)"
   ]
  },
  {
   "cell_type": "markdown",
   "metadata": {},
   "source": [
    "#### Precision score"
   ]
  },
  {
   "cell_type": "code",
   "execution_count": 82,
   "metadata": {},
   "outputs": [
    {
     "data": {
      "text/plain": [
       "(0.07027356859554561, 0.07230573787846707)"
      ]
     },
     "execution_count": 82,
     "metadata": {},
     "output_type": "execute_result"
    }
   ],
   "source": [
    "precision_score(y_val, y_pred) , precision_score(y_val, y_important_pred)"
   ]
  },
  {
   "cell_type": "markdown",
   "metadata": {},
   "source": [
    "#### classification_report"
   ]
  },
  {
   "cell_type": "code",
   "execution_count": 83,
   "metadata": {},
   "outputs": [
    {
     "name": "stdout",
     "output_type": "stream",
     "text": [
      "              precision    recall  f1-score   support\n",
      "\n",
      "           0       0.98      0.44      0.61     16294\n",
      "           1       0.07      0.81      0.13       852\n",
      "\n",
      "    accuracy                           0.46     17146\n",
      "   macro avg       0.52      0.62      0.37     17146\n",
      "weighted avg       0.93      0.46      0.58     17146\n",
      " \n",
      "\n",
      "               precision    recall  f1-score   support\n",
      "\n",
      "           0       0.98      0.46      0.63     16294\n",
      "           1       0.07      0.80      0.13       852\n",
      "\n",
      "    accuracy                           0.48     17146\n",
      "   macro avg       0.53      0.63      0.38     17146\n",
      "weighted avg       0.93      0.48      0.60     17146\n",
      "\n"
     ]
    }
   ],
   "source": [
    "print(classification_report(y_val, y_pred) ,\"\\n\\n\", classification_report(y_val, y_important_pred))"
   ]
  },
  {
   "cell_type": "markdown",
   "metadata": {},
   "source": [
    "#### Confusion matrix"
   ]
  },
  {
   "cell_type": "code",
   "execution_count": 84,
   "metadata": {},
   "outputs": [
    {
     "name": "stdout",
     "output_type": "stream",
     "text": [
      "[[7152 9142]\n",
      " [ 161  691]] \n",
      "\n",
      " [[7531 8763]\n",
      " [ 169  683]]\n"
     ]
    }
   ],
   "source": [
    "# tn, fp, fn, tp\n",
    "print(confusion_matrix(y_val, y_pred) ,\"\\n\\n\", confusion_matrix(y_val, y_important_pred))"
   ]
  },
  {
   "cell_type": "code",
   "execution_count": 85,
   "metadata": {},
   "outputs": [
    {
     "name": "stdout",
     "output_type": "stream",
     "text": [
      "Healthy Patients - correctly identified (True Negatives):  7152 0.4389345771449613\n",
      "Healthy Patients - predicted to have glaucoma (False Positives):  9142 0.5610654228550387\n",
      "Glaucoma Patients - predicted healthy (False Negatives):  161 0.18896713615023475\n",
      "Glaucoma Patients - correctly identified (True Positives):  691 0.8110328638497653\n",
      "\n",
      "Total Glaucoma patients:  852 1.0\n",
      "Total Healthy patients:  16294 1.0\n"
     ]
    },
    {
     "data": {
      "image/png": "[encoded data removed]",
      "text/plain": [
       "<Figure size 360x360 with 2 Axes>"
      ]
     },
     "metadata": {
      "needs_background": "light"
     },
     "output_type": "display_data"
    }
   ],
   "source": [
    "plot_cm(y_val, y_pred)"
   ]
  },
  {
   "cell_type": "code",
   "execution_count": 86,
   "metadata": {},
   "outputs": [
    {
     "name": "stdout",
     "output_type": "stream",
     "text": [
      "Healthy Patients - correctly identified (True Negatives):  7531 0.4621946728857248\n",
      "Healthy Patients - predicted to have glaucoma (False Positives):  8763 0.5378053271142752\n",
      "Glaucoma Patients - predicted healthy (False Negatives):  169 0.1983568075117371\n",
      "Glaucoma Patients - correctly identified (True Positives):  683 0.8016431924882629\n",
      "\n",
      "Total Glaucoma patients:  852 1.0\n",
      "Total Healthy patients:  16294 1.0\n"
     ]
    },
    {
     "data": {
      "image/png": "[encoded data removed]",
      "text/plain": [
       "<Figure size 360x360 with 2 Axes>"
      ]
     },
     "metadata": {
      "needs_background": "light"
     },
     "output_type": "display_data"
    }
   ],
   "source": [
    "plot_cm(y_val, y_important_pred)"
   ]
  },
  {
   "cell_type": "code",
   "execution_count": 87,
   "metadata": {},
   "outputs": [
    {
     "name": "stdout",
     "output_type": "stream",
     "text": [
      "Metrics:\t\tTrain:\t\t\tValidation:\t\tTest:\n",
      "Accuracy:\t 0.4742602745052296 \t 0.4574244721801003 \t 0.4558497608771725\n",
      "Recall:\t\t 0.9692737430167597 \t 0.8110328638497653 \t 0.7912621359223301\n",
      "Precision:\t 0.08263310086749447 \t 0.07027356859554561 \t 0.06646279306829765\n",
      "F1 score:\t 0.152283627472493 \t 0.1293401965372017 \t 0.12262554071845025\n",
      "AUC:\t\t 0.7090912163134154 \t 0.6249837204973633 \t 0.6150894676670834\n"
     ]
    }
   ],
   "source": [
    "get_metrics(y_train, y_val, y_test, all_pred_train, all_pred_val, all_pred_test)"
   ]
  },
  {
   "cell_type": "markdown",
   "metadata": {},
   "source": [
    "## Creating and saving Dataframe containing final 40 features only\n",
    "Saved to be used in a multimodal model"
   ]
  },
  {
   "cell_type": "code",
   "execution_count": 88,
   "metadata": {},
   "outputs": [
    {
     "data": {
      "text/plain": [
       "40"
      ]
     },
     "execution_count": 88,
     "metadata": {},
     "output_type": "execute_result"
    }
   ],
   "source": [
    "# Getting feature from feature description\n",
    "feat_to_keep = fi_red.Features\n",
    "featval_to_keep = []\n",
    "for i in range(len(feat_to_keep)):\n",
    "    for feat, desc in feat_unique_dict.items():    # for name, age in dictionary.iteritems():  (for Python 2.x)\n",
    "        if desc == feat_to_keep[i]:\n",
    "            featval_to_keep.append(feat)\n",
    "            break\n",
    "            \n",
    "len(featval_to_keep)"
   ]
  },
  {
   "cell_type": "code",
   "execution_count": 94,
   "metadata": {},
   "outputs": [
    {
     "data": {
      "text/plain": [
       "(51438, 621)"
      ]
     },
     "execution_count": 94,
     "metadata": {},
     "output_type": "execute_result"
    }
   ],
   "source": [
    "redtrain_df = meta_train_df.loc[:,meta_train_df.columns.str.startswith(featval_to_keep[0]+'-')]\n",
    "for i in range(1,len(featval_to_keep)):\n",
    "    redtrain_df = redtrain_df.join(meta_train_df.loc[:,meta_train_df.columns.str.startswith(featval_to_keep[i]+'-')])\n",
    "    \n",
    "redtrain_df.shape"
   ]
  },
  {
   "cell_type": "code",
   "execution_count": 97,
   "metadata": {},
   "outputs": [
    {
     "data": {
      "text/plain": [
       "(17146, 621)"
      ]
     },
     "execution_count": 97,
     "metadata": {},
     "output_type": "execute_result"
    }
   ],
   "source": [
    "redval_df = meta_val_df.loc[:,meta_val_df.columns.str.startswith(featval_to_keep[0]+'-')]\n",
    "for i in range(1,len(featval_to_keep)):\n",
    "    redval_df = redval_df.join(meta_val_df.loc[:,meta_val_df.columns.str.startswith(featval_to_keep[i]+'-')])\n",
    "    \n",
    "redval_df.shape"
   ]
  },
  {
   "cell_type": "code",
   "execution_count": 98,
   "metadata": {},
   "outputs": [
    {
     "data": {
      "text/plain": [
       "(17146, 621)"
      ]
     },
     "execution_count": 98,
     "metadata": {},
     "output_type": "execute_result"
    }
   ],
   "source": [
    "redtest_df = meta_test_df.loc[:,meta_test_df.columns.str.startswith(featval_to_keep[0]+'-')]\n",
    "for i in range(1,len(featval_to_keep)):\n",
    "    redtest_df = redtest_df.join(meta_test_df.loc[:,meta_test_df.columns.str.startswith(featval_to_keep[i]+'-')])\n",
    "    \n",
    "redtest_df.shape"
   ]
  },
  {
   "cell_type": "code",
   "execution_count": 99,
   "metadata": {},
   "outputs": [],
   "source": [
    "redtrain_df.to_pickle(tts_path + str(len(featval_to_keep))+'_features_union_train_df_FINAL.pkl')\n",
    "redval_df.to_pickle(tts_path + str(len(featval_to_keep))+'_features_union_val_df_FINAL.pkl')\n",
    "redtest_df.to_pickle(tts_path + str(len(featval_to_keep))+'_features_union_test_df_FINAL.pkl')"
   ]
  },
  {
   "cell_type": "markdown",
   "metadata": {},
   "source": [
    "## Loading"
   ]
  },
  {
   "cell_type": "code",
   "execution_count": 100,
   "metadata": {},
   "outputs": [
    {
     "data": {
      "text/plain": [
       "((51438, 621), (17146, 621), (17146, 621))"
      ]
     },
     "execution_count": 100,
     "metadata": {},
     "output_type": "execute_result"
    }
   ],
   "source": [
    "# LOAD\n",
    "final_redtrain_df = pd.read_pickle(tts_path + str(len(featval_to_keep))+'_features_union_train_df_FINAL.pkl')\n",
    "final_redval_df = pd.read_pickle(tts_path + str(len(featval_to_keep))+'_features_union_val_df_FINAL.pkl')\n",
    "final_redtest_df = pd.read_pickle(tts_path + str(len(featval_to_keep))+'_features_union_test_df_FINAL.pkl')\n",
    "final_redtrain_df.shape, final_redval_df.shape, final_redtest_df.shape"
   ]
  },
  {
   "cell_type": "markdown",
   "metadata": {},
   "source": [
    "## FINAL Performance on using important features only"
   ]
  },
  {
   "cell_type": "code",
   "execution_count": 101,
   "metadata": {},
   "outputs": [
    {
     "data": {
      "text/plain": [
       "RandomForestClassifier(bootstrap=True, class_weight={0: 1, 1: 35},\n",
       "                       criterion='gini', max_depth=8, max_features='auto',\n",
       "                       max_leaf_nodes=None, min_impurity_decrease=0.0,\n",
       "                       min_impurity_split=None, min_samples_leaf=4,\n",
       "                       min_samples_split=10, min_weight_fraction_leaf=0.0,\n",
       "                       n_estimators=300, n_jobs=-1, oob_score=True,\n",
       "                       random_state=None, verbose=0, warm_start=False)"
      ]
     },
     "execution_count": 101,
     "metadata": {},
     "output_type": "execute_result"
    }
   ],
   "source": [
    "rfc_imp = RandomForestClassifier(bootstrap=True,\n",
    "                                class_weight=class_weight, criterion='gini',\n",
    "                                max_depth=8, max_features='auto', max_leaf_nodes=None,\n",
    "                                min_impurity_decrease=0.0, min_impurity_split=None,\n",
    "                                min_samples_leaf=4, min_samples_split=10,\n",
    "                                min_weight_fraction_leaf=0.0, n_estimators=300,\n",
    "                                n_jobs=-1, oob_score=True,\n",
    "                                verbose=0, warm_start=False)\n",
    "\n",
    "rfc_imp.fit(final_redtrain_df, y_train)"
   ]
  },
  {
   "cell_type": "code",
   "execution_count": 102,
   "metadata": {},
   "outputs": [],
   "source": [
    "# True Values: y_train, y_val, y_test\n",
    "\n",
    "#Predicted Values\n",
    "imp_train_pred = rfc_imp.predict(final_redtrain_df)\n",
    "imp_val_pred = rfc_imp.predict(final_redval_df)\n",
    "imp_test_pred = rfc_imp.predict(final_redtest_df)\n"
   ]
  },
  {
   "cell_type": "code",
   "execution_count": 103,
   "metadata": {},
   "outputs": [
    {
     "name": "stdout",
     "output_type": "stream",
     "text": [
      "Metrics:\t\tTrain:\t\t\tValidation:\t\tTest:\n",
      "Accuracy:\t 0.491134958590925 \t 0.4749795870757028 \t 0.4747462965123061\n",
      "Recall:\t\t 0.9509177972865124 \t 0.8133802816901409 \t 0.7839805825242718\n",
      "Precision:\t 0.08380516968524705 \t 0.07267197986577181 \t 0.06818661600168884\n",
      "F1 score:\t 0.15403509905950033 \t 0.1334231805929919 \t 0.12546125461254612\n",
      "AUC:\t\t 0.7092527349875708 \t 0.6353325859168761 \t 0.6215577462308897\n"
     ]
    }
   ],
   "source": [
    "get_metrics(y_train, y_val, y_test, imp_train_pred, imp_val_pred, imp_test_pred)"
   ]
  },
  {
   "cell_type": "code",
   "execution_count": 104,
   "metadata": {},
   "outputs": [
    {
     "name": "stdout",
     "output_type": "stream",
     "text": [
      "Healthy Patients - correctly identified (True Negatives):  22880 0.4675876726886291\n",
      "Healthy Patients - predicted to have glaucoma (False Positives):  26052 0.5324123273113709\n",
      "Glaucoma Patients - predicted healthy (False Negatives):  123 0.04908220271348763\n",
      "Glaucoma Patients - correctly identified (True Positives):  2383 0.9509177972865124\n",
      "\n",
      "Total Glaucoma patients:  2506 1.0\n",
      "Total Healthy patients:  48932 1.0\n"
     ]
    },
    {
     "data": {
      "image/png": "[encoded data removed]",
      "text/plain": [
       "<Figure size 360x360 with 2 Axes>"
      ]
     },
     "metadata": {
      "needs_background": "light"
     },
     "output_type": "display_data"
    }
   ],
   "source": [
    "plot_cm(y_train, imp_train_pred)"
   ]
  },
  {
   "cell_type": "code",
   "execution_count": 105,
   "metadata": {},
   "outputs": [
    {
     "name": "stdout",
     "output_type": "stream",
     "text": [
      "Healthy Patients - correctly identified (True Negatives):  7451 0.4572848901436111\n",
      "Healthy Patients - predicted to have glaucoma (False Positives):  8843 0.5427151098563888\n",
      "Glaucoma Patients - predicted healthy (False Negatives):  159 0.18661971830985916\n",
      "Glaucoma Patients - correctly identified (True Positives):  693 0.8133802816901409\n",
      "\n",
      "Total Glaucoma patients:  852 1.0\n",
      "Total Healthy patients:  16294 1.0\n"
     ]
    },
    {
     "data": {
      "image/png": "[encoded data removed]",
      "text/plain": [
       "<Figure size 360x360 with 2 Axes>"
      ]
     },
     "metadata": {
      "needs_background": "light"
     },
     "output_type": "display_data"
    }
   ],
   "source": [
    "plot_cm(y_val, imp_val_pred)"
   ]
  },
  {
   "cell_type": "code",
   "execution_count": 106,
   "metadata": {},
   "outputs": [
    {
     "name": "stdout",
     "output_type": "stream",
     "text": [
      "Healthy Patients - correctly identified (True Negatives):  7494 0.45913490993750766\n",
      "Healthy Patients - predicted to have glaucoma (False Positives):  8828 0.5408650900624924\n",
      "Glaucoma Patients - predicted healthy (False Negatives):  178 0.21601941747572814\n",
      "Glaucoma Patients - correctly identified (True Positives):  646 0.7839805825242718\n",
      "\n",
      "Total Glaucoma patients:  824 1.0\n",
      "Total Healthy patients:  16322 1.0\n"
     ]
    },
    {
     "data": {
      "image/png": "[encoded data removed]",
      "text/plain": [
       "<Figure size 360x360 with 2 Axes>"
      ]
     },
     "metadata": {
      "needs_background": "light"
     },
     "output_type": "display_data"
    }
   ],
   "source": [
    "plot_cm(y_test, imp_test_pred)"
   ]
  },
  {
   "cell_type": "code",
   "execution_count": null,
   "metadata": {},
   "outputs": [],
   "source": []
  }
 ],
 "metadata": {
  "kernelspec": {
   "display_name": "Python 2020",
   "language": "python",
   "name": "python2020"
  },
  "language_info": {
   "codemirror_mode": {
    "name": "ipython",
    "version": 3
   },
   "file_extension": ".py",
   "mimetype": "text/x-python",
   "name": "python",
   "nbconvert_exporter": "python",
   "pygments_lexer": "ipython3",
   "version": "3.7.5"
  }
 },
 "nbformat": 4,
 "nbformat_minor": 2
}
