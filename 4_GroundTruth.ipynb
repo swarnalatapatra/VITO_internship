{
 "cells": [
  {
   "cell_type": "code",
   "execution_count": 22,
   "metadata": {
    "scrolled": true
   },
   "outputs": [
    {
     "name": "stdout",
     "output_type": "stream",
     "text": [
      "\u001b[1m\u001b[37mthunder\u001b[m  Fri Jan 17 15:07:38 2020\n",
      "\u001b[36m[0]\u001b[m \u001b[34mGeForce GTX 1080 Ti\u001b[m |\u001b[31m 39'C\u001b[m, \u001b[32m  0 %\u001b[m | \u001b[36m\u001b[1m\u001b[33m10767\u001b[m / \u001b[33m11178\u001b[m MB | \u001b[1m\u001b[30mhemelinr\u001b[m(\u001b[33m10757M\u001b[m)\n",
      "\u001b[36m[1]\u001b[m \u001b[34mGeForce GTX 1080 Ti\u001b[m |\u001b[31m 24'C\u001b[m, \u001b[32m  0 %\u001b[m | \u001b[36m\u001b[1m\u001b[33m10767\u001b[m / \u001b[33m11178\u001b[m MB | \u001b[1m\u001b[30mhemelinr\u001b[m(\u001b[33m10757M\u001b[m)\n",
      "\u001b[36m[2]\u001b[m \u001b[34mGeForce GTX 1080 Ti\u001b[m |\u001b[31m 25'C\u001b[m, \u001b[32m  0 %\u001b[m | \u001b[36m\u001b[1m\u001b[33m   10\u001b[m / \u001b[33m11178\u001b[m MB |\n",
      "\u001b[36m[3]\u001b[m \u001b[34mGeForce GTX 1080 Ti\u001b[m |\u001b[31m 24'C\u001b[m, \u001b[32m  0 %\u001b[m | \u001b[36m\u001b[1m\u001b[33m10936\u001b[m / \u001b[33m11178\u001b[m MB | \u001b[1m\u001b[30mhemelinr\u001b[m(\u001b[33m10926M\u001b[m)\n",
      "\u001b[36m[4]\u001b[m \u001b[34mGeForce GTX 1080 Ti\u001b[m |\u001b[31m 23'C\u001b[m, \u001b[32m  0 %\u001b[m | \u001b[36m\u001b[1m\u001b[33m10767\u001b[m / \u001b[33m11178\u001b[m MB | \u001b[1m\u001b[30mhemelinr\u001b[m(\u001b[33m10757M\u001b[m)\n",
      "\u001b[36m[5]\u001b[m \u001b[34mGeForce GTX 1080 Ti\u001b[m |\u001b[31m 26'C\u001b[m, \u001b[32m  0 %\u001b[m | \u001b[36m\u001b[1m\u001b[33m   10\u001b[m / \u001b[33m11178\u001b[m MB |\n",
      "\u001b[36m[6]\u001b[m \u001b[34mGeForce GTX 1080 Ti\u001b[m |\u001b[31m 33'C\u001b[m, \u001b[32m  0 %\u001b[m | \u001b[36m\u001b[1m\u001b[33m   10\u001b[m / \u001b[33m11178\u001b[m MB |\n",
      "\u001b[36m[7]\u001b[m \u001b[34mGeForce GTX 1080 Ti\u001b[m |\u001b[1m\u001b[31m 73'C\u001b[m, \u001b[1m\u001b[32m 89 %\u001b[m | \u001b[36m\u001b[1m\u001b[33m10895\u001b[m / \u001b[33m11178\u001b[m MB | \u001b[1m\u001b[30mmichiel\u001b[m(\u001b[33m10885M\u001b[m)\n",
      "The autoreload extension is already loaded. To reload it, use:\n",
      "  %reload_ext autoreload\n",
      "Dataset consist of 85730 patients data with 6251 features for each patient\n",
      "Function definitions executed\n",
      "Codebook Executed !!\n",
      "\n"
     ]
    }
   ],
   "source": [
    "%run ./2_Codebook.ipynb"
   ]
  },
  {
   "cell_type": "markdown",
   "metadata": {},
   "source": [
    "# Ground Truth\n",
    "\n",
    "**0:** no glaucoma\n",
    "\n",
    "**1:** glaucoma\n",
    "\n",
    "**99:** DON'T KNOW"
   ]
  },
  {
   "cell_type": "markdown",
   "metadata": {},
   "source": [
    "## Data-Coding 100523"
   ]
  },
  {
   "cell_type": "code",
   "execution_count": 23,
   "metadata": {},
   "outputs": [
    {
     "name": "stdout",
     "output_type": "stream",
     "text": [
      "In DC 100523 : \n",
      "\n",
      "No. of patients having glaucoma :  1783\n",
      "Patients who don't know or prefer not to answer:  2293\n",
      "Healthy patients: 81654\n"
     ]
    }
   ],
   "source": [
    "# Using function defitions to get the list of respective ground truths.\n",
    "GT_100523 = GT_100523()"
   ]
  },
  {
   "cell_type": "code",
   "execution_count": 24,
   "metadata": {},
   "outputs": [],
   "source": [
    "# Ground truth for left and right eyes separately\n",
    "\n",
    "GT523_L = [0] * len(fundus_df) # 1525\n",
    "GT523_R = [0] * len(fundus_df) # 1513\n",
    "\n",
    "for i in range(len(GT_100523)):\n",
    "    \n",
    "    # if patient said he has glaucoma\n",
    "    if(GT_100523[i] == 1):\n",
    "        if (which_eye(i) == 1): # left ?\n",
    "            GT523_L[i] = 1\n",
    "        elif (which_eye(i) == 2): # right ?\n",
    "            GT523_R[i] = 1\n",
    "        elif(which_eye(i) == 3): # both ?\n",
    "            GT523_L[i] = 1\n",
    "            GT523_R[i] = 1\n",
    "        else: # dont know which eye has glaucoma ?\n",
    "            GT523_L[i] = 1\n",
    "            GT523_R[i] = 1\n",
    "    # if patient said don't know or prefer not to answer about glaucoma\n",
    "    else:\n",
    "        GT523_L[i] = 1\n",
    "        GT523_R[i] = 1"
   ]
  },
  {
   "cell_type": "markdown",
   "metadata": {},
   "source": [
    "## Data-Coding 19 / ICD10 \n",
    "Since ICD10 does not have classification of which eye had glaucoma, we assumed a patient having glaucoma has it in both eyes."
   ]
  },
  {
   "cell_type": "code",
   "execution_count": 25,
   "metadata": {},
   "outputs": [
    {
     "name": "stdout",
     "output_type": "stream",
     "text": [
      "No. of patients having glaucoma as per DC19 / ICD10 are:  1103\n"
     ]
    }
   ],
   "source": [
    "GT_19 = GT_19()"
   ]
  },
  {
   "cell_type": "markdown",
   "metadata": {},
   "source": [
    "## Intersection 100523 - ICD10\n",
    "**0:** no glaucoma in both\n",
    "\n",
    "**1:** glaucoma in both\n",
    "\n",
    "**2:** glaucoma in icd10 only\n",
    "\n",
    "**3:** glaucoma in 100523 only\n",
    "\n",
    "**99:** DON'T KNOW"
   ]
  },
  {
   "cell_type": "code",
   "execution_count": 26,
   "metadata": {},
   "outputs": [
    {
     "name": "stdout",
     "output_type": "stream",
     "text": [
      "Glaucoma in both: 633 \n",
      "Glaucoma in none: 83477 \n",
      "Glaucoma in 100523 only: 1150 \n",
      "Glaucoma in icd10 only: 470\n"
     ]
    }
   ],
   "source": [
    "GT_intersect = GT_intersect()"
   ]
  },
  {
   "cell_type": "code",
   "execution_count": 27,
   "metadata": {},
   "outputs": [],
   "source": [
    "GTi_L = [0] * len(fundus_df)\n",
    "GTi_R = [0] * len(fundus_df)\n",
    "\n",
    "for i in range(len(GT_intersect)):\n",
    "    if(GT_intersect[i] == 1): # glaucoma as per 100523 questionnaire, so ask which eye ?\n",
    "        if(which_eye(i) == 1):\n",
    "            GTi_L[i] = 1\n",
    "        elif(which_eye(i) == 2):\n",
    "            GTi_R[i] = 1\n",
    "        elif(which_eye(i) == 3):\n",
    "            GTi_L[i] = 1\n",
    "            GTi_R[i] = 1\n",
    "        else:\n",
    "            GTi_L[i] = 1\n",
    "            GTi_R[i] = 1\n"
   ]
  },
  {
   "cell_type": "markdown",
   "metadata": {},
   "source": [
    "## Union 100523 - ICD10 \n",
    "**1:** Glaucoma if atleast one of the datasets indicates glaucoma\n",
    "\n",
    "**0:** None of them indicates glaucoma\n",
    "\n",
    "**99:** If ICD10 says no glaucoma, and 100523 says doesnt know or prefer not to answer"
   ]
  },
  {
   "cell_type": "code",
   "execution_count": 28,
   "metadata": {},
   "outputs": [
    {
     "name": "stdout",
     "output_type": "stream",
     "text": [
      "No. of patients having glaucoma as per union of 100523 and ICD10 are:  2253\n"
     ]
    }
   ],
   "source": [
    "GT_union = GT_union()"
   ]
  },
  {
   "cell_type": "code",
   "execution_count": 29,
   "metadata": {},
   "outputs": [],
   "source": [
    "GTu_L = [0] * len(fundus_df)\n",
    "GTu_R = [0] * len(fundus_df)\n",
    "\n",
    "for i in range(len(GT_union)):\n",
    "    if(GT_union[i] == 1 and which_eye(i)!=0):\n",
    "        if(which_eye(i)==1):\n",
    "            GTu_L[i] = 1\n",
    "        elif(which_eye(i)==2):\n",
    "            GTu_R[i] = 1\n",
    "        elif(which_eye(i)==3):\n",
    "            GTu_L[i] = 1\n",
    "            GTu_R[i] = 1\n",
    "    elif(GT_union[i] == 1 and which_eye(i)==0):\n",
    "        GTu_L[i] = 1\n",
    "        GTu_R[i] = 1\n",
    "    elif(GT_union[i] == 99):\n",
    "        GTu_L[i] = 1\n",
    "        GTu_L[i] = 1\n"
   ]
  },
  {
   "cell_type": "code",
   "execution_count": 6,
   "metadata": {},
   "outputs": [
    {
     "name": "stdout",
     "output_type": "stream",
     "text": [
      "Ground truths created are:\n",
      " \n",
      "GT_100523: GT523_L and GT523_R \n",
      "GT_19 \n",
      "GT_intersect: GTi_L and GTi_R \n",
      "GT_union: GTu_L and GTu_R\n"
     ]
    }
   ],
   "source": [
    "print(\"Ground truths created are:\\n \\nGT_100523: GT523_L and GT523_R \\nGT_19 \\nGT_intersect: GTi_L and GTi_R \\nGT_union: GTu_L and GTu_R\")"
   ]
  },
  {
   "cell_type": "code",
   "execution_count": 32,
   "metadata": {},
   "outputs": [],
   "source": [
    "for i in range(len(GT_intersect)):\n",
    "    if(GT_intersect[i]!=0 and GT_intersect[i]!=1):\n",
    "        GT_intersect[i]=0\n",
    "\n",
    "for i in range(len(GT_union)):\n",
    "    if(GT_union[i]!=0 and GT_union[i]!=1):\n",
    "        GT_union[i]=1\n",
    "\n",
    "for i in range(len(GT_100523)):\n",
    "    if(GT_100523[i]!=0 and GT_100523[i]!=1):\n",
    "        GT_100523[i]=1"
   ]
  },
  {
   "cell_type": "code",
   "execution_count": 34,
   "metadata": {},
   "outputs": [],
   "source": [
    "# Saving Different Ground truths\n",
    "\n",
    "np.save(DATA_dir + 'GroundTruths/GT_intersect.npy', GT_intersect)\n",
    "np.save(DATA_dir + 'GroundTruths/GT_union.npy', GT_union)\n",
    "np.save(DATA_dir + 'GroundTruths/GT_19.npy', GT_19)\n",
    "np.save(DATA_dir + 'GroundTruths/GT_100523.npy', GT_100523)"
   ]
  },
  {
   "cell_type": "code",
   "execution_count": 35,
   "metadata": {},
   "outputs": [],
   "source": [
    "# Saving Different Ground truths -  for left and right eyes separately\n",
    "\n",
    "np.save(DATA_dir + 'GroundTruths/GTu_L.npy', GTu_L)\n",
    "np.save(DATA_dir + 'GroundTruths/GTu_R.npy', GTu_R)\n",
    "\n",
    "np.save(DATA_dir + 'GroundTruths/GTi_L.npy', GTi_L)\n",
    "np.save(DATA_dir + 'GroundTruths/GTi_R.npy', GTi_R)\n",
    "\n",
    "np.save(DATA_dir + 'GroundTruths/GT523_L.npy', GT523_L)\n",
    "np.save(DATA_dir + 'GroundTruths/GT523_R.npy', GT523_R)\n"
   ]
  },
  {
   "cell_type": "code",
   "execution_count": null,
   "metadata": {},
   "outputs": [],
   "source": []
  }
 ],
 "metadata": {
  "kernelspec": {
   "display_name": "Python 2020",
   "language": "python",
   "name": "python2020"
  },
  "language_info": {
   "codemirror_mode": {
    "name": "ipython",
    "version": 3
   },
   "file_extension": ".py",
   "mimetype": "text/x-python",
   "name": "python",
   "nbconvert_exporter": "python",
   "pygments_lexer": "ipython3",
   "version": "3.7.5"
  }
 },
 "nbformat": 4,
 "nbformat_minor": 2
}
