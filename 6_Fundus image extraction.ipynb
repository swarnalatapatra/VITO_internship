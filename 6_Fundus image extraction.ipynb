{
 "cells": [
  {
   "cell_type": "markdown",
   "metadata": {},
   "source": [
    "This file is used only for fundus image extraction for train, validation and test sets respectively \n",
    "\n",
    "**cropped**\n",
    "\n",
    "**resized**\n",
    "\n",
    "**saved** \n",
    "\n",
    "into directory for easier access"
   ]
  },
  {
   "cell_type": "code",
   "execution_count": 1,
   "metadata": {
    "scrolled": true
   },
   "outputs": [
    {
     "name": "stdout",
     "output_type": "stream",
     "text": [
      "\u001b[1m\u001b[37mthunder\u001b[m  Fri Jan 17 14:09:22 2020\r\n",
      "\u001b[36m[0]\u001b[m \u001b[34mGeForce GTX 1080 Ti\u001b[m |\u001b[31m 39'C\u001b[m, \u001b[32m  0 %\u001b[m | \u001b[36m\u001b[1m\u001b[33m10767\u001b[m / \u001b[33m11178\u001b[m MB | \u001b[1m\u001b[30mhemelinr\u001b[m(\u001b[33m10757M\u001b[m)\r\n",
      "\u001b[36m[1]\u001b[m \u001b[34mGeForce GTX 1080 Ti\u001b[m |\u001b[31m 25'C\u001b[m, \u001b[32m  0 %\u001b[m | \u001b[36m\u001b[1m\u001b[33m10767\u001b[m / \u001b[33m11178\u001b[m MB | \u001b[1m\u001b[30mhemelinr\u001b[m(\u001b[33m10757M\u001b[m)\r\n",
      "\u001b[36m[2]\u001b[m \u001b[34mGeForce GTX 1080 Ti\u001b[m |\u001b[31m 26'C\u001b[m, \u001b[32m  0 %\u001b[m | \u001b[36m\u001b[1m\u001b[33m   10\u001b[m / \u001b[33m11178\u001b[m MB |\r\n",
      "\u001b[36m[3]\u001b[m \u001b[34mGeForce GTX 1080 Ti\u001b[m |\u001b[31m 25'C\u001b[m, \u001b[32m  0 %\u001b[m | \u001b[36m\u001b[1m\u001b[33m10936\u001b[m / \u001b[33m11178\u001b[m MB | \u001b[1m\u001b[30mhemelinr\u001b[m(\u001b[33m10926M\u001b[m)\r\n",
      "\u001b[36m[4]\u001b[m \u001b[34mGeForce GTX 1080 Ti\u001b[m |\u001b[31m 24'C\u001b[m, \u001b[32m  0 %\u001b[m | \u001b[36m\u001b[1m\u001b[33m10767\u001b[m / \u001b[33m11178\u001b[m MB | \u001b[1m\u001b[30mhemelinr\u001b[m(\u001b[33m10757M\u001b[m)\r\n",
      "\u001b[36m[5]\u001b[m \u001b[34mGeForce GTX 1080 Ti\u001b[m |\u001b[31m 27'C\u001b[m, \u001b[32m  0 %\u001b[m | \u001b[36m\u001b[1m\u001b[33m   10\u001b[m / \u001b[33m11178\u001b[m MB |\r\n",
      "\u001b[36m[6]\u001b[m \u001b[34mGeForce GTX 1080 Ti\u001b[m |\u001b[31m 42'C\u001b[m, \u001b[32m  0 %\u001b[m | \u001b[36m\u001b[1m\u001b[33m10895\u001b[m / \u001b[33m11178\u001b[m MB | \u001b[1m\u001b[30mmichiel\u001b[m(\u001b[33m10885M\u001b[m)\r\n",
      "\u001b[36m[7]\u001b[m \u001b[34mGeForce GTX 1080 Ti\u001b[m |\u001b[1m\u001b[31m 73'C\u001b[m, \u001b[1m\u001b[32m 82 %\u001b[m | \u001b[36m\u001b[1m\u001b[33m10895\u001b[m / \u001b[33m11178\u001b[m MB | \u001b[1m\u001b[30mmichiel\u001b[m(\u001b[33m10885M\u001b[m)\r\n"
     ]
    },
    {
     "name": "stderr",
     "output_type": "stream",
     "text": [
      "/ds/environments/python2020/lib/python3.7/site-packages/sklearn/externals/joblib/__init__.py:15: DeprecationWarning: sklearn.externals.joblib is deprecated in 0.21 and will be removed in 0.23. Please import this functionality directly from joblib, which can be installed with: pip install joblib. If this warning is raised when loading pickled models, you may need to re-serialize those models with scikit-learn 0.21+.\n",
      "  warnings.warn(msg, category=DeprecationWarning)\n",
      "Using TensorFlow backend.\n",
      "/ds/environments/python2020/lib/python3.7/site-packages/keras/callbacks/callbacks.py:19: DeprecationWarning: Using or importing the ABCs from 'collections' instead of from 'collections.abc' is deprecated since Python 3.3,and in 3.9 it will stop working\n",
      "  from collections import Iterable\n"
     ]
    },
    {
     "name": "stdout",
     "output_type": "stream",
     "text": [
      "Dataset consist of 85730 patients data with 6251 features for each patient\n",
      "Function definitions executed\n"
     ]
    }
   ],
   "source": [
    "%run ./1_Definitions.ipynb"
   ]
  },
  {
   "cell_type": "code",
   "execution_count": 2,
   "metadata": {},
   "outputs": [],
   "source": [
    "# Whcih GPU?\n",
    "os.environ[\"CUDA_DEVICE_ORDER\"] = \"PCI_BUS_ID\"   # so the IDs match nvidia-smi\n",
    "os.environ[\"CUDA_VISIBLE_DEVICES\"] = \"7\"   # choose here your GPU (0-7)"
   ]
  },
  {
   "cell_type": "code",
   "execution_count": 3,
   "metadata": {},
   "outputs": [],
   "source": [
    "# PATH\n",
    "srcpath = '/ds2/data/retina/UK_BB/UK_BB_DATA/fundus/'"
   ]
  },
  {
   "cell_type": "markdown",
   "metadata": {},
   "source": [
    "## Saving Fundus image file names - left and Right"
   ]
  },
  {
   "cell_type": "code",
   "execution_count": 3,
   "metadata": {},
   "outputs": [],
   "source": [
    "subdirs, dirs, files = os.walk(srcpath).__next__()\n",
    "m = len(files)\n",
    "\n",
    "# #SAVED\n",
    "# filenames_L = []\n",
    "# filenames_R = []\n",
    "# for i in range(len(fundus_df)):\n",
    "#     filenames_L.append(get_img_name(i,df_fundus_left))\n",
    "#     filenames_R.append(get_img_name(i,df_fundus_right))\n",
    "    \n",
    "# np.save(DATA_dir+'filenames_L.npy', filenames_L)\n",
    "# np.save(DATA_dir+'filenames_R.npy', filenames_R)"
   ]
  },
  {
   "cell_type": "markdown",
   "metadata": {},
   "source": [
    "## Loading Train Test Validation - Fundus image names and Ground truth"
   ]
  },
  {
   "cell_type": "code",
   "execution_count": 4,
   "metadata": {},
   "outputs": [
    {
     "data": {
      "text/plain": [
       "((51438, 10), (17146, 10), (17146, 10))"
      ]
     },
     "execution_count": 4,
     "metadata": {},
     "output_type": "execute_result"
    }
   ],
   "source": [
    "# FUNDUS IMAGE NAMES AND GROUND TRUTHS - LEFT and RIGHT\n",
    "fundus_train = pd.read_pickle(tts_path + 'fundus_train.pkl')\n",
    "fundus_val = pd.read_pickle(tts_path + 'fundus_val.pkl')\n",
    "fundus_test = pd.read_pickle(tts_path + 'fundus_test.pkl')\n",
    "\n",
    "fundus_train.shape, fundus_val.shape, fundus_test.shape"
   ]
  },
  {
   "cell_type": "code",
   "execution_count": 5,
   "metadata": {},
   "outputs": [
    {
     "data": {
      "text/html": [
       "<div>\n",
       "<style scoped>\n",
       "    .dataframe tbody tr th:only-of-type {\n",
       "        vertical-align: middle;\n",
       "    }\n",
       "\n",
       "    .dataframe tbody tr th {\n",
       "        vertical-align: top;\n",
       "    }\n",
       "\n",
       "    .dataframe thead th {\n",
       "        text-align: right;\n",
       "    }\n",
       "</style>\n",
       "<table border=\"1\" class=\"dataframe\">\n",
       "  <thead>\n",
       "    <tr style=\"text-align: right;\">\n",
       "      <th></th>\n",
       "      <th>filenames_L</th>\n",
       "      <th>GT523_L</th>\n",
       "      <th>GT19_L</th>\n",
       "      <th>GTi_L</th>\n",
       "      <th>GTu_L</th>\n",
       "      <th>filenames_R</th>\n",
       "      <th>GT523_R</th>\n",
       "      <th>GT19_R</th>\n",
       "      <th>GTi_R</th>\n",
       "      <th>GTu_R</th>\n",
       "    </tr>\n",
       "  </thead>\n",
       "  <tbody>\n",
       "    <tr>\n",
       "      <th>4655</th>\n",
       "      <td>1270002_21015_1_0.png</td>\n",
       "      <td>1</td>\n",
       "      <td>0</td>\n",
       "      <td>0</td>\n",
       "      <td>0</td>\n",
       "      <td>1270002_21016_1_0.png</td>\n",
       "      <td>1</td>\n",
       "      <td>0</td>\n",
       "      <td>0</td>\n",
       "      <td>0</td>\n",
       "    </tr>\n",
       "    <tr>\n",
       "      <th>56198</th>\n",
       "      <td>4297885_21015_0_0.png</td>\n",
       "      <td>1</td>\n",
       "      <td>0</td>\n",
       "      <td>0</td>\n",
       "      <td>0</td>\n",
       "      <td>4297885_21016_0_0.png</td>\n",
       "      <td>1</td>\n",
       "      <td>0</td>\n",
       "      <td>0</td>\n",
       "      <td>0</td>\n",
       "    </tr>\n",
       "    <tr>\n",
       "      <th>57136</th>\n",
       "      <td>4353017_21015_0_0.png</td>\n",
       "      <td>1</td>\n",
       "      <td>0</td>\n",
       "      <td>0</td>\n",
       "      <td>0</td>\n",
       "      <td>4353017_21016_0_0.png</td>\n",
       "      <td>1</td>\n",
       "      <td>0</td>\n",
       "      <td>0</td>\n",
       "      <td>0</td>\n",
       "    </tr>\n",
       "    <tr>\n",
       "      <th>54601</th>\n",
       "      <td>4203531_21015_0_0.png</td>\n",
       "      <td>1</td>\n",
       "      <td>0</td>\n",
       "      <td>0</td>\n",
       "      <td>0</td>\n",
       "      <td>4203531_21016_0_0.png</td>\n",
       "      <td>1</td>\n",
       "      <td>0</td>\n",
       "      <td>0</td>\n",
       "      <td>0</td>\n",
       "    </tr>\n",
       "    <tr>\n",
       "      <th>16329</th>\n",
       "      <td>1959581_21015_1_0.png</td>\n",
       "      <td>1</td>\n",
       "      <td>0</td>\n",
       "      <td>0</td>\n",
       "      <td>0</td>\n",
       "      <td>1959581_21016_1_0.png</td>\n",
       "      <td>1</td>\n",
       "      <td>0</td>\n",
       "      <td>0</td>\n",
       "      <td>0</td>\n",
       "    </tr>\n",
       "  </tbody>\n",
       "</table>\n",
       "</div>"
      ],
      "text/plain": [
       "                 filenames_L  GT523_L  GT19_L  GTi_L  GTu_L  \\\n",
       "4655   1270002_21015_1_0.png        1       0      0      0   \n",
       "56198  4297885_21015_0_0.png        1       0      0      0   \n",
       "57136  4353017_21015_0_0.png        1       0      0      0   \n",
       "54601  4203531_21015_0_0.png        1       0      0      0   \n",
       "16329  1959581_21015_1_0.png        1       0      0      0   \n",
       "\n",
       "                 filenames_R  GT523_R  GT19_R  GTi_R  GTu_R  \n",
       "4655   1270002_21016_1_0.png        1       0      0      0  \n",
       "56198  4297885_21016_0_0.png        1       0      0      0  \n",
       "57136  4353017_21016_0_0.png        1       0      0      0  \n",
       "54601  4203531_21016_0_0.png        1       0      0      0  \n",
       "16329  1959581_21016_1_0.png        1       0      0      0  "
      ]
     },
     "execution_count": 5,
     "metadata": {},
     "output_type": "execute_result"
    }
   ],
   "source": [
    "fundus_train.head()"
   ]
  },
  {
   "cell_type": "markdown",
   "metadata": {},
   "source": [
    "### Cropping and Resizing images and saving in another folder - LEFT /RIGHT , Train/Test/Validation\n",
    "# DONE !!"
   ]
  },
  {
   "cell_type": "code",
   "execution_count": 43,
   "metadata": {},
   "outputs": [],
   "source": [
    "# img_size = 250\n",
    "# sett = ['val','train','test']\n",
    "# fcols={0:'left',5:'right'}"
   ]
  },
  {
   "cell_type": "code",
   "execution_count": null,
   "metadata": {
    "scrolled": false
   },
   "outputs": [
    {
     "name": "stdout",
     "output_type": "stream",
     "text": [
      "0 : For val Image set.\n",
      "Destination path: /ds2/data/retina/UK_BB/patra/Fundus_images_250_CR/val/ \n",
      "\n",
      "\t Processing left fundus images:\n",
      "\n",
      "Image converted from 2D to 3D: 3454019_21015_1_0.png\n",
      "\t\t 16953 left val  images resized and stored \n",
      "\n",
      "\t Processing right fundus images:\n",
      "\n",
      "\t\t 16990 right val  images resized and stored \n",
      "\n",
      "1 : For train Image set.\n",
      "Destination path: /ds2/data/retina/UK_BB/patra/Fundus_images_250_CR/train/ \n",
      "\n",
      "\t Processing left fundus images:\n",
      "\n",
      "Image converted from 2D to 3D: 4485125_21015_1_0.png\n",
      "Image converted from 2D to 3D: 2949101_21015_1_0.png\n",
      "Image converted from 2D to 3D: 4216662_21015_1_0.png\n",
      "Image converted from 2D to 3D: 1484823_21015_1_0.png\n",
      "\t\t 50848 left train  images resized and stored \n",
      "\n",
      "\t Processing right fundus images:\n",
      "\n",
      "\t\t 50986 right train  images resized and stored \n",
      "\n",
      "2 : For test Image set.\n",
      "Destination path: /ds2/data/retina/UK_BB/patra/Fundus_images_250_CR/test/ \n",
      "\n",
      "\t Processing left fundus images:\n",
      "\n",
      "\t\t 16946 left test  images resized and stored \n",
      "\n",
      "\t Processing right fundus images:\n",
      "\n"
     ]
    }
   ],
   "source": [
    "# for n,s in enumerate(sett):\n",
    "#     print(n,\": For\", s, \"Image set.\")\n",
    "#     destpath = DATA_dir + 'Fundus_images_' + str(img_size) + '_CR/' + s + '/'\n",
    "#     print(\"Destination path:\", destpath,\"\\n\")\n",
    "#     curr_df = eval('fundus_' + s)\n",
    "#     L = len(curr_df)\n",
    "    \n",
    "#     for k in fcols.keys():\n",
    "#         print(\"\\t Processing\", fcols[k], \"fundus images:\\n\")\n",
    "        \n",
    "#         cnt = 0\n",
    "#         for i in range(L):\n",
    "#             img_f = curr_df[curr_df.columns[k]].iloc[i]\n",
    "#             if(os.path.isfile(srcpath + img_f)):\n",
    "#                 image = imageio.imread(srcpath+ img_f)\n",
    "#                 if(len(image.shape)!=3):\n",
    "#                     image = np.repeat(image[:, :, np.newaxis], 3, axis=2)   \n",
    "#                     print(\"Image converted from 2D to 3D:\",img_f)\n",
    "#                 ROI = get_ROI(image)\n",
    "#                 imResize = cv2.resize(ROI, dsize=(img_size, img_size))\n",
    "#                 matplotlib.image.imsave(destpath + img_f, imResize)\n",
    "#                 cnt+=1\n",
    "    \n",
    "#         print(\"\\t\\t\",cnt, fcols[k], s, \" images resized and stored \\n\")"
   ]
  }
 ],
 "metadata": {
  "kernelspec": {
   "display_name": "Python 2020",
   "language": "python",
   "name": "python2020"
  },
  "language_info": {
   "codemirror_mode": {
    "name": "ipython",
    "version": 3
   },
   "file_extension": ".py",
   "mimetype": "text/x-python",
   "name": "python",
   "nbconvert_exporter": "python",
   "pygments_lexer": "ipython3",
   "version": "3.7.5"
  }
 },
 "nbformat": 4,
 "nbformat_minor": 2
}
