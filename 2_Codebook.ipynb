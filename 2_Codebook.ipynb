{
 "cells": [
  {
   "cell_type": "code",
   "execution_count": 1,
   "metadata": {},
   "outputs": [
    {
     "name": "stdout",
     "output_type": "stream",
     "text": [
      "\u001b[1m\u001b[37mthunder\u001b[m  Sun Jan 19 20:48:31 2020\r\n",
      "\u001b[36m[0]\u001b[m \u001b[34mGeForce GTX 1080 Ti\u001b[m |\u001b[31m 39'C\u001b[m, \u001b[32m  0 %\u001b[m | \u001b[36m\u001b[1m\u001b[33m   10\u001b[m / \u001b[33m11178\u001b[m MB |\r\n",
      "\u001b[36m[1]\u001b[m \u001b[34mGeForce GTX 1080 Ti\u001b[m |\u001b[31m 24'C\u001b[m, \u001b[32m  0 %\u001b[m | \u001b[36m\u001b[1m\u001b[33m   10\u001b[m / \u001b[33m11178\u001b[m MB |\r\n",
      "\u001b[36m[2]\u001b[m \u001b[34mGeForce GTX 1080 Ti\u001b[m |\u001b[31m 25'C\u001b[m, \u001b[32m  0 %\u001b[m | \u001b[36m\u001b[1m\u001b[33m   10\u001b[m / \u001b[33m11178\u001b[m MB |\r\n",
      "\u001b[36m[3]\u001b[m \u001b[34mGeForce GTX 1080 Ti\u001b[m |\u001b[31m 24'C\u001b[m, \u001b[32m  0 %\u001b[m | \u001b[36m\u001b[1m\u001b[33m   10\u001b[m / \u001b[33m11178\u001b[m MB |\r\n",
      "\u001b[36m[4]\u001b[m \u001b[34mGeForce GTX 1080 Ti\u001b[m |\u001b[31m 23'C\u001b[m, \u001b[32m  0 %\u001b[m | \u001b[36m\u001b[1m\u001b[33m   10\u001b[m / \u001b[33m11178\u001b[m MB |\r\n",
      "\u001b[36m[5]\u001b[m \u001b[34mGeForce GTX 1080 Ti\u001b[m |\u001b[31m 26'C\u001b[m, \u001b[32m  0 %\u001b[m | \u001b[36m\u001b[1m\u001b[33m   10\u001b[m / \u001b[33m11178\u001b[m MB |\r\n",
      "\u001b[36m[6]\u001b[m \u001b[34mGeForce GTX 1080 Ti\u001b[m |\u001b[31m 29'C\u001b[m, \u001b[32m  0 %\u001b[m | \u001b[36m\u001b[1m\u001b[33m   10\u001b[m / \u001b[33m11178\u001b[m MB |\r\n",
      "\u001b[36m[7]\u001b[m \u001b[34mGeForce GTX 1080 Ti\u001b[m |\u001b[31m 27'C\u001b[m, \u001b[32m  0 %\u001b[m | \u001b[36m\u001b[1m\u001b[33m   10\u001b[m / \u001b[33m11178\u001b[m MB |\r\n"
     ]
    },
    {
     "name": "stderr",
     "output_type": "stream",
     "text": [
      "/ds/environments/python2020/lib/python3.7/site-packages/sklearn/externals/joblib/__init__.py:15: DeprecationWarning: sklearn.externals.joblib is deprecated in 0.21 and will be removed in 0.23. Please import this functionality directly from joblib, which can be installed with: pip install joblib. If this warning is raised when loading pickled models, you may need to re-serialize those models with scikit-learn 0.21+.\n",
      "  warnings.warn(msg, category=DeprecationWarning)\n",
      "Using TensorFlow backend.\n",
      "/ds/environments/python2020/lib/python3.7/site-packages/keras/callbacks/callbacks.py:19: DeprecationWarning: Using or importing the ABCs from 'collections' instead of from 'collections.abc' is deprecated since Python 3.3,and in 3.9 it will stop working\n",
      "  from collections import Iterable\n"
     ]
    },
    {
     "name": "stdout",
     "output_type": "stream",
     "text": [
      "Dataset consist of 85730 patients data with 6251 features for each patient\n",
      "All Function definitions executed\n"
     ]
    }
   ],
   "source": [
    "# Executing definitions file to get fundus image details and all function definitions\n",
    "\n",
    "%run ./1_Definitions.ipynb"
   ]
  },
  {
   "cell_type": "markdown",
   "metadata": {},
   "source": [
    "## Code Book Creation\n",
    "\n",
    "\n",
    "**disease_types** ['eye','neuro','cardio','systemic'] as keys and disease codes belonging to that category as values\n",
    "\n",
    "**surgery_types** same keys as above with surgery/disease codes belonging to that category as values\n",
    "\n",
    "**disease_codebook** disease code as keys and description as values"
   ]
  },
  {
   "cell_type": "code",
   "execution_count": 2,
   "metadata": {},
   "outputs": [],
   "source": [
    "# Data Coding 6\n",
    "k = ['eye','neuro','cardio','systemic']\n",
    "v = [[1076,1265,1268,1300,1301,1302,1303,1304,1305,1307,1308,1490,1590,1591,1592,1593,1681],\n",
    "    [1076,1266,1270,1271,1272,1273,1274,1275,1276,1277,1278,1280,1281,1282,1283,1284,1285,1286,1287,1288,1289,1290,1291,1292,1293,1438,1442,1488,1489,1491,1492,1528,1586,1587,1588,1589,1733,1779],\n",
    "    [1065,1066,1067,1071,1081,1082,1083,1084,1085,1089,1090,1091,1092,1093,1094,1095,1096,1097,1098,1099,1100,1103,1104,1105,1111,1112,1480,1481,1532,1536,1542,1546,1547,1548,1549,1550,1551,1552,1553,1554,1555,1556,1557,1558,1559,1649,1650,1651,1652,1653,1654,1655,1656,1657,1658,1659],\n",
    "    [1075,1080,1245,1246,1247,1248,1414,1415,1416,1417,1419,1420,1421,1422,1423,1424,1425,1426,1427,1428,1429,1430,1543,1544,1545,1584,1625,1626,1627,1628,1642,1643]]\n",
    "disease_types = {k[i]: v[i] for i in range(len(k))}\n",
    "\n",
    "# Data Coding 5\n",
    "v1 = [[1076,1481,1482,1483,1484,1548,1651,1652],\n",
    "     [1076,1521,1522,1523,1524,1525,1526,1527,1528],\n",
    "     [1071,1086,1087,1088,1113,1114,1115,1116,1117,1118,1119,1120,1121,1122,1123,1124,1125,1127,1128,1129,1437,1488,1489,1490,1491,1492,1531,1535,1581,1582,1608,1609,1610,1611,1613,1614,1615],\n",
    "     []]\n",
    "surgery_types = {k[i]: v1[i] for i in range(len(k))}\n",
    "\n",
    "df = pd.read_excel(DATA_dir + 'disease_codebook.xlsx')\n",
    "disease_codebook = dict([(k,v) for k,v in zip(df.CODE,df.DISEASE)])\n",
    "disease_codebook[0] = 'nan'"
   ]
  },
  {
   "cell_type": "markdown",
   "metadata": {},
   "source": [
    "##### Latest Disease codebook by ICD 10"
   ]
  },
  {
   "cell_type": "code",
   "execution_count": 3,
   "metadata": {},
   "outputs": [],
   "source": [
    "# Using Data Coding 19 from UK Bio Bank Dataset\n",
    "\n",
    "# Creating disease codebook for latest disease list by ICD10\n",
    "df = pd.read_excel(DATA_dir + 'ICD10_DC19.xlsx')\n",
    "\n",
    "# This is a dictionary having the disease name/ meaning for each code defined. key: code, value: meaning\n",
    "icd10 = dict([(key,val) for key,val in zip(df.coding,df.meaning)])\n",
    "discode_list = df[\"coding\"].tolist()\n"
   ]
  },
  {
   "cell_type": "code",
   "execution_count": 4,
   "metadata": {},
   "outputs": [],
   "source": [
    "# EYE\n",
    "sub_eye = []\n",
    "for i in range(7):\n",
    "    sub_eye.append('H0'+str(i))\n",
    "for i in range(10,14):\n",
    "    sub_eye.append('H'+str(i))   \n",
    "for i in range(15,23):\n",
    "    sub_eye.append('H'+str(i))\n",
    "for i in range(25,29):\n",
    "    sub_eye.append('H'+str(i))\n",
    "for i in range(30,37):\n",
    "    sub_eye.append('H'+str(i))    \n",
    "for i in range(40,43):\n",
    "    sub_eye.append('H'+str(i))    \n",
    "for i in range(43,46):\n",
    "    sub_eye.append('H'+str(i))    \n",
    "for i in range(46,49):\n",
    "    sub_eye.append('H'+str(i))    \n",
    "for i in range(49,53):\n",
    "    sub_eye.append('H'+str(i))    \n",
    "for i in range(53,55):\n",
    "    sub_eye.append('H'+str(i))    \n",
    "for i in range(55,60):\n",
    "    sub_eye.append('H'+str(i))\n",
    "\n",
    "\n",
    "# NEURO\n",
    "sub_neuro = []\n",
    "for i in range(10):\n",
    "    sub_neuro.append('G0'+str(i))\n",
    "for i in range(10,15):\n",
    "    sub_neuro.append('G'+str(i))   \n",
    "for i in range(20,27):\n",
    "    sub_neuro.append('G'+str(i))\n",
    "for i in range(30,33):\n",
    "    sub_neuro.append('G'+str(i))\n",
    "for i in range(35,38):\n",
    "    sub_neuro.append('G'+str(i))    \n",
    "for i in range(40,48):\n",
    "    sub_neuro.append('G'+str(i))    \n",
    "for i in range(50,60):\n",
    "    sub_neuro.append('G'+str(i))    \n",
    "for i in range(60,65):\n",
    "    sub_neuro.append('G'+str(i))    \n",
    "for i in range(70,74):\n",
    "    sub_neuro.append('G'+str(i))    \n",
    "for i in range(80,84):\n",
    "    sub_neuro.append('G'+str(i))    \n",
    "for i in range(90,100):\n",
    "    sub_neuro.append('G'+str(i))\n",
    "    \n",
    "\n",
    "# CARDIO\n",
    "sub_cardio = []\n",
    "for i in range(3):\n",
    "    sub_cardio.append('I0'+str(i))\n",
    "for i in range(5,10):\n",
    "    sub_cardio.append('I'+str(i))   \n",
    "for i in range(10,16):\n",
    "    sub_cardio.append('I'+str(i))\n",
    "for i in range(20,26):\n",
    "    sub_cardio.append('I'+str(i))\n",
    "for i in range(26,29):\n",
    "    sub_cardio.append('I'+str(i))    \n",
    "for i in range(30,53):\n",
    "    sub_cardio.append('I'+str(i))    \n",
    "for i in range(60,70):\n",
    "    sub_cardio.append('I'+str(i))    \n",
    "for i in range(70,80):\n",
    "    sub_cardio.append('I'+str(i))    \n",
    "for i in range(80,90):\n",
    "    sub_cardio.append('I'+str(i))    \n",
    "for i in range(95,100):\n",
    "    sub_cardio.append('I'+str(i))\n",
    "\n",
    "sub = [] # list of 3 lists -eye, neuro, cardio\n",
    "sub.append(sub_eye)\n",
    "sub.append(sub_neuro)\n",
    "sub.append(sub_cardio)"
   ]
  },
  {
   "cell_type": "code",
   "execution_count": 5,
   "metadata": {},
   "outputs": [],
   "source": [
    "mykey = ['EYE','NEURO','CARDIO']\n",
    "myval = [[],[],[]]\n",
    "\n",
    "for sub_type in range(3):\n",
    "    for i in discode_list:\n",
    "        for j in sub[sub_type]:\n",
    "            if(str(j) in str(i)):\n",
    "                myval[sub_type].append(str(i))\n"
   ]
  },
  {
   "cell_type": "code",
   "execution_count": 6,
   "metadata": {},
   "outputs": [],
   "source": [
    "# dc19_categories is a dictionary having keys as ['EYE','NEURO','CARDIO'] and their respective diseases as the values in a list.\n",
    "dc19_categories = {mykey[i]: myval[i] for i in range(len(mykey))}"
   ]
  },
  {
   "cell_type": "code",
   "execution_count": 7,
   "metadata": {},
   "outputs": [],
   "source": [
    "# feat_desc = pd.read_excel(DATA_dir + 'FeatureNames.xlsx')\n",
    "# feat_desc_dict = dict([(k,v) for k,v in zip(feat_desc.UDI,feat_desc.Description)])"
   ]
  },
  {
   "cell_type": "markdown",
   "metadata": {},
   "source": [
    "### Data-coding 19"
   ]
  },
  {
   "cell_type": "code",
   "execution_count": 8,
   "metadata": {},
   "outputs": [],
   "source": [
    "# Getting the specific columns which use data-coding 19\n",
    "# We do not consider the type of cancer and external cause of death\n",
    "\n",
    "df_prim_death = fundus_df.iloc[:,5720:5722] # Underlying (primary) cause of death: ICD10\n",
    "df_sec_death = fundus_df.iloc[:,5722:5744] # \tContributory (secondary) causes of death: ICD10\n",
    "df_main = fundus_df.iloc[:,5885:5951] # Diagnoses - main ICD10\n",
    "df_sec = fundus_df.iloc[:,5951:6135] # Diagnoses - secondary ICD10\n",
    "df_19 = pd.concat([df_prim_death, df_sec_death, df_main, df_sec], axis=1)\n",
    "df19_arr = df_19.to_numpy()\n",
    "\n",
    "# Removing None elements to form a cleaner list\n",
    "df19_clean = []\n",
    "for i in range(df19_arr.shape[0]):\n",
    "    temp = df19_arr[i]\n",
    "    df19_clean.append(temp[temp != np.array(None)])    \n",
    "\n",
    "# Unique element for each row/ patient\n",
    "df19_clean_unique = []\n",
    "\n",
    "for i in range(len(df19_clean)):\n",
    "    temp_list = []\n",
    "    for j in range(df19_clean[i].shape[0]):\n",
    "        if (len(temp_list) == 0):\n",
    "            temp_list.append(df19_clean[i][j])\n",
    "        elif(df19_clean[i][j] not in temp_list):\n",
    "            temp_list.append(df19_clean[i][j])\n",
    "        else:\n",
    "            continue\n",
    "    df19_clean_unique.append(temp_list)\n",
    "    \n",
    "# Converting the final unique clean list of arrays to 2D numpy array for easier access\n",
    "df19_clean_arr = np.array([np.array(xi) for xi in df19_clean_unique])\n",
    "\n",
    "# Count of each unique disease in the dataset\n",
    "uniqueValues, occurCount = np.unique(np.asarray([item for sublist in df19_clean_arr for item in sublist]), return_counts=True)\n",
    "# Creating a dictionary to access the frequency of each unique disease\n",
    "# disease_freq = {uniqueValues[i]: occurCount[i] for i in range(len(occurCount))}\n",
    "disease_freq = dict(zip(uniqueValues, occurCount))\n",
    "# Getting the list in a sorted array for viewing purpose\n",
    "sort_disease_freq = sorted(disease_freq.items(), key=lambda x: x[1], reverse=True)"
   ]
  },
  {
   "cell_type": "code",
   "execution_count": 9,
   "metadata": {},
   "outputs": [],
   "source": [
    "# Diseases by categories\n",
    "\n",
    "# For All diseases\n",
    "discode_cat = [] # has all the major disease codes of data-coding 19\n",
    "for i in range(len(discode_list)):\n",
    "    if(len(discode_list[i]) == 3):\n",
    "        discode_cat.append(discode_list[i])\n",
    "        \n",
    "# For Eye, Neuro and Cardio diseases only\n",
    "discode_list_specific = dc19_categories['EYE'] + dc19_categories['NEURO'] + dc19_categories['CARDIO']\n",
    "discode_cat_specific = []\n",
    "for i in range(len(discode_list_specific)):\n",
    "    if(len(discode_list_specific[i]) == 3):\n",
    "        discode_cat_specific.append(discode_list_specific[i])\n",
    "        \n",
    "count_cat_specific = []\n",
    "for i in range(len(discode_cat_specific)):\n",
    "    tempsum = 0\n",
    "    for j in range(df19_clean_arr.shape[0]):\n",
    "        if( len(df19_clean_arr[j])> 1 ):\n",
    "#             print(df_clean_arr[j])\n",
    "            tempsum = tempsum + np.sum(np.char.count(df19_clean_arr[j], sub = discode_cat_specific[i]))\n",
    "#             print(tempsum)\n",
    "    count_cat_specific.append(tempsum)\n",
    "\n",
    "# Dictionary to store discode_cat_specific and its count count_cat_specific in a asorted manner\n",
    "\n",
    "dict_specific = {discode_cat_specific[i]: count_cat_specific[i] for i in range(len(count_cat_specific))}\n",
    "sort_dict_specific = sorted(dict_specific.items(), key=lambda x: x[1], reverse=True)"
   ]
  },
  {
   "cell_type": "markdown",
   "metadata": {},
   "source": [
    "### Data-coding 100523"
   ]
  },
  {
   "cell_type": "code",
   "execution_count": 10,
   "metadata": {},
   "outputs": [],
   "source": [
    "df_100523 = fundus_df.iloc[:,4248:4263]\n",
    "df100523_arr = df_100523.to_numpy()\n",
    "\n",
    "df100523_unique = []\n",
    "for i in range(len(df100523_arr)):\n",
    "    temp_list = []\n",
    "    for j in range(df100523_arr[i].shape[0]):\n",
    "#         print(df100523_arr[i][j], temp_list, \"\\n\\n\")\n",
    "        if(~np.isnan(df100523_arr[i][j])):\n",
    "            if (len(temp_list) == 0):\n",
    "                temp_list.append(df100523_arr[i][j])\n",
    "            elif(df100523_arr[i][j] not in temp_list):\n",
    "                temp_list.append(df100523_arr[i][j])\n",
    "            else:\n",
    "                continue\n",
    "    df100523_unique.append(temp_list)\n",
    "\n",
    "# Converting the final unique clean list of arrays to 2D numpy array for easier access\n",
    "df100523_unique_arr = np.array([np.array(xi) for xi in df100523_unique])\n",
    "\n",
    "disease_freqq = get_sorted_unique(df_100523)\n",
    "dict_100523 = {1:'Diabetes related eye disease',2:'Glaucoma',3:'Injury or trauma resulting in loss of vision',\n",
    "               4:'Cataract',5:'Macular degeneration',6:'Other serious eye condition',-7:'None of the above',-3:'Prefer not to answer',-1:'Do not know',0:'NaN'}\n"
   ]
  },
  {
   "cell_type": "code",
   "execution_count": 11,
   "metadata": {},
   "outputs": [],
   "source": [
    "# Age at which glaucoma is diagnosed\n",
    "\n",
    "#Checking count of how many people answered with an age value\n",
    "df_100291 = fundus_df.iloc[:,1516:1519]\n",
    "df_100291_arr = df_100291.to_numpy()\n",
    "df_100291_list = []\n",
    "for i in range(df_100291_arr.shape[0]):\n",
    "    temp = df_100291_arr[i]\n",
    "    if(temp[~np.isnan(temp)].any()):\n",
    "        df_100291_list.append(temp[~np.isnan(temp)])\n",
    "\n",
    "# Dictionary of which eye\n",
    "which_eye_dict = {0: \"Don't know\", 1: \"Left Eye\", 2: \"Right Eye\", 3: \"Both Eyes\"}\n",
    "\n",
    "# Which eye affected by Glaucoma\n",
    "df_100515 = fundus_df.iloc[:,4209:4212]\n",
    "a = df_100515['6119-0.0'].value_counts()\n",
    "b = df_100515['6119-1.0'].value_counts()\n",
    "c = df_100515['6119-2.0'].value_counts()\n",
    "d = c.add(a.add(b))\n",
    "\n",
    "\n",
    "# Ever had glaucoma surgery or laser treatment for glaucoma or high eye pressure - data coding 100272\n",
    "df_100272 = fundus_df.iloc[:,2720:2724]\n",
    "df_100272_arr = df_100272.to_numpy()\n",
    "df_100272_list = [] # Answers given by the patient about surgery\n",
    "df_100272_list_pid = [] # Which patient answered it with 0,2,3,4,5\n",
    "\n",
    "surgery_patients = [] # patients who replied either with left right or both eye had surgery\n",
    "surgery_id = []       # which eye 2: right, 3: left, 4: both\n",
    "\n",
    "dict_100272 = {0: \"No Surgery\", 2: \"Right Eye Operated\", 3: \"Left Eye Operated\", 4: \"Both Eyes Operated\", 5: \"Don't Know\"}\n",
    "\n",
    "for i in range(df_100272_arr.shape[0]):\n",
    "    temp = df_100272_arr[i]\n",
    "    if(temp[~np.isnan(temp)].any()):\n",
    "        df_100272_list.append(temp[~np.isnan(temp)])\n",
    "        df_100272_list_pid.append(i)\n"
   ]
  },
  {
   "cell_type": "code",
   "execution_count": 12,
   "metadata": {},
   "outputs": [],
   "source": [
    "# Patients who said Dont know for 100523 but have glaucoma as per icd10\n",
    "df_100523_arr = df_100523.to_numpy()\n",
    "dont_know_patients = [] # Patients who said don't know in questionnaire 100523 - if doctor said they have eye disease\n",
    "\n",
    "for i in range(len(df_100523_arr)):\n",
    "    if(-1 in df_100523_arr[i]):\n",
    "        dont_know_patients.append(i)        \n",
    "\n",
    "# For These \"dont_know_patients\", we will check in icd10, if they were diagnosed glaucoma\n",
    "\n",
    "dont_know_glauicd10 = [] # Patients who said don't know in questionnaire but found to have glaucoma as per diagnosis in icd10\n",
    "\n",
    "for pat in range(len(dont_know_patients)):\n",
    "    test_list = df_19.iloc[dont_know_patients[pat]].unique()\n",
    "    for i in test_list:\n",
    "        if not i:\n",
    "            continue\n",
    "        elif pd.isnull(i):\n",
    "            continue\n",
    "        elif ('H40' in i or 'H42' in i):\n",
    "#             print(test_list)\n",
    "            dont_know_glauicd10.append(pat)\n",
    "            break"
   ]
  },
  {
   "cell_type": "code",
   "execution_count": 13,
   "metadata": {},
   "outputs": [
    {
     "name": "stdout",
     "output_type": "stream",
     "text": [
      "Definitions DONE !!\n",
      "\n"
     ]
    }
   ],
   "source": [
    "print(\"Codebook Executed !!\\n\")"
   ]
  }
 ],
 "metadata": {
  "kernelspec": {
   "display_name": "Python 2020",
   "language": "python",
   "name": "python2020"
  },
  "language_info": {
   "codemirror_mode": {
    "name": "ipython",
    "version": 3
   },
   "file_extension": ".py",
   "mimetype": "text/x-python",
   "name": "python",
   "nbconvert_exporter": "python",
   "pygments_lexer": "ipython3",
   "version": "3.7.5"
  }
 },
 "nbformat": 4,
 "nbformat_minor": 2
}
