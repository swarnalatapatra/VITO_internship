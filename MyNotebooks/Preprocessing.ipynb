{
 "cells": [
  {
   "cell_type": "markdown",
   "metadata": {},
   "source": [
    "# Initial Processing"
   ]
  },
  {
   "cell_type": "code",
   "execution_count": 3,
   "metadata": {
    "scrolled": true
   },
   "outputs": [
    {
     "name": "stdout",
     "output_type": "stream",
     "text": [
      "2019-12-18 17:24:40.481898\n",
      "\u001b[1m\u001b[37mthunder\u001b[m  Wed Dec 18 17:24:40 2019\n",
      "\u001b[36m[0]\u001b[m \u001b[34mGeForce GTX 1080 Ti\u001b[m |\u001b[31m 40'C\u001b[m, \u001b[32m  0 %\u001b[m | \u001b[36m\u001b[1m\u001b[33m  284\u001b[m / \u001b[33m11178\u001b[m MB | \u001b[1m\u001b[30mhemelinr\u001b[m(\u001b[33m274M\u001b[m)\n",
      "\u001b[36m[1]\u001b[m \u001b[34mGeForce GTX 1080 Ti\u001b[m |\u001b[31m 26'C\u001b[m, \u001b[32m  0 %\u001b[m | \u001b[36m\u001b[1m\u001b[33m   10\u001b[m / \u001b[33m11178\u001b[m MB |\n",
      "\u001b[36m[2]\u001b[m \u001b[34mGeForce GTX 1080 Ti\u001b[m |\u001b[1m\u001b[31m 58'C\u001b[m, \u001b[1m\u001b[32m 44 %\u001b[m | \u001b[36m\u001b[1m\u001b[33m10895\u001b[m / \u001b[33m11178\u001b[m MB | \u001b[1m\u001b[30manthoula\u001b[m(\u001b[33m10885M\u001b[m)\n",
      "\u001b[36m[3]\u001b[m \u001b[34mGeForce GTX 1080 Ti\u001b[m |\u001b[1m\u001b[31m 58'C\u001b[m, \u001b[1m\u001b[32m 62 %\u001b[m | \u001b[36m\u001b[1m\u001b[33m10895\u001b[m / \u001b[33m11178\u001b[m MB | \u001b[1m\u001b[30manthoula\u001b[m(\u001b[33m10885M\u001b[m)\n",
      "\u001b[36m[4]\u001b[m \u001b[34mGeForce GTX 1080 Ti\u001b[m |\u001b[31m 26'C\u001b[m, \u001b[32m  0 %\u001b[m | \u001b[36m\u001b[1m\u001b[33m   10\u001b[m / \u001b[33m11178\u001b[m MB |\n",
      "\u001b[36m[5]\u001b[m \u001b[34mGeForce GTX 1080 Ti\u001b[m |\u001b[31m 27'C\u001b[m, \u001b[32m  0 %\u001b[m | \u001b[36m\u001b[1m\u001b[33m10799\u001b[m / \u001b[33m11178\u001b[m MB | \u001b[1m\u001b[30mgerritsn\u001b[m(\u001b[33m10789M\u001b[m)\n",
      "\u001b[36m[6]\u001b[m \u001b[34mGeForce GTX 1080 Ti\u001b[m |\u001b[1m\u001b[31m 61'C\u001b[m, \u001b[1m\u001b[32m 59 %\u001b[m | \u001b[36m\u001b[1m\u001b[33m10895\u001b[m / \u001b[33m11178\u001b[m MB | \u001b[1m\u001b[30mpatra\u001b[m(\u001b[33m10885M\u001b[m)\n",
      "\u001b[36m[7]\u001b[m \u001b[34mGeForce GTX 1080 Ti\u001b[m |\u001b[31m 34'C\u001b[m, \u001b[32m  0 %\u001b[m | \u001b[36m\u001b[1m\u001b[33m  147\u001b[m / \u001b[33m11178\u001b[m MB | \u001b[1m\u001b[30mpatra\u001b[m(\u001b[33m137M\u001b[m)\n"
     ]
    },
    {
     "name": "stderr",
     "output_type": "stream",
     "text": [
      "/ds/environments/python2020/lib/python3.7/site-packages/sklearn/externals/joblib/__init__.py:15: DeprecationWarning: sklearn.externals.joblib is deprecated in 0.21 and will be removed in 0.23. Please import this functionality directly from joblib, which can be installed with: pip install joblib. If this warning is raised when loading pickled models, you may need to re-serialize those models with scikit-learn 0.21+.\n",
      "  warnings.warn(msg, category=DeprecationWarning)\n"
     ]
    },
    {
     "name": "stdout",
     "output_type": "stream",
     "text": [
      "Dataset consist of 85730 patients data with 6251 features for each patient\n",
      "Function definitions executed\n",
      "Definitions DONE !!\n",
      "\n",
      "EyeDiseases Done!!\n",
      "In DC 100523 : \n",
      "\n",
      "No. of patients having glaucoma :  1783\n",
      "Patients who don't know or prefer not to answer:  2293\n",
      "Healthy patients: 81654\n",
      "No. of patients having glaucoma as per DC19 / ICD10 are:  1103\n",
      "Glaucoma in both: 633 \n",
      "Glaucoma in none: 83477 \n",
      "Glaucoma in 100523 only: 1150 \n",
      "Glaucoma in icd10 only: 470\n",
      "No. of patients having glaucoma as per union of 100523 and ICD10 are:  2253\n",
      "Ground truths created are: \n",
      "GT_100523: GT523_L and GT523_R \n",
      "GT_19\n",
      "GT_intersect: GTi_L and GTi_R\n",
      "GT_union: GTu_L and GTu_R\n"
     ]
    }
   ],
   "source": [
    "%run ./GroundTruth.ipynb"
   ]
  },
  {
   "cell_type": "code",
   "execution_count": 1,
   "metadata": {
    "scrolled": true
   },
   "outputs": [
    {
     "name": "stdout",
     "output_type": "stream",
     "text": [
      "Wed Dec 18 17:24:16 2019       \n",
      "+-----------------------------------------------------------------------------+\n",
      "| NVIDIA-SMI 418.87.01    Driver Version: 418.87.01    CUDA Version: 10.1     |\n",
      "|-------------------------------+----------------------+----------------------+\n",
      "| GPU  Name        Persistence-M| Bus-Id        Disp.A | Volatile Uncorr. ECC |\n",
      "| Fan  Temp  Perf  Pwr:Usage/Cap|         Memory-Usage | GPU-Util  Compute M. |\n",
      "|===============================+======================+======================|\n",
      "|   0  GeForce GTX 108...  Off  | 00000000:04:00.0 Off |                  N/A |\n",
      "| 29%   40C    P2    56W / 250W |    284MiB / 11178MiB |      0%      Default |\n",
      "+-------------------------------+----------------------+----------------------+\n",
      "|   1  GeForce GTX 108...  Off  | 00000000:06:00.0 Off |                  N/A |\n",
      "| 29%   26C    P8     7W / 250W |     10MiB / 11178MiB |      0%      Default |\n",
      "+-------------------------------+----------------------+----------------------+\n",
      "|   2  GeForce GTX 108...  Off  | 00000000:07:00.0 Off |                  N/A |\n",
      "| 44%   56C    P2    69W / 250W |  10895MiB / 11178MiB |     12%      Default |\n",
      "+-------------------------------+----------------------+----------------------+\n",
      "|   3  GeForce GTX 108...  Off  | 00000000:08:00.0 Off |                  N/A |\n",
      "| 42%   56C    P2    76W / 250W |  10895MiB / 11178MiB |     43%      Default |\n",
      "+-------------------------------+----------------------+----------------------+\n",
      "|   4  GeForce GTX 108...  Off  | 00000000:0C:00.0 Off |                  N/A |\n",
      "| 29%   26C    P8     8W / 250W |     10MiB / 11178MiB |      0%      Default |\n",
      "+-------------------------------+----------------------+----------------------+\n",
      "|   5  GeForce GTX 108...  Off  | 00000000:0D:00.0 Off |                  N/A |\n",
      "| 29%   27C    P8     9W / 250W |  10799MiB / 11178MiB |      0%      Default |\n",
      "+-------------------------------+----------------------+----------------------+\n",
      "|   6  GeForce GTX 108...  Off  | 00000000:0E:00.0 Off |                  N/A |\n",
      "| 47%   61C    P2    80W / 250W |  10895MiB / 11178MiB |     54%      Default |\n",
      "+-------------------------------+----------------------+----------------------+\n",
      "|   7  GeForce GTX 108...  Off  | 00000000:0F:00.0 Off |                  N/A |\n",
      "| 29%   29C    P8     8W / 250W |     10MiB / 11178MiB |      0%      Default |\n",
      "+-------------------------------+----------------------+----------------------+\n",
      "                                                                               \n",
      "+-----------------------------------------------------------------------------+\n",
      "| Processes:                                                       GPU Memory |\n",
      "|  GPU       PID   Type   Process name                             Usage      |\n",
      "|=============================================================================|\n",
      "|    0     18878      C   python3                                      274MiB |\n",
      "|    2     17242      C   /ds/environments/python2020/bin/python     10885MiB |\n",
      "|    3     17879      C   /ds/environments/python2020/bin/python     10885MiB |\n",
      "|    5     18594      C   python3                                    10789MiB |\n",
      "|    6      9924      C   /ds/environments/python2020/bin/python     10885MiB |\n",
      "+-----------------------------------------------------------------------------+\n"
     ]
    },
    {
     "name": "stderr",
     "output_type": "stream",
     "text": [
      "Using TensorFlow backend.\n"
     ]
    }
   ],
   "source": [
    "!nvidia-smi\n",
    "import os\n",
    "\n",
    "os.environ[\"CUDA_DEVICE_ORDER\"] = \"PCI_BUS_ID\"   # so the IDs match nvidia-smi\n",
    "os.environ[\"CUDA_VISIBLE_DEVICES\"] = \"7\"   # choose here your GPU (0-7)\n",
    "\n",
    "import tensorflow as tf\n",
    "import tensorflow.compat.v1 as tf\n",
    "import keras\n",
    "# from keras import backend as K\n",
    "import tensorflow.python.keras.backend as K\n",
    "\n",
    "config = tf.ConfigProto()\n",
    "config.gpu_options.allow_growth=True\n",
    "sess = tf.Session(config=config)\n",
    "K.set_session(sess)"
   ]
  },
  {
   "cell_type": "code",
   "execution_count": 4,
   "metadata": {},
   "outputs": [],
   "source": [
    "fundus_gt = fundus_df.copy()\n",
    "df = fundus_df.copy()"
   ]
  },
  {
   "cell_type": "markdown",
   "metadata": {},
   "source": [
    "# 1. META DATA"
   ]
  },
  {
   "cell_type": "markdown",
   "metadata": {},
   "source": [
    "## Handling 'None', 'NaN' and other values - DONE"
   ]
  },
  {
   "cell_type": "code",
   "execution_count": 5,
   "metadata": {},
   "outputs": [],
   "source": [
    "# df.replace(to_replace=[None], value=np.nan, inplace=True) # Replace all None values by NaN\n",
    "\n",
    "# # Replace Nan values depending on dtype of each column\n",
    "# float_cols = df.select_dtypes(include=['float64']).columns\n",
    "# int_cols = df.select_dtypes(include=['int64']).columns\n",
    "# str_cols = df.select_dtypes(include=['object']).columns\n",
    "\n",
    "# df.loc[:, int_cols] = df.loc[:, int_cols].fillna(0)\n",
    "# df.loc[:, float_cols] = df.loc[:, float_cols].fillna(0)\n",
    "# df.loc[:, str_cols] = df.loc[:, str_cols].fillna('')\n",
    "\n",
    "# # Handling weird values\n",
    "# df.iloc[:,17] = df.iloc[:,17].replace(regex=['^\\.\\.'], value='00') # changing '..2870' to '002870' by looking at the pattern"
   ]
  },
  {
   "cell_type": "markdown",
   "metadata": {},
   "source": [
    "## Label Encoding - DONE"
   ]
  },
  {
   "cell_type": "code",
   "execution_count": 26,
   "metadata": {},
   "outputs": [],
   "source": [
    "# # Label Encoding for the non numeric columns\n",
    "# enc_df = df.copy()\n",
    "# for i in range(enc_df.shape[1]):\n",
    "#     if not is_numeric_dtype(enc_df.iloc[:,i]):\n",
    "#         enc_df.iloc[:,i] = le.fit_transform(enc_df.iloc[:,i])\n",
    "\n",
    "# SAVING\n",
    "# #SAVE - DONE\n",
    "# enc_df.to_pickle(DATA_dir + 'enc_df.pkl')\n",
    "# np.save(DATA_dir + 'glau_class.npy', GT_intersect)"
   ]
  },
  {
   "cell_type": "code",
   "execution_count": 8,
   "metadata": {},
   "outputs": [],
   "source": [
    "# # SAVING\n",
    "# #SAVE - DONE\n",
    "# np.save(DATA_dir + 'glau_union_class.npy', GT_union)"
   ]
  },
  {
   "cell_type": "markdown",
   "metadata": {},
   "source": [
    "## Loading the encoded dataframe from file"
   ]
  },
  {
   "cell_type": "code",
   "execution_count": 9,
   "metadata": {},
   "outputs": [],
   "source": [
    "#LOAD\n",
    "enc_df = pd.read_pickle(DATA_dir + 'enc_df.pkl')\n",
    "y = np.load(DATA_dir + 'glau_class.npy')              #intersection\n",
    "y_union = np.load(DATA_dir + 'glau_union_class.npy')  # union"
   ]
  },
  {
   "cell_type": "code",
   "execution_count": 10,
   "metadata": {},
   "outputs": [],
   "source": [
    "indices = np.arange(n_patients)"
   ]
  },
  {
   "cell_type": "code",
   "execution_count": 24,
   "metadata": {},
   "outputs": [
    {
     "name": "stdout",
     "output_type": "stream",
     "text": [
      "UNION\n",
      "No. of Glaucoma patients in training set: 2253\n",
      "No. of non-Glaucoma patients in training set: 83477\n",
      "INTERSECTION\n",
      "No. of Glaucoma patients in training set: 633\n",
      "No. of non-Glaucoma patients in training set: 85097\n"
     ]
    }
   ],
   "source": [
    "n_NG = 0\n",
    "n_G = 0\n",
    "\n",
    "for i in range(len(y_union)):\n",
    "    if(y_union[i] == 1):\n",
    "        n_G += 1\n",
    "    else:\n",
    "        n_NG += 1\n",
    "        \n",
    "print(\"UNION\")\n",
    "print(\"No. of Glaucoma patients in training set:\",n_G)\n",
    "print(\"No. of non-Glaucoma patients in training set:\",n_NG)\n",
    "\n",
    "n_NG = 0\n",
    "n_G = 0\n",
    "\n",
    "for i in range(len(y)):\n",
    "    if(y[i] == 1):\n",
    "        n_G += 1\n",
    "    else:\n",
    "        n_NG += 1\n",
    "        \n",
    "print(\"INTERSECTION\")\n",
    "print(\"No. of Glaucoma patients in training set:\",n_G)\n",
    "print(\"No. of non-Glaucoma patients in training set:\",n_NG)"
   ]
  },
  {
   "cell_type": "markdown",
   "metadata": {},
   "source": [
    "# 2. Ground Truth Data Loading"
   ]
  },
  {
   "cell_type": "code",
   "execution_count": 11,
   "metadata": {},
   "outputs": [],
   "source": [
    "GT523_L_df = pd.DataFrame(GT523_L, columns=['GT523_L'])\n",
    "GT19_L_df = pd.DataFrame(GT_19, columns=['GT19_L'])\n",
    "GTi_L_df = pd.DataFrame(GTi_L, columns=['GTi_L'])\n",
    "GTu_L_df = pd.DataFrame(GTu_L, columns=['GTu_L'])\n",
    "\n",
    "GT523_R_df = pd.DataFrame(GT523_R, columns=['GT523_R'])\n",
    "GT19_R_df = pd.DataFrame(GT_19, columns=['GT19_R'])\n",
    "GTi_R_df = pd.DataFrame(GTi_R, columns=['GTi_R'])\n",
    "GTu_R_df = pd.DataFrame(GTu_R, columns=['GTu_R'])"
   ]
  },
  {
   "cell_type": "code",
   "execution_count": 12,
   "metadata": {},
   "outputs": [],
   "source": [
    "GT_LEFT = pd.concat([GT523_L_df,GT19_L_df,GTi_L_df,GTu_L_df],axis = 1)\n",
    "GT_RIGHT = pd.concat([GT523_R_df,GT19_R_df,GTi_R_df,GTu_R_df],axis = 1)"
   ]
  },
  {
   "cell_type": "markdown",
   "metadata": {},
   "source": [
    "# 3. FUNDUS Images filename Loading"
   ]
  },
  {
   "cell_type": "code",
   "execution_count": 13,
   "metadata": {},
   "outputs": [],
   "source": [
    "# LOAD\n",
    "filenames_L = np.load(DATA_dir + 'filenames_L.npy')\n",
    "filenames_R = np.load(DATA_dir + 'filenames_R.npy')\n",
    "\n",
    "filenames_L_df = pd.DataFrame(filenames_L, columns=['filenames_L'])\n",
    "filenames_R_df = pd.DataFrame(filenames_R, columns=['filenames_R'])"
   ]
  },
  {
   "cell_type": "markdown",
   "metadata": {},
   "source": [
    "# 4. Concatenate File names and Ground truths"
   ]
  },
  {
   "cell_type": "code",
   "execution_count": 14,
   "metadata": {},
   "outputs": [],
   "source": [
    "fundus_names_gt_df = pd.concat([filenames_L_df,GT_LEFT,filenames_R_df,GT_RIGHT], axis = 1)"
   ]
  },
  {
   "cell_type": "code",
   "execution_count": 15,
   "metadata": {},
   "outputs": [
    {
     "data": {
      "text/html": [
       "<div>\n",
       "<style scoped>\n",
       "    .dataframe tbody tr th:only-of-type {\n",
       "        vertical-align: middle;\n",
       "    }\n",
       "\n",
       "    .dataframe tbody tr th {\n",
       "        vertical-align: top;\n",
       "    }\n",
       "\n",
       "    .dataframe thead th {\n",
       "        text-align: right;\n",
       "    }\n",
       "</style>\n",
       "<table border=\"1\" class=\"dataframe\">\n",
       "  <thead>\n",
       "    <tr style=\"text-align: right;\">\n",
       "      <th></th>\n",
       "      <th>filenames_L</th>\n",
       "      <th>GT523_L</th>\n",
       "      <th>GT19_L</th>\n",
       "      <th>GTi_L</th>\n",
       "      <th>GTu_L</th>\n",
       "      <th>filenames_R</th>\n",
       "      <th>GT523_R</th>\n",
       "      <th>GT19_R</th>\n",
       "      <th>GTi_R</th>\n",
       "      <th>GTu_R</th>\n",
       "    </tr>\n",
       "  </thead>\n",
       "  <tbody>\n",
       "    <tr>\n",
       "      <th>0</th>\n",
       "      <td>1000132_21015_0_0.png</td>\n",
       "      <td>99</td>\n",
       "      <td>0</td>\n",
       "      <td>0</td>\n",
       "      <td>0</td>\n",
       "      <td>1000132_21016_0_0.png</td>\n",
       "      <td>99</td>\n",
       "      <td>0</td>\n",
       "      <td>0</td>\n",
       "      <td>0</td>\n",
       "    </tr>\n",
       "    <tr>\n",
       "      <th>1</th>\n",
       "      <td>1000277_21015_0_1.png</td>\n",
       "      <td>99</td>\n",
       "      <td>0</td>\n",
       "      <td>0</td>\n",
       "      <td>0</td>\n",
       "      <td>1000277_21016_0_1.png</td>\n",
       "      <td>99</td>\n",
       "      <td>0</td>\n",
       "      <td>0</td>\n",
       "      <td>0</td>\n",
       "    </tr>\n",
       "    <tr>\n",
       "      <th>2</th>\n",
       "      <td>1000472_21015_0_0.png</td>\n",
       "      <td>99</td>\n",
       "      <td>0</td>\n",
       "      <td>0</td>\n",
       "      <td>0</td>\n",
       "      <td>1000472_21016_0_0.png</td>\n",
       "      <td>99</td>\n",
       "      <td>0</td>\n",
       "      <td>0</td>\n",
       "      <td>0</td>\n",
       "    </tr>\n",
       "    <tr>\n",
       "      <th>3</th>\n",
       "      <td>1000487_21015_0_0.png</td>\n",
       "      <td>99</td>\n",
       "      <td>0</td>\n",
       "      <td>0</td>\n",
       "      <td>0</td>\n",
       "      <td>1000487_21016_0_0.png</td>\n",
       "      <td>99</td>\n",
       "      <td>0</td>\n",
       "      <td>0</td>\n",
       "      <td>0</td>\n",
       "    </tr>\n",
       "    <tr>\n",
       "      <th>4</th>\n",
       "      <td>1000684_21015_0_0.png</td>\n",
       "      <td>99</td>\n",
       "      <td>0</td>\n",
       "      <td>0</td>\n",
       "      <td>0</td>\n",
       "      <td>1000684_21016_0_0.png</td>\n",
       "      <td>99</td>\n",
       "      <td>0</td>\n",
       "      <td>0</td>\n",
       "      <td>0</td>\n",
       "    </tr>\n",
       "  </tbody>\n",
       "</table>\n",
       "</div>"
      ],
      "text/plain": [
       "             filenames_L  GT523_L  GT19_L  GTi_L  GTu_L  \\\n",
       "0  1000132_21015_0_0.png       99       0      0      0   \n",
       "1  1000277_21015_0_1.png       99       0      0      0   \n",
       "2  1000472_21015_0_0.png       99       0      0      0   \n",
       "3  1000487_21015_0_0.png       99       0      0      0   \n",
       "4  1000684_21015_0_0.png       99       0      0      0   \n",
       "\n",
       "             filenames_R  GT523_R  GT19_R  GTi_R  GTu_R  \n",
       "0  1000132_21016_0_0.png       99       0      0      0  \n",
       "1  1000277_21016_0_1.png       99       0      0      0  \n",
       "2  1000472_21016_0_0.png       99       0      0      0  \n",
       "3  1000487_21016_0_0.png       99       0      0      0  \n",
       "4  1000684_21016_0_0.png       99       0      0      0  "
      ]
     },
     "execution_count": 15,
     "metadata": {},
     "output_type": "execute_result"
    }
   ],
   "source": [
    "fundus_names_gt_df.head()"
   ]
  },
  {
   "cell_type": "markdown",
   "metadata": {},
   "source": [
    "# 4. Splitting into Train Test Validation"
   ]
  },
  {
   "cell_type": "code",
   "execution_count": 17,
   "metadata": {},
   "outputs": [
    {
     "name": "stdout",
     "output_type": "stream",
     "text": [
      "Meta data index: (51438,) (17146,) (17146,)\n",
      "Fundus Images and all ground truths: (51438, 10) (17146, 10) (17146, 10)\n"
     ]
    }
   ],
   "source": [
    "# Spliting to train and test\n",
    "indices_train, indices_test, fundus_train, fundus_test = train_test_split(indices,fundus_names_gt_df,test_size=0.2, random_state=1)\n",
    "\n",
    "# Spliting train into train and validation\n",
    "indices_train, indices_val, fundus_train, fundus_val = train_test_split(indices_train,fundus_train,test_size=0.25, random_state=1)\n",
    "\n",
    "print(\"Meta data index:\",indices_train.shape, indices_val.shape, indices_test.shape)\n",
    "print(\"Fundus Images and all ground truths:\",fundus_train.shape, fundus_val.shape, fundus_test.shape)"
   ]
  },
  {
   "cell_type": "markdown",
   "metadata": {},
   "source": [
    "### GT intersect Split into Train Test Val as per indices"
   ]
  },
  {
   "cell_type": "code",
   "execution_count": 18,
   "metadata": {},
   "outputs": [
    {
     "name": "stdout",
     "output_type": "stream",
     "text": [
      "Progress: [####################] 100.0%\n"
     ]
    }
   ],
   "source": [
    "# TRAIN\n",
    "y_train = pd.DataFrame(columns = ['ClassLabel'])\n",
    "for idx in range(len(indices_train)):\n",
    "    y_train.loc[idx] = y[indices_train[idx]]\n",
    "    update_progress(idx/len(indices_train))\n",
    "\n",
    "# VALIDATION\n",
    "y_val = pd.DataFrame(columns = ['ClassLabel'])\n",
    "for idx in range(len(indices_val)):\n",
    "    y_val.loc[idx] = y[indices_val[idx]]\n",
    "    update_progress(idx/len(indices_val))\n",
    "\n",
    "# TEST\n",
    "y_test = pd.DataFrame(columns = ['ClassLabel'])\n",
    "for idx in range(len(indices_test)):\n",
    "    y_test.loc[idx] = y[indices_test[idx]]\n",
    "    update_progress(idx/len(indices_test))\n"
   ]
  },
  {
   "cell_type": "markdown",
   "metadata": {},
   "source": [
    "### GT union Split into Train Test Val as per indices"
   ]
  },
  {
   "cell_type": "code",
   "execution_count": 19,
   "metadata": {},
   "outputs": [
    {
     "name": "stdout",
     "output_type": "stream",
     "text": [
      "Progress: [####################] 100.0%\n"
     ]
    }
   ],
   "source": [
    "# TRAIN\n",
    "yu_train = pd.DataFrame(columns = ['ClassLabel'])\n",
    "for idx in range(len(indices_train)):\n",
    "    yu_train.loc[idx] = y_union[indices_train[idx]]\n",
    "    update_progress(idx/len(indices_train))\n",
    "\n",
    "# VALIDATION\n",
    "yu_val = pd.DataFrame(columns = ['ClassLabel'])\n",
    "for idx in range(len(indices_val)):\n",
    "    yu_val.loc[idx] = y_union[indices_val[idx]]\n",
    "    update_progress(idx/len(indices_val))\n",
    "\n",
    "# TEST\n",
    "yu_test = pd.DataFrame(columns = ['ClassLabel'])\n",
    "for idx in range(len(indices_test)):\n",
    "    yu_test.loc[idx] = y_union[indices_test[idx]]\n",
    "    update_progress(idx/len(indices_test))\n"
   ]
  },
  {
   "cell_type": "code",
   "execution_count": 20,
   "metadata": {},
   "outputs": [
    {
     "name": "stdout",
     "output_type": "stream",
     "text": [
      "Y: (51438, 1) (17146, 1) (17146, 1)\n",
      "Y_union: (51438, 1) (17146, 1) (17146, 1)\n",
      "Fundus image names and GT: (51438, 10) (17146, 10) (17146, 10)\n"
     ]
    }
   ],
   "source": [
    "print(\"Y:\",y_train.shape, y_val.shape, y_test.shape)\n",
    "print(\"Y_union:\",yu_train.shape, yu_val.shape, yu_test.shape)\n",
    "print(\"Fundus image names and GT:\",fundus_train.shape, fundus_val.shape, fundus_test.shape)"
   ]
  },
  {
   "cell_type": "markdown",
   "metadata": {},
   "source": [
    "### Saving the train test validation data - DONE !!"
   ]
  },
  {
   "cell_type": "code",
   "execution_count": 21,
   "metadata": {},
   "outputs": [],
   "source": [
    "tts_path = DATA_dir+'TrainTestVal/'\n",
    "\n",
    "# # INDICES\n",
    "# np.save(tts_path + 'indices_train.npy', indices_train)\n",
    "# np.save(tts_path + 'indices_val.npy', indices_val)\n",
    "# np.save(tts_path + 'indices_test.npy', indices_test)\n",
    "\n",
    "# # FUNDUS IMAGE NAMES AND GROUND TRUTHS - LEFT and RIGHT\n",
    "# fundus_train.to_pickle(tts_path + 'fundus_train.pkl')\n",
    "# fundus_val.to_pickle(tts_path + 'fundus_val.pkl')\n",
    "# fundus_test.to_pickle(tts_path + 'fundus_test.pkl')\n",
    "\n",
    "# # GROUND TRUTH INTERSECTION FOR FEATURE IMPORTANCE\n",
    "# y_train.to_pickle(tts_path + 'y_train.pkl')\n",
    "# y_val.to_pickle(tts_path + 'y_val.pkl')\n",
    "# y_test.to_pickle(tts_path + 'y_test.pkl')"
   ]
  },
  {
   "cell_type": "code",
   "execution_count": 22,
   "metadata": {},
   "outputs": [],
   "source": [
    "# GROUND TRUTH UNION FOR FEATURE IMPORTANCE\n",
    "yu_train.to_pickle(tts_path + 'yu_train.pkl')\n",
    "yu_val.to_pickle(tts_path + 'yu_val.pkl')\n",
    "yu_test.to_pickle(tts_path + 'yu_test.pkl')"
   ]
  },
  {
   "cell_type": "code",
   "execution_count": 61,
   "metadata": {},
   "outputs": [],
   "source": [
    "# from sklearn import tree\n",
    "# tree.plot_tree(rfc.estimators_[0])"
   ]
  }
 ],
 "metadata": {
  "kernelspec": {
   "display_name": "Python 2020",
   "language": "python",
   "name": "python2020"
  },
  "language_info": {
   "codemirror_mode": {
    "name": "ipython",
    "version": 3
   },
   "file_extension": ".py",
   "mimetype": "text/x-python",
   "name": "python",
   "nbconvert_exporter": "python",
   "pygments_lexer": "ipython3",
   "version": "3.7.5"
  }
 },
 "nbformat": 4,
 "nbformat_minor": 2
}
