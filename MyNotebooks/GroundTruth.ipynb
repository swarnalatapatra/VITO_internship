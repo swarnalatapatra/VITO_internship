{
 "cells": [
  {
   "cell_type": "code",
   "execution_count": 3,
   "metadata": {
    "scrolled": true
   },
   "outputs": [
    {
     "name": "stdout",
     "output_type": "stream",
     "text": [
      "Mon Nov 18 20:15:00 2019       \n",
      "+-----------------------------------------------------------------------------+\n",
      "| NVIDIA-SMI 418.87.01    Driver Version: 418.87.01    CUDA Version: 10.1     |\n",
      "|-------------------------------+----------------------+----------------------+\n",
      "| GPU  Name        Persistence-M| Bus-Id        Disp.A | Volatile Uncorr. ECC |\n",
      "| Fan  Temp  Perf  Pwr:Usage/Cap|         Memory-Usage | GPU-Util  Compute M. |\n",
      "|===============================+======================+======================|\n",
      "|   0  GeForce GTX 108...  Off  | 00000000:04:00.0 Off |                  N/A |\n",
      "| 29%   39C    P2    56W / 250W |    147MiB / 11178MiB |      0%      Default |\n",
      "+-------------------------------+----------------------+----------------------+\n",
      "|   1  GeForce GTX 108...  Off  | 00000000:06:00.0 Off |                  N/A |\n",
      "| 29%   25C    P8     7W / 250W |     10MiB / 11178MiB |      0%      Default |\n",
      "+-------------------------------+----------------------+----------------------+\n",
      "|   2  GeForce GTX 108...  Off  | 00000000:07:00.0 Off |                  N/A |\n",
      "| 29%   26C    P8     7W / 250W |     10MiB / 11178MiB |      0%      Default |\n",
      "+-------------------------------+----------------------+----------------------+\n",
      "|   3  GeForce GTX 108...  Off  | 00000000:08:00.0 Off |                  N/A |\n",
      "| 29%   25C    P8     7W / 250W |     10MiB / 11178MiB |      0%      Default |\n",
      "+-------------------------------+----------------------+----------------------+\n",
      "|   4  GeForce GTX 108...  Off  | 00000000:0C:00.0 Off |                  N/A |\n",
      "| 29%   23C    P8     8W / 250W |     10MiB / 11178MiB |      0%      Default |\n",
      "+-------------------------------+----------------------+----------------------+\n",
      "|   5  GeForce GTX 108...  Off  | 00000000:0D:00.0 Off |                  N/A |\n",
      "| 29%   27C    P8     9W / 250W |     10MiB / 11178MiB |      0%      Default |\n",
      "+-------------------------------+----------------------+----------------------+\n",
      "|   6  GeForce GTX 108...  Off  | 00000000:0E:00.0 Off |                  N/A |\n",
      "| 29%   30C    P8     8W / 250W |     10MiB / 11178MiB |      0%      Default |\n",
      "+-------------------------------+----------------------+----------------------+\n",
      "|   7  GeForce GTX 108...  Off  | 00000000:0F:00.0 Off |                  N/A |\n",
      "| 29%   28C    P8     8W / 250W |     10MiB / 11178MiB |      0%      Default |\n",
      "+-------------------------------+----------------------+----------------------+\n",
      "                                                                               \n",
      "+-----------------------------------------------------------------------------+\n",
      "| Processes:                                                       GPU Memory |\n",
      "|  GPU       PID   Type   Process name                             Usage      |\n",
      "|=============================================================================|\n",
      "|    0     20345      C   /ds/environments/python2020/bin/python       137MiB |\n",
      "+-----------------------------------------------------------------------------+\n"
     ]
    },
    {
     "name": "stderr",
     "output_type": "stream",
     "text": [
      "Using TensorFlow backend.\n"
     ]
    },
    {
     "name": "stdout",
     "output_type": "stream",
     "text": [
      "Dataset consist of 85730 patients data with 6251 features for each patient\n",
      "Function definitions executed\n",
      "Definitions DONE !!\n",
      "\n",
      "EyeDiseases Done!!\n"
     ]
    }
   ],
   "source": [
    "%run ./EyeDiseases.ipynb"
   ]
  },
  {
   "cell_type": "markdown",
   "metadata": {},
   "source": [
    "# Ground Truth \n",
    "# 1: Glaucoma, 0: No Glaucoma, 99: Dont know"
   ]
  },
  {
   "cell_type": "markdown",
   "metadata": {},
   "source": [
    "## Data-Coding 100523"
   ]
  },
  {
   "cell_type": "code",
   "execution_count": 4,
   "metadata": {},
   "outputs": [
    {
     "name": "stdout",
     "output_type": "stream",
     "text": [
      "In DC 100523 : \n",
      "\n",
      "No. of patients having glaucoma :  1783\n",
      "Patients who don't know or prefer not to answer:  2293\n",
      "Healthy patients: 81654\n"
     ]
    }
   ],
   "source": [
    "GT_100523 = GT_100523()"
   ]
  },
  {
   "cell_type": "code",
   "execution_count": 5,
   "metadata": {},
   "outputs": [],
   "source": [
    "GT523_L = [0] * len(fundus_df) # 1525\n",
    "GT523_R = [0] * len(fundus_df) # 1513\n",
    "\n",
    "for i in range(len(GT_100523)):\n",
    "    \n",
    "    # if patient said he has glaucoma\n",
    "    if(GT_100523[i] == 1):\n",
    "        if (which_eye(i) == 1): # left ?\n",
    "            GT523_L[i] = 1\n",
    "        elif (which_eye(i) == 2): # right ?\n",
    "            GT523_R[i] = 1\n",
    "        elif(which_eye(i) == 3): # both ?\n",
    "            GT523_L[i] = 1\n",
    "            GT523_R[i] = 1\n",
    "        else: # dont know which eye has glaucoma ?\n",
    "            GT523_L[i] = 99\n",
    "            GT523_R[i] = 99\n",
    "    # if patient said don't know or prefer not to answer about glaucoma\n",
    "    else:\n",
    "        GT523_L[i] = 99\n",
    "        GT523_R[i] = 99"
   ]
  },
  {
   "cell_type": "markdown",
   "metadata": {},
   "source": [
    "## ICD10 / Data-Coding 19"
   ]
  },
  {
   "cell_type": "code",
   "execution_count": 6,
   "metadata": {},
   "outputs": [
    {
     "name": "stdout",
     "output_type": "stream",
     "text": [
      "No. of patients having glaucoma as per DC19 / ICD10 are:  1103\n"
     ]
    }
   ],
   "source": [
    "GT_19 = GT_19()"
   ]
  },
  {
   "cell_type": "markdown",
   "metadata": {},
   "source": [
    "## Intersection 100523 - ICD10\n",
    "**0:** no glaucoma in both\n",
    "\n",
    "**1:** glaucoma in both\n",
    "\n",
    "**2:** glaucoma in icd10\n",
    "\n",
    "**3:** glaucoma in 100523\n",
    "\n",
    "**99:** DON'T KNOW"
   ]
  },
  {
   "cell_type": "code",
   "execution_count": 7,
   "metadata": {},
   "outputs": [
    {
     "name": "stdout",
     "output_type": "stream",
     "text": [
      "Glaucoma in both: 633 \n",
      "Glaucoma in none: 83477 \n",
      "Glaucoma in 100523 only: 1150 \n",
      "Glaucoma in icd10 only: 470\n"
     ]
    }
   ],
   "source": [
    "GT_intersect = GT_intersect()"
   ]
  },
  {
   "cell_type": "code",
   "execution_count": 8,
   "metadata": {},
   "outputs": [],
   "source": [
    "GTi_L = [0] * len(fundus_df)\n",
    "GTi_R = [0] * len(fundus_df)\n",
    "\n",
    "for i in range(len(GT_intersect)):\n",
    "    if(GT_intersect[i] == 1): # glaucoma as per 100523 questionnaire, so ask which eye ?\n",
    "        if(which_eye(i) == 1):\n",
    "            GTi_L[i] = 1\n",
    "        elif(which_eye(i) == 2):\n",
    "            GTi_R[i] = 1\n",
    "        elif(which_eye(i) == 3):\n",
    "            GTi_L[i] = 1\n",
    "            GTi_R[i] = 1\n",
    "        else:\n",
    "            GTi_L[i] = 99\n",
    "            GTi_R[i] = 99\n",
    "    elif(GT_intersect[i] == 2 or GT_intersect[i] == 3):\n",
    "        GTi_L[i] = 99\n",
    "        GTi_R[i] = 99\n"
   ]
  },
  {
   "cell_type": "markdown",
   "metadata": {},
   "source": [
    "## Union 100523 - ICD10 \n",
    "**1:** Glaucoma if atleast one of the datasets indicates glaucoma\n",
    "\n",
    "**0:** None of them indicates glaucoma\n",
    "\n",
    "**99:** If ICD10 says no glaucoma, and 100523 says doesnt know or prefer not to answer"
   ]
  },
  {
   "cell_type": "code",
   "execution_count": 9,
   "metadata": {},
   "outputs": [
    {
     "name": "stdout",
     "output_type": "stream",
     "text": [
      "No. of patients having glaucoma as per union of 100523 and ICD10 are:  2253\n"
     ]
    }
   ],
   "source": [
    "GT_union = GT_union()"
   ]
  },
  {
   "cell_type": "code",
   "execution_count": 10,
   "metadata": {},
   "outputs": [],
   "source": [
    "GTu_L = [0] * len(fundus_df)\n",
    "GTu_R = [0] * len(fundus_df)\n",
    "\n",
    "for i in range(len(GT_union)):\n",
    "    if(GT_union[i] == 1 and which_eye(i)!=0):\n",
    "        if(which_eye(i)==1):\n",
    "            GTu_L[i] = 1\n",
    "        elif(which_eye(i)==2):\n",
    "            GTu_R[i] = 1\n",
    "        elif(which_eye(i)==3):\n",
    "            GTu_L[i] = 1\n",
    "            GTu_R[i] = 1\n",
    "    elif(GT_union[i] == 1 and which_eye(i)==0):\n",
    "        GTu_L[i] = 1\n",
    "        GTu_R[i] = 1\n",
    "    elif(GT_union[i] == 99):\n",
    "        GTu_L[i] = 99\n",
    "        GTu_L[i] = 99\n"
   ]
  },
  {
   "cell_type": "code",
   "execution_count": 11,
   "metadata": {},
   "outputs": [
    {
     "name": "stdout",
     "output_type": "stream",
     "text": [
      "Ground truths created are: \n",
      "GT_100523: GT523_L and GT523_R \n",
      "GT_19\n",
      "GT_intersect: GTi_L and GTi_R\n",
      "GT_union: GTu_L and GTu_R\n"
     ]
    }
   ],
   "source": [
    "print(\"Ground truths created are: \\nGT_100523: GT523_L and GT523_R \\nGT_19\\nGT_intersect: GTi_L and GTi_R\\nGT_union: GTu_L and GTu_R\")"
   ]
  },
  {
   "cell_type": "code",
   "execution_count": null,
   "metadata": {},
   "outputs": [],
   "source": []
  }
 ],
 "metadata": {
  "kernelspec": {
   "display_name": "Python 2020",
   "language": "python",
   "name": "python2020"
  },
  "language_info": {
   "codemirror_mode": {
    "name": "ipython",
    "version": 3
   },
   "file_extension": ".py",
   "mimetype": "text/x-python",
   "name": "python",
   "nbconvert_exporter": "python",
   "pygments_lexer": "ipython3",
   "version": "3.7.5"
  }
 },
 "nbformat": 4,
 "nbformat_minor": 2
}
