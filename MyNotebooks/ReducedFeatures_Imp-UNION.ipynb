{
 "cells": [
  {
   "cell_type": "code",
   "execution_count": null,
   "metadata": {
    "scrolled": false
   },
   "outputs": [],
   "source": [
    "%run ./Definitions.ipynb"
   ]
  },
  {
   "cell_type": "code",
   "execution_count": 2,
   "metadata": {
    "scrolled": true
   },
   "outputs": [
    {
     "name": "stdout",
     "output_type": "stream",
     "text": [
      "Wed Dec 18 17:40:22 2019       \n",
      "+-----------------------------------------------------------------------------+\n",
      "| NVIDIA-SMI 418.87.01    Driver Version: 418.87.01    CUDA Version: 10.1     |\n",
      "|-------------------------------+----------------------+----------------------+\n",
      "| GPU  Name        Persistence-M| Bus-Id        Disp.A | Volatile Uncorr. ECC |\n",
      "| Fan  Temp  Perf  Pwr:Usage/Cap|         Memory-Usage | GPU-Util  Compute M. |\n",
      "|===============================+======================+======================|\n",
      "|   0  GeForce GTX 108...  Off  | 00000000:04:00.0 Off |                  N/A |\n",
      "| 29%   39C    P2    56W / 250W |    284MiB / 11178MiB |      0%      Default |\n",
      "+-------------------------------+----------------------+----------------------+\n",
      "|   1  GeForce GTX 108...  Off  | 00000000:06:00.0 Off |                  N/A |\n",
      "| 29%   26C    P8     7W / 250W |     10MiB / 11178MiB |      0%      Default |\n",
      "+-------------------------------+----------------------+----------------------+\n",
      "|   2  GeForce GTX 108...  Off  | 00000000:07:00.0 Off |                  N/A |\n",
      "| 44%   56C    P2    72W / 250W |  10895MiB / 11178MiB |     41%      Default |\n",
      "+-------------------------------+----------------------+----------------------+\n",
      "|   3  GeForce GTX 108...  Off  | 00000000:08:00.0 Off |                  N/A |\n",
      "| 43%   55C    P2    69W / 250W |  10895MiB / 11178MiB |     14%      Default |\n",
      "+-------------------------------+----------------------+----------------------+\n",
      "|   4  GeForce GTX 108...  Off  | 00000000:0C:00.0 Off |                  N/A |\n",
      "| 29%   26C    P8     8W / 250W |     10MiB / 11178MiB |      0%      Default |\n",
      "+-------------------------------+----------------------+----------------------+\n",
      "|   5  GeForce GTX 108...  Off  | 00000000:0D:00.0 Off |                  N/A |\n",
      "| 29%   27C    P8    11W / 250W |  10799MiB / 11178MiB |      0%      Default |\n",
      "+-------------------------------+----------------------+----------------------+\n",
      "|   6  GeForce GTX 108...  Off  | 00000000:0E:00.0 Off |                  N/A |\n",
      "| 47%   62C    P2   234W / 250W |  10895MiB / 11178MiB |      1%      Default |\n",
      "+-------------------------------+----------------------+----------------------+\n",
      "|   7  GeForce GTX 108...  Off  | 00000000:0F:00.0 Off |                  N/A |\n",
      "| 29%   29C    P8     8W / 250W |    147MiB / 11178MiB |      0%      Default |\n",
      "+-------------------------------+----------------------+----------------------+\n",
      "                                                                               \n",
      "+-----------------------------------------------------------------------------+\n",
      "| Processes:                                                       GPU Memory |\n",
      "|  GPU       PID   Type   Process name                             Usage      |\n",
      "|=============================================================================|\n",
      "|    0     18878      C   python3                                      274MiB |\n",
      "|    2     17242      C   /ds/environments/python2020/bin/python     10885MiB |\n",
      "|    3     17879      C   /ds/environments/python2020/bin/python     10885MiB |\n",
      "|    5     18594      C   python3                                    10789MiB |\n",
      "|    6      9924      C   /ds/environments/python2020/bin/python     10885MiB |\n",
      "|    7     20047      C   /ds/environments/python2020/bin/python       137MiB |\n",
      "+-----------------------------------------------------------------------------+\n"
     ]
    }
   ],
   "source": [
    "!nvidia-smi\n",
    "import os\n",
    "\n",
    "os.environ[\"CUDA_DEVICE_ORDER\"] = \"PCI_BUS_ID\"   # so the IDs match nvidia-smi\n",
    "os.environ[\"CUDA_VISIBLE_DEVICES\"] = \"7\"   # choose here your GPU (0-7)\n",
    "\n",
    "import tensorflow as tf\n",
    "import tensorflow.compat.v1 as tf\n",
    "import keras\n",
    "# from keras import backend as K\n",
    "import tensorflow.python.keras.backend as K"
   ]
  },
  {
   "cell_type": "markdown",
   "metadata": {},
   "source": [
    "## Loading train data to use in Random Forest - union ground truth"
   ]
  },
  {
   "cell_type": "code",
   "execution_count": 4,
   "metadata": {},
   "outputs": [],
   "source": [
    "tts_path = DATA_dir+'TrainTestVal/'\n",
    "enc_df = pd.read_pickle(DATA_dir + 'enc_df.pkl')\n",
    "y_train_df = pd.read_pickle(tts_path + 'yu_train.pkl')\n",
    "y_val_df = pd.read_pickle(tts_path + 'yu_val.pkl')"
   ]
  },
  {
   "cell_type": "markdown",
   "metadata": {},
   "source": [
    "#### Converting the labels to list and assign 0 label to non glaucoma (2 or 3 mismatch)"
   ]
  },
  {
   "cell_type": "code",
   "execution_count": 5,
   "metadata": {},
   "outputs": [],
   "source": [
    "y_train = y_train_df['ClassLabel'].tolist()\n",
    "y_val = y_val_df['ClassLabel'].tolist()\n",
    "\n",
    "for i in range(len(y_train)):\n",
    "    if(y_train[i] != 1):\n",
    "        y_train[i] = 0\n",
    "        \n",
    "for i in range(len(y_val)):\n",
    "    if(y_val[i] != 1):\n",
    "        y_val[i] = 0\n"
   ]
  },
  {
   "cell_type": "code",
   "execution_count": 6,
   "metadata": {},
   "outputs": [],
   "source": [
    "indices_train = np.load(tts_path + 'indices_train.npy')\n",
    "indices_val = np.load(tts_path + 'indices_val.npy')\n",
    "indices_test = np.load(tts_path + 'indices_test.npy')"
   ]
  },
  {
   "cell_type": "code",
   "execution_count": 7,
   "metadata": {},
   "outputs": [
    {
     "data": {
      "text/plain": [
       "((85730, 6251), 51438, 17146)"
      ]
     },
     "execution_count": 7,
     "metadata": {},
     "output_type": "execute_result"
    }
   ],
   "source": [
    "enc_df.shape, len(y_train), len(y_val)"
   ]
  },
  {
   "cell_type": "markdown",
   "metadata": {},
   "source": [
    "## Class Distribution"
   ]
  },
  {
   "cell_type": "markdown",
   "metadata": {},
   "source": [
    "#### No. of Glaucoma and non Glaucoma patients in training set"
   ]
  },
  {
   "cell_type": "code",
   "execution_count": 8,
   "metadata": {},
   "outputs": [
    {
     "name": "stdout",
     "output_type": "stream",
     "text": [
      "No. of Glaucoma patients in training set: 1358\n",
      "No. of non-Glaucoma patients in training set: 50080\n"
     ]
    }
   ],
   "source": [
    "n_NG = 0\n",
    "n_G = 0\n",
    "\n",
    "for i in range(len(y_train)):\n",
    "    if(y_train[i] == 1):\n",
    "        n_G += 1\n",
    "    else:\n",
    "        n_NG += 1\n",
    "        \n",
    "print(\"No. of Glaucoma patients in training set:\",n_G)\n",
    "print(\"No. of non-Glaucoma patients in training set:\",n_NG)"
   ]
  },
  {
   "cell_type": "code",
   "execution_count": 9,
   "metadata": {},
   "outputs": [
    {
     "data": {
      "image/png": "[encoded data removed]",
      "text/plain": [
       "<Figure size 432x288 with 1 Axes>"
      ]
     },
     "metadata": {
      "needs_background": "light"
     },
     "output_type": "display_data"
    }
   ],
   "source": [
    "import seaborn as sns\n",
    "\n",
    "class_name = ['Non-Glaucoma', 'Glaucoma']\n",
    "count = [n_NG, n_G]\n",
    "# plt.bar(class_name, count)\n",
    "sns.barplot(x=class_name, y=count, linewidth=2.5, errcolor=\".2\", edgecolor=\".2\")\n",
    "plt.xlabel('Class', fontsize=15)\n",
    "plt.ylabel('Number of patients', fontsize=15)\n",
    "plt.title('Class distribution')\n",
    "plt.show()"
   ]
  },
  {
   "cell_type": "markdown",
   "metadata": {},
   "source": [
    "## Assigning class weight for imbalance data set to use in Random forest classifier"
   ]
  },
  {
   "cell_type": "code",
   "execution_count": 10,
   "metadata": {},
   "outputs": [],
   "source": [
    "class_weight = dict({0:1, 1:35})"
   ]
  },
  {
   "cell_type": "markdown",
   "metadata": {},
   "source": [
    "## Feature Reduction and Saving Dataframe with reduced features"
   ]
  },
  {
   "cell_type": "code",
   "execution_count": 9,
   "metadata": {},
   "outputs": [
    {
     "data": {
      "text/plain": [
       "(85730, 4898)"
      ]
     },
     "execution_count": 9,
     "metadata": {},
     "output_type": "execute_result"
    }
   ],
   "source": [
    "# cols2rem = ['87-','92-','135-','2227-','4689-','5181-','5326-','5327-','5945-','6119-','6148-','20002-','20008-','20009-','20010-','20011','20013-',\n",
    "#             '20014-','40001-','40002-','41078-','41080-','41082-','41083-','41084-','41096-','41101-','41142-','41202-','41204-',\n",
    "#             '41200-','41210-']\n",
    "\n",
    "# # len(cols2rem) # 13\n",
    "# remove_df  = enc_df.loc[:,enc_df.columns.str.startswith(cols2rem[0])]\n",
    "# for i in range(1,len(cols2rem)):\n",
    "#     remove_df = remove_df.join(enc_df.loc[:,enc_df.columns.str.startswith(cols2rem[i])])\n",
    "    \n",
    "# new_enc_df = enc_df.drop(remove_df.columns, axis=1)\n",
    "# new_enc_df.shape"
   ]
  },
  {
   "cell_type": "markdown",
   "metadata": {},
   "source": [
    "### Spliting new_enc_df to train test val as per the indices"
   ]
  },
  {
   "cell_type": "code",
   "execution_count": 98,
   "metadata": {},
   "outputs": [],
   "source": [
    "# meta_train = []\n",
    "# meta_val = []\n",
    "# meta_test = []\n",
    "\n",
    "# for i in range(len(indices_train)):\n",
    "#     meta_train.append(new_enc_df.iloc[indices_train[i]])\n",
    "    \n",
    "# for i in range(len(indices_val)):\n",
    "#     meta_val.append(new_enc_df.iloc[indices_val[i]])\n",
    "#     meta_test.append(new_enc_df.iloc[indices_test[i]])\n",
    "\n",
    "# meta_train_arr = np.asarray(meta_train)\n",
    "# meta_val_arr = np.asarray(meta_val)\n",
    "# meta_test_arr = np.asarray(meta_test)\n",
    "\n",
    "# meta_train_df = pd.DataFrame(meta_train_arr,columns = new_enc_df.columns)\n",
    "# meta_val_df = pd.DataFrame(meta_val_arr,columns = new_enc_df.columns)\n",
    "# meta_test_df = pd.DataFrame(meta_test_arr,columns = new_enc_df.columns)"
   ]
  },
  {
   "cell_type": "code",
   "execution_count": 100,
   "metadata": {},
   "outputs": [],
   "source": [
    "# #SAVE - DONE\n",
    "# meta_train_df.to_pickle(tts_path + 'reducedfeatures_meta_train.pkl')\n",
    "# meta_val_df.to_pickle(tts_path + 'reducedfeatures_meta_val.pkl')\n",
    "# meta_test_df.to_pickle(tts_path + 'reducedfeatures_meta_test.pkl')"
   ]
  },
  {
   "cell_type": "markdown",
   "metadata": {},
   "source": [
    "### Loading Reduced Features Encodeded Metadata - Train and Validation"
   ]
  },
  {
   "cell_type": "code",
   "execution_count": 11,
   "metadata": {},
   "outputs": [
    {
     "data": {
      "text/plain": [
       "((51438, 4898), (17146, 4898), 51438, 17146)"
      ]
     },
     "execution_count": 11,
     "metadata": {},
     "output_type": "execute_result"
    }
   ],
   "source": [
    "meta_train_df = pd.read_pickle(tts_path + 'reducedfeatures_meta_train.pkl')\n",
    "meta_val_df = pd.read_pickle(tts_path + 'reducedfeatures_meta_val.pkl')\n",
    "\n",
    "meta_train_df.shape, meta_val_df.shape, len(y_train), len(y_val)"
   ]
  },
  {
   "cell_type": "markdown",
   "metadata": {},
   "source": [
    "## RandomForestClassifier for Feature Importance"
   ]
  },
  {
   "cell_type": "markdown",
   "metadata": {},
   "source": [
    "#### 1. Without class weights - everything is classified as majority class - High accuracy but 0 precision and recall"
   ]
  },
  {
   "cell_type": "code",
   "execution_count": 12,
   "metadata": {},
   "outputs": [
    {
     "data": {
      "text/plain": [
       "RandomForestClassifier(bootstrap=True, class_weight=None, criterion='gini',\n",
       "                       max_depth=None, max_features=0.5, max_leaf_nodes=None,\n",
       "                       min_impurity_decrease=0.0, min_impurity_split=None,\n",
       "                       min_samples_leaf=3, min_samples_split=2,\n",
       "                       min_weight_fraction_leaf=0.0, n_estimators=40, n_jobs=-1,\n",
       "                       oob_score=True, random_state=None, verbose=0,\n",
       "                       warm_start=False)"
      ]
     },
     "execution_count": 12,
     "metadata": {},
     "output_type": "execute_result"
    }
   ],
   "source": [
    "# # Random forest classifier\n",
    "rfc_all = RandomForestClassifier(n_estimators = 40, min_samples_leaf = 3, max_features = 0.5, n_jobs=-1, oob_score = True)\n",
    "rfc_all.fit(meta_train_df, y_train)"
   ]
  },
  {
   "cell_type": "code",
   "execution_count": 13,
   "metadata": {},
   "outputs": [
    {
     "data": {
      "text/plain": [
       "['/ds2/data/retina/UK_BB/patra/TrainTestVal/RandomForest_allfeat_union.sav']"
      ]
     },
     "execution_count": 13,
     "metadata": {},
     "output_type": "execute_result"
    }
   ],
   "source": [
    "# # Saving -- DONE !!\n",
    "# from sklearn.externals import joblib\n",
    "# joblib.dump(rfc_all, tts_path + 'RandomForest_allfeat_union.sav')"
   ]
  },
  {
   "cell_type": "code",
   "execution_count": 14,
   "metadata": {},
   "outputs": [],
   "source": [
    "rfc_all = joblib.load(tts_path + 'RandomForest_allfeat_union.sav')"
   ]
  },
  {
   "cell_type": "markdown",
   "metadata": {},
   "source": [
    "#### 2. With class weights - giving higher weight to minority class"
   ]
  },
  {
   "cell_type": "code",
   "execution_count": 15,
   "metadata": {},
   "outputs": [],
   "source": [
    "# rfc_all_cw = RandomForestClassifier(n_estimators = 40, min_samples_leaf = 3, max_features = 0.5, n_jobs=-1, oob_score = True)\n",
    "\n",
    "rfc_all_cw = RandomForestClassifier(bootstrap=True,\n",
    "                                    class_weight=class_weight, criterion='gini',\n",
    "                                    max_depth=8, max_features='auto', max_leaf_nodes=None,\n",
    "                                    min_impurity_decrease=0.0, min_impurity_split=None,\n",
    "                                    min_samples_leaf=4, min_samples_split=10,\n",
    "                                    min_weight_fraction_leaf=0.0, n_estimators=300,\n",
    "                                    n_jobs=-1, oob_score=True,\n",
    "                                    verbose=0, warm_start=False)"
   ]
  },
  {
   "cell_type": "code",
   "execution_count": 16,
   "metadata": {},
   "outputs": [
    {
     "data": {
      "text/plain": [
       "RandomForestClassifier(bootstrap=True, class_weight={0: 1, 1: 35},\n",
       "                       criterion='gini', max_depth=8, max_features='auto',\n",
       "                       max_leaf_nodes=None, min_impurity_decrease=0.0,\n",
       "                       min_impurity_split=None, min_samples_leaf=4,\n",
       "                       min_samples_split=10, min_weight_fraction_leaf=0.0,\n",
       "                       n_estimators=300, n_jobs=-1, oob_score=True,\n",
       "                       random_state=None, verbose=0, warm_start=False)"
      ]
     },
     "execution_count": 16,
     "metadata": {},
     "output_type": "execute_result"
    }
   ],
   "source": [
    "rfc_all_cw.fit(meta_train_df, y_train)"
   ]
  },
  {
   "cell_type": "markdown",
   "metadata": {},
   "source": [
    "### Feature Dictionaries"
   ]
  },
  {
   "cell_type": "code",
   "execution_count": 17,
   "metadata": {},
   "outputs": [],
   "source": [
    "# FEATURE DESCRIPTION DICTIONARY\n",
    "feat_desc = pd.read_excel(DATA_dir + 'FeatureNames.xlsx')\n",
    "feat_unique = feat_desc['UDI'].str.split('-',expand=True)[0].unique()\n",
    "feat_desc_dict, feat_unique_dict = feature_desc()"
   ]
  },
  {
   "cell_type": "code",
   "execution_count": 18,
   "metadata": {},
   "outputs": [],
   "source": [
    "feat_imp_dict, feat_unique_imp_dict = feature_imp(rfc_all_cw, meta_train_df)"
   ]
  },
  {
   "cell_type": "code",
   "execution_count": 19,
   "metadata": {
    "scrolled": true
   },
   "outputs": [
    {
     "data": {
      "text/html": [
       "<div>\n",
       "<style scoped>\n",
       "    .dataframe tbody tr th:only-of-type {\n",
       "        vertical-align: middle;\n",
       "    }\n",
       "\n",
       "    .dataframe tbody tr th {\n",
       "        vertical-align: top;\n",
       "    }\n",
       "\n",
       "    .dataframe thead th {\n",
       "        text-align: right;\n",
       "    }\n",
       "</style>\n",
       "<table border=\"1\" class=\"dataframe\">\n",
       "  <thead>\n",
       "    <tr style=\"text-align: right;\">\n",
       "      <th></th>\n",
       "      <th>Features</th>\n",
       "      <th>Importance</th>\n",
       "    </tr>\n",
       "  </thead>\n",
       "  <tbody>\n",
       "    <tr>\n",
       "      <th>0</th>\n",
       "      <td>Intra-ocular pressure, corneal-compensated (right)</td>\n",
       "      <td>0.020554</td>\n",
       "    </tr>\n",
       "    <tr>\n",
       "      <th>1</th>\n",
       "      <td>Intra-ocular pressure device ID (left)</td>\n",
       "      <td>0.018683</td>\n",
       "    </tr>\n",
       "    <tr>\n",
       "      <th>2</th>\n",
       "      <td>Age when attended assessment centre</td>\n",
       "      <td>0.018051</td>\n",
       "    </tr>\n",
       "    <tr>\n",
       "      <th>3</th>\n",
       "      <td>Intra-ocular pressure, Goldmann-correlated (right)</td>\n",
       "      <td>0.017299</td>\n",
       "    </tr>\n",
       "    <tr>\n",
       "      <th>4</th>\n",
       "      <td>Year of birth</td>\n",
       "      <td>0.016431</td>\n",
       "    </tr>\n",
       "    <tr>\n",
       "      <th>5</th>\n",
       "      <td>Intra-ocular pressure, Goldmann-correlated (left)</td>\n",
       "      <td>0.016391</td>\n",
       "    </tr>\n",
       "    <tr>\n",
       "      <th>6</th>\n",
       "      <td>Taking other prescription medications</td>\n",
       "      <td>0.015239</td>\n",
       "    </tr>\n",
       "    <tr>\n",
       "      <th>7</th>\n",
       "      <td>Corneal hysteresis (left)</td>\n",
       "      <td>0.008786</td>\n",
       "    </tr>\n",
       "    <tr>\n",
       "      <th>8</th>\n",
       "      <td>Duration visual-acuity screen displayed (right)</td>\n",
       "      <td>0.008594</td>\n",
       "    </tr>\n",
       "    <tr>\n",
       "      <th>9</th>\n",
       "      <td>Corneal hysteresis (right)</td>\n",
       "      <td>0.006197</td>\n",
       "    </tr>\n",
       "    <tr>\n",
       "      <th>10</th>\n",
       "      <td>Which eye(s) are affected by cataract</td>\n",
       "      <td>0.005645</td>\n",
       "    </tr>\n",
       "    <tr>\n",
       "      <th>11</th>\n",
       "      <td>Time since interview start at which blood pressure screen(s) shown</td>\n",
       "      <td>0.005572</td>\n",
       "    </tr>\n",
       "    <tr>\n",
       "      <th>12</th>\n",
       "      <td>Age cataract diagnosed</td>\n",
       "      <td>0.005444</td>\n",
       "    </tr>\n",
       "    <tr>\n",
       "      <th>13</th>\n",
       "      <td>logMAR, final (left)</td>\n",
       "      <td>0.005064</td>\n",
       "    </tr>\n",
       "    <tr>\n",
       "      <th>14</th>\n",
       "      <td>Forced expiratory volume in 1-second (FEV1)</td>\n",
       "      <td>0.004767</td>\n",
       "    </tr>\n",
       "    <tr>\n",
       "      <th>15</th>\n",
       "      <td>Forced vital capacity (FVC)</td>\n",
       "      <td>0.004099</td>\n",
       "    </tr>\n",
       "    <tr>\n",
       "      <th>16</th>\n",
       "      <td>Long-standing illness, disability or infirmity</td>\n",
       "      <td>0.003550</td>\n",
       "    </tr>\n",
       "    <tr>\n",
       "      <th>17</th>\n",
       "      <td>Cylindrical power (left)</td>\n",
       "      <td>0.003422</td>\n",
       "    </tr>\n",
       "    <tr>\n",
       "      <th>18</th>\n",
       "      <td>Waist circumference</td>\n",
       "      <td>0.003324</td>\n",
       "    </tr>\n",
       "    <tr>\n",
       "      <th>19</th>\n",
       "      <td>Wears glasses or contact lenses</td>\n",
       "      <td>0.003240</td>\n",
       "    </tr>\n",
       "    <tr>\n",
       "      <th>20</th>\n",
       "      <td>logMAR, final (right)</td>\n",
       "      <td>0.003179</td>\n",
       "    </tr>\n",
       "    <tr>\n",
       "      <th>21</th>\n",
       "      <td>Duration at which OCT screen shown (left)</td>\n",
       "      <td>0.002945</td>\n",
       "    </tr>\n",
       "    <tr>\n",
       "      <th>22</th>\n",
       "      <td>Which eye(s) affected by other eye condition</td>\n",
       "      <td>0.002898</td>\n",
       "    </tr>\n",
       "    <tr>\n",
       "      <th>23</th>\n",
       "      <td>Duration at which OCT screen shown (right)</td>\n",
       "      <td>0.002890</td>\n",
       "    </tr>\n",
       "    <tr>\n",
       "      <th>24</th>\n",
       "      <td>logMAR, initial (left)</td>\n",
       "      <td>0.002888</td>\n",
       "    </tr>\n",
       "    <tr>\n",
       "      <th>25</th>\n",
       "      <td>6mm cylindrical power angle (left)</td>\n",
       "      <td>0.002821</td>\n",
       "    </tr>\n",
       "    <tr>\n",
       "      <th>26</th>\n",
       "      <td>Duration at which refractometer first shown (right)</td>\n",
       "      <td>0.002802</td>\n",
       "    </tr>\n",
       "    <tr>\n",
       "      <th>27</th>\n",
       "      <td>Description of exercise protocol recommended</td>\n",
       "      <td>0.002595</td>\n",
       "    </tr>\n",
       "    <tr>\n",
       "      <th>28</th>\n",
       "      <td>Cylindrical power (right)</td>\n",
       "      <td>0.002585</td>\n",
       "    </tr>\n",
       "    <tr>\n",
       "      <th>29</th>\n",
       "      <td>Corneal resistance factor (left)</td>\n",
       "      <td>0.002554</td>\n",
       "    </tr>\n",
       "    <tr>\n",
       "      <th>30</th>\n",
       "      <td>6mm weak meridian angle (left)</td>\n",
       "      <td>0.002553</td>\n",
       "    </tr>\n",
       "    <tr>\n",
       "      <th>31</th>\n",
       "      <td>Age started wearing glasses or contact lenses</td>\n",
       "      <td>0.002513</td>\n",
       "    </tr>\n",
       "    <tr>\n",
       "      <th>32</th>\n",
       "      <td>3mm strong meridian angle (left)</td>\n",
       "      <td>0.002499</td>\n",
       "    </tr>\n",
       "    <tr>\n",
       "      <th>33</th>\n",
       "      <td>Peak expiratory flow (PEF)</td>\n",
       "      <td>0.002386</td>\n",
       "    </tr>\n",
       "    <tr>\n",
       "      <th>34</th>\n",
       "      <td>Forced vital capacity (FVC), Best measure</td>\n",
       "      <td>0.002257</td>\n",
       "    </tr>\n",
       "    <tr>\n",
       "      <th>35</th>\n",
       "      <td>Whole body fat-free mass</td>\n",
       "      <td>0.002127</td>\n",
       "    </tr>\n",
       "    <tr>\n",
       "      <th>36</th>\n",
       "      <td>Corneal resistance factor (right)</td>\n",
       "      <td>0.002113</td>\n",
       "    </tr>\n",
       "    <tr>\n",
       "      <th>37</th>\n",
       "      <td>Time of blow measurement</td>\n",
       "      <td>0.002101</td>\n",
       "    </tr>\n",
       "    <tr>\n",
       "      <th>38</th>\n",
       "      <td>Duration to first press of snap-button in each round</td>\n",
       "      <td>0.002043</td>\n",
       "    </tr>\n",
       "    <tr>\n",
       "      <th>39</th>\n",
       "      <td>3mm regularity index (right)</td>\n",
       "      <td>0.002041</td>\n",
       "    </tr>\n",
       "    <tr>\n",
       "      <th>40</th>\n",
       "      <td>Duration at which refractometer first shown (left)</td>\n",
       "      <td>0.002014</td>\n",
       "    </tr>\n",
       "    <tr>\n",
       "      <th>41</th>\n",
       "      <td>3mm strong meridian angle (right)</td>\n",
       "      <td>0.001987</td>\n",
       "    </tr>\n",
       "    <tr>\n",
       "      <th>42</th>\n",
       "      <td>avMSE</td>\n",
       "      <td>0.001969</td>\n",
       "    </tr>\n",
       "    <tr>\n",
       "      <th>43</th>\n",
       "      <td>Weight</td>\n",
       "      <td>0.001964</td>\n",
       "    </tr>\n",
       "    <tr>\n",
       "      <th>44</th>\n",
       "      <td>Spherical power (right)</td>\n",
       "      <td>0.001932</td>\n",
       "    </tr>\n",
       "    <tr>\n",
       "      <th>45</th>\n",
       "      <td>Glasses worn/required (right)</td>\n",
       "      <td>0.001901</td>\n",
       "    </tr>\n",
       "    <tr>\n",
       "      <th>46</th>\n",
       "      <td>Forced expiratory volume in 1-second (FEV1), Best measure</td>\n",
       "      <td>0.001862</td>\n",
       "    </tr>\n",
       "    <tr>\n",
       "      <th>47</th>\n",
       "      <td>Mean time to correctly identify matches</td>\n",
       "      <td>0.001822</td>\n",
       "    </tr>\n",
       "    <tr>\n",
       "      <th>48</th>\n",
       "      <td>Leg fat percentage (left)</td>\n",
       "      <td>0.001804</td>\n",
       "    </tr>\n",
       "    <tr>\n",
       "      <th>49</th>\n",
       "      <td>Whole body water mass</td>\n",
       "      <td>0.001777</td>\n",
       "    </tr>\n",
       "  </tbody>\n",
       "</table>\n",
       "</div>"
      ],
      "text/plain": [
       "                                                              Features  \\\n",
       "0                   Intra-ocular pressure, corneal-compensated (right)   \n",
       "1                               Intra-ocular pressure device ID (left)   \n",
       "2                                  Age when attended assessment centre   \n",
       "3                   Intra-ocular pressure, Goldmann-correlated (right)   \n",
       "4                                                        Year of birth   \n",
       "5                    Intra-ocular pressure, Goldmann-correlated (left)   \n",
       "6                                Taking other prescription medications   \n",
       "7                                            Corneal hysteresis (left)   \n",
       "8                      Duration visual-acuity screen displayed (right)   \n",
       "9                                           Corneal hysteresis (right)   \n",
       "10                               Which eye(s) are affected by cataract   \n",
       "11  Time since interview start at which blood pressure screen(s) shown   \n",
       "12                                              Age cataract diagnosed   \n",
       "13                                                logMAR, final (left)   \n",
       "14                         Forced expiratory volume in 1-second (FEV1)   \n",
       "15                                         Forced vital capacity (FVC)   \n",
       "16                      Long-standing illness, disability or infirmity   \n",
       "17                                            Cylindrical power (left)   \n",
       "18                                                 Waist circumference   \n",
       "19                                     Wears glasses or contact lenses   \n",
       "20                                               logMAR, final (right)   \n",
       "21                           Duration at which OCT screen shown (left)   \n",
       "22                        Which eye(s) affected by other eye condition   \n",
       "23                          Duration at which OCT screen shown (right)   \n",
       "24                                              logMAR, initial (left)   \n",
       "25                                  6mm cylindrical power angle (left)   \n",
       "26                 Duration at which refractometer first shown (right)   \n",
       "27                        Description of exercise protocol recommended   \n",
       "28                                           Cylindrical power (right)   \n",
       "29                                    Corneal resistance factor (left)   \n",
       "30                                      6mm weak meridian angle (left)   \n",
       "31                       Age started wearing glasses or contact lenses   \n",
       "32                                    3mm strong meridian angle (left)   \n",
       "33                                          Peak expiratory flow (PEF)   \n",
       "34                           Forced vital capacity (FVC), Best measure   \n",
       "35                                            Whole body fat-free mass   \n",
       "36                                   Corneal resistance factor (right)   \n",
       "37                                            Time of blow measurement   \n",
       "38                Duration to first press of snap-button in each round   \n",
       "39                                        3mm regularity index (right)   \n",
       "40                  Duration at which refractometer first shown (left)   \n",
       "41                                   3mm strong meridian angle (right)   \n",
       "42                                                               avMSE   \n",
       "43                                                              Weight   \n",
       "44                                             Spherical power (right)   \n",
       "45                                       Glasses worn/required (right)   \n",
       "46           Forced expiratory volume in 1-second (FEV1), Best measure   \n",
       "47                             Mean time to correctly identify matches   \n",
       "48                                           Leg fat percentage (left)   \n",
       "49                                               Whole body water mass   \n",
       "\n",
       "    Importance  \n",
       "0     0.020554  \n",
       "1     0.018683  \n",
       "2     0.018051  \n",
       "3     0.017299  \n",
       "4     0.016431  \n",
       "5     0.016391  \n",
       "6     0.015239  \n",
       "7     0.008786  \n",
       "8     0.008594  \n",
       "9     0.006197  \n",
       "10    0.005645  \n",
       "11    0.005572  \n",
       "12    0.005444  \n",
       "13    0.005064  \n",
       "14    0.004767  \n",
       "15    0.004099  \n",
       "16    0.003550  \n",
       "17    0.003422  \n",
       "18    0.003324  \n",
       "19    0.003240  \n",
       "20    0.003179  \n",
       "21    0.002945  \n",
       "22    0.002898  \n",
       "23    0.002890  \n",
       "24    0.002888  \n",
       "25    0.002821  \n",
       "26    0.002802  \n",
       "27    0.002595  \n",
       "28    0.002585  \n",
       "29    0.002554  \n",
       "30    0.002553  \n",
       "31    0.002513  \n",
       "32    0.002499  \n",
       "33    0.002386  \n",
       "34    0.002257  \n",
       "35    0.002127  \n",
       "36    0.002113  \n",
       "37    0.002101  \n",
       "38    0.002043  \n",
       "39    0.002041  \n",
       "40    0.002014  \n",
       "41    0.001987  \n",
       "42    0.001969  \n",
       "43    0.001964  \n",
       "44    0.001932  \n",
       "45    0.001901  \n",
       "46    0.001862  \n",
       "47    0.001822  \n",
       "48    0.001804  \n",
       "49    0.001777  "
      ]
     },
     "metadata": {},
     "output_type": "display_data"
    }
   ],
   "source": [
    "pd.options.display.max_colwidth = 100\n",
    "\n",
    "fi_red = get_imp_features(50)\n",
    "display_all(fi_red)"
   ]
  },
  {
   "cell_type": "code",
   "execution_count": 20,
   "metadata": {
    "scrolled": false
   },
   "outputs": [
    {
     "data": {
      "text/plain": [
       "<matplotlib.axes._subplots.AxesSubplot at 0x7fcbabdda050>"
      ]
     },
     "execution_count": 20,
     "metadata": {},
     "output_type": "execute_result"
    },
    {
     "data": {
      "image/png": "[encoded data removed]",
      "text/plain": [
       "<Figure size 1080x1080 with 1 Axes>"
      ]
     },
     "metadata": {
      "needs_background": "light"
     },
     "output_type": "display_data"
    }
   ],
   "source": [
    "def plot_fi(finew):\n",
    "    return finew.plot('Features','Importance','barh',figsize=(15,15),legend=False)\n",
    "\n",
    "plot_fi(fi_red)"
   ]
  },
  {
   "cell_type": "markdown",
   "metadata": {},
   "source": [
    "## Creating Dataframe containing important features"
   ]
  },
  {
   "cell_type": "code",
   "execution_count": 21,
   "metadata": {},
   "outputs": [
    {
     "data": {
      "text/plain": [
       "35"
      ]
     },
     "execution_count": 21,
     "metadata": {},
     "output_type": "execute_result"
    }
   ],
   "source": [
    "# Getting feature from feature description\n",
    "feat_to_keep = fi_red[fi_red.Importance>0.0022].Features\n",
    "featval_to_keep = []\n",
    "for i in range(len(feat_to_keep)):\n",
    "    for feat, desc in feat_unique_dict.items():    # for name, age in dictionary.iteritems():  (for Python 2.x)\n",
    "        if desc == feat_to_keep[i]:\n",
    "            featval_to_keep.append(feat)\n",
    "            break\n",
    "            \n",
    "len(featval_to_keep)"
   ]
  },
  {
   "cell_type": "code",
   "execution_count": 22,
   "metadata": {},
   "outputs": [
    {
     "data": {
      "text/plain": [
       "((51438, 4898), (17146, 4898))"
      ]
     },
     "execution_count": 22,
     "metadata": {},
     "output_type": "execute_result"
    }
   ],
   "source": [
    "meta_train_df.shape, meta_val_df.shape"
   ]
  },
  {
   "cell_type": "code",
   "execution_count": 23,
   "metadata": {},
   "outputs": [
    {
     "data": {
      "text/plain": [
       "(51438, 188)"
      ]
     },
     "execution_count": 23,
     "metadata": {},
     "output_type": "execute_result"
    }
   ],
   "source": [
    "redtrain_df = meta_train_df.loc[:,meta_train_df.columns.str.startswith(featval_to_keep[0])]\n",
    "for i in range(1,len(featval_to_keep)):\n",
    "    redtrain_df = redtrain_df.join(meta_train_df.loc[:,meta_train_df.columns.str.startswith(featval_to_keep[i])])\n",
    "    \n",
    "redtrain_df.shape"
   ]
  },
  {
   "cell_type": "code",
   "execution_count": 24,
   "metadata": {},
   "outputs": [
    {
     "data": {
      "text/plain": [
       "(17146, 188)"
      ]
     },
     "execution_count": 24,
     "metadata": {},
     "output_type": "execute_result"
    }
   ],
   "source": [
    "redval_df = meta_val_df.loc[:,meta_val_df.columns.str.startswith(featval_to_keep[0])]\n",
    "for i in range(1,len(featval_to_keep)):\n",
    "    redval_df = redval_df.join(meta_val_df.loc[:,meta_val_df.columns.str.startswith(featval_to_keep[i])])\n",
    "    \n",
    "redval_df.shape"
   ]
  },
  {
   "cell_type": "markdown",
   "metadata": {},
   "source": [
    "### Saving the dataframe"
   ]
  },
  {
   "cell_type": "code",
   "execution_count": 25,
   "metadata": {},
   "outputs": [],
   "source": [
    "redtrain_df.to_pickle(tts_path + str(len(featval_to_keep))+'_features_union_train_df.pkl')\n",
    "redval_df.to_pickle(tts_path + str(len(featval_to_keep))+'_features_union_val_df.pkl')"
   ]
  },
  {
   "cell_type": "markdown",
   "metadata": {},
   "source": [
    "### Loading the dataframe"
   ]
  },
  {
   "cell_type": "code",
   "execution_count": 26,
   "metadata": {},
   "outputs": [
    {
     "data": {
      "text/plain": [
       "((51438, 188), (17146, 188))"
      ]
     },
     "execution_count": 26,
     "metadata": {},
     "output_type": "execute_result"
    }
   ],
   "source": [
    "# LOAD\n",
    "redtrain_df = pd.read_pickle(tts_path + str(len(featval_to_keep))+'_features_union_train_df.pkl')\n",
    "redval_df = pd.read_pickle(tts_path + str(len(featval_to_keep))+'_features_union_val_df.pkl')\n",
    "redtrain_df.shape, redval_df.shape"
   ]
  },
  {
   "cell_type": "markdown",
   "metadata": {},
   "source": [
    "#### without class_weight"
   ]
  },
  {
   "cell_type": "code",
   "execution_count": 27,
   "metadata": {},
   "outputs": [
    {
     "data": {
      "text/plain": [
       "RandomForestClassifier(bootstrap=True, class_weight=None, criterion='gini',\n",
       "                       max_depth=None, max_features=0.5, max_leaf_nodes=None,\n",
       "                       min_impurity_decrease=0.0, min_impurity_split=None,\n",
       "                       min_samples_leaf=3, min_samples_split=2,\n",
       "                       min_weight_fraction_leaf=0.0, n_estimators=40, n_jobs=-1,\n",
       "                       oob_score=True, random_state=None, verbose=0,\n",
       "                       warm_start=False)"
      ]
     },
     "execution_count": 27,
     "metadata": {},
     "output_type": "execute_result"
    }
   ],
   "source": [
    "rfc_red = RandomForestClassifier(n_estimators = 40, min_samples_leaf = 3, max_features = 0.5, n_jobs=-1, oob_score = True)\n",
    "rfc_red.fit(redtrain_df, y_train)"
   ]
  },
  {
   "cell_type": "code",
   "execution_count": 28,
   "metadata": {},
   "outputs": [
    {
     "data": {
      "text/plain": [
       "['/ds2/data/retina/UK_BB/patra/TrainTestVal/RandomForest_redfeat_union.sav']"
      ]
     },
     "execution_count": 28,
     "metadata": {},
     "output_type": "execute_result"
    }
   ],
   "source": [
    "# Saving -- DONE !!\n",
    "from sklearn.externals import joblib\n",
    "joblib.dump(rfc_red, tts_path + 'RandomForest_redfeat_union.sav')"
   ]
  },
  {
   "cell_type": "markdown",
   "metadata": {},
   "source": [
    "#### with class weight"
   ]
  },
  {
   "cell_type": "code",
   "execution_count": 29,
   "metadata": {},
   "outputs": [
    {
     "data": {
      "text/plain": [
       "RandomForestClassifier(bootstrap=True, class_weight={0: 1, 1: 35},\n",
       "                       criterion='gini', max_depth=8, max_features='auto',\n",
       "                       max_leaf_nodes=None, min_impurity_decrease=0.0,\n",
       "                       min_impurity_split=None, min_samples_leaf=4,\n",
       "                       min_samples_split=10, min_weight_fraction_leaf=0.0,\n",
       "                       n_estimators=300, n_jobs=-1, oob_score=True,\n",
       "                       random_state=None, verbose=0, warm_start=False)"
      ]
     },
     "execution_count": 29,
     "metadata": {},
     "output_type": "execute_result"
    }
   ],
   "source": [
    "rfc_red_cw = RandomForestClassifier(bootstrap=True,\n",
    "                                    class_weight=class_weight, criterion='gini',\n",
    "                                    max_depth=8, max_features='auto', max_leaf_nodes=None,\n",
    "                                    min_impurity_decrease=0.0, min_impurity_split=None,\n",
    "                                    min_samples_leaf=4, min_samples_split=10,\n",
    "                                    min_weight_fraction_leaf=0.0, n_estimators=300,\n",
    "                                    n_jobs=-1, oob_score=True,\n",
    "                                    verbose=0, warm_start=False)\n",
    "\n",
    "rfc_red_cw.fit(redtrain_df, y_train)"
   ]
  },
  {
   "cell_type": "markdown",
   "metadata": {},
   "source": [
    "### Loading Reduced features random forest"
   ]
  },
  {
   "cell_type": "code",
   "execution_count": 221,
   "metadata": {},
   "outputs": [],
   "source": [
    "# rfc_red = joblib.load(tts_path + 'RandomForest_redfeat.sav')"
   ]
  },
  {
   "cell_type": "code",
   "execution_count": 30,
   "metadata": {},
   "outputs": [],
   "source": [
    "# FEATURE DESCRIPTION DICTIONARY\n",
    "feat_desc = pd.read_excel(DATA_dir + 'FeatureNames.xlsx')\n",
    "feat_unique = feat_desc['UDI'].str.split('-',expand=True)[0].unique()\n",
    "feat_desc_dict, feat_unique_dict = feature_desc()"
   ]
  },
  {
   "cell_type": "code",
   "execution_count": 31,
   "metadata": {
    "scrolled": true
   },
   "outputs": [
    {
     "data": {
      "text/html": [
       "<div>\n",
       "<style scoped>\n",
       "    .dataframe tbody tr th:only-of-type {\n",
       "        vertical-align: middle;\n",
       "    }\n",
       "\n",
       "    .dataframe tbody tr th {\n",
       "        vertical-align: top;\n",
       "    }\n",
       "\n",
       "    .dataframe thead th {\n",
       "        text-align: right;\n",
       "    }\n",
       "</style>\n",
       "<table border=\"1\" class=\"dataframe\">\n",
       "  <thead>\n",
       "    <tr style=\"text-align: right;\">\n",
       "      <th></th>\n",
       "      <th>Features</th>\n",
       "      <th>Importance</th>\n",
       "    </tr>\n",
       "  </thead>\n",
       "  <tbody>\n",
       "    <tr>\n",
       "      <th>0</th>\n",
       "      <td>Year of birth</td>\n",
       "      <td>0.063680</td>\n",
       "    </tr>\n",
       "    <tr>\n",
       "      <th>1</th>\n",
       "      <td>Intra-ocular pressure, corneal-compensated (right)</td>\n",
       "      <td>0.059869</td>\n",
       "    </tr>\n",
       "    <tr>\n",
       "      <th>2</th>\n",
       "      <td>Age when attended assessment centre</td>\n",
       "      <td>0.057554</td>\n",
       "    </tr>\n",
       "    <tr>\n",
       "      <th>3</th>\n",
       "      <td>Intra-ocular pressure, Goldmann-correlated (right)</td>\n",
       "      <td>0.055271</td>\n",
       "    </tr>\n",
       "    <tr>\n",
       "      <th>4</th>\n",
       "      <td>Taking other prescription medications</td>\n",
       "      <td>0.053436</td>\n",
       "    </tr>\n",
       "    <tr>\n",
       "      <th>5</th>\n",
       "      <td>Intra-ocular pressure, Goldmann-correlated (left)</td>\n",
       "      <td>0.048661</td>\n",
       "    </tr>\n",
       "    <tr>\n",
       "      <th>6</th>\n",
       "      <td>Corneal hysteresis (left)</td>\n",
       "      <td>0.026466</td>\n",
       "    </tr>\n",
       "    <tr>\n",
       "      <th>7</th>\n",
       "      <td>Corneal hysteresis (right)</td>\n",
       "      <td>0.023377</td>\n",
       "    </tr>\n",
       "    <tr>\n",
       "      <th>8</th>\n",
       "      <td>Duration visual-acuity screen displayed (right)</td>\n",
       "      <td>0.021994</td>\n",
       "    </tr>\n",
       "    <tr>\n",
       "      <th>9</th>\n",
       "      <td>Time since interview start at which blood pressure screen(s) shown</td>\n",
       "      <td>0.016246</td>\n",
       "    </tr>\n",
       "    <tr>\n",
       "      <th>10</th>\n",
       "      <td>logMAR, final (left)</td>\n",
       "      <td>0.014461</td>\n",
       "    </tr>\n",
       "    <tr>\n",
       "      <th>11</th>\n",
       "      <td>Forced expiratory volume in 1-second (FEV1)</td>\n",
       "      <td>0.011983</td>\n",
       "    </tr>\n",
       "    <tr>\n",
       "      <th>12</th>\n",
       "      <td>Which eye(s) are affected by cataract</td>\n",
       "      <td>0.011538</td>\n",
       "    </tr>\n",
       "    <tr>\n",
       "      <th>13</th>\n",
       "      <td>Corneal resistance factor (left)</td>\n",
       "      <td>0.011304</td>\n",
       "    </tr>\n",
       "    <tr>\n",
       "      <th>14</th>\n",
       "      <td>Waist circumference</td>\n",
       "      <td>0.010629</td>\n",
       "    </tr>\n",
       "    <tr>\n",
       "      <th>15</th>\n",
       "      <td>Forced vital capacity (FVC)</td>\n",
       "      <td>0.010505</td>\n",
       "    </tr>\n",
       "    <tr>\n",
       "      <th>16</th>\n",
       "      <td>logMAR, final (right)</td>\n",
       "      <td>0.010260</td>\n",
       "    </tr>\n",
       "    <tr>\n",
       "      <th>17</th>\n",
       "      <td>Cylindrical power (left)</td>\n",
       "      <td>0.010121</td>\n",
       "    </tr>\n",
       "    <tr>\n",
       "      <th>18</th>\n",
       "      <td>Long-standing illness, disability or infirmity</td>\n",
       "      <td>0.010015</td>\n",
       "    </tr>\n",
       "    <tr>\n",
       "      <th>19</th>\n",
       "      <td>Cylindrical power (right)</td>\n",
       "      <td>0.009837</td>\n",
       "    </tr>\n",
       "    <tr>\n",
       "      <th>20</th>\n",
       "      <td>6mm weak meridian angle (left)</td>\n",
       "      <td>0.009345</td>\n",
       "    </tr>\n",
       "    <tr>\n",
       "      <th>21</th>\n",
       "      <td>Age cataract diagnosed</td>\n",
       "      <td>0.008840</td>\n",
       "    </tr>\n",
       "    <tr>\n",
       "      <th>22</th>\n",
       "      <td>Age started wearing glasses or contact lenses</td>\n",
       "      <td>0.008767</td>\n",
       "    </tr>\n",
       "    <tr>\n",
       "      <th>23</th>\n",
       "      <td>Duration at which OCT screen shown (left)</td>\n",
       "      <td>0.008537</td>\n",
       "    </tr>\n",
       "    <tr>\n",
       "      <th>24</th>\n",
       "      <td>6mm cylindrical power angle (left)</td>\n",
       "      <td>0.008340</td>\n",
       "    </tr>\n",
       "    <tr>\n",
       "      <th>25</th>\n",
       "      <td>Duration at which OCT screen shown (right)</td>\n",
       "      <td>0.008296</td>\n",
       "    </tr>\n",
       "    <tr>\n",
       "      <th>26</th>\n",
       "      <td>Peak expiratory flow (PEF)</td>\n",
       "      <td>0.008204</td>\n",
       "    </tr>\n",
       "    <tr>\n",
       "      <th>27</th>\n",
       "      <td>3mm strong meridian angle (left)</td>\n",
       "      <td>0.008122</td>\n",
       "    </tr>\n",
       "    <tr>\n",
       "      <th>28</th>\n",
       "      <td>Description of exercise protocol recommended</td>\n",
       "      <td>0.007762</td>\n",
       "    </tr>\n",
       "    <tr>\n",
       "      <th>29</th>\n",
       "      <td>Forced vital capacity (FVC), Best measure</td>\n",
       "      <td>0.007705</td>\n",
       "    </tr>\n",
       "    <tr>\n",
       "      <th>30</th>\n",
       "      <td>Duration at which refractometer first shown (right)</td>\n",
       "      <td>0.007225</td>\n",
       "    </tr>\n",
       "    <tr>\n",
       "      <th>31</th>\n",
       "      <td>logMAR, initial (left)</td>\n",
       "      <td>0.007025</td>\n",
       "    </tr>\n",
       "    <tr>\n",
       "      <th>32</th>\n",
       "      <td>Wears glasses or contact lenses</td>\n",
       "      <td>0.005952</td>\n",
       "    </tr>\n",
       "    <tr>\n",
       "      <th>33</th>\n",
       "      <td>Which eye(s) affected by other eye condition</td>\n",
       "      <td>0.004999</td>\n",
       "    </tr>\n",
       "    <tr>\n",
       "      <th>34</th>\n",
       "      <td>Intra-ocular pressure device ID (left)</td>\n",
       "      <td>0.002408</td>\n",
       "    </tr>\n",
       "    <tr>\n",
       "      <th>35</th>\n",
       "      <td>Age started smoking in current smokers</td>\n",
       "      <td>0.001373</td>\n",
       "    </tr>\n",
       "    <tr>\n",
       "      <th>36</th>\n",
       "      <td>Number of cigarettes currently smoked daily (current cigarette smokers)</td>\n",
       "      <td>0.001259</td>\n",
       "    </tr>\n",
       "    <tr>\n",
       "      <th>37</th>\n",
       "      <td>Difficulty not smoking for 1 day</td>\n",
       "      <td>0.001129</td>\n",
       "    </tr>\n",
       "    <tr>\n",
       "      <th>38</th>\n",
       "      <td>Time from waking to first cigarette</td>\n",
       "      <td>0.001102</td>\n",
       "    </tr>\n",
       "    <tr>\n",
       "      <th>39</th>\n",
       "      <td>Wants to stop smoking</td>\n",
       "      <td>0.000743</td>\n",
       "    </tr>\n",
       "  </tbody>\n",
       "</table>\n",
       "</div>"
      ],
      "text/plain": [
       "                                                                   Features  \\\n",
       "0                                                             Year of birth   \n",
       "1                        Intra-ocular pressure, corneal-compensated (right)   \n",
       "2                                       Age when attended assessment centre   \n",
       "3                        Intra-ocular pressure, Goldmann-correlated (right)   \n",
       "4                                     Taking other prescription medications   \n",
       "5                         Intra-ocular pressure, Goldmann-correlated (left)   \n",
       "6                                                 Corneal hysteresis (left)   \n",
       "7                                                Corneal hysteresis (right)   \n",
       "8                           Duration visual-acuity screen displayed (right)   \n",
       "9        Time since interview start at which blood pressure screen(s) shown   \n",
       "10                                                     logMAR, final (left)   \n",
       "11                              Forced expiratory volume in 1-second (FEV1)   \n",
       "12                                    Which eye(s) are affected by cataract   \n",
       "13                                         Corneal resistance factor (left)   \n",
       "14                                                      Waist circumference   \n",
       "15                                              Forced vital capacity (FVC)   \n",
       "16                                                    logMAR, final (right)   \n",
       "17                                                 Cylindrical power (left)   \n",
       "18                           Long-standing illness, disability or infirmity   \n",
       "19                                                Cylindrical power (right)   \n",
       "20                                           6mm weak meridian angle (left)   \n",
       "21                                                   Age cataract diagnosed   \n",
       "22                            Age started wearing glasses or contact lenses   \n",
       "23                                Duration at which OCT screen shown (left)   \n",
       "24                                       6mm cylindrical power angle (left)   \n",
       "25                               Duration at which OCT screen shown (right)   \n",
       "26                                               Peak expiratory flow (PEF)   \n",
       "27                                         3mm strong meridian angle (left)   \n",
       "28                             Description of exercise protocol recommended   \n",
       "29                                Forced vital capacity (FVC), Best measure   \n",
       "30                      Duration at which refractometer first shown (right)   \n",
       "31                                                   logMAR, initial (left)   \n",
       "32                                          Wears glasses or contact lenses   \n",
       "33                             Which eye(s) affected by other eye condition   \n",
       "34                                   Intra-ocular pressure device ID (left)   \n",
       "35                                   Age started smoking in current smokers   \n",
       "36  Number of cigarettes currently smoked daily (current cigarette smokers)   \n",
       "37                                         Difficulty not smoking for 1 day   \n",
       "38                                      Time from waking to first cigarette   \n",
       "39                                                    Wants to stop smoking   \n",
       "\n",
       "    Importance  \n",
       "0     0.063680  \n",
       "1     0.059869  \n",
       "2     0.057554  \n",
       "3     0.055271  \n",
       "4     0.053436  \n",
       "5     0.048661  \n",
       "6     0.026466  \n",
       "7     0.023377  \n",
       "8     0.021994  \n",
       "9     0.016246  \n",
       "10    0.014461  \n",
       "11    0.011983  \n",
       "12    0.011538  \n",
       "13    0.011304  \n",
       "14    0.010629  \n",
       "15    0.010505  \n",
       "16    0.010260  \n",
       "17    0.010121  \n",
       "18    0.010015  \n",
       "19    0.009837  \n",
       "20    0.009345  \n",
       "21    0.008840  \n",
       "22    0.008767  \n",
       "23    0.008537  \n",
       "24    0.008340  \n",
       "25    0.008296  \n",
       "26    0.008204  \n",
       "27    0.008122  \n",
       "28    0.007762  \n",
       "29    0.007705  \n",
       "30    0.007225  \n",
       "31    0.007025  \n",
       "32    0.005952  \n",
       "33    0.004999  \n",
       "34    0.002408  \n",
       "35    0.001373  \n",
       "36    0.001259  \n",
       "37    0.001129  \n",
       "38    0.001102  \n",
       "39    0.000743  "
      ]
     },
     "metadata": {},
     "output_type": "display_data"
    }
   ],
   "source": [
    "feat_imp_dict, feat_unique_imp_dict = feature_imp(rfc_red_cw, redtrain_df)\n",
    "fi_red = get_imp_features(40)\n",
    "display_all(fi_red)"
   ]
  },
  {
   "cell_type": "code",
   "execution_count": 32,
   "metadata": {
    "scrolled": false
   },
   "outputs": [
    {
     "data": {
      "text/plain": [
       "<matplotlib.axes._subplots.AxesSubplot at 0x7fcbabd92350>"
      ]
     },
     "execution_count": 32,
     "metadata": {},
     "output_type": "execute_result"
    },
    {
     "data": {
      "image/png": "[encoded data removed]",
      "text/plain": [
       "<Figure size 1080x1080 with 1 Axes>"
      ]
     },
     "metadata": {
      "needs_background": "light"
     },
     "output_type": "display_data"
    }
   ],
   "source": [
    "plot_fi(fi_red)"
   ]
  },
  {
   "cell_type": "markdown",
   "metadata": {},
   "source": [
    "## Compare The Accuracy Of Full Feature Classifier To Limited Feature Classifier\n"
   ]
  },
  {
   "cell_type": "code",
   "execution_count": 33,
   "metadata": {},
   "outputs": [],
   "source": [
    "from sklearn.metrics import accuracy_score, f1_score, recall_score, precision_score, classification_report, confusion_matrix\n",
    "\n",
    "# Full Featured Classifier To The Test Data\n",
    "y_pred = rfc_all_cw.predict(meta_val_df)\n",
    "y_important_pred = rfc_red_cw.predict(redval_df)"
   ]
  },
  {
   "cell_type": "markdown",
   "metadata": {},
   "source": [
    "#### F1 score"
   ]
  },
  {
   "cell_type": "code",
   "execution_count": 34,
   "metadata": {},
   "outputs": [
    {
     "data": {
      "text/plain": [
       "(0.13393359594822732, 0.15425131677953346)"
      ]
     },
     "execution_count": 34,
     "metadata": {},
     "output_type": "execute_result"
    }
   ],
   "source": [
    "# 40 features\n",
    "f1_score(y_val, y_pred) , f1_score(y_val, y_important_pred)"
   ]
  },
  {
   "cell_type": "markdown",
   "metadata": {},
   "source": [
    "#### Accuracy score"
   ]
  },
  {
   "cell_type": "code",
   "execution_count": 35,
   "metadata": {},
   "outputs": [
    {
     "data": {
      "text/plain": [
       "(0.9102414557331155, 0.8688907033710487)"
      ]
     },
     "execution_count": 35,
     "metadata": {},
     "output_type": "execute_result"
    }
   ],
   "source": [
    "accuracy_score(y_val, y_pred) , accuracy_score(y_val, y_important_pred)"
   ]
  },
  {
   "cell_type": "markdown",
   "metadata": {},
   "source": [
    "#### Recall score"
   ]
  },
  {
   "cell_type": "code",
   "execution_count": 36,
   "metadata": {},
   "outputs": [
    {
     "data": {
      "text/plain": [
       "(0.25925925925925924, 0.4466230936819172)"
      ]
     },
     "execution_count": 36,
     "metadata": {},
     "output_type": "execute_result"
    }
   ],
   "source": [
    "recall_score(y_val, y_pred) , recall_score(y_val, y_important_pred)"
   ]
  },
  {
   "cell_type": "markdown",
   "metadata": {},
   "source": [
    "#### Precision score"
   ]
  },
  {
   "cell_type": "code",
   "execution_count": 38,
   "metadata": {},
   "outputs": [
    {
     "data": {
      "text/plain": [
       "(0.09028831562974203, 0.09322419281491587)"
      ]
     },
     "execution_count": 38,
     "metadata": {},
     "output_type": "execute_result"
    }
   ],
   "source": [
    "precision_score(y_val, y_pred) , precision_score(y_val, y_important_pred)"
   ]
  },
  {
   "cell_type": "markdown",
   "metadata": {},
   "source": [
    "#### classification_report"
   ]
  },
  {
   "cell_type": "code",
   "execution_count": 39,
   "metadata": {},
   "outputs": [
    {
     "name": "stdout",
     "output_type": "stream",
     "text": [
      "              precision    recall  f1-score   support\n",
      "\n",
      "           0       0.98      0.93      0.95     16687\n",
      "           1       0.09      0.26      0.13       459\n",
      "\n",
      "    accuracy                           0.91     17146\n",
      "   macro avg       0.53      0.59      0.54     17146\n",
      "weighted avg       0.95      0.91      0.93     17146\n",
      " \n",
      "\n",
      "               precision    recall  f1-score   support\n",
      "\n",
      "           0       0.98      0.88      0.93     16687\n",
      "           1       0.09      0.45      0.15       459\n",
      "\n",
      "    accuracy                           0.87     17146\n",
      "   macro avg       0.54      0.66      0.54     17146\n",
      "weighted avg       0.96      0.87      0.91     17146\n",
      "\n"
     ]
    }
   ],
   "source": [
    "print(classification_report(y_val, y_pred) ,\"\\n\\n\", classification_report(y_val, y_important_pred))"
   ]
  },
  {
   "cell_type": "markdown",
   "metadata": {},
   "source": [
    "#### Confusion matrix"
   ]
  },
  {
   "cell_type": "code",
   "execution_count": 40,
   "metadata": {},
   "outputs": [
    {
     "name": "stdout",
     "output_type": "stream",
     "text": [
      "[[15488  1199]\n",
      " [  340   119]] \n",
      "\n",
      " [[14693  1994]\n",
      " [  254   205]]\n"
     ]
    }
   ],
   "source": [
    "# tn, fp, fn, tp\n",
    "print(confusion_matrix(y_val, y_pred) ,\"\\n\\n\", confusion_matrix(y_val, y_important_pred))"
   ]
  },
  {
   "cell_type": "code",
   "execution_count": 41,
   "metadata": {},
   "outputs": [
    {
     "name": "stdout",
     "output_type": "stream",
     "text": [
      "Healthy Patients - correctly identified (True Negatives):  15488 0.9281476598549769\n",
      "Healthy Patients - predicted to have glaucoma (False Positives):  1199 0.07185234014502308\n",
      "Glaucoma Patients - predicted healthy (False Negatives):  340 0.7407407407407407\n",
      "Glaucoma Patients - correctly identified (True Positives):  119 0.25925925925925924\n",
      "\n",
      "Total Glaucoma patients:  459 1.0\n",
      "Total Healthy patients:  16687 1.0\n"
     ]
    },
    {
     "data": {
      "image/png": "[encoded data removed]",
      "text/plain": [
       "<Figure size 360x360 with 2 Axes>"
      ]
     },
     "metadata": {
      "needs_background": "light"
     },
     "output_type": "display_data"
    }
   ],
   "source": [
    "plot_cm(y_val, y_pred)"
   ]
  },
  {
   "cell_type": "code",
   "execution_count": null,
   "metadata": {},
   "outputs": [],
   "source": []
  }
 ],
 "metadata": {
  "kernelspec": {
   "display_name": "Python 2020",
   "language": "python",
   "name": "python2020"
  },
  "language_info": {
   "codemirror_mode": {
    "name": "ipython",
    "version": 3
   },
   "file_extension": ".py",
   "mimetype": "text/x-python",
   "name": "python",
   "nbconvert_exporter": "python",
   "pygments_lexer": "ipython3",
   "version": "3.7.5"
  }
 },
 "nbformat": 4,
 "nbformat_minor": 2
}
