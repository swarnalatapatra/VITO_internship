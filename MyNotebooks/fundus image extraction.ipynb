{
 "cells": [
  {
   "cell_type": "code",
   "execution_count": 6,
   "metadata": {
    "scrolled": true
   },
   "outputs": [
    {
     "name": "stdout",
     "output_type": "stream",
     "text": [
      "2019-11-25 19:00:18.300489\n",
      "\u001b[1m\u001b[37mthunder\u001b[m  Mon Nov 25 19:00:18 2019\n",
      "\u001b[36m[0]\u001b[m \u001b[34mGeForce GTX 1080 Ti\u001b[m |\u001b[31m 39'C\u001b[m, \u001b[32m  0 %\u001b[m | \u001b[36m\u001b[1m\u001b[33m 8742\u001b[m / \u001b[33m11178\u001b[m MB | \u001b[1m\u001b[30mpatra\u001b[m(\u001b[33m8595M\u001b[m) \u001b[1m\u001b[30mpatra\u001b[m(\u001b[33m137M\u001b[m)\n",
      "\u001b[36m[1]\u001b[m \u001b[34mGeForce GTX 1080 Ti\u001b[m |\u001b[31m 25'C\u001b[m, \u001b[32m  0 %\u001b[m | \u001b[36m\u001b[1m\u001b[33m   10\u001b[m / \u001b[33m11178\u001b[m MB |\n",
      "\u001b[36m[2]\u001b[m \u001b[34mGeForce GTX 1080 Ti\u001b[m |\u001b[31m 26'C\u001b[m, \u001b[32m  0 %\u001b[m | \u001b[36m\u001b[1m\u001b[33m   10\u001b[m / \u001b[33m11178\u001b[m MB |\n",
      "\u001b[36m[3]\u001b[m \u001b[34mGeForce GTX 1080 Ti\u001b[m |\u001b[31m 25'C\u001b[m, \u001b[32m  0 %\u001b[m | \u001b[36m\u001b[1m\u001b[33m   10\u001b[m / \u001b[33m11178\u001b[m MB |\n",
      "\u001b[36m[4]\u001b[m \u001b[34mGeForce GTX 1080 Ti\u001b[m |\u001b[31m 24'C\u001b[m, \u001b[32m  0 %\u001b[m | \u001b[36m\u001b[1m\u001b[33m   10\u001b[m / \u001b[33m11178\u001b[m MB |\n",
      "\u001b[36m[5]\u001b[m \u001b[34mGeForce GTX 1080 Ti\u001b[m |\u001b[31m 27'C\u001b[m, \u001b[32m  0 %\u001b[m | \u001b[36m\u001b[1m\u001b[33m   10\u001b[m / \u001b[33m11178\u001b[m MB |\n",
      "\u001b[36m[6]\u001b[m \u001b[34mGeForce GTX 1080 Ti\u001b[m |\u001b[31m 30'C\u001b[m, \u001b[32m  0 %\u001b[m | \u001b[36m\u001b[1m\u001b[33m   10\u001b[m / \u001b[33m11178\u001b[m MB |\n",
      "\u001b[36m[7]\u001b[m \u001b[34mGeForce GTX 1080 Ti\u001b[m |\u001b[31m 28'C\u001b[m, \u001b[32m  0 %\u001b[m | \u001b[36m\u001b[1m\u001b[33m   10\u001b[m / \u001b[33m11178\u001b[m MB |\n",
      "Mon Nov 25 19:00:19 2019       \n",
      "+-----------------------------------------------------------------------------+\n",
      "| NVIDIA-SMI 418.87.01    Driver Version: 418.87.01    CUDA Version: 10.1     |\n",
      "|-------------------------------+----------------------+----------------------+\n",
      "| GPU  Name        Persistence-M| Bus-Id        Disp.A | Volatile Uncorr. ECC |\n",
      "| Fan  Temp  Perf  Pwr:Usage/Cap|         Memory-Usage | GPU-Util  Compute M. |\n",
      "|===============================+======================+======================|\n",
      "|   0  GeForce GTX 108...  Off  | 00000000:04:00.0 Off |                  N/A |\n",
      "| 29%   39C    P2    56W / 250W |   8742MiB / 11178MiB |      0%      Default |\n",
      "+-------------------------------+----------------------+----------------------+\n",
      "|   1  GeForce GTX 108...  Off  | 00000000:06:00.0 Off |                  N/A |\n",
      "| 29%   25C    P8     7W / 250W |     10MiB / 11178MiB |      0%      Default |\n",
      "+-------------------------------+----------------------+----------------------+\n",
      "|   2  GeForce GTX 108...  Off  | 00000000:07:00.0 Off |                  N/A |\n",
      "| 29%   26C    P8     7W / 250W |     10MiB / 11178MiB |      0%      Default |\n",
      "+-------------------------------+----------------------+----------------------+\n",
      "|   3  GeForce GTX 108...  Off  | 00000000:08:00.0 Off |                  N/A |\n",
      "| 29%   25C    P8     7W / 250W |     10MiB / 11178MiB |      0%      Default |\n",
      "+-------------------------------+----------------------+----------------------+\n",
      "|   4  GeForce GTX 108...  Off  | 00000000:0C:00.0 Off |                  N/A |\n",
      "| 29%   24C    P8     9W / 250W |     10MiB / 11178MiB |      0%      Default |\n",
      "+-------------------------------+----------------------+----------------------+\n",
      "|   5  GeForce GTX 108...  Off  | 00000000:0D:00.0 Off |                  N/A |\n",
      "| 29%   27C    P8     9W / 250W |     10MiB / 11178MiB |      0%      Default |\n",
      "+-------------------------------+----------------------+----------------------+\n",
      "|   6  GeForce GTX 108...  Off  | 00000000:0E:00.0 Off |                  N/A |\n",
      "| 29%   30C    P8     8W / 250W |     10MiB / 11178MiB |      0%      Default |\n",
      "+-------------------------------+----------------------+----------------------+\n",
      "|   7  GeForce GTX 108...  Off  | 00000000:0F:00.0 Off |                  N/A |\n",
      "| 29%   28C    P8    10W / 250W |     10MiB / 11178MiB |      0%      Default |\n",
      "+-------------------------------+----------------------+----------------------+\n",
      "                                                                               \n",
      "+-----------------------------------------------------------------------------+\n",
      "| Processes:                                                       GPU Memory |\n",
      "|  GPU       PID   Type   Process name                             Usage      |\n",
      "|=============================================================================|\n",
      "|    0      7014      C   /ds/environments/python2020/bin/python      8595MiB |\n",
      "|    0     10077      C   /ds/environments/python2020/bin/python       137MiB |\n",
      "+-----------------------------------------------------------------------------+\n",
      "The autoreload extension is already loaded. To reload it, use:\n",
      "  %reload_ext autoreload\n",
      "Dataset consist of 85730 patients data with 6251 features for each patient\n",
      "Function definitions executed\n",
      "Definitions DONE !!\n",
      "\n"
     ]
    }
   ],
   "source": [
    "%run ./Definitions.ipynb"
   ]
  },
  {
   "cell_type": "code",
   "execution_count": 7,
   "metadata": {},
   "outputs": [],
   "source": [
    "# Whcih GPU?\n",
    "os.environ[\"CUDA_DEVICE_ORDER\"] = \"PCI_BUS_ID\"   # so the IDs match nvidia-smi\n",
    "os.environ[\"CUDA_VISIBLE_DEVICES\"] = \"1\"   # choose here your GPU (0-7)"
   ]
  },
  {
   "cell_type": "code",
   "execution_count": 8,
   "metadata": {},
   "outputs": [],
   "source": [
    "# PATH\n",
    "srcpath = '/ds2/data/retina/UK_BB/UK_BB_DATA/fundus/'"
   ]
  },
  {
   "cell_type": "markdown",
   "metadata": {},
   "source": [
    "## Saving Fundus image file names - left and Right"
   ]
  },
  {
   "cell_type": "code",
   "execution_count": 3,
   "metadata": {},
   "outputs": [],
   "source": [
    "subdirs, dirs, files = os.walk(srcpath).__next__()\n",
    "m = len(files)\n",
    "\n",
    "# #SAVED\n",
    "# filenames_L = []\n",
    "# filenames_R = []\n",
    "# for i in range(len(fundus_df)):\n",
    "#     filenames_L.append(get_img_name(i,df_fundus_left))\n",
    "#     filenames_R.append(get_img_name(i,df_fundus_right))\n",
    "    \n",
    "# np.save(DATA_dir+'filenames_L.npy', filenames_L)\n",
    "# np.save(DATA_dir+'filenames_R.npy', filenames_R)"
   ]
  },
  {
   "cell_type": "markdown",
   "metadata": {},
   "source": [
    "## Loading Train Test Validation - Fundus image names and Ground truth"
   ]
  },
  {
   "cell_type": "code",
   "execution_count": 41,
   "metadata": {},
   "outputs": [
    {
     "data": {
      "text/plain": [
       "((51438, 10), (17146, 10), (17146, 10))"
      ]
     },
     "execution_count": 41,
     "metadata": {},
     "output_type": "execute_result"
    }
   ],
   "source": [
    "# FUNDUS IMAGE NAMES AND GROUND TRUTHS - LEFT and RIGHT\n",
    "fundus_train = pd.read_pickle(tts_path + 'fundus_train.pkl')\n",
    "fundus_val = pd.read_pickle(tts_path + 'fundus_val.pkl')\n",
    "fundus_test = pd.read_pickle(tts_path + 'fundus_test.pkl')\n",
    "\n",
    "fundus_train.shape, fundus_val.shape, fundus_test.shape"
   ]
  },
  {
   "cell_type": "code",
   "execution_count": 42,
   "metadata": {},
   "outputs": [
    {
     "data": {
      "text/html": [
       "<div>\n",
       "<style scoped>\n",
       "    .dataframe tbody tr th:only-of-type {\n",
       "        vertical-align: middle;\n",
       "    }\n",
       "\n",
       "    .dataframe tbody tr th {\n",
       "        vertical-align: top;\n",
       "    }\n",
       "\n",
       "    .dataframe thead th {\n",
       "        text-align: right;\n",
       "    }\n",
       "</style>\n",
       "<table border=\"1\" class=\"dataframe\">\n",
       "  <thead>\n",
       "    <tr style=\"text-align: right;\">\n",
       "      <th></th>\n",
       "      <th>filenames_L</th>\n",
       "      <th>GT523_L</th>\n",
       "      <th>GT19_L</th>\n",
       "      <th>GTi_L</th>\n",
       "      <th>GTu_L</th>\n",
       "      <th>filenames_R</th>\n",
       "      <th>GT523_R</th>\n",
       "      <th>GT19_R</th>\n",
       "      <th>GTi_R</th>\n",
       "      <th>GTu_R</th>\n",
       "    </tr>\n",
       "  </thead>\n",
       "  <tbody>\n",
       "    <tr>\n",
       "      <th>4655</th>\n",
       "      <td>1270002_21015_1_0.png</td>\n",
       "      <td>99</td>\n",
       "      <td>0</td>\n",
       "      <td>0</td>\n",
       "      <td>0</td>\n",
       "      <td>1270002_21016_1_0.png</td>\n",
       "      <td>99</td>\n",
       "      <td>0</td>\n",
       "      <td>0</td>\n",
       "      <td>0</td>\n",
       "    </tr>\n",
       "    <tr>\n",
       "      <th>56198</th>\n",
       "      <td>4297885_21015_0_0.png</td>\n",
       "      <td>99</td>\n",
       "      <td>0</td>\n",
       "      <td>0</td>\n",
       "      <td>0</td>\n",
       "      <td>4297885_21016_0_0.png</td>\n",
       "      <td>99</td>\n",
       "      <td>0</td>\n",
       "      <td>0</td>\n",
       "      <td>0</td>\n",
       "    </tr>\n",
       "    <tr>\n",
       "      <th>57136</th>\n",
       "      <td>4353017_21015_0_0.png</td>\n",
       "      <td>99</td>\n",
       "      <td>0</td>\n",
       "      <td>0</td>\n",
       "      <td>0</td>\n",
       "      <td>4353017_21016_0_0.png</td>\n",
       "      <td>99</td>\n",
       "      <td>0</td>\n",
       "      <td>0</td>\n",
       "      <td>0</td>\n",
       "    </tr>\n",
       "    <tr>\n",
       "      <th>54601</th>\n",
       "      <td>4203531_21015_0_0.png</td>\n",
       "      <td>99</td>\n",
       "      <td>0</td>\n",
       "      <td>0</td>\n",
       "      <td>0</td>\n",
       "      <td>4203531_21016_0_0.png</td>\n",
       "      <td>99</td>\n",
       "      <td>0</td>\n",
       "      <td>0</td>\n",
       "      <td>0</td>\n",
       "    </tr>\n",
       "    <tr>\n",
       "      <th>16329</th>\n",
       "      <td>1959581_21015_1_0.png</td>\n",
       "      <td>99</td>\n",
       "      <td>0</td>\n",
       "      <td>0</td>\n",
       "      <td>0</td>\n",
       "      <td>1959581_21016_1_0.png</td>\n",
       "      <td>99</td>\n",
       "      <td>0</td>\n",
       "      <td>0</td>\n",
       "      <td>0</td>\n",
       "    </tr>\n",
       "  </tbody>\n",
       "</table>\n",
       "</div>"
      ],
      "text/plain": [
       "                 filenames_L  GT523_L  GT19_L  GTi_L  GTu_L  \\\n",
       "4655   1270002_21015_1_0.png       99       0      0      0   \n",
       "56198  4297885_21015_0_0.png       99       0      0      0   \n",
       "57136  4353017_21015_0_0.png       99       0      0      0   \n",
       "54601  4203531_21015_0_0.png       99       0      0      0   \n",
       "16329  1959581_21015_1_0.png       99       0      0      0   \n",
       "\n",
       "                 filenames_R  GT523_R  GT19_R  GTi_R  GTu_R  \n",
       "4655   1270002_21016_1_0.png       99       0      0      0  \n",
       "56198  4297885_21016_0_0.png       99       0      0      0  \n",
       "57136  4353017_21016_0_0.png       99       0      0      0  \n",
       "54601  4203531_21016_0_0.png       99       0      0      0  \n",
       "16329  1959581_21016_1_0.png       99       0      0      0  "
      ]
     },
     "execution_count": 42,
     "metadata": {},
     "output_type": "execute_result"
    }
   ],
   "source": [
    "fundus_train.head()"
   ]
  },
  {
   "cell_type": "markdown",
   "metadata": {},
   "source": [
    "### Cropping and Resizing images and saving in another folder - LEFT /RIGHT , Train/Test/Validation\n",
    "# DONE !!"
   ]
  },
  {
   "cell_type": "code",
   "execution_count": 43,
   "metadata": {},
   "outputs": [],
   "source": [
    "# img_size = 250\n",
    "# sett = ['val','train','test']\n",
    "# fcols={0:'left',5:'right'}"
   ]
  },
  {
   "cell_type": "code",
   "execution_count": null,
   "metadata": {
    "scrolled": false
   },
   "outputs": [
    {
     "name": "stdout",
     "output_type": "stream",
     "text": [
      "0 : For val Image set.\n",
      "Destination path: /ds2/data/retina/UK_BB/patra/Fundus_images_250_CR/val/ \n",
      "\n",
      "\t Processing left fundus images:\n",
      "\n",
      "Image converted from 2D to 3D: 3454019_21015_1_0.png\n",
      "\t\t 16953 left val  images resized and stored \n",
      "\n",
      "\t Processing right fundus images:\n",
      "\n",
      "\t\t 16990 right val  images resized and stored \n",
      "\n",
      "1 : For train Image set.\n",
      "Destination path: /ds2/data/retina/UK_BB/patra/Fundus_images_250_CR/train/ \n",
      "\n",
      "\t Processing left fundus images:\n",
      "\n",
      "Image converted from 2D to 3D: 4485125_21015_1_0.png\n",
      "Image converted from 2D to 3D: 2949101_21015_1_0.png\n",
      "Image converted from 2D to 3D: 4216662_21015_1_0.png\n",
      "Image converted from 2D to 3D: 1484823_21015_1_0.png\n",
      "\t\t 50848 left train  images resized and stored \n",
      "\n",
      "\t Processing right fundus images:\n",
      "\n",
      "\t\t 50986 right train  images resized and stored \n",
      "\n",
      "2 : For test Image set.\n",
      "Destination path: /ds2/data/retina/UK_BB/patra/Fundus_images_250_CR/test/ \n",
      "\n",
      "\t Processing left fundus images:\n",
      "\n",
      "\t\t 16946 left test  images resized and stored \n",
      "\n",
      "\t Processing right fundus images:\n",
      "\n"
     ]
    }
   ],
   "source": [
    "# for n,s in enumerate(sett):\n",
    "#     print(n,\": For\", s, \"Image set.\")\n",
    "#     destpath = DATA_dir + 'Fundus_images_' + str(img_size) + '_CR/' + s + '/'\n",
    "#     print(\"Destination path:\", destpath,\"\\n\")\n",
    "#     curr_df = eval('fundus_' + s)\n",
    "#     L = len(curr_df)\n",
    "    \n",
    "#     for k in fcols.keys():\n",
    "#         print(\"\\t Processing\", fcols[k], \"fundus images:\\n\")\n",
    "        \n",
    "#         cnt = 0\n",
    "#         for i in range(L):\n",
    "#             img_f = curr_df[curr_df.columns[k]].iloc[i]\n",
    "#             if(os.path.isfile(srcpath + img_f)):\n",
    "#                 image = imageio.imread(srcpath+ img_f)\n",
    "#                 if(len(image.shape)!=3):\n",
    "#                     image = np.repeat(image[:, :, np.newaxis], 3, axis=2)   \n",
    "#                     print(\"Image converted from 2D to 3D:\",img_f)\n",
    "#                 ROI = get_ROI(image)\n",
    "#                 imResize = cv2.resize(ROI, dsize=(img_size, img_size))\n",
    "#                 matplotlib.image.imsave(destpath + img_f, imResize)\n",
    "#                 cnt+=1\n",
    "    \n",
    "#         print(\"\\t\\t\",cnt, fcols[k], s, \" images resized and stored \\n\")"
   ]
  },
  {
   "cell_type": "code",
   "execution_count": 34,
   "metadata": {},
   "outputs": [],
   "source": []
  },
  {
   "cell_type": "code",
   "execution_count": null,
   "metadata": {},
   "outputs": [],
   "source": []
  },
  {
   "cell_type": "code",
   "execution_count": null,
   "metadata": {},
   "outputs": [],
   "source": []
  },
  {
   "cell_type": "code",
   "execution_count": 26,
   "metadata": {},
   "outputs": [],
   "source": []
  },
  {
   "cell_type": "code",
   "execution_count": 39,
   "metadata": {},
   "outputs": [],
   "source": []
  },
  {
   "cell_type": "code",
   "execution_count": null,
   "metadata": {},
   "outputs": [],
   "source": []
  },
  {
   "cell_type": "code",
   "execution_count": null,
   "metadata": {},
   "outputs": [],
   "source": []
  },
  {
   "cell_type": "code",
   "execution_count": null,
   "metadata": {},
   "outputs": [],
   "source": []
  },
  {
   "cell_type": "code",
   "execution_count": null,
   "metadata": {},
   "outputs": [],
   "source": []
  },
  {
   "cell_type": "code",
   "execution_count": null,
   "metadata": {},
   "outputs": [],
   "source": []
  },
  {
   "cell_type": "code",
   "execution_count": null,
   "metadata": {},
   "outputs": [],
   "source": []
  },
  {
   "cell_type": "code",
   "execution_count": null,
   "metadata": {},
   "outputs": [],
   "source": []
  },
  {
   "cell_type": "code",
   "execution_count": null,
   "metadata": {},
   "outputs": [],
   "source": []
  },
  {
   "cell_type": "code",
   "execution_count": null,
   "metadata": {},
   "outputs": [],
   "source": []
  },
  {
   "cell_type": "code",
   "execution_count": null,
   "metadata": {},
   "outputs": [],
   "source": []
  },
  {
   "cell_type": "code",
   "execution_count": null,
   "metadata": {},
   "outputs": [],
   "source": []
  },
  {
   "cell_type": "code",
   "execution_count": null,
   "metadata": {},
   "outputs": [],
   "source": []
  },
  {
   "cell_type": "code",
   "execution_count": null,
   "metadata": {},
   "outputs": [],
   "source": []
  },
  {
   "cell_type": "code",
   "execution_count": null,
   "metadata": {},
   "outputs": [],
   "source": []
  },
  {
   "cell_type": "code",
   "execution_count": null,
   "metadata": {},
   "outputs": [],
   "source": []
  },
  {
   "cell_type": "code",
   "execution_count": null,
   "metadata": {},
   "outputs": [],
   "source": []
  },
  {
   "cell_type": "code",
   "execution_count": null,
   "metadata": {},
   "outputs": [],
   "source": []
  },
  {
   "cell_type": "code",
   "execution_count": null,
   "metadata": {},
   "outputs": [],
   "source": []
  },
  {
   "cell_type": "code",
   "execution_count": null,
   "metadata": {},
   "outputs": [],
   "source": []
  },
  {
   "cell_type": "code",
   "execution_count": null,
   "metadata": {},
   "outputs": [],
   "source": []
  },
  {
   "cell_type": "code",
   "execution_count": null,
   "metadata": {},
   "outputs": [],
   "source": []
  },
  {
   "cell_type": "code",
   "execution_count": null,
   "metadata": {},
   "outputs": [],
   "source": []
  },
  {
   "cell_type": "markdown",
   "metadata": {},
   "source": [
    "# WASTE"
   ]
  },
  {
   "cell_type": "code",
   "execution_count": 67,
   "metadata": {},
   "outputs": [
    {
     "name": "stdout",
     "output_type": "stream",
     "text": [
      "0 : For train Image set.\n",
      "Destination path: /ds2/data/retina/UK_BB/patra/Fundus_image_array250/train/ \n",
      "\n",
      "\t 0 a. Processing left fundus images:\n",
      "\n",
      "\t 51438 left train  images resized and stored \n",
      "\n",
      "\t 0 a. Processing right fundus images:\n",
      "\n",
      "\t 51438 right train  images resized and stored \n",
      "\n",
      "1 : For test Image set.\n",
      "Destination path: /ds2/data/retina/UK_BB/patra/Fundus_image_array250/test/ \n",
      "\n",
      "\t 1 a. Processing left fundus images:\n",
      "\n",
      "\t 17146 left test  images resized and stored \n",
      "\n",
      "\t 1 a. Processing right fundus images:\n",
      "\n",
      "\t 17146 right test  images resized and stored \n",
      "\n",
      "2 : For val Image set.\n",
      "Destination path: /ds2/data/retina/UK_BB/patra/Fundus_image_array250/val/ \n",
      "\n",
      "\t 2 a. Processing left fundus images:\n",
      "\n",
      "\t 17146 left val  images resized and stored \n",
      "\n",
      "\t 2 a. Processing right fundus images:\n",
      "\n",
      "\t 17146 right val  images resized and stored \n",
      "\n"
     ]
    }
   ],
   "source": [
    "# for n,s in enumerate(sett):\n",
    "#     print(n,\": For\", s, \"Image set.\")\n",
    "#     destpath = DATA_dir + 'Fundus_image_array' + str(img_size) + '/' + s + '/'\n",
    "#     print(\"Destination path:\", destpath,\"\\n\")\n",
    "#     curr_df = eval('fundus_' + s)\n",
    "#     L = len(curr_df)\n",
    "    \n",
    "#     for k in fcols.keys():\n",
    "#         print(\"\\t\",n,\"a. Processing\", fcols[k], \"fundus images:\\n\")\n",
    "        \n",
    "#         cnt = 0\n",
    "#         for i in range(L):\n",
    "#             img_f = curr_df[curr_df.columns[k]].iloc[i]\n",
    "#             if(os.path.isfile(srcpath + img_f)):\n",
    "#                 im = Image.open(srcpath + img_f)\n",
    "#                 imResize = im.resize((img_size,img_size), Image.ANTIALIAS)\n",
    "#                 imResize.save(destpath + img_f, 'PNG', quality=90)\n",
    "#             cnt+=1\n",
    "    \n",
    "#         print(\"\\t\",cnt, fcols[k], s, \" images resized and stored \\n\")"
   ]
  },
  {
   "cell_type": "markdown",
   "metadata": {},
   "source": [
    "### Creation of Custom Generator - to load the dataset from the hard disk in batches to memory.\n",
    "https://medium.com/@mrgarg.rajat/training-on-large-datasets-that-dont-fit-in-memory-in-keras-60a974785d71"
   ]
  },
  {
   "cell_type": "markdown",
   "metadata": {},
   "source": [
    "## Saving Image array as h5py File type"
   ]
  },
  {
   "cell_type": "code",
   "execution_count": 64,
   "metadata": {},
   "outputs": [
    {
     "data": {
      "text/plain": [
       "'/ds2/data/retina/UK_BB/patra/Fundus_image_array250/'"
      ]
     },
     "execution_count": 64,
     "metadata": {},
     "output_type": "execute_result"
    }
   ],
   "source": [
    "import h5py\n",
    "f_arr_path = DATA_dir+'Fundus_image_array'+str(img_size)+\"/\"\n",
    "f_arr_path"
   ]
  },
  {
   "cell_type": "code",
   "execution_count": 66,
   "metadata": {
    "scrolled": true
   },
   "outputs": [
    {
     "data": {
      "text/plain": [
       "<HDF5 dataset \"right_imgs\": shape (85730, 250, 250, 3), type \"<f4\">"
      ]
     },
     "execution_count": 66,
     "metadata": {},
     "output_type": "execute_result"
    }
   ],
   "source": [
    "arrshape = (len(fundus_df), img_size, img_size, 3)\n",
    "hdf5_path = f_arr_path+'fdata.hdf5'\n",
    "\n",
    "hdf5_file = h5py.File(hdf5_path, mode='w')\n",
    "hdf5_file.create_dataset(\"left_imgs\", arrshape)\n",
    "hdf5_file.create_dataset(\"right_imgs\", arrshape)"
   ]
  },
  {
   "cell_type": "code",
   "execution_count": 67,
   "metadata": {},
   "outputs": [
    {
     "name": "stdout",
     "output_type": "stream",
     "text": [
      "Progress: [####################] 100.0%\n",
      "All images precessed and saved to hdf5_file\n"
     ]
    }
   ],
   "source": [
    "empty_arr = np.zeros((img_size,img_size,3))\n",
    "fdl = len(fundus_df)\n",
    "for i in range(len(fundus_df)):\n",
    "    # LEFT\n",
    "    \n",
    "    # image name\n",
    "    imgL = get_img_name(i,df_fundus_left)\n",
    "\n",
    "    # if such file exists, convert to normalized array format and save it\n",
    "    if(os.path.isfile(srcpath + imgL)):\n",
    "        imgL = srcpath + imgL\n",
    "        arrL = img2arr(imgL,img_size)\n",
    "        # save image array\n",
    "        hdf5_file[\"left_imgs\"][i, ...] = arrL[None]\n",
    "    else:\n",
    "        hdf5_file[\"left_imgs\"][i, ...] = empty_arr[None]\n",
    "        \n",
    "    \n",
    "    # RIGHT\n",
    "    \n",
    "    # image name\n",
    "    imgR = get_img_name(i,df_fundus_right)\n",
    "\n",
    "    # if such file exists, convert to normalized array format and save it\n",
    "    if(os.path.isfile(srcpath + imgR)):\n",
    "        imgR = srcpath + imgR\n",
    "        arrR = img2arr(imgR,img_size)\n",
    "        # save image array\n",
    "        hdf5_file[\"right_imgs\"][i, ...] = arrR[None]\n",
    "    else:\n",
    "        hdf5_file[\"right_imgs\"][i, ...] = empty_arr[None]\n",
    "    \n",
    "    update_progress(i / fdl)\n",
    "        \n",
    "print(\"All images precessed and saved to hdf5_file\")\n",
    "hdf5_file.close()"
   ]
  },
  {
   "cell_type": "markdown",
   "metadata": {},
   "source": [
    "### READING FILE"
   ]
  },
  {
   "cell_type": "code",
   "execution_count": 68,
   "metadata": {},
   "outputs": [
    {
     "name": "stdout",
     "output_type": "stream",
     "text": [
      "CPU times: user 0 ns, sys: 7.44 s, total: 7.44 s\n",
      "Wall time: 7.46 s\n"
     ]
    }
   ],
   "source": [
    "%time hdf5_file = h5py.File(hdf5_path,mode='r')\n",
    "fundL = hdf5_file[\"left_imgs\"].shape[0]\n",
    "fundR = hdf5_file[\"right_imgs\"].shape[0]\n",
    "hdf5_file.close()\n",
    "\n"
   ]
  },
  {
   "cell_type": "code",
   "execution_count": 69,
   "metadata": {},
   "outputs": [
    {
     "name": "stdout",
     "output_type": "stream",
     "text": [
      "85730 85730\n"
     ]
    }
   ],
   "source": [
    "print(fundL, fundR)"
   ]
  },
  {
   "cell_type": "code",
   "execution_count": null,
   "metadata": {},
   "outputs": [],
   "source": [
    "# resizing all images into array and saving array to memory at a time will not work\n",
    "# as it is huge"
   ]
  },
  {
   "cell_type": "markdown",
   "metadata": {},
   "source": [
    "## For 17 patients said 'dont know' - diagnosed to have glaucoma as per icd10 -- DONE"
   ]
  },
  {
   "cell_type": "code",
   "execution_count": null,
   "metadata": {},
   "outputs": [],
   "source": [
    "# # Copy these 17 pictures and view\n",
    "# src = '/ds2/data/retina/UK_BB/UK_BB_DATA/fundus/'\n",
    "# dest = '/ds2/data/retina/UK_BB/patra/dont_know_glauicd10/'\n",
    "\n",
    "# for patient in dont_know_glauicd10:\n",
    "#     left = get_img_name(patient,df_fundus_left)\n",
    "#     right = get_img_name(patient,df_fundus_right)\n",
    "    \n",
    "#     shutil.copy2(src+left, dest)\n",
    "#     shutil.copy2(src+right, dest)\n"
   ]
  },
  {
   "cell_type": "markdown",
   "metadata": {},
   "source": [
    "## For NO Glaucoma in both 100523 and icd10 -  extract fundus images"
   ]
  },
  {
   "cell_type": "markdown",
   "metadata": {},
   "source": [
    "### Loading saved lists"
   ]
  },
  {
   "cell_type": "code",
   "execution_count": 41,
   "metadata": {},
   "outputs": [],
   "source": [
    "# with open(DATA_dir+'no_glaucoma_pid.pkl', 'rb') as f:\n",
    "#     ngl_img_list_pid = pickle.load(f)\n",
    "\n",
    "# with open(DATA_dir+'no_glaucoma_imgnames.pkl', 'rb') as f:\n",
    "#     ngl_img_list = pickle.load(f)"
   ]
  },
  {
   "cell_type": "markdown",
   "metadata": {},
   "source": [
    "### Some of the non glaucoma images are copied to a separate folder for viewing."
   ]
  },
  {
   "cell_type": "code",
   "execution_count": 9,
   "metadata": {},
   "outputs": [
    {
     "name": "stdout",
     "output_type": "stream",
     "text": [
      "7200 Glaucoma images of patients copied successfully\n"
     ]
    }
   ],
   "source": [
    "# '''\n",
    "# No glaucoma Patients \n",
    "# '''\n",
    "# # Copy the respective images to a separate folder for viewing\n",
    "# ng_error_files = []\n",
    "\n",
    "# cnt = 0 # To keep a count of how many files copied successfully\n",
    "# if (os.path.isdir(srcpath) and os.path.isdir(ng_destpath)):\n",
    "#     for i in range(len(ngl_img_list)):\n",
    "#         if(os.path.isfile(srcpath+ngl_img_list[i])):\n",
    "#             shutil.copy2(srcpath+ngl_img_list[i], ng_destpath)\n",
    "#             cnt +=1\n",
    "#         else:\n",
    "# #             print(\"File error\",ngl_img_list[i])\n",
    "#             ng_error_files.append(ngl_img_list[i])\n",
    "\n",
    "# print(cnt, \"Glaucoma images of patients copied successfully\")\n"
   ]
  },
  {
   "cell_type": "markdown",
   "metadata": {},
   "source": [
    "## For Glaucoma in both 100523 and icd10 -  extract fundus images"
   ]
  },
  {
   "cell_type": "markdown",
   "metadata": {},
   "source": [
    "### Loading saved lists"
   ]
  },
  {
   "cell_type": "code",
   "execution_count": 42,
   "metadata": {},
   "outputs": [],
   "source": [
    "# with open(DATA_dir+'glaucoma_pid.pkl', 'rb') as f:\n",
    "#     gl_img_list_pid = pickle.load(f)\n",
    "\n",
    "# with open(DATA_dir+'glaucoma_imgnames.pkl', 'rb') as f:\n",
    "#     gl_img_list = pickle.load(f)"
   ]
  },
  {
   "cell_type": "markdown",
   "metadata": {},
   "source": [
    "### Patients who didn't select which eye is affected"
   ]
  },
  {
   "cell_type": "code",
   "execution_count": null,
   "metadata": {},
   "outputs": [],
   "source": [
    "\n",
    "# # Copying these 4 patients manually to view/analyse\n",
    "# src = '/ds2/data/retina/UK_BB/UK_BB_DATA/fundus/'\n",
    "# dest = '/ds2/data/retina/UK_BB/patra/glau_eye_dont_know/'\n",
    "\n",
    "## Patient 3275\n",
    "# shutil.copy2(src+'1192198_21015_1_0.png', dest)\n",
    "# shutil.copy2(src+'1192198_21016_1_0.png', dest)\n",
    "\n",
    "## Patient 19671\n",
    "# shutil.copy2(src+'2156326_21015_1_0.png', dest)\n",
    "# shutil.copy2(src+'2156326_21016_1_0.png', dest)\n",
    "\n",
    "## Patient 34984\n",
    "# shutil.copy2(src+'3056634_21015_1_0.png', dest)\n",
    "# shutil.copy2(src+'3056634_21016_1_0.png', dest)\n",
    "\n",
    "## Patient 57552\n",
    "# shutil.copy2(src+'4378063_21015_1_0.png', dest)\n",
    "# shutil.copy2(src+'4378063_21016_1_0.png', dest)\n"
   ]
  },
  {
   "cell_type": "markdown",
   "metadata": {},
   "source": [
    "### Patients having Glaucoma as per both 100523 and icd10"
   ]
  },
  {
   "cell_type": "code",
   "execution_count": null,
   "metadata": {},
   "outputs": [],
   "source": [
    "# # Copy the respective images to a separate folder for viewing\n",
    "# error_files = []\n",
    "\n",
    "# cnt = 0 # To keep a count of how many files copied successfully\n",
    "# if (os.path.isdir(srcpath) and os.path.isdir(g_destpath)):\n",
    "#     for i in range(len(gl_img_list)):\n",
    "#         if(os.path.isfile(srcpath+gl_img_list[i])):\n",
    "#             shutil.copy2(srcpath+gl_img_list[i], g_destpath)\n",
    "#             cnt +=1\n",
    "#         else:\n",
    "# #             print(\"File error\",gl_img_list[i])\n",
    "#             error_files.append(gl_img_list[i])\n",
    "\n",
    "# print(cnt, \"Glaucoma images of patients copied successfully\")"
   ]
  },
  {
   "cell_type": "markdown",
   "metadata": {},
   "source": [
    "**Missing files** from the database, hence cannot be copied:\n",
    "\n",
    "6013940_21016_1_0.png , 6019904_21016_0_0.png , 6021910_21016_1_0.png"
   ]
  },
  {
   "cell_type": "markdown",
   "metadata": {},
   "source": [
    "## Image data into arrays"
   ]
  },
  {
   "cell_type": "code",
   "execution_count": 3,
   "metadata": {},
   "outputs": [],
   "source": [
    "# print(\"Glaucoma patient images:\",len(gl_img_list),\"\\nHealthy patient images:\",len(ngl_img_list))"
   ]
  },
  {
   "cell_type": "code",
   "execution_count": 10,
   "metadata": {},
   "outputs": [],
   "source": [
    "# glau_Images  = []\n",
    "# noglau_Images = []\n",
    "\n",
    "# for img in g_destpath:\n",
    "#     img_arr = cv2.imread(img)\n",
    "#     break"
   ]
  },
  {
   "cell_type": "code",
   "execution_count": 44,
   "metadata": {
    "scrolled": true
   },
   "outputs": [
    {
     "name": "stdout",
     "output_type": "stream",
     "text": [
      "No of Glaucoma images resized: 1079\n"
     ]
    }
   ],
   "source": [
    "# import cv2\n",
    "# img_size = 224 # resizing images to this size\n",
    "# glau_Images  = []\n",
    "# cnt = 0\n",
    "# for i in range(len(gl_img_list)):\n",
    "#     if(os.path.isfile(g_destpath+gl_img_list[i])):\n",
    "#         imgarr = cv2.imread(g_destpath+gl_img_list[i])\n",
    "#         imgarr = cv2.resize(imgarr,(img_size,img_size))\n",
    "#         glau_Images.append(imgarr)\n",
    "#         cnt+=1\n",
    "#     else:\n",
    "#         print(i, gl_img_list[i])\n",
    "# glau_Images_arr = np.array(glau_Images)\n",
    "# print(\"No. of Glaucoma images resized:\",cnt)    "
   ]
  },
  {
   "cell_type": "code",
   "execution_count": 57,
   "metadata": {},
   "outputs": [
    {
     "name": "stdout",
     "output_type": "stream",
     "text": [
      "Progress: [####################] 100.0%\n",
      "No of Glaucoma images resized: 165299\n"
     ]
    }
   ],
   "source": [
    "# noglau_Images = []\n",
    "# ngcnt = 0\n",
    "# ngl_len = len(ngl_img_list)\n",
    "# for i in range(ngl_len):\n",
    "#     if(os.path.isfile(srcpath+ngl_img_list[i])):\n",
    "#         ngimgarr = cv2.imread(srcpath+ngl_img_list[i])\n",
    "#         ngimgarr = cv2.resize(ngimgarr,(img_size,img_size))\n",
    "#         noglau_Images.append(ngimgarr)\n",
    "#         ngcnt+=1\n",
    "#     else:\n",
    "#         print(i, ngl_img_list[i])\n",
    "    \n",
    "#     update_progress(i / ngl_len)\n",
    "    \n",
    "# noglau_Images_arr = np.array(noglau_Images)\n",
    "# print(\"No of Glaucoma images resized:\",ngcnt)   "
   ]
  },
  {
   "cell_type": "markdown",
   "metadata": {},
   "source": [
    "### Saving Image arrays in pickle files for faster access"
   ]
  },
  {
   "cell_type": "code",
   "execution_count": 59,
   "metadata": {},
   "outputs": [
    {
     "data": {
      "text/plain": [
       "((1079, 224, 224, 3), (165299, 224, 224, 3))"
      ]
     },
     "execution_count": 59,
     "metadata": {},
     "output_type": "execute_result"
    }
   ],
   "source": [
    "# glau_Images_arr.shape, noglau_Images_arr.shape"
   ]
  },
  {
   "cell_type": "code",
   "execution_count": 61,
   "metadata": {},
   "outputs": [],
   "source": [
    "# np.save(DATA_dir+str(img_size)+\"_glau_Images.npy\", glau_Images_arr)\n",
    "# np.save(DATA_dir+str(img_size)+\"_noglau_Images.npy\", noglau_Images_arr)"
   ]
  },
  {
   "cell_type": "code",
   "execution_count": null,
   "metadata": {},
   "outputs": [],
   "source": []
  }
 ],
 "metadata": {
  "kernelspec": {
   "display_name": "Python 2020",
   "language": "python",
   "name": "python2020"
  },
  "language_info": {
   "codemirror_mode": {
    "name": "ipython",
    "version": 3
   },
   "file_extension": ".py",
   "mimetype": "text/x-python",
   "name": "python",
   "nbconvert_exporter": "python",
   "pygments_lexer": "ipython3",
   "version": "3.7.5"
  }
 },
 "nbformat": 4,
 "nbformat_minor": 2
}
