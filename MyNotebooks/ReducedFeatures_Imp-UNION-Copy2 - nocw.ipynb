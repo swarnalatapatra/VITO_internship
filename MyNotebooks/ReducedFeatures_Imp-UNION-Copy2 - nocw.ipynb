{
 "cells": [
  {
   "cell_type": "code",
   "execution_count": 1,
   "metadata": {
    "scrolled": false
   },
   "outputs": [
    {
     "name": "stdout",
     "output_type": "stream",
     "text": [
      "2020-01-07 21:46:06.507968\n",
      "\u001b[1m\u001b[37mthunder\u001b[m  Tue Jan  7 21:46:06 2020\n",
      "\u001b[36m[0]\u001b[m \u001b[34mGeForce GTX 1080 Ti\u001b[m |\u001b[31m 39'C\u001b[m, \u001b[32m  0 %\u001b[m | \u001b[36m\u001b[1m\u001b[33m10895\u001b[m / \u001b[33m11178\u001b[m MB | \u001b[1m\u001b[30mpatra\u001b[m(\u001b[33m10885M\u001b[m)\n",
      "\u001b[36m[1]\u001b[m \u001b[34mGeForce GTX 1080 Ti\u001b[m |\u001b[31m 25'C\u001b[m, \u001b[32m  0 %\u001b[m | \u001b[36m\u001b[1m\u001b[33m   10\u001b[m / \u001b[33m11178\u001b[m MB |\n",
      "\u001b[36m[2]\u001b[m \u001b[34mGeForce GTX 1080 Ti\u001b[m |\u001b[31m 26'C\u001b[m, \u001b[32m  0 %\u001b[m | \u001b[36m\u001b[1m\u001b[33m   10\u001b[m / \u001b[33m11178\u001b[m MB |\n",
      "\u001b[36m[3]\u001b[m \u001b[34mGeForce GTX 1080 Ti\u001b[m |\u001b[31m 24'C\u001b[m, \u001b[32m  0 %\u001b[m | \u001b[36m\u001b[1m\u001b[33m   10\u001b[m / \u001b[33m11178\u001b[m MB |\n",
      "\u001b[36m[4]\u001b[m \u001b[34mGeForce GTX 1080 Ti\u001b[m |\u001b[31m 23'C\u001b[m, \u001b[32m  0 %\u001b[m | \u001b[36m\u001b[1m\u001b[33m   10\u001b[m / \u001b[33m11178\u001b[m MB |\n",
      "\u001b[36m[5]\u001b[m \u001b[34mGeForce GTX 1080 Ti\u001b[m |\u001b[31m 26'C\u001b[m, \u001b[32m  0 %\u001b[m | \u001b[36m\u001b[1m\u001b[33m   10\u001b[m / \u001b[33m11178\u001b[m MB |\n",
      "\u001b[36m[6]\u001b[m \u001b[34mGeForce GTX 1080 Ti\u001b[m |\u001b[31m 29'C\u001b[m, \u001b[32m  0 %\u001b[m | \u001b[36m\u001b[1m\u001b[33m   10\u001b[m / \u001b[33m11178\u001b[m MB |\n",
      "\u001b[36m[7]\u001b[m \u001b[34mGeForce GTX 1080 Ti\u001b[m |\u001b[31m 27'C\u001b[m, \u001b[32m  0 %\u001b[m | \u001b[36m\u001b[1m\u001b[33m   10\u001b[m / \u001b[33m11178\u001b[m MB |\n"
     ]
    },
    {
     "name": "stderr",
     "output_type": "stream",
     "text": [
      "/ds/environments/python2020/lib/python3.7/site-packages/sklearn/externals/joblib/__init__.py:15: DeprecationWarning: sklearn.externals.joblib is deprecated in 0.21 and will be removed in 0.23. Please import this functionality directly from joblib, which can be installed with: pip install joblib. If this warning is raised when loading pickled models, you may need to re-serialize those models with scikit-learn 0.21+.\n",
      "  warnings.warn(msg, category=DeprecationWarning)\n",
      "Using TensorFlow backend.\n",
      "/ds/environments/python2020/lib/python3.7/site-packages/keras/callbacks/callbacks.py:19: DeprecationWarning: Using or importing the ABCs from 'collections' instead of from 'collections.abc' is deprecated since Python 3.3,and in 3.9 it will stop working\n",
      "  from collections import Iterable\n"
     ]
    },
    {
     "name": "stdout",
     "output_type": "stream",
     "text": [
      "Dataset consist of 85730 patients data with 6251 features for each patient\n",
      "Function definitions executed\n",
      "Definitions DONE !!\n",
      "\n"
     ]
    }
   ],
   "source": [
    "%run ./Definitions.ipynb"
   ]
  },
  {
   "cell_type": "code",
   "execution_count": 2,
   "metadata": {
    "scrolled": true
   },
   "outputs": [
    {
     "name": "stdout",
     "output_type": "stream",
     "text": [
      "Tue Jan  7 21:46:20 2020       \n",
      "+-----------------------------------------------------------------------------+\n",
      "| NVIDIA-SMI 418.87.01    Driver Version: 418.87.01    CUDA Version: 10.1     |\n",
      "|-------------------------------+----------------------+----------------------+\n",
      "| GPU  Name        Persistence-M| Bus-Id        Disp.A | Volatile Uncorr. ECC |\n",
      "| Fan  Temp  Perf  Pwr:Usage/Cap|         Memory-Usage | GPU-Util  Compute M. |\n",
      "|===============================+======================+======================|\n",
      "|   0  GeForce GTX 108...  Off  | 00000000:04:00.0 Off |                  N/A |\n",
      "| 29%   39C    P2    56W / 250W |  10895MiB / 11178MiB |      0%      Default |\n",
      "+-------------------------------+----------------------+----------------------+\n",
      "|   1  GeForce GTX 108...  Off  | 00000000:06:00.0 Off |                  N/A |\n",
      "| 29%   25C    P8     7W / 250W |     10MiB / 11178MiB |      0%      Default |\n",
      "+-------------------------------+----------------------+----------------------+\n",
      "|   2  GeForce GTX 108...  Off  | 00000000:07:00.0 Off |                  N/A |\n",
      "| 29%   26C    P8     7W / 250W |     10MiB / 11178MiB |      0%      Default |\n",
      "+-------------------------------+----------------------+----------------------+\n",
      "|   3  GeForce GTX 108...  Off  | 00000000:08:00.0 Off |                  N/A |\n",
      "| 29%   25C    P8     8W / 250W |     10MiB / 11178MiB |      0%      Default |\n",
      "+-------------------------------+----------------------+----------------------+\n",
      "|   4  GeForce GTX 108...  Off  | 00000000:0C:00.0 Off |                  N/A |\n",
      "| 29%   23C    P8     8W / 250W |     10MiB / 11178MiB |      0%      Default |\n",
      "+-------------------------------+----------------------+----------------------+\n",
      "|   5  GeForce GTX 108...  Off  | 00000000:0D:00.0 Off |                  N/A |\n",
      "| 29%   26C    P8     9W / 250W |     10MiB / 11178MiB |      0%      Default |\n",
      "+-------------------------------+----------------------+----------------------+\n",
      "|   6  GeForce GTX 108...  Off  | 00000000:0E:00.0 Off |                  N/A |\n",
      "| 29%   29C    P8     7W / 250W |     10MiB / 11178MiB |      0%      Default |\n",
      "+-------------------------------+----------------------+----------------------+\n",
      "|   7  GeForce GTX 108...  Off  | 00000000:0F:00.0 Off |                  N/A |\n",
      "| 29%   27C    P8     8W / 250W |     10MiB / 11178MiB |      0%      Default |\n",
      "+-------------------------------+----------------------+----------------------+\n",
      "                                                                               \n",
      "+-----------------------------------------------------------------------------+\n",
      "| Processes:                                                       GPU Memory |\n",
      "|  GPU       PID   Type   Process name                             Usage      |\n",
      "|=============================================================================|\n",
      "|    0     11468      C   /ds/environments/python2020/bin/python     10885MiB |\n",
      "+-----------------------------------------------------------------------------+\n"
     ]
    }
   ],
   "source": [
    "!nvidia-smi\n",
    "import os\n",
    "\n",
    "os.environ[\"CUDA_DEVICE_ORDER\"] = \"PCI_BUS_ID\"   # so the IDs match nvidia-smi\n",
    "os.environ[\"CUDA_VISIBLE_DEVICES\"] = \"1\"   # choose here your GPU (0-7)\n",
    "\n",
    "import tensorflow as tf\n",
    "import tensorflow.compat.v1 as tf\n",
    "import keras\n",
    "# from keras import backend as K\n",
    "import tensorflow.python.keras.backend as K\n"
   ]
  },
  {
   "cell_type": "markdown",
   "metadata": {},
   "source": [
    "## Loading train data to use in Random Forest - union ground truth"
   ]
  },
  {
   "cell_type": "code",
   "execution_count": 11,
   "metadata": {},
   "outputs": [],
   "source": [
    "tts_path = DATA_dir+'TrainTestVal/'\n",
    "enc_df = pd.read_pickle(DATA_dir + 'enc_df.pkl')\n",
    "y_train_df = pd.read_pickle(tts_path + 'yu_train.pkl')\n",
    "y_val_df = pd.read_pickle(tts_path + 'yu_val.pkl')\n",
    "y_test_df = pd.read_pickle(tts_path + 'yu_test.pkl')"
   ]
  },
  {
   "cell_type": "markdown",
   "metadata": {},
   "source": [
    "#### Converting the labels to list and assign 0 label to non glaucoma (2 or 3 mismatch)"
   ]
  },
  {
   "cell_type": "code",
   "execution_count": 12,
   "metadata": {},
   "outputs": [],
   "source": [
    "y_train = y_train_df['ClassLabel'].tolist()\n",
    "y_val = y_val_df['ClassLabel'].tolist()\n",
    "y_test = y_test_df['ClassLabel'].tolist()\n",
    "\n",
    "for i in range(len(y_train)):\n",
    "    if(y_train[i] != 0):\n",
    "        y_train[i] = 1\n",
    "        \n",
    "for i in range(len(y_val)):\n",
    "    if(y_val[i] != 0):\n",
    "        y_val[i] = 1\n",
    "\n",
    "for i in range(len(y_test)):\n",
    "    if(y_test[i] != 0):\n",
    "        y_test[i] = 1"
   ]
  },
  {
   "cell_type": "code",
   "execution_count": 13,
   "metadata": {},
   "outputs": [],
   "source": [
    "indices_train = np.load(tts_path + 'indices_train.npy')\n",
    "indices_val = np.load(tts_path + 'indices_val.npy')\n",
    "indices_test = np.load(tts_path + 'indices_test.npy')"
   ]
  },
  {
   "cell_type": "code",
   "execution_count": 14,
   "metadata": {},
   "outputs": [
    {
     "data": {
      "text/plain": [
       "((85730, 6251), 51438, 17146)"
      ]
     },
     "execution_count": 14,
     "metadata": {},
     "output_type": "execute_result"
    }
   ],
   "source": [
    "enc_df.shape, len(y_train), len(y_val)"
   ]
  },
  {
   "cell_type": "markdown",
   "metadata": {},
   "source": [
    "## Class Distribution"
   ]
  },
  {
   "cell_type": "markdown",
   "metadata": {},
   "source": [
    "#### No. of Glaucoma and non Glaucoma patients in training set"
   ]
  },
  {
   "cell_type": "code",
   "execution_count": 7,
   "metadata": {},
   "outputs": [
    {
     "name": "stdout",
     "output_type": "stream",
     "text": [
      "No. of Glaucoma patients in training set: 1358\n",
      "No. of non-Glaucoma patients in training set: 50080\n"
     ]
    }
   ],
   "source": [
    "n_NG = 0\n",
    "n_G = 0\n",
    "\n",
    "for i in range(len(y_train)):\n",
    "    if(y_train[i] == 1):\n",
    "        n_G += 1\n",
    "    else:\n",
    "        n_NG += 1\n",
    "        \n",
    "print(\"No. of Glaucoma patients in training set:\",n_G)\n",
    "print(\"No. of non-Glaucoma patients in training set:\",n_NG)"
   ]
  },
  {
   "cell_type": "code",
   "execution_count": 8,
   "metadata": {},
   "outputs": [
    {
     "data": {
      "image/png": "[encoded data removed]",
      "text/plain": [
       "<Figure size 432x288 with 1 Axes>"
      ]
     },
     "metadata": {
      "needs_background": "light"
     },
     "output_type": "display_data"
    }
   ],
   "source": [
    "import seaborn as sns\n",
    "\n",
    "class_name = ['Non-Glaucoma', 'Glaucoma']\n",
    "count = [n_NG, n_G]\n",
    "# plt.bar(class_name, count)\n",
    "sns.barplot(x=class_name, y=count, linewidth=2.5, errcolor=\".2\", edgecolor=\".2\")\n",
    "plt.xlabel('Class', fontsize=15)\n",
    "plt.ylabel('Number of patients', fontsize=15)\n",
    "plt.title('Class distribution')\n",
    "plt.show()"
   ]
  },
  {
   "cell_type": "markdown",
   "metadata": {},
   "source": [
    "## Assigning class weight for imbalance data set to use in Random forest classifier"
   ]
  },
  {
   "cell_type": "code",
   "execution_count": 52,
   "metadata": {},
   "outputs": [],
   "source": [
    "class_weight = dict({0:1, 1:35})"
   ]
  },
  {
   "cell_type": "markdown",
   "metadata": {},
   "source": [
    "## Feature Reduction and Saving Dataframe with reduced features"
   ]
  },
  {
   "cell_type": "code",
   "execution_count": 10,
   "metadata": {},
   "outputs": [],
   "source": [
    "# cols2rem = ['87-','92-','135-','2227-','4689-','5181-','5326-','5327-','5945-','6119-','6148-','20002-','20008-','20009-','20010-','20011','20013-',\n",
    "#             '20014-','40001-','40002-','41078-','41080-','41082-','41083-','41084-','41096-','41101-','41142-','41202-','41204-',\n",
    "#             '41200-','41210-']\n",
    "\n",
    "# # len(cols2rem) # 13\n",
    "# remove_df  = enc_df.loc[:,enc_df.columns.str.startswith(cols2rem[0])]\n",
    "# for i in range(1,len(cols2rem)):\n",
    "#     remove_df = remove_df.join(enc_df.loc[:,enc_df.columns.str.startswith(cols2rem[i])])\n",
    "    \n",
    "# new_enc_df = enc_df.drop(remove_df.columns, axis=1)\n",
    "# new_enc_df.shape"
   ]
  },
  {
   "cell_type": "markdown",
   "metadata": {},
   "source": [
    "### Spliting new_enc_df to train test val as per the indices"
   ]
  },
  {
   "cell_type": "code",
   "execution_count": 11,
   "metadata": {},
   "outputs": [],
   "source": [
    "# meta_train = []\n",
    "# meta_val = []\n",
    "# meta_test = []\n",
    "\n",
    "# for i in range(len(indices_train)):\n",
    "#     meta_train.append(new_enc_df.iloc[indices_train[i]])\n",
    "    \n",
    "# for i in range(len(indices_val)):\n",
    "#     meta_val.append(new_enc_df.iloc[indices_val[i]])\n",
    "#     meta_test.append(new_enc_df.iloc[indices_test[i]])\n",
    "\n",
    "# meta_train_arr = np.asarray(meta_train)\n",
    "# meta_val_arr = np.asarray(meta_val)\n",
    "# meta_test_arr = np.asarray(meta_test)\n",
    "\n",
    "# meta_train_df = pd.DataFrame(meta_train_arr,columns = new_enc_df.columns)\n",
    "# meta_val_df = pd.DataFrame(meta_val_arr,columns = new_enc_df.columns)\n",
    "# meta_test_df = pd.DataFrame(meta_test_arr,columns = new_enc_df.columns)"
   ]
  },
  {
   "cell_type": "code",
   "execution_count": 12,
   "metadata": {},
   "outputs": [],
   "source": [
    "# #SAVE - DONE\n",
    "# meta_train_df.to_pickle(tts_path + 'reducedfeatures_meta_train.pkl')\n",
    "# meta_val_df.to_pickle(tts_path + 'reducedfeatures_meta_val.pkl')\n",
    "# meta_test_df.to_pickle(tts_path + 'reducedfeatures_meta_test.pkl')"
   ]
  },
  {
   "cell_type": "markdown",
   "metadata": {},
   "source": [
    "### Loading Reduced Features Encodeded Metadata - Train and Validation"
   ]
  },
  {
   "cell_type": "code",
   "execution_count": 53,
   "metadata": {},
   "outputs": [
    {
     "data": {
      "text/plain": [
       "((51438, 4898), (17146, 4898), 51438, 17146)"
      ]
     },
     "execution_count": 53,
     "metadata": {},
     "output_type": "execute_result"
    }
   ],
   "source": [
    "meta_train_df = pd.read_pickle(tts_path + 'reducedfeatures_meta_train.pkl')\n",
    "meta_val_df = pd.read_pickle(tts_path + 'reducedfeatures_meta_val.pkl')\n",
    "\n",
    "meta_train_df.shape, meta_val_df.shape, len(y_train), len(y_val)"
   ]
  },
  {
   "cell_type": "markdown",
   "metadata": {},
   "source": [
    "## RandomForestClassifier for Feature Importance"
   ]
  },
  {
   "cell_type": "markdown",
   "metadata": {},
   "source": [
    "#### 1. Without class weights - everything is classified as majority class - High accuracy but 0 precision and recall"
   ]
  },
  {
   "cell_type": "code",
   "execution_count": 14,
   "metadata": {},
   "outputs": [
    {
     "data": {
      "text/plain": [
       "RandomForestClassifier(bootstrap=True, class_weight=None, criterion='gini',\n",
       "                       max_depth=None, max_features=0.5, max_leaf_nodes=None,\n",
       "                       min_impurity_decrease=0.0, min_impurity_split=None,\n",
       "                       min_samples_leaf=3, min_samples_split=2,\n",
       "                       min_weight_fraction_leaf=0.0, n_estimators=40, n_jobs=-1,\n",
       "                       oob_score=True, random_state=None, verbose=0,\n",
       "                       warm_start=False)"
      ]
     },
     "execution_count": 14,
     "metadata": {},
     "output_type": "execute_result"
    }
   ],
   "source": [
    "# # Random forest classifier\n",
    "rfc_all = RandomForestClassifier(n_estimators = 40, min_samples_leaf = 3, max_features = 0.5, n_jobs=-1, oob_score = True)\n",
    "rfc_all.fit(meta_train_df, y_train)"
   ]
  },
  {
   "cell_type": "code",
   "execution_count": 15,
   "metadata": {},
   "outputs": [],
   "source": [
    "# # Saving -- DONE !!\n",
    "# from sklearn.externals import joblib\n",
    "# joblib.dump(rfc_all, tts_path + 'RandomForest_allfeat_union.sav')"
   ]
  },
  {
   "cell_type": "code",
   "execution_count": 16,
   "metadata": {},
   "outputs": [],
   "source": [
    "# rfc_all = joblib.load(tts_path + 'RandomForest_allfeat_union.sav')"
   ]
  },
  {
   "cell_type": "markdown",
   "metadata": {},
   "source": [
    "#### 2. With class weights - giving higher weight to minority class"
   ]
  },
  {
   "cell_type": "code",
   "execution_count": 17,
   "metadata": {},
   "outputs": [],
   "source": [
    "# # rfc_all_cw = RandomForestClassifier(n_estimators = 40, min_samples_leaf = 3, max_features = 0.5, n_jobs=-1, oob_score = True)\n",
    "\n",
    "# rfc_all_cw = RandomForestClassifier(bootstrap=True,\n",
    "#                                     class_weight=class_weight, criterion='gini',\n",
    "#                                     max_depth=8, max_features='auto', max_leaf_nodes=None,\n",
    "#                                     min_impurity_decrease=0.0, min_impurity_split=None,\n",
    "#                                     min_samples_leaf=4, min_samples_split=10,\n",
    "#                                     min_weight_fraction_leaf=0.0, n_estimators=300,\n",
    "#                                     n_jobs=-1, oob_score=True,\n",
    "#                                     verbose=0, warm_start=False)"
   ]
  },
  {
   "cell_type": "code",
   "execution_count": 18,
   "metadata": {},
   "outputs": [],
   "source": [
    "# rfc_all_cw.fit(meta_train_df, y_train)"
   ]
  },
  {
   "cell_type": "markdown",
   "metadata": {},
   "source": [
    "### Feature Dictionaries"
   ]
  },
  {
   "cell_type": "code",
   "execution_count": 54,
   "metadata": {},
   "outputs": [],
   "source": [
    "# FEATURE DESCRIPTION DICTIONARY\n",
    "feat_desc = pd.read_excel(DATA_dir + 'FeatureNames.xlsx')\n",
    "feat_unique = feat_desc['UDI'].str.split('-',expand=True)[0].unique()\n",
    "feat_desc_dict, feat_unique_dict = feature_desc()"
   ]
  },
  {
   "cell_type": "code",
   "execution_count": 20,
   "metadata": {},
   "outputs": [],
   "source": [
    "feat_imp_dict, feat_unique_imp_dict = feature_imp(rfc_all, meta_train_df)"
   ]
  },
  {
   "cell_type": "code",
   "execution_count": 21,
   "metadata": {
    "scrolled": true
   },
   "outputs": [
    {
     "data": {
      "text/html": [
       "<div>\n",
       "<style scoped>\n",
       "    .dataframe tbody tr th:only-of-type {\n",
       "        vertical-align: middle;\n",
       "    }\n",
       "\n",
       "    .dataframe tbody tr th {\n",
       "        vertical-align: top;\n",
       "    }\n",
       "\n",
       "    .dataframe thead th {\n",
       "        text-align: right;\n",
       "    }\n",
       "</style>\n",
       "<table border=\"1\" class=\"dataframe\">\n",
       "  <thead>\n",
       "    <tr style=\"text-align: right;\">\n",
       "      <th></th>\n",
       "      <th>Features</th>\n",
       "      <th>Importance</th>\n",
       "    </tr>\n",
       "  </thead>\n",
       "  <tbody>\n",
       "    <tr>\n",
       "      <th>0</th>\n",
       "      <td>Intra-ocular pressure, corneal-compensated (right)</td>\n",
       "      <td>0.014278</td>\n",
       "    </tr>\n",
       "    <tr>\n",
       "      <th>1</th>\n",
       "      <td>Intra-ocular pressure device ID (left)</td>\n",
       "      <td>0.011971</td>\n",
       "    </tr>\n",
       "    <tr>\n",
       "      <th>2</th>\n",
       "      <td>Intra-ocular pressure, Goldmann-correlated (left)</td>\n",
       "      <td>0.011143</td>\n",
       "    </tr>\n",
       "    <tr>\n",
       "      <th>3</th>\n",
       "      <td>Intra-ocular pressure, Goldmann-correlated (right)</td>\n",
       "      <td>0.010521</td>\n",
       "    </tr>\n",
       "    <tr>\n",
       "      <th>4</th>\n",
       "      <td>Duration visual-acuity screen displayed (right)</td>\n",
       "      <td>0.006991</td>\n",
       "    </tr>\n",
       "    <tr>\n",
       "      <th>5</th>\n",
       "      <td>Taking other prescription medications</td>\n",
       "      <td>0.006498</td>\n",
       "    </tr>\n",
       "    <tr>\n",
       "      <th>6</th>\n",
       "      <td>Age cataract diagnosed</td>\n",
       "      <td>0.004261</td>\n",
       "    </tr>\n",
       "    <tr>\n",
       "      <th>7</th>\n",
       "      <td>Time since interview start at which blood pressure screen(s) shown</td>\n",
       "      <td>0.004218</td>\n",
       "    </tr>\n",
       "    <tr>\n",
       "      <th>8</th>\n",
       "      <td>Corneal hysteresis (right)</td>\n",
       "      <td>0.004204</td>\n",
       "    </tr>\n",
       "    <tr>\n",
       "      <th>9</th>\n",
       "      <td>Age when attended assessment centre</td>\n",
       "      <td>0.003910</td>\n",
       "    </tr>\n",
       "    <tr>\n",
       "      <th>10</th>\n",
       "      <td>Year of birth</td>\n",
       "      <td>0.003892</td>\n",
       "    </tr>\n",
       "    <tr>\n",
       "      <th>11</th>\n",
       "      <td>Ethnic background</td>\n",
       "      <td>0.003640</td>\n",
       "    </tr>\n",
       "    <tr>\n",
       "      <th>12</th>\n",
       "      <td>Data points for blow</td>\n",
       "      <td>0.003587</td>\n",
       "    </tr>\n",
       "    <tr>\n",
       "      <th>13</th>\n",
       "      <td>Applanation curve (right)</td>\n",
       "      <td>0.003564</td>\n",
       "    </tr>\n",
       "    <tr>\n",
       "      <th>14</th>\n",
       "      <td>Duration to first press of snap-button in each round</td>\n",
       "      <td>0.003475</td>\n",
       "    </tr>\n",
       "    <tr>\n",
       "      <th>15</th>\n",
       "      <td>Displayed letters in round (right)</td>\n",
       "      <td>0.003234</td>\n",
       "    </tr>\n",
       "    <tr>\n",
       "      <th>16</th>\n",
       "      <td>Duration at which OCT screen shown (right)</td>\n",
       "      <td>0.003184</td>\n",
       "    </tr>\n",
       "    <tr>\n",
       "      <th>17</th>\n",
       "      <td>logMAR, final (right)</td>\n",
       "      <td>0.002977</td>\n",
       "    </tr>\n",
       "    <tr>\n",
       "      <th>18</th>\n",
       "      <td>Spherical power (left)</td>\n",
       "      <td>0.002936</td>\n",
       "    </tr>\n",
       "    <tr>\n",
       "      <th>19</th>\n",
       "      <td>Applanation curve (left)</td>\n",
       "      <td>0.002863</td>\n",
       "    </tr>\n",
       "    <tr>\n",
       "      <th>20</th>\n",
       "      <td>Displayed letters in round (left)</td>\n",
       "      <td>0.002856</td>\n",
       "    </tr>\n",
       "    <tr>\n",
       "      <th>21</th>\n",
       "      <td>Which eye(s) affected by other eye condition</td>\n",
       "      <td>0.002752</td>\n",
       "    </tr>\n",
       "    <tr>\n",
       "      <th>22</th>\n",
       "      <td>Sitting height</td>\n",
       "      <td>0.002742</td>\n",
       "    </tr>\n",
       "    <tr>\n",
       "      <th>23</th>\n",
       "      <td>3mm strong meridian angle (right)</td>\n",
       "      <td>0.002723</td>\n",
       "    </tr>\n",
       "    <tr>\n",
       "      <th>24</th>\n",
       "      <td>Reason for glasses/contact lenses</td>\n",
       "      <td>0.002659</td>\n",
       "    </tr>\n",
       "    <tr>\n",
       "      <th>25</th>\n",
       "      <td>Systolic blood pressure, automated reading</td>\n",
       "      <td>0.002525</td>\n",
       "    </tr>\n",
       "    <tr>\n",
       "      <th>26</th>\n",
       "      <td>Which eye(s) are affected by cataract</td>\n",
       "      <td>0.002515</td>\n",
       "    </tr>\n",
       "    <tr>\n",
       "      <th>27</th>\n",
       "      <td>Spherical power (right)</td>\n",
       "      <td>0.002502</td>\n",
       "    </tr>\n",
       "    <tr>\n",
       "      <th>28</th>\n",
       "      <td>Cylindrical power (left)</td>\n",
       "      <td>0.002328</td>\n",
       "    </tr>\n",
       "    <tr>\n",
       "      <th>29</th>\n",
       "      <td>FEV1/ FVC ratio Z-score</td>\n",
       "      <td>0.002323</td>\n",
       "    </tr>\n",
       "    <tr>\n",
       "      <th>30</th>\n",
       "      <td>Mean time to correctly identify matches</td>\n",
       "      <td>0.002320</td>\n",
       "    </tr>\n",
       "    <tr>\n",
       "      <th>31</th>\n",
       "      <td>avMSE</td>\n",
       "      <td>0.002285</td>\n",
       "    </tr>\n",
       "    <tr>\n",
       "      <th>32</th>\n",
       "      <td>Pack years of smoking</td>\n",
       "      <td>0.002223</td>\n",
       "    </tr>\n",
       "    <tr>\n",
       "      <th>33</th>\n",
       "      <td>3mm strong meridian angle (left)</td>\n",
       "      <td>0.002204</td>\n",
       "    </tr>\n",
       "    <tr>\n",
       "      <th>34</th>\n",
       "      <td>Corneal resistance factor (right)</td>\n",
       "      <td>0.002179</td>\n",
       "    </tr>\n",
       "    <tr>\n",
       "      <th>35</th>\n",
       "      <td>6mm regularity index (right)</td>\n",
       "      <td>0.002154</td>\n",
       "    </tr>\n",
       "    <tr>\n",
       "      <th>36</th>\n",
       "      <td>Cylindrical power (right)</td>\n",
       "      <td>0.002153</td>\n",
       "    </tr>\n",
       "    <tr>\n",
       "      <th>37</th>\n",
       "      <td>3mm asymmetry index (right)</td>\n",
       "      <td>0.002153</td>\n",
       "    </tr>\n",
       "    <tr>\n",
       "      <th>38</th>\n",
       "      <td>6mm strong meridian angle (left)</td>\n",
       "      <td>0.002151</td>\n",
       "    </tr>\n",
       "    <tr>\n",
       "      <th>39</th>\n",
       "      <td>Forced vital capacity (FVC) Z-score</td>\n",
       "      <td>0.002100</td>\n",
       "    </tr>\n",
       "    <tr>\n",
       "      <th>40</th>\n",
       "      <td>Time of blow measurement</td>\n",
       "      <td>0.002092</td>\n",
       "    </tr>\n",
       "    <tr>\n",
       "      <th>41</th>\n",
       "      <td>Forced vital capacity (FVC)</td>\n",
       "      <td>0.002083</td>\n",
       "    </tr>\n",
       "    <tr>\n",
       "      <th>42</th>\n",
       "      <td>Pulse rate, automated reading</td>\n",
       "      <td>0.002078</td>\n",
       "    </tr>\n",
       "    <tr>\n",
       "      <th>43</th>\n",
       "      <td>Diastolic blood pressure, automated reading</td>\n",
       "      <td>0.002075</td>\n",
       "    </tr>\n",
       "    <tr>\n",
       "      <th>44</th>\n",
       "      <td>Astigmatism angle (left)</td>\n",
       "      <td>0.002074</td>\n",
       "    </tr>\n",
       "    <tr>\n",
       "      <th>45</th>\n",
       "      <td>Encoded anonymised participant ID</td>\n",
       "      <td>0.002044</td>\n",
       "    </tr>\n",
       "    <tr>\n",
       "      <th>46</th>\n",
       "      <td>Impedance of leg (right)</td>\n",
       "      <td>0.002042</td>\n",
       "    </tr>\n",
       "    <tr>\n",
       "      <th>47</th>\n",
       "      <td>3mm regularity index (right)</td>\n",
       "      <td>0.002039</td>\n",
       "    </tr>\n",
       "    <tr>\n",
       "      <th>48</th>\n",
       "      <td>Height measure device ID</td>\n",
       "      <td>0.002038</td>\n",
       "    </tr>\n",
       "    <tr>\n",
       "      <th>49</th>\n",
       "      <td>Weight</td>\n",
       "      <td>0.002037</td>\n",
       "    </tr>\n",
       "  </tbody>\n",
       "</table>\n",
       "</div>"
      ],
      "text/plain": [
       "                                                              Features  \\\n",
       "0                   Intra-ocular pressure, corneal-compensated (right)   \n",
       "1                               Intra-ocular pressure device ID (left)   \n",
       "2                    Intra-ocular pressure, Goldmann-correlated (left)   \n",
       "3                   Intra-ocular pressure, Goldmann-correlated (right)   \n",
       "4                      Duration visual-acuity screen displayed (right)   \n",
       "5                                Taking other prescription medications   \n",
       "6                                               Age cataract diagnosed   \n",
       "7   Time since interview start at which blood pressure screen(s) shown   \n",
       "8                                           Corneal hysteresis (right)   \n",
       "9                                  Age when attended assessment centre   \n",
       "10                                                       Year of birth   \n",
       "11                                                   Ethnic background   \n",
       "12                                                Data points for blow   \n",
       "13                                           Applanation curve (right)   \n",
       "14                Duration to first press of snap-button in each round   \n",
       "15                                  Displayed letters in round (right)   \n",
       "16                          Duration at which OCT screen shown (right)   \n",
       "17                                               logMAR, final (right)   \n",
       "18                                              Spherical power (left)   \n",
       "19                                            Applanation curve (left)   \n",
       "20                                   Displayed letters in round (left)   \n",
       "21                        Which eye(s) affected by other eye condition   \n",
       "22                                                      Sitting height   \n",
       "23                                   3mm strong meridian angle (right)   \n",
       "24                                   Reason for glasses/contact lenses   \n",
       "25                          Systolic blood pressure, automated reading   \n",
       "26                               Which eye(s) are affected by cataract   \n",
       "27                                             Spherical power (right)   \n",
       "28                                            Cylindrical power (left)   \n",
       "29                                             FEV1/ FVC ratio Z-score   \n",
       "30                             Mean time to correctly identify matches   \n",
       "31                                                               avMSE   \n",
       "32                                               Pack years of smoking   \n",
       "33                                    3mm strong meridian angle (left)   \n",
       "34                                   Corneal resistance factor (right)   \n",
       "35                                        6mm regularity index (right)   \n",
       "36                                           Cylindrical power (right)   \n",
       "37                                         3mm asymmetry index (right)   \n",
       "38                                    6mm strong meridian angle (left)   \n",
       "39                                 Forced vital capacity (FVC) Z-score   \n",
       "40                                            Time of blow measurement   \n",
       "41                                         Forced vital capacity (FVC)   \n",
       "42                                       Pulse rate, automated reading   \n",
       "43                         Diastolic blood pressure, automated reading   \n",
       "44                                            Astigmatism angle (left)   \n",
       "45                                   Encoded anonymised participant ID   \n",
       "46                                            Impedance of leg (right)   \n",
       "47                                        3mm regularity index (right)   \n",
       "48                                            Height measure device ID   \n",
       "49                                                              Weight   \n",
       "\n",
       "    Importance  \n",
       "0     0.014278  \n",
       "1     0.011971  \n",
       "2     0.011143  \n",
       "3     0.010521  \n",
       "4     0.006991  \n",
       "5     0.006498  \n",
       "6     0.004261  \n",
       "7     0.004218  \n",
       "8     0.004204  \n",
       "9     0.003910  \n",
       "10    0.003892  \n",
       "11    0.003640  \n",
       "12    0.003587  \n",
       "13    0.003564  \n",
       "14    0.003475  \n",
       "15    0.003234  \n",
       "16    0.003184  \n",
       "17    0.002977  \n",
       "18    0.002936  \n",
       "19    0.002863  \n",
       "20    0.002856  \n",
       "21    0.002752  \n",
       "22    0.002742  \n",
       "23    0.002723  \n",
       "24    0.002659  \n",
       "25    0.002525  \n",
       "26    0.002515  \n",
       "27    0.002502  \n",
       "28    0.002328  \n",
       "29    0.002323  \n",
       "30    0.002320  \n",
       "31    0.002285  \n",
       "32    0.002223  \n",
       "33    0.002204  \n",
       "34    0.002179  \n",
       "35    0.002154  \n",
       "36    0.002153  \n",
       "37    0.002153  \n",
       "38    0.002151  \n",
       "39    0.002100  \n",
       "40    0.002092  \n",
       "41    0.002083  \n",
       "42    0.002078  \n",
       "43    0.002075  \n",
       "44    0.002074  \n",
       "45    0.002044  \n",
       "46    0.002042  \n",
       "47    0.002039  \n",
       "48    0.002038  \n",
       "49    0.002037  "
      ]
     },
     "metadata": {},
     "output_type": "display_data"
    }
   ],
   "source": [
    "pd.options.display.max_colwidth = 100\n",
    "\n",
    "fi_red = get_imp_features(50)\n",
    "display_all(fi_red)"
   ]
  },
  {
   "cell_type": "code",
   "execution_count": 22,
   "metadata": {
    "scrolled": false
   },
   "outputs": [
    {
     "data": {
      "text/plain": [
       "<matplotlib.axes._subplots.AxesSubplot at 0x7f2bb1d01750>"
      ]
     },
     "execution_count": 22,
     "metadata": {},
     "output_type": "execute_result"
    },
    {
     "data": {
      "image/png": "[encoded data removed]",
      "text/plain": [
       "<Figure size 1080x1080 with 1 Axes>"
      ]
     },
     "metadata": {
      "needs_background": "light"
     },
     "output_type": "display_data"
    }
   ],
   "source": [
    "def plot_fi(finew):\n",
    "    return finew.plot('Features','Importance','barh',figsize=(15,15),legend=False)\n",
    "\n",
    "plot_fi(fi_red)"
   ]
  },
  {
   "cell_type": "markdown",
   "metadata": {},
   "source": [
    "## Creating Dataframe containing important features"
   ]
  },
  {
   "cell_type": "code",
   "execution_count": 23,
   "metadata": {},
   "outputs": [
    {
     "data": {
      "text/plain": [
       "34"
      ]
     },
     "execution_count": 23,
     "metadata": {},
     "output_type": "execute_result"
    }
   ],
   "source": [
    "# Getting feature from feature description\n",
    "feat_to_keep = fi_red[fi_red.Importance>0.0022].Features\n",
    "featval_to_keep = []\n",
    "for i in range(len(feat_to_keep)):\n",
    "    for feat, desc in feat_unique_dict.items():    # for name, age in dictionary.iteritems():  (for Python 2.x)\n",
    "        if desc == feat_to_keep[i]:\n",
    "            featval_to_keep.append(feat)\n",
    "            break\n",
    "            \n",
    "len(featval_to_keep)"
   ]
  },
  {
   "cell_type": "code",
   "execution_count": 24,
   "metadata": {},
   "outputs": [
    {
     "data": {
      "text/plain": [
       "((51438, 4898), (17146, 4898))"
      ]
     },
     "execution_count": 24,
     "metadata": {},
     "output_type": "execute_result"
    }
   ],
   "source": [
    "meta_train_df.shape, meta_val_df.shape"
   ]
  },
  {
   "cell_type": "code",
   "execution_count": 25,
   "metadata": {},
   "outputs": [
    {
     "data": {
      "text/plain": [
       "(51438, 296)"
      ]
     },
     "execution_count": 25,
     "metadata": {},
     "output_type": "execute_result"
    }
   ],
   "source": [
    "redtrain_df = meta_train_df.loc[:,meta_train_df.columns.str.startswith(featval_to_keep[0])]\n",
    "for i in range(1,len(featval_to_keep)):\n",
    "    redtrain_df = redtrain_df.join(meta_train_df.loc[:,meta_train_df.columns.str.startswith(featval_to_keep[i])])\n",
    "    \n",
    "redtrain_df.shape"
   ]
  },
  {
   "cell_type": "code",
   "execution_count": 26,
   "metadata": {},
   "outputs": [
    {
     "data": {
      "text/plain": [
       "(17146, 296)"
      ]
     },
     "execution_count": 26,
     "metadata": {},
     "output_type": "execute_result"
    }
   ],
   "source": [
    "redval_df = meta_val_df.loc[:,meta_val_df.columns.str.startswith(featval_to_keep[0])]\n",
    "for i in range(1,len(featval_to_keep)):\n",
    "    redval_df = redval_df.join(meta_val_df.loc[:,meta_val_df.columns.str.startswith(featval_to_keep[i])])\n",
    "    \n",
    "redval_df.shape"
   ]
  },
  {
   "cell_type": "markdown",
   "metadata": {},
   "source": [
    "### Saving the dataframe"
   ]
  },
  {
   "cell_type": "code",
   "execution_count": 27,
   "metadata": {},
   "outputs": [],
   "source": [
    "# redtrain_df.to_pickle(tts_path + str(len(featval_to_keep))+'_features_union_train_df.pkl')\n",
    "# redval_df.to_pickle(tts_path + str(len(featval_to_keep))+'_features_union_val_df.pkl')"
   ]
  },
  {
   "cell_type": "markdown",
   "metadata": {},
   "source": [
    "### Loading the dataframe"
   ]
  },
  {
   "cell_type": "code",
   "execution_count": 28,
   "metadata": {},
   "outputs": [],
   "source": [
    "# # LOAD\n",
    "# redtrain_df = pd.read_pickle(tts_path + str(len(featval_to_keep))+'_features_union_train_df.pkl')\n",
    "# redval_df = pd.read_pickle(tts_path + str(len(featval_to_keep))+'_features_union_val_df.pkl')\n",
    "# redtrain_df.shape, redval_df.shape"
   ]
  },
  {
   "cell_type": "markdown",
   "metadata": {},
   "source": [
    "#### without class_weight"
   ]
  },
  {
   "cell_type": "code",
   "execution_count": 29,
   "metadata": {},
   "outputs": [
    {
     "data": {
      "text/plain": [
       "RandomForestClassifier(bootstrap=True, class_weight=None, criterion='gini',\n",
       "                       max_depth=None, max_features=0.5, max_leaf_nodes=None,\n",
       "                       min_impurity_decrease=0.0, min_impurity_split=None,\n",
       "                       min_samples_leaf=3, min_samples_split=2,\n",
       "                       min_weight_fraction_leaf=0.0, n_estimators=40, n_jobs=-1,\n",
       "                       oob_score=True, random_state=None, verbose=0,\n",
       "                       warm_start=False)"
      ]
     },
     "execution_count": 29,
     "metadata": {},
     "output_type": "execute_result"
    }
   ],
   "source": [
    "rfc_red = RandomForestClassifier(n_estimators = 40, min_samples_leaf = 3, max_features = 0.5, n_jobs=-1, oob_score = True)\n",
    "rfc_red.fit(redtrain_df, y_train)"
   ]
  },
  {
   "cell_type": "code",
   "execution_count": 30,
   "metadata": {},
   "outputs": [],
   "source": [
    "# # Saving -- DONE !!\n",
    "# from sklearn.externals import joblib\n",
    "# joblib.dump(rfc_red, tts_path + 'RandomForest_redfeat_union.sav')"
   ]
  },
  {
   "cell_type": "markdown",
   "metadata": {},
   "source": [
    "#### with class weight"
   ]
  },
  {
   "cell_type": "code",
   "execution_count": 31,
   "metadata": {},
   "outputs": [],
   "source": [
    "# rfc_red_cw = RandomForestClassifier(bootstrap=True,\n",
    "#                                     class_weight=class_weight, criterion='gini',\n",
    "#                                     max_depth=8, max_features='auto', max_leaf_nodes=None,\n",
    "#                                     min_impurity_decrease=0.0, min_impurity_split=None,\n",
    "#                                     min_samples_leaf=4, min_samples_split=10,\n",
    "#                                     min_weight_fraction_leaf=0.0, n_estimators=300,\n",
    "#                                     n_jobs=-1, oob_score=True,\n",
    "#                                     verbose=0, warm_start=False)\n",
    "\n",
    "# rfc_red_cw.fit(redtrain_df, y_train)"
   ]
  },
  {
   "cell_type": "markdown",
   "metadata": {},
   "source": [
    "### Loading Reduced features random forest"
   ]
  },
  {
   "cell_type": "code",
   "execution_count": 32,
   "metadata": {},
   "outputs": [],
   "source": [
    "# rfc_red = joblib.load(tts_path + 'RandomForest_redfeat.sav')"
   ]
  },
  {
   "cell_type": "code",
   "execution_count": 33,
   "metadata": {},
   "outputs": [],
   "source": [
    "# FEATURE DESCRIPTION DICTIONARY\n",
    "feat_desc = pd.read_excel(DATA_dir + 'FeatureNames.xlsx')\n",
    "feat_unique = feat_desc['UDI'].str.split('-',expand=True)[0].unique()\n",
    "feat_desc_dict, feat_unique_dict = feature_desc()"
   ]
  },
  {
   "cell_type": "code",
   "execution_count": 34,
   "metadata": {
    "scrolled": true
   },
   "outputs": [
    {
     "data": {
      "text/html": [
       "<div>\n",
       "<style scoped>\n",
       "    .dataframe tbody tr th:only-of-type {\n",
       "        vertical-align: middle;\n",
       "    }\n",
       "\n",
       "    .dataframe tbody tr th {\n",
       "        vertical-align: top;\n",
       "    }\n",
       "\n",
       "    .dataframe thead th {\n",
       "        text-align: right;\n",
       "    }\n",
       "</style>\n",
       "<table border=\"1\" class=\"dataframe\">\n",
       "  <thead>\n",
       "    <tr style=\"text-align: right;\">\n",
       "      <th></th>\n",
       "      <th>Features</th>\n",
       "      <th>Importance</th>\n",
       "    </tr>\n",
       "  </thead>\n",
       "  <tbody>\n",
       "    <tr>\n",
       "      <th>0</th>\n",
       "      <td>Intra-ocular pressure, Goldmann-correlated (left)</td>\n",
       "      <td>0.029517</td>\n",
       "    </tr>\n",
       "    <tr>\n",
       "      <th>1</th>\n",
       "      <td>Intra-ocular pressure, corneal-compensated (right)</td>\n",
       "      <td>0.027055</td>\n",
       "    </tr>\n",
       "    <tr>\n",
       "      <th>2</th>\n",
       "      <td>Intra-ocular pressure, Goldmann-correlated (right)</td>\n",
       "      <td>0.024462</td>\n",
       "    </tr>\n",
       "    <tr>\n",
       "      <th>3</th>\n",
       "      <td>Duration visual-acuity screen displayed (right)</td>\n",
       "      <td>0.020581</td>\n",
       "    </tr>\n",
       "    <tr>\n",
       "      <th>4</th>\n",
       "      <td>Time since interview start at which blood pressure screen(s) shown</td>\n",
       "      <td>0.017818</td>\n",
       "    </tr>\n",
       "    <tr>\n",
       "      <th>5</th>\n",
       "      <td>Corneal hysteresis (right)</td>\n",
       "      <td>0.017101</td>\n",
       "    </tr>\n",
       "    <tr>\n",
       "      <th>6</th>\n",
       "      <td>Data points for blow</td>\n",
       "      <td>0.016973</td>\n",
       "    </tr>\n",
       "    <tr>\n",
       "      <th>7</th>\n",
       "      <td>Systolic blood pressure, automated reading</td>\n",
       "      <td>0.015427</td>\n",
       "    </tr>\n",
       "    <tr>\n",
       "      <th>8</th>\n",
       "      <td>Applanation curve (left)</td>\n",
       "      <td>0.015056</td>\n",
       "    </tr>\n",
       "    <tr>\n",
       "      <th>9</th>\n",
       "      <td>Sitting height</td>\n",
       "      <td>0.014930</td>\n",
       "    </tr>\n",
       "    <tr>\n",
       "      <th>10</th>\n",
       "      <td>Displayed letters in round (left)</td>\n",
       "      <td>0.014227</td>\n",
       "    </tr>\n",
       "    <tr>\n",
       "      <th>11</th>\n",
       "      <td>Applanation curve (right)</td>\n",
       "      <td>0.014134</td>\n",
       "    </tr>\n",
       "    <tr>\n",
       "      <th>12</th>\n",
       "      <td>Displayed letters in round (right)</td>\n",
       "      <td>0.013718</td>\n",
       "    </tr>\n",
       "    <tr>\n",
       "      <th>13</th>\n",
       "      <td>Duration to first press of snap-button in each round</td>\n",
       "      <td>0.013679</td>\n",
       "    </tr>\n",
       "    <tr>\n",
       "      <th>14</th>\n",
       "      <td>Year of birth</td>\n",
       "      <td>0.013318</td>\n",
       "    </tr>\n",
       "    <tr>\n",
       "      <th>15</th>\n",
       "      <td>logMAR, final (right)</td>\n",
       "      <td>0.013154</td>\n",
       "    </tr>\n",
       "    <tr>\n",
       "      <th>16</th>\n",
       "      <td>Duration at which OCT screen shown (right)</td>\n",
       "      <td>0.012849</td>\n",
       "    </tr>\n",
       "    <tr>\n",
       "      <th>17</th>\n",
       "      <td>FEV1/ FVC ratio Z-score</td>\n",
       "      <td>0.012029</td>\n",
       "    </tr>\n",
       "    <tr>\n",
       "      <th>18</th>\n",
       "      <td>Mean time to correctly identify matches</td>\n",
       "      <td>0.011970</td>\n",
       "    </tr>\n",
       "    <tr>\n",
       "      <th>19</th>\n",
       "      <td>3mm strong meridian angle (left)</td>\n",
       "      <td>0.011298</td>\n",
       "    </tr>\n",
       "    <tr>\n",
       "      <th>20</th>\n",
       "      <td>Spherical power (left)</td>\n",
       "      <td>0.011223</td>\n",
       "    </tr>\n",
       "    <tr>\n",
       "      <th>21</th>\n",
       "      <td>Spherical power (right)</td>\n",
       "      <td>0.011184</td>\n",
       "    </tr>\n",
       "    <tr>\n",
       "      <th>22</th>\n",
       "      <td>Cylindrical power (left)</td>\n",
       "      <td>0.011052</td>\n",
       "    </tr>\n",
       "    <tr>\n",
       "      <th>23</th>\n",
       "      <td>Age when attended assessment centre</td>\n",
       "      <td>0.010497</td>\n",
       "    </tr>\n",
       "    <tr>\n",
       "      <th>24</th>\n",
       "      <td>avMSE</td>\n",
       "      <td>0.010442</td>\n",
       "    </tr>\n",
       "    <tr>\n",
       "      <th>25</th>\n",
       "      <td>Ethnic background</td>\n",
       "      <td>0.010056</td>\n",
       "    </tr>\n",
       "    <tr>\n",
       "      <th>26</th>\n",
       "      <td>3mm strong meridian angle (right)</td>\n",
       "      <td>0.009259</td>\n",
       "    </tr>\n",
       "    <tr>\n",
       "      <th>27</th>\n",
       "      <td>Pack years of smoking</td>\n",
       "      <td>0.009201</td>\n",
       "    </tr>\n",
       "    <tr>\n",
       "      <th>28</th>\n",
       "      <td>Age cataract diagnosed</td>\n",
       "      <td>0.008168</td>\n",
       "    </tr>\n",
       "    <tr>\n",
       "      <th>29</th>\n",
       "      <td>Taking other prescription medications</td>\n",
       "      <td>0.007302</td>\n",
       "    </tr>\n",
       "    <tr>\n",
       "      <th>30</th>\n",
       "      <td>Which eye(s) are affected by cataract</td>\n",
       "      <td>0.005205</td>\n",
       "    </tr>\n",
       "    <tr>\n",
       "      <th>31</th>\n",
       "      <td>Reason for glasses/contact lenses</td>\n",
       "      <td>0.004794</td>\n",
       "    </tr>\n",
       "    <tr>\n",
       "      <th>32</th>\n",
       "      <td>Intra-ocular pressure device ID (left)</td>\n",
       "      <td>0.004281</td>\n",
       "    </tr>\n",
       "    <tr>\n",
       "      <th>33</th>\n",
       "      <td>Which eye(s) affected by other eye condition</td>\n",
       "      <td>0.003909</td>\n",
       "    </tr>\n",
       "    <tr>\n",
       "      <th>34</th>\n",
       "      <td>Number of cigarettes currently smoked daily (current cigarette smokers)</td>\n",
       "      <td>0.001793</td>\n",
       "    </tr>\n",
       "    <tr>\n",
       "      <th>35</th>\n",
       "      <td>Age started smoking in current smokers</td>\n",
       "      <td>0.001610</td>\n",
       "    </tr>\n",
       "    <tr>\n",
       "      <th>36</th>\n",
       "      <td>Time from waking to first cigarette</td>\n",
       "      <td>0.000607</td>\n",
       "    </tr>\n",
       "    <tr>\n",
       "      <th>37</th>\n",
       "      <td>Ever tried to stop smoking</td>\n",
       "      <td>0.000529</td>\n",
       "    </tr>\n",
       "    <tr>\n",
       "      <th>38</th>\n",
       "      <td>Wants to stop smoking</td>\n",
       "      <td>0.000507</td>\n",
       "    </tr>\n",
       "    <tr>\n",
       "      <th>39</th>\n",
       "      <td>Difficulty not smoking for 1 day</td>\n",
       "      <td>0.000420</td>\n",
       "    </tr>\n",
       "  </tbody>\n",
       "</table>\n",
       "</div>"
      ],
      "text/plain": [
       "                                                                   Features  \\\n",
       "0                         Intra-ocular pressure, Goldmann-correlated (left)   \n",
       "1                        Intra-ocular pressure, corneal-compensated (right)   \n",
       "2                        Intra-ocular pressure, Goldmann-correlated (right)   \n",
       "3                           Duration visual-acuity screen displayed (right)   \n",
       "4        Time since interview start at which blood pressure screen(s) shown   \n",
       "5                                                Corneal hysteresis (right)   \n",
       "6                                                      Data points for blow   \n",
       "7                                Systolic blood pressure, automated reading   \n",
       "8                                                  Applanation curve (left)   \n",
       "9                                                            Sitting height   \n",
       "10                                        Displayed letters in round (left)   \n",
       "11                                                Applanation curve (right)   \n",
       "12                                       Displayed letters in round (right)   \n",
       "13                     Duration to first press of snap-button in each round   \n",
       "14                                                            Year of birth   \n",
       "15                                                    logMAR, final (right)   \n",
       "16                               Duration at which OCT screen shown (right)   \n",
       "17                                                  FEV1/ FVC ratio Z-score   \n",
       "18                                  Mean time to correctly identify matches   \n",
       "19                                         3mm strong meridian angle (left)   \n",
       "20                                                   Spherical power (left)   \n",
       "21                                                  Spherical power (right)   \n",
       "22                                                 Cylindrical power (left)   \n",
       "23                                      Age when attended assessment centre   \n",
       "24                                                                    avMSE   \n",
       "25                                                        Ethnic background   \n",
       "26                                        3mm strong meridian angle (right)   \n",
       "27                                                    Pack years of smoking   \n",
       "28                                                   Age cataract diagnosed   \n",
       "29                                    Taking other prescription medications   \n",
       "30                                    Which eye(s) are affected by cataract   \n",
       "31                                        Reason for glasses/contact lenses   \n",
       "32                                   Intra-ocular pressure device ID (left)   \n",
       "33                             Which eye(s) affected by other eye condition   \n",
       "34  Number of cigarettes currently smoked daily (current cigarette smokers)   \n",
       "35                                   Age started smoking in current smokers   \n",
       "36                                      Time from waking to first cigarette   \n",
       "37                                               Ever tried to stop smoking   \n",
       "38                                                    Wants to stop smoking   \n",
       "39                                         Difficulty not smoking for 1 day   \n",
       "\n",
       "    Importance  \n",
       "0     0.029517  \n",
       "1     0.027055  \n",
       "2     0.024462  \n",
       "3     0.020581  \n",
       "4     0.017818  \n",
       "5     0.017101  \n",
       "6     0.016973  \n",
       "7     0.015427  \n",
       "8     0.015056  \n",
       "9     0.014930  \n",
       "10    0.014227  \n",
       "11    0.014134  \n",
       "12    0.013718  \n",
       "13    0.013679  \n",
       "14    0.013318  \n",
       "15    0.013154  \n",
       "16    0.012849  \n",
       "17    0.012029  \n",
       "18    0.011970  \n",
       "19    0.011298  \n",
       "20    0.011223  \n",
       "21    0.011184  \n",
       "22    0.011052  \n",
       "23    0.010497  \n",
       "24    0.010442  \n",
       "25    0.010056  \n",
       "26    0.009259  \n",
       "27    0.009201  \n",
       "28    0.008168  \n",
       "29    0.007302  \n",
       "30    0.005205  \n",
       "31    0.004794  \n",
       "32    0.004281  \n",
       "33    0.003909  \n",
       "34    0.001793  \n",
       "35    0.001610  \n",
       "36    0.000607  \n",
       "37    0.000529  \n",
       "38    0.000507  \n",
       "39    0.000420  "
      ]
     },
     "metadata": {},
     "output_type": "display_data"
    }
   ],
   "source": [
    "feat_imp_dict, feat_unique_imp_dict = feature_imp(rfc_red, redtrain_df)\n",
    "fi_red = get_imp_features(40)\n",
    "display_all(fi_red)"
   ]
  },
  {
   "cell_type": "code",
   "execution_count": 35,
   "metadata": {
    "scrolled": false
   },
   "outputs": [
    {
     "data": {
      "text/plain": [
       "<matplotlib.axes._subplots.AxesSubplot at 0x7f2bb1d22850>"
      ]
     },
     "execution_count": 35,
     "metadata": {},
     "output_type": "execute_result"
    },
    {
     "data": {
      "image/png": "[encoded data removed]",
      "text/plain": [
       "<Figure size 1080x1080 with 1 Axes>"
      ]
     },
     "metadata": {
      "needs_background": "light"
     },
     "output_type": "display_data"
    }
   ],
   "source": [
    "plot_fi(fi_red)"
   ]
  },
  {
   "cell_type": "markdown",
   "metadata": {},
   "source": [
    "## Compare The Accuracy Of Full Feature Classifier To Limited Feature Classifier\n"
   ]
  },
  {
   "cell_type": "code",
   "execution_count": 36,
   "metadata": {},
   "outputs": [],
   "source": [
    "from sklearn.metrics import accuracy_score, f1_score, recall_score, precision_score, classification_report, confusion_matrix\n",
    "\n",
    "# Full Featured Classifier To The Test Data\n",
    "y_pred = rfc_all.predict(meta_val_df)\n",
    "y_important_pred = rfc_red.predict(redval_df)"
   ]
  },
  {
   "cell_type": "markdown",
   "metadata": {},
   "source": [
    "#### F1 score"
   ]
  },
  {
   "cell_type": "code",
   "execution_count": 37,
   "metadata": {},
   "outputs": [
    {
     "data": {
      "text/plain": [
       "(0.004347826086956523, 0.017204301075268817)"
      ]
     },
     "execution_count": 37,
     "metadata": {},
     "output_type": "execute_result"
    }
   ],
   "source": [
    "# 40 features\n",
    "f1_score(y_val, y_pred) , f1_score(y_val, y_important_pred)"
   ]
  },
  {
   "cell_type": "markdown",
   "metadata": {},
   "source": [
    "#### Accuracy score"
   ]
  },
  {
   "cell_type": "code",
   "execution_count": 38,
   "metadata": {},
   "outputs": [
    {
     "data": {
      "text/plain": [
       "(0.9732882304910766, 0.9733465531319259)"
      ]
     },
     "execution_count": 38,
     "metadata": {},
     "output_type": "execute_result"
    }
   ],
   "source": [
    "accuracy_score(y_val, y_pred) , accuracy_score(y_val, y_important_pred)"
   ]
  },
  {
   "cell_type": "markdown",
   "metadata": {},
   "source": [
    "#### Recall score"
   ]
  },
  {
   "cell_type": "code",
   "execution_count": 39,
   "metadata": {},
   "outputs": [
    {
     "data": {
      "text/plain": [
       "(0.002178649237472767, 0.008714596949891068)"
      ]
     },
     "execution_count": 39,
     "metadata": {},
     "output_type": "execute_result"
    }
   ],
   "source": [
    "recall_score(y_val, y_pred) , recall_score(y_val, y_important_pred)"
   ]
  },
  {
   "cell_type": "markdown",
   "metadata": {},
   "source": [
    "#### Precision score"
   ]
  },
  {
   "cell_type": "code",
   "execution_count": 40,
   "metadata": {},
   "outputs": [
    {
     "data": {
      "text/plain": [
       "(1.0, 0.6666666666666666)"
      ]
     },
     "execution_count": 40,
     "metadata": {},
     "output_type": "execute_result"
    }
   ],
   "source": [
    "precision_score(y_val, y_pred) , precision_score(y_val, y_important_pred)"
   ]
  },
  {
   "cell_type": "markdown",
   "metadata": {},
   "source": [
    "#### classification_report"
   ]
  },
  {
   "cell_type": "code",
   "execution_count": 41,
   "metadata": {},
   "outputs": [
    {
     "name": "stdout",
     "output_type": "stream",
     "text": [
      "              precision    recall  f1-score   support\n",
      "\n",
      "           0       0.97      1.00      0.99     16687\n",
      "           1       1.00      0.00      0.00       459\n",
      "\n",
      "    accuracy                           0.97     17146\n",
      "   macro avg       0.99      0.50      0.50     17146\n",
      "weighted avg       0.97      0.97      0.96     17146\n",
      " \n",
      "\n",
      "               precision    recall  f1-score   support\n",
      "\n",
      "           0       0.97      1.00      0.99     16687\n",
      "           1       0.67      0.01      0.02       459\n",
      "\n",
      "    accuracy                           0.97     17146\n",
      "   macro avg       0.82      0.50      0.50     17146\n",
      "weighted avg       0.97      0.97      0.96     17146\n",
      "\n"
     ]
    }
   ],
   "source": [
    "print(classification_report(y_val, y_pred) ,\"\\n\\n\", classification_report(y_val, y_important_pred))"
   ]
  },
  {
   "cell_type": "markdown",
   "metadata": {},
   "source": [
    "#### Confusion matrix"
   ]
  },
  {
   "cell_type": "code",
   "execution_count": 42,
   "metadata": {},
   "outputs": [
    {
     "name": "stdout",
     "output_type": "stream",
     "text": [
      "[[16687     0]\n",
      " [  458     1]] \n",
      "\n",
      " [[16685     2]\n",
      " [  455     4]]\n"
     ]
    }
   ],
   "source": [
    "# tn, fp, fn, tp\n",
    "print(confusion_matrix(y_val, y_pred) ,\"\\n\\n\", confusion_matrix(y_val, y_important_pred))"
   ]
  },
  {
   "cell_type": "code",
   "execution_count": 43,
   "metadata": {},
   "outputs": [
    {
     "name": "stdout",
     "output_type": "stream",
     "text": [
      "Healthy Patients - correctly identified (True Negatives):  16687 1.0\n",
      "Healthy Patients - predicted to have glaucoma (False Positives):  0 0.0\n",
      "Glaucoma Patients - predicted healthy (False Negatives):  458 0.9978213507625272\n",
      "Glaucoma Patients - correctly identified (True Positives):  1 0.002178649237472767\n",
      "\n",
      "Total Glaucoma patients:  459 1.0\n",
      "Total Healthy patients:  16687 1.0\n"
     ]
    },
    {
     "data": {
      "image/png": "[encoded data removed]",
      "text/plain": [
       "<Figure size 360x360 with 2 Axes>"
      ]
     },
     "metadata": {
      "needs_background": "light"
     },
     "output_type": "display_data"
    }
   ],
   "source": [
    "plot_cm(y_val, y_pred)"
   ]
  },
  {
   "cell_type": "code",
   "execution_count": null,
   "metadata": {},
   "outputs": [],
   "source": []
  }
 ],
 "metadata": {
  "kernelspec": {
   "display_name": "Python 2020",
   "language": "python",
   "name": "python2020"
  },
  "language_info": {
   "codemirror_mode": {
    "name": "ipython",
    "version": 3
   },
   "file_extension": ".py",
   "mimetype": "text/x-python",
   "name": "python",
   "nbconvert_exporter": "python",
   "pygments_lexer": "ipython3",
   "version": "3.7.5"
  }
 },
 "nbformat": 4,
 "nbformat_minor": 2
}
