{
 "cells": [
  {
   "cell_type": "code",
   "execution_count": 1,
   "metadata": {
    "scrolled": false
   },
   "outputs": [
    {
     "name": "stdout",
     "output_type": "stream",
     "text": [
      "2020-01-07 14:48:29.648515\n",
      "\u001b[1m\u001b[37mthunder\u001b[m  Tue Jan  7 14:48:29 2020\n",
      "\u001b[36m[0]\u001b[m \u001b[34mGeForce GTX 1080 Ti\u001b[m |\u001b[31m 45'C\u001b[m, \u001b[32m 26 %\u001b[m | \u001b[36m\u001b[1m\u001b[33m10895\u001b[m / \u001b[33m11178\u001b[m MB | \u001b[1m\u001b[30mpatra\u001b[m(\u001b[33m10885M\u001b[m)\n",
      "\u001b[36m[1]\u001b[m \u001b[34mGeForce GTX 1080 Ti\u001b[m |\u001b[31m 25'C\u001b[m, \u001b[32m  0 %\u001b[m | \u001b[36m\u001b[1m\u001b[33m   10\u001b[m / \u001b[33m11178\u001b[m MB |\n",
      "\u001b[36m[2]\u001b[m \u001b[34mGeForce GTX 1080 Ti\u001b[m |\u001b[31m 26'C\u001b[m, \u001b[32m  0 %\u001b[m | \u001b[36m\u001b[1m\u001b[33m   10\u001b[m / \u001b[33m11178\u001b[m MB |\n",
      "\u001b[36m[3]\u001b[m \u001b[34mGeForce GTX 1080 Ti\u001b[m |\u001b[31m 25'C\u001b[m, \u001b[32m  0 %\u001b[m | \u001b[36m\u001b[1m\u001b[33m   10\u001b[m / \u001b[33m11178\u001b[m MB |\n",
      "\u001b[36m[4]\u001b[m \u001b[34mGeForce GTX 1080 Ti\u001b[m |\u001b[31m 23'C\u001b[m, \u001b[32m  0 %\u001b[m | \u001b[36m\u001b[1m\u001b[33m   10\u001b[m / \u001b[33m11178\u001b[m MB |\n",
      "\u001b[36m[5]\u001b[m \u001b[34mGeForce GTX 1080 Ti\u001b[m |\u001b[31m 27'C\u001b[m, \u001b[32m  0 %\u001b[m | \u001b[36m\u001b[1m\u001b[33m   10\u001b[m / \u001b[33m11178\u001b[m MB |\n",
      "\u001b[36m[6]\u001b[m \u001b[34mGeForce GTX 1080 Ti\u001b[m |\u001b[31m 30'C\u001b[m, \u001b[32m  0 %\u001b[m | \u001b[36m\u001b[1m\u001b[33m10895\u001b[m / \u001b[33m11178\u001b[m MB | \u001b[1m\u001b[30manthoula\u001b[m(\u001b[33m10885M\u001b[m)\n",
      "\u001b[36m[7]\u001b[m \u001b[34mGeForce GTX 1080 Ti\u001b[m |\u001b[31m 28'C\u001b[m, \u001b[32m  0 %\u001b[m | \u001b[36m\u001b[1m\u001b[33m10895\u001b[m / \u001b[33m11178\u001b[m MB | \u001b[1m\u001b[30manthoula\u001b[m(\u001b[33m10885M\u001b[m)\n"
     ]
    },
    {
     "name": "stderr",
     "output_type": "stream",
     "text": [
      "/ds/environments/python2020/lib/python3.7/site-packages/sklearn/externals/joblib/__init__.py:15: DeprecationWarning: sklearn.externals.joblib is deprecated in 0.21 and will be removed in 0.23. Please import this functionality directly from joblib, which can be installed with: pip install joblib. If this warning is raised when loading pickled models, you may need to re-serialize those models with scikit-learn 0.21+.\n",
      "  warnings.warn(msg, category=DeprecationWarning)\n",
      "Using TensorFlow backend.\n",
      "/ds/environments/python2020/lib/python3.7/site-packages/keras/callbacks/callbacks.py:19: DeprecationWarning: Using or importing the ABCs from 'collections' instead of from 'collections.abc' is deprecated since Python 3.3,and in 3.9 it will stop working\n",
      "  from collections import Iterable\n"
     ]
    },
    {
     "name": "stdout",
     "output_type": "stream",
     "text": [
      "Dataset consist of 85730 patients data with 6251 features for each patient\n",
      "Function definitions executed\n",
      "Definitions DONE !!\n",
      "\n"
     ]
    }
   ],
   "source": [
    "%run ./Definitions.ipynb"
   ]
  },
  {
   "cell_type": "code",
   "execution_count": 2,
   "metadata": {
    "scrolled": true
   },
   "outputs": [
    {
     "name": "stdout",
     "output_type": "stream",
     "text": [
      "Tue Jan  7 14:48:44 2020       \n",
      "+-----------------------------------------------------------------------------+\n",
      "| NVIDIA-SMI 418.87.01    Driver Version: 418.87.01    CUDA Version: 10.1     |\n",
      "|-------------------------------+----------------------+----------------------+\n",
      "| GPU  Name        Persistence-M| Bus-Id        Disp.A | Volatile Uncorr. ECC |\n",
      "| Fan  Temp  Perf  Pwr:Usage/Cap|         Memory-Usage | GPU-Util  Compute M. |\n",
      "|===============================+======================+======================|\n",
      "|   0  GeForce GTX 108...  Off  | 00000000:04:00.0 Off |                  N/A |\n",
      "| 32%   46C    P2    78W / 250W |  10895MiB / 11178MiB |      0%      Default |\n",
      "+-------------------------------+----------------------+----------------------+\n",
      "|   1  GeForce GTX 108...  Off  | 00000000:06:00.0 Off |                  N/A |\n",
      "| 29%   25C    P8     7W / 250W |     10MiB / 11178MiB |      0%      Default |\n",
      "+-------------------------------+----------------------+----------------------+\n",
      "|   2  GeForce GTX 108...  Off  | 00000000:07:00.0 Off |                  N/A |\n",
      "| 29%   26C    P8     7W / 250W |     10MiB / 11178MiB |      0%      Default |\n",
      "+-------------------------------+----------------------+----------------------+\n",
      "|   3  GeForce GTX 108...  Off  | 00000000:08:00.0 Off |                  N/A |\n",
      "| 29%   25C    P8     7W / 250W |     10MiB / 11178MiB |      0%      Default |\n",
      "+-------------------------------+----------------------+----------------------+\n",
      "|   4  GeForce GTX 108...  Off  | 00000000:0C:00.0 Off |                  N/A |\n",
      "| 29%   23C    P8     8W / 250W |     10MiB / 11178MiB |      0%      Default |\n",
      "+-------------------------------+----------------------+----------------------+\n",
      "|   5  GeForce GTX 108...  Off  | 00000000:0D:00.0 Off |                  N/A |\n",
      "| 29%   27C    P8     9W / 250W |     10MiB / 11178MiB |      0%      Default |\n",
      "+-------------------------------+----------------------+----------------------+\n",
      "|   6  GeForce GTX 108...  Off  | 00000000:0E:00.0 Off |                  N/A |\n",
      "| 29%   29C    P8     8W / 250W |  10895MiB / 11178MiB |      0%      Default |\n",
      "+-------------------------------+----------------------+----------------------+\n",
      "|   7  GeForce GTX 108...  Off  | 00000000:0F:00.0 Off |                  N/A |\n",
      "| 29%   28C    P8     7W / 250W |  10895MiB / 11178MiB |      0%      Default |\n",
      "+-------------------------------+----------------------+----------------------+\n",
      "                                                                               \n",
      "+-----------------------------------------------------------------------------+\n",
      "| Processes:                                                       GPU Memory |\n",
      "|  GPU       PID   Type   Process name                             Usage      |\n",
      "|=============================================================================|\n",
      "|    0     11468      C   /ds/environments/python2020/bin/python     10885MiB |\n",
      "|    6     22526      C   /ds/environments/python2020/bin/python     10885MiB |\n",
      "|    7     29868      C   /ds/environments/python2020/bin/python     10885MiB |\n",
      "+-----------------------------------------------------------------------------+\n"
     ]
    }
   ],
   "source": [
    "!nvidia-smi\n",
    "import os\n",
    "\n",
    "os.environ[\"CUDA_DEVICE_ORDER\"] = \"PCI_BUS_ID\"   # so the IDs match nvidia-smi\n",
    "os.environ[\"CUDA_VISIBLE_DEVICES\"] = \"2\"   # choose here your GPU (0-7)\n",
    "\n",
    "import tensorflow as tf\n",
    "import tensorflow.compat.v1 as tf\n",
    "import keras\n",
    "# from keras import backend as K\n",
    "import tensorflow.python.keras.backend as K"
   ]
  },
  {
   "cell_type": "markdown",
   "metadata": {},
   "source": [
    "## Loading train data to use in Random Forest - union ground truth"
   ]
  },
  {
   "cell_type": "code",
   "execution_count": 3,
   "metadata": {},
   "outputs": [],
   "source": [
    "tts_path = DATA_dir+'TrainTestVal/'\n",
    "enc_df = pd.read_pickle(DATA_dir + 'enc_df.pkl')\n",
    "y_train_df = pd.read_pickle(tts_path + 'yu_train.pkl')\n",
    "y_val_df = pd.read_pickle(tts_path + 'yu_val.pkl')\n",
    "y_test_df = pd.read_pickle(tts_path + 'yu_test.pkl')"
   ]
  },
  {
   "cell_type": "code",
   "execution_count": 5,
   "metadata": {},
   "outputs": [
    {
     "data": {
      "text/plain": [
       "((51438, 1), (17146, 1), (17146, 1))"
      ]
     },
     "execution_count": 5,
     "metadata": {},
     "output_type": "execute_result"
    }
   ],
   "source": [
    "y_train_df.shape, y_val_df.shape, y_test_df.shape"
   ]
  },
  {
   "cell_type": "markdown",
   "metadata": {},
   "source": [
    "#### Converting the labels to list and assign 0 label to non glaucoma (2 or 3 mismatch) - FOR UNION"
   ]
  },
  {
   "cell_type": "code",
   "execution_count": 7,
   "metadata": {},
   "outputs": [],
   "source": [
    "y_train = y_train_df['ClassLabel'].tolist()\n",
    "y_val = y_val_df['ClassLabel'].tolist()\n",
    "y_test = y_test_df['ClassLabel'].tolist()\n",
    "\n",
    "for i in range(len(y_train)):\n",
    "    if(y_train[i] != 0):\n",
    "        y_train[i] = 1\n",
    "        \n",
    "for i in range(len(y_val)):\n",
    "    if(y_val[i] != 0):\n",
    "        y_val[i] = 1\n",
    "\n",
    "for i in range(len(y_test)):\n",
    "    if(y_test[i] != 0):\n",
    "        y_test[i] = 1"
   ]
  },
  {
   "cell_type": "code",
   "execution_count": 8,
   "metadata": {},
   "outputs": [],
   "source": [
    "indices_train = np.load(tts_path + 'indices_train.npy')\n",
    "indices_val = np.load(tts_path + 'indices_val.npy')\n",
    "indices_test = np.load(tts_path + 'indices_test.npy')"
   ]
  },
  {
   "cell_type": "code",
   "execution_count": 9,
   "metadata": {},
   "outputs": [
    {
     "data": {
      "text/plain": [
       "((85730, 6251), 51438, 17146, 17146)"
      ]
     },
     "execution_count": 9,
     "metadata": {},
     "output_type": "execute_result"
    }
   ],
   "source": [
    "enc_df.shape, len(y_train), len(y_val), len(y_test)"
   ]
  },
  {
   "cell_type": "markdown",
   "metadata": {},
   "source": [
    "## Class Distribution"
   ]
  },
  {
   "cell_type": "markdown",
   "metadata": {},
   "source": [
    "#### No. of Glaucoma and non Glaucoma patients in training set"
   ]
  },
  {
   "cell_type": "code",
   "execution_count": 10,
   "metadata": {},
   "outputs": [
    {
     "name": "stdout",
     "output_type": "stream",
     "text": [
      "No. of Glaucoma patients in training set: 2506\n",
      "No. of non-Glaucoma patients in training set: 48932\n"
     ]
    }
   ],
   "source": [
    "n_NG = 0\n",
    "n_G = 0\n",
    "\n",
    "for i in range(len(y_train)):\n",
    "    if(y_train[i] == 1):\n",
    "        n_G += 1\n",
    "    else:\n",
    "        n_NG += 1\n",
    "        \n",
    "print(\"No. of Glaucoma patients in training set:\",n_G)\n",
    "print(\"No. of non-Glaucoma patients in training set:\",n_NG)"
   ]
  },
  {
   "cell_type": "code",
   "execution_count": 11,
   "metadata": {},
   "outputs": [
    {
     "data": {
      "image/png": "[encoded data removed]",
      "text/plain": [
       "<Figure size 432x288 with 1 Axes>"
      ]
     },
     "metadata": {
      "needs_background": "light"
     },
     "output_type": "display_data"
    }
   ],
   "source": [
    "import seaborn as sns\n",
    "\n",
    "class_name = ['Non-Glaucoma', 'Glaucoma']\n",
    "count = [n_NG, n_G]\n",
    "# plt.bar(class_name, count)\n",
    "sns.barplot(x=class_name, y=count, linewidth=2.5, errcolor=\".2\", edgecolor=\".2\")\n",
    "plt.xlabel('Class', fontsize=15)\n",
    "plt.ylabel('Number of patients', fontsize=15)\n",
    "plt.title('Class distribution')\n",
    "plt.show()"
   ]
  },
  {
   "cell_type": "markdown",
   "metadata": {},
   "source": [
    "## Assigning class weight for imbalance data set to use in Random forest classifier"
   ]
  },
  {
   "cell_type": "code",
   "execution_count": 12,
   "metadata": {},
   "outputs": [],
   "source": [
    "class_weight = dict({0:1, 1:35})"
   ]
  },
  {
   "cell_type": "markdown",
   "metadata": {},
   "source": [
    "## Feature Reduction and Saving Dataframe with reduced features"
   ]
  },
  {
   "cell_type": "code",
   "execution_count": 10,
   "metadata": {},
   "outputs": [],
   "source": [
    "# cols2rem = ['87-','92-','135-','2227-','4689-','5181-','5326-','5327-','5945-','6119-','6148-','20002-','20008-','20009-','20010-','20011','20013-',\n",
    "#             '20014-','40001-','40002-','41078-','41080-','41082-','41083-','41084-','41096-','41101-','41142-','41202-','41204-',\n",
    "#             '41200-','41210-']\n",
    "\n",
    "# # len(cols2rem) # 13\n",
    "# remove_df  = enc_df.loc[:,enc_df.columns.str.startswith(cols2rem[0])]\n",
    "# for i in range(1,len(cols2rem)):\n",
    "#     remove_df = remove_df.join(enc_df.loc[:,enc_df.columns.str.startswith(cols2rem[i])])\n",
    "    \n",
    "# new_enc_df = enc_df.drop(remove_df.columns, axis=1)\n",
    "# new_enc_df.shape"
   ]
  },
  {
   "cell_type": "markdown",
   "metadata": {},
   "source": [
    "### Spliting new_enc_df to train test val as per the indices"
   ]
  },
  {
   "cell_type": "code",
   "execution_count": 11,
   "metadata": {},
   "outputs": [],
   "source": [
    "# meta_train = []\n",
    "# meta_val = []\n",
    "# meta_test = []\n",
    "\n",
    "# for i in range(len(indices_train)):\n",
    "#     meta_train.append(new_enc_df.iloc[indices_train[i]])\n",
    "    \n",
    "# for i in range(len(indices_val)):\n",
    "#     meta_val.append(new_enc_df.iloc[indices_val[i]])\n",
    "#     meta_test.append(new_enc_df.iloc[indices_test[i]])\n",
    "\n",
    "# meta_train_arr = np.asarray(meta_train)\n",
    "# meta_val_arr = np.asarray(meta_val)\n",
    "# meta_test_arr = np.asarray(meta_test)\n",
    "\n",
    "# meta_train_df = pd.DataFrame(meta_train_arr,columns = new_enc_df.columns)\n",
    "# meta_val_df = pd.DataFrame(meta_val_arr,columns = new_enc_df.columns)\n",
    "# meta_test_df = pd.DataFrame(meta_test_arr,columns = new_enc_df.columns)"
   ]
  },
  {
   "cell_type": "code",
   "execution_count": 12,
   "metadata": {},
   "outputs": [],
   "source": [
    "# #SAVE - DONE\n",
    "# meta_train_df.to_pickle(tts_path + 'reducedfeatures_meta_train.pkl')\n",
    "# meta_val_df.to_pickle(tts_path + 'reducedfeatures_meta_val.pkl')\n",
    "# meta_test_df.to_pickle(tts_path + 'reducedfeatures_meta_test.pkl')"
   ]
  },
  {
   "cell_type": "markdown",
   "metadata": {},
   "source": [
    "### Loading Reduced Features Encodeded Metadata - Train and Validation"
   ]
  },
  {
   "cell_type": "code",
   "execution_count": 13,
   "metadata": {},
   "outputs": [
    {
     "data": {
      "text/plain": [
       "((51438, 4898), (17146, 4898), (17146, 4898), 51438, 17146, 17146)"
      ]
     },
     "execution_count": 13,
     "metadata": {},
     "output_type": "execute_result"
    }
   ],
   "source": [
    "meta_train_df = pd.read_pickle(tts_path + 'reducedfeatures_meta_train.pkl')\n",
    "meta_val_df = pd.read_pickle(tts_path + 'reducedfeatures_meta_val.pkl')\n",
    "meta_test_df = pd.read_pickle(tts_path + 'reducedfeatures_meta_test.pkl')\n",
    "\n",
    "meta_train_df.shape, meta_val_df.shape, meta_test_df.shape, len(y_train), len(y_val), len(y_test)"
   ]
  },
  {
   "cell_type": "markdown",
   "metadata": {},
   "source": [
    "## RandomForestClassifier for Feature Importance"
   ]
  },
  {
   "cell_type": "markdown",
   "metadata": {},
   "source": [
    "#### 1. Without class weights - everything is classified as majority class - High accuracy but 0 precision and recall"
   ]
  },
  {
   "cell_type": "code",
   "execution_count": 15,
   "metadata": {},
   "outputs": [],
   "source": [
    "# # # Random forest classifier\n",
    "# rfc_all = RandomForestClassifier(n_estimators = 40, min_samples_leaf = 3, max_features = 0.5, n_jobs=-1, oob_score = True)\n",
    "# rfc_all.fit(meta_train_df, y_train)"
   ]
  },
  {
   "cell_type": "code",
   "execution_count": 15,
   "metadata": {},
   "outputs": [],
   "source": [
    "# # Saving -- DONE !!\n",
    "# from sklearn.externals import joblib\n",
    "# joblib.dump(rfc_all, tts_path + 'RandomForest_allfeat_union.sav')"
   ]
  },
  {
   "cell_type": "code",
   "execution_count": 16,
   "metadata": {},
   "outputs": [],
   "source": [
    "# rfc_all = joblib.load(tts_path + 'RandomForest_allfeat_union.sav')"
   ]
  },
  {
   "cell_type": "markdown",
   "metadata": {},
   "source": [
    "#### 2. With class weights - giving higher weight to minority class"
   ]
  },
  {
   "cell_type": "code",
   "execution_count": 17,
   "metadata": {},
   "outputs": [],
   "source": [
    "rfc_all_cw = RandomForestClassifier(bootstrap=True,\n",
    "                                    class_weight=class_weight, criterion='gini',\n",
    "                                    max_depth=8, max_features='auto', max_leaf_nodes=None,\n",
    "                                    min_impurity_decrease=0.0, min_impurity_split=None,\n",
    "                                    min_samples_leaf=4, min_samples_split=10,\n",
    "                                    min_weight_fraction_leaf=0.0, n_estimators=300,\n",
    "                                    n_jobs=-1, oob_score=True,\n",
    "                                    verbose=0, warm_start=False)"
   ]
  },
  {
   "cell_type": "code",
   "execution_count": 18,
   "metadata": {},
   "outputs": [
    {
     "data": {
      "text/plain": [
       "RandomForestClassifier(bootstrap=True, class_weight={0: 1, 1: 35},\n",
       "                       criterion='gini', max_depth=8, max_features='auto',\n",
       "                       max_leaf_nodes=None, min_impurity_decrease=0.0,\n",
       "                       min_impurity_split=None, min_samples_leaf=4,\n",
       "                       min_samples_split=10, min_weight_fraction_leaf=0.0,\n",
       "                       n_estimators=300, n_jobs=-1, oob_score=True,\n",
       "                       random_state=None, verbose=0, warm_start=False)"
      ]
     },
     "execution_count": 18,
     "metadata": {},
     "output_type": "execute_result"
    }
   ],
   "source": [
    "rfc_all_cw.fit(meta_train_df, y_train)"
   ]
  },
  {
   "cell_type": "markdown",
   "metadata": {},
   "source": [
    "### Feature Dictionaries"
   ]
  },
  {
   "cell_type": "code",
   "execution_count": 19,
   "metadata": {},
   "outputs": [],
   "source": [
    "# FEATURE DESCRIPTION DICTIONARY\n",
    "feat_desc = pd.read_excel(DATA_dir + 'FeatureNames.xlsx')\n",
    "feat_unique = feat_desc['UDI'].str.split('-',expand=True)[0].unique()\n",
    "feat_desc_dict, feat_unique_dict = feature_desc()"
   ]
  },
  {
   "cell_type": "code",
   "execution_count": 20,
   "metadata": {},
   "outputs": [],
   "source": [
    "feat_imp_dict, feat_unique_imp_dict = feature_imp(rfc_all_cw, meta_train_df)"
   ]
  },
  {
   "cell_type": "code",
   "execution_count": 21,
   "metadata": {
    "scrolled": true
   },
   "outputs": [
    {
     "data": {
      "text/html": [
       "<div>\n",
       "<style scoped>\n",
       "    .dataframe tbody tr th:only-of-type {\n",
       "        vertical-align: middle;\n",
       "    }\n",
       "\n",
       "    .dataframe tbody tr th {\n",
       "        vertical-align: top;\n",
       "    }\n",
       "\n",
       "    .dataframe thead th {\n",
       "        text-align: right;\n",
       "    }\n",
       "</style>\n",
       "<table border=\"1\" class=\"dataframe\">\n",
       "  <thead>\n",
       "    <tr style=\"text-align: right;\">\n",
       "      <th></th>\n",
       "      <th>Features</th>\n",
       "      <th>Importance</th>\n",
       "    </tr>\n",
       "  </thead>\n",
       "  <tbody>\n",
       "    <tr>\n",
       "      <th>0</th>\n",
       "      <td>Taking other prescription medications</td>\n",
       "      <td>0.015771</td>\n",
       "    </tr>\n",
       "    <tr>\n",
       "      <th>1</th>\n",
       "      <td>Year of birth</td>\n",
       "      <td>0.011292</td>\n",
       "    </tr>\n",
       "    <tr>\n",
       "      <th>2</th>\n",
       "      <td>Intra-ocular pressure, Goldmann-correlated (right)</td>\n",
       "      <td>0.010601</td>\n",
       "    </tr>\n",
       "    <tr>\n",
       "      <th>3</th>\n",
       "      <td>Intra-ocular pressure, Goldmann-correlated (left)</td>\n",
       "      <td>0.009541</td>\n",
       "    </tr>\n",
       "    <tr>\n",
       "      <th>4</th>\n",
       "      <td>Age when attended assessment centre</td>\n",
       "      <td>0.008949</td>\n",
       "    </tr>\n",
       "    <tr>\n",
       "      <th>5</th>\n",
       "      <td>Intra-ocular pressure, corneal-compensated (right)</td>\n",
       "      <td>0.008787</td>\n",
       "    </tr>\n",
       "    <tr>\n",
       "      <th>6</th>\n",
       "      <td>Intra-ocular pressure device ID (left)</td>\n",
       "      <td>0.008729</td>\n",
       "    </tr>\n",
       "    <tr>\n",
       "      <th>7</th>\n",
       "      <td>Overall health rating</td>\n",
       "      <td>0.006397</td>\n",
       "    </tr>\n",
       "    <tr>\n",
       "      <th>8</th>\n",
       "      <td>Duration visual-acuity screen displayed (right)</td>\n",
       "      <td>0.004934</td>\n",
       "    </tr>\n",
       "    <tr>\n",
       "      <th>9</th>\n",
       "      <td>Forced vital capacity (FVC)</td>\n",
       "      <td>0.004617</td>\n",
       "    </tr>\n",
       "    <tr>\n",
       "      <th>10</th>\n",
       "      <td>Forced vital capacity (FVC), Best measure</td>\n",
       "      <td>0.004523</td>\n",
       "    </tr>\n",
       "    <tr>\n",
       "      <th>11</th>\n",
       "      <td>Time since interview start at which blood pressure screen(s) shown</td>\n",
       "      <td>0.004495</td>\n",
       "    </tr>\n",
       "    <tr>\n",
       "      <th>12</th>\n",
       "      <td>Forced expiratory volume in 1-second (FEV1)</td>\n",
       "      <td>0.004220</td>\n",
       "    </tr>\n",
       "    <tr>\n",
       "      <th>13</th>\n",
       "      <td>Long-standing illness, disability or infirmity</td>\n",
       "      <td>0.004063</td>\n",
       "    </tr>\n",
       "    <tr>\n",
       "      <th>14</th>\n",
       "      <td>Forced expiratory volume in 1-second (FEV1), Best measure</td>\n",
       "      <td>0.003833</td>\n",
       "    </tr>\n",
       "    <tr>\n",
       "      <th>15</th>\n",
       "      <td>Number of days/week of vigorous physical activity 10+ minutes</td>\n",
       "      <td>0.003828</td>\n",
       "    </tr>\n",
       "    <tr>\n",
       "      <th>16</th>\n",
       "      <td>Mean time to correctly identify matches</td>\n",
       "      <td>0.003529</td>\n",
       "    </tr>\n",
       "    <tr>\n",
       "      <th>17</th>\n",
       "      <td>Types of physical activity in last 4 weeks</td>\n",
       "      <td>0.003501</td>\n",
       "    </tr>\n",
       "    <tr>\n",
       "      <th>18</th>\n",
       "      <td>Peak expiratory flow (PEF)</td>\n",
       "      <td>0.003390</td>\n",
       "    </tr>\n",
       "    <tr>\n",
       "      <th>19</th>\n",
       "      <td>Corneal hysteresis (right)</td>\n",
       "      <td>0.003182</td>\n",
       "    </tr>\n",
       "    <tr>\n",
       "      <th>20</th>\n",
       "      <td>logMAR, final (right)</td>\n",
       "      <td>0.003106</td>\n",
       "    </tr>\n",
       "    <tr>\n",
       "      <th>21</th>\n",
       "      <td>Usual walking pace</td>\n",
       "      <td>0.003102</td>\n",
       "    </tr>\n",
       "    <tr>\n",
       "      <th>22</th>\n",
       "      <td>Waist circumference</td>\n",
       "      <td>0.002959</td>\n",
       "    </tr>\n",
       "    <tr>\n",
       "      <th>23</th>\n",
       "      <td>Duration at which OCT screen shown (right)</td>\n",
       "      <td>0.002891</td>\n",
       "    </tr>\n",
       "    <tr>\n",
       "      <th>24</th>\n",
       "      <td>Spirometry QC measure</td>\n",
       "      <td>0.002736</td>\n",
       "    </tr>\n",
       "    <tr>\n",
       "      <th>25</th>\n",
       "      <td>Corneal hysteresis (left)</td>\n",
       "      <td>0.002662</td>\n",
       "    </tr>\n",
       "    <tr>\n",
       "      <th>26</th>\n",
       "      <td>Description of exercise protocol recommended</td>\n",
       "      <td>0.002596</td>\n",
       "    </tr>\n",
       "    <tr>\n",
       "      <th>27</th>\n",
       "      <td>Duration visual-acuity screen displayed (left)</td>\n",
       "      <td>0.002580</td>\n",
       "    </tr>\n",
       "    <tr>\n",
       "      <th>28</th>\n",
       "      <td>Duration of other exercises</td>\n",
       "      <td>0.002435</td>\n",
       "    </tr>\n",
       "    <tr>\n",
       "      <th>29</th>\n",
       "      <td>Frequency of tenseness / restlessness in last 2 weeks</td>\n",
       "      <td>0.002416</td>\n",
       "    </tr>\n",
       "    <tr>\n",
       "      <th>30</th>\n",
       "      <td>Bicycle speed</td>\n",
       "      <td>0.002416</td>\n",
       "    </tr>\n",
       "    <tr>\n",
       "      <th>31</th>\n",
       "      <td>Duration of vigorous activity</td>\n",
       "      <td>0.002405</td>\n",
       "    </tr>\n",
       "    <tr>\n",
       "      <th>32</th>\n",
       "      <td>logMAR, final (left)</td>\n",
       "      <td>0.002309</td>\n",
       "    </tr>\n",
       "    <tr>\n",
       "      <th>33</th>\n",
       "      <td>Duration at which OCT screen shown (left)</td>\n",
       "      <td>0.002189</td>\n",
       "    </tr>\n",
       "    <tr>\n",
       "      <th>34</th>\n",
       "      <td>Duration to first press of snap-button in each round</td>\n",
       "      <td>0.002119</td>\n",
       "    </tr>\n",
       "    <tr>\n",
       "      <th>35</th>\n",
       "      <td>ECG, load</td>\n",
       "      <td>0.002104</td>\n",
       "    </tr>\n",
       "    <tr>\n",
       "      <th>36</th>\n",
       "      <td>Forced expiratory volume in 1-second (FEV1) Z-score</td>\n",
       "      <td>0.002033</td>\n",
       "    </tr>\n",
       "    <tr>\n",
       "      <th>37</th>\n",
       "      <td>Cylindrical power (right)</td>\n",
       "      <td>0.002001</td>\n",
       "    </tr>\n",
       "    <tr>\n",
       "      <th>38</th>\n",
       "      <td>Corneal resistance factor (right)</td>\n",
       "      <td>0.001998</td>\n",
       "    </tr>\n",
       "    <tr>\n",
       "      <th>39</th>\n",
       "      <td>3mm cylindrical power angle (right)</td>\n",
       "      <td>0.001966</td>\n",
       "    </tr>\n",
       "    <tr>\n",
       "      <th>40</th>\n",
       "      <td>ECG, heart rate</td>\n",
       "      <td>0.001952</td>\n",
       "    </tr>\n",
       "    <tr>\n",
       "      <th>41</th>\n",
       "      <td>Leg fat percentage (left)</td>\n",
       "      <td>0.001936</td>\n",
       "    </tr>\n",
       "    <tr>\n",
       "      <th>42</th>\n",
       "      <td>Frequency of depressed mood in last 2 weeks</td>\n",
       "      <td>0.001922</td>\n",
       "    </tr>\n",
       "    <tr>\n",
       "      <th>43</th>\n",
       "      <td>Duration at which refractometer first shown (right)</td>\n",
       "      <td>0.001832</td>\n",
       "    </tr>\n",
       "    <tr>\n",
       "      <th>44</th>\n",
       "      <td>3mm weak meridian angle (right)</td>\n",
       "      <td>0.001831</td>\n",
       "    </tr>\n",
       "    <tr>\n",
       "      <th>45</th>\n",
       "      <td>Frequency of other exercises in last 4 weeks</td>\n",
       "      <td>0.001818</td>\n",
       "    </tr>\n",
       "    <tr>\n",
       "      <th>46</th>\n",
       "      <td>Wears glasses or contact lenses</td>\n",
       "      <td>0.001754</td>\n",
       "    </tr>\n",
       "    <tr>\n",
       "      <th>47</th>\n",
       "      <td>Number of trend entries</td>\n",
       "      <td>0.001729</td>\n",
       "    </tr>\n",
       "    <tr>\n",
       "      <th>48</th>\n",
       "      <td>FEV1/ FVC ratio Z-score</td>\n",
       "      <td>0.001726</td>\n",
       "    </tr>\n",
       "    <tr>\n",
       "      <th>49</th>\n",
       "      <td>Whole body fat-free mass</td>\n",
       "      <td>0.001682</td>\n",
       "    </tr>\n",
       "  </tbody>\n",
       "</table>\n",
       "</div>"
      ],
      "text/plain": [
       "                                                              Features  \\\n",
       "0                                Taking other prescription medications   \n",
       "1                                                        Year of birth   \n",
       "2                   Intra-ocular pressure, Goldmann-correlated (right)   \n",
       "3                    Intra-ocular pressure, Goldmann-correlated (left)   \n",
       "4                                  Age when attended assessment centre   \n",
       "5                   Intra-ocular pressure, corneal-compensated (right)   \n",
       "6                               Intra-ocular pressure device ID (left)   \n",
       "7                                                Overall health rating   \n",
       "8                      Duration visual-acuity screen displayed (right)   \n",
       "9                                          Forced vital capacity (FVC)   \n",
       "10                           Forced vital capacity (FVC), Best measure   \n",
       "11  Time since interview start at which blood pressure screen(s) shown   \n",
       "12                         Forced expiratory volume in 1-second (FEV1)   \n",
       "13                      Long-standing illness, disability or infirmity   \n",
       "14           Forced expiratory volume in 1-second (FEV1), Best measure   \n",
       "15       Number of days/week of vigorous physical activity 10+ minutes   \n",
       "16                             Mean time to correctly identify matches   \n",
       "17                          Types of physical activity in last 4 weeks   \n",
       "18                                          Peak expiratory flow (PEF)   \n",
       "19                                          Corneal hysteresis (right)   \n",
       "20                                               logMAR, final (right)   \n",
       "21                                                  Usual walking pace   \n",
       "22                                                 Waist circumference   \n",
       "23                          Duration at which OCT screen shown (right)   \n",
       "24                                               Spirometry QC measure   \n",
       "25                                           Corneal hysteresis (left)   \n",
       "26                        Description of exercise protocol recommended   \n",
       "27                      Duration visual-acuity screen displayed (left)   \n",
       "28                                         Duration of other exercises   \n",
       "29               Frequency of tenseness / restlessness in last 2 weeks   \n",
       "30                                                       Bicycle speed   \n",
       "31                                       Duration of vigorous activity   \n",
       "32                                                logMAR, final (left)   \n",
       "33                           Duration at which OCT screen shown (left)   \n",
       "34                Duration to first press of snap-button in each round   \n",
       "35                                                           ECG, load   \n",
       "36                 Forced expiratory volume in 1-second (FEV1) Z-score   \n",
       "37                                           Cylindrical power (right)   \n",
       "38                                   Corneal resistance factor (right)   \n",
       "39                                 3mm cylindrical power angle (right)   \n",
       "40                                                     ECG, heart rate   \n",
       "41                                           Leg fat percentage (left)   \n",
       "42                         Frequency of depressed mood in last 2 weeks   \n",
       "43                 Duration at which refractometer first shown (right)   \n",
       "44                                     3mm weak meridian angle (right)   \n",
       "45                        Frequency of other exercises in last 4 weeks   \n",
       "46                                     Wears glasses or contact lenses   \n",
       "47                                             Number of trend entries   \n",
       "48                                             FEV1/ FVC ratio Z-score   \n",
       "49                                            Whole body fat-free mass   \n",
       "\n",
       "    Importance  \n",
       "0     0.015771  \n",
       "1     0.011292  \n",
       "2     0.010601  \n",
       "3     0.009541  \n",
       "4     0.008949  \n",
       "5     0.008787  \n",
       "6     0.008729  \n",
       "7     0.006397  \n",
       "8     0.004934  \n",
       "9     0.004617  \n",
       "10    0.004523  \n",
       "11    0.004495  \n",
       "12    0.004220  \n",
       "13    0.004063  \n",
       "14    0.003833  \n",
       "15    0.003828  \n",
       "16    0.003529  \n",
       "17    0.003501  \n",
       "18    0.003390  \n",
       "19    0.003182  \n",
       "20    0.003106  \n",
       "21    0.003102  \n",
       "22    0.002959  \n",
       "23    0.002891  \n",
       "24    0.002736  \n",
       "25    0.002662  \n",
       "26    0.002596  \n",
       "27    0.002580  \n",
       "28    0.002435  \n",
       "29    0.002416  \n",
       "30    0.002416  \n",
       "31    0.002405  \n",
       "32    0.002309  \n",
       "33    0.002189  \n",
       "34    0.002119  \n",
       "35    0.002104  \n",
       "36    0.002033  \n",
       "37    0.002001  \n",
       "38    0.001998  \n",
       "39    0.001966  \n",
       "40    0.001952  \n",
       "41    0.001936  \n",
       "42    0.001922  \n",
       "43    0.001832  \n",
       "44    0.001831  \n",
       "45    0.001818  \n",
       "46    0.001754  \n",
       "47    0.001729  \n",
       "48    0.001726  \n",
       "49    0.001682  "
      ]
     },
     "metadata": {},
     "output_type": "display_data"
    }
   ],
   "source": [
    "pd.options.display.max_colwidth = 100\n",
    "\n",
    "fi_red = get_imp_features(50)\n",
    "display_all(fi_red)"
   ]
  },
  {
   "cell_type": "code",
   "execution_count": 22,
   "metadata": {
    "scrolled": false
   },
   "outputs": [
    {
     "data": {
      "text/plain": [
       "<matplotlib.axes._subplots.AxesSubplot at 0x7f721043e0d0>"
      ]
     },
     "execution_count": 22,
     "metadata": {},
     "output_type": "execute_result"
    },
    {
     "data": {
      "image/png": "[encoded data removed]",
      "text/plain": [
       "<Figure size 1080x1080 with 1 Axes>"
      ]
     },
     "metadata": {
      "needs_background": "light"
     },
     "output_type": "display_data"
    }
   ],
   "source": [
    "def plot_fi(finew):\n",
    "    return finew.plot('Features','Importance','barh',figsize=(15,15),legend=False)\n",
    "\n",
    "plot_fi(fi_red)"
   ]
  },
  {
   "cell_type": "markdown",
   "metadata": {},
   "source": [
    "## Creating Dataframe containing important features"
   ]
  },
  {
   "cell_type": "code",
   "execution_count": 23,
   "metadata": {},
   "outputs": [
    {
     "data": {
      "text/plain": [
       "50"
      ]
     },
     "execution_count": 23,
     "metadata": {},
     "output_type": "execute_result"
    }
   ],
   "source": [
    "# Getting feature from feature description\n",
    "feat_to_keep = fi_red[fi_red.Importance>0.0005].Features\n",
    "featval_to_keep = []\n",
    "for i in range(len(feat_to_keep)):\n",
    "    for feat, desc in feat_unique_dict.items():    # for name, age in dictionary.iteritems():  (for Python 2.x)\n",
    "        if desc == feat_to_keep[i]:\n",
    "            featval_to_keep.append(feat)\n",
    "            break\n",
    "            \n",
    "len(featval_to_keep)"
   ]
  },
  {
   "cell_type": "code",
   "execution_count": 24,
   "metadata": {},
   "outputs": [
    {
     "data": {
      "text/plain": [
       "((51438, 4898), (17146, 4898), (17146, 4898))"
      ]
     },
     "execution_count": 24,
     "metadata": {},
     "output_type": "execute_result"
    }
   ],
   "source": [
    "meta_train_df.shape, meta_val_df.shape, meta_test_df.shape"
   ]
  },
  {
   "cell_type": "code",
   "execution_count": 25,
   "metadata": {},
   "outputs": [
    {
     "data": {
      "text/plain": [
       "(51438, 915)"
      ]
     },
     "execution_count": 25,
     "metadata": {},
     "output_type": "execute_result"
    }
   ],
   "source": [
    "redtrain_df = meta_train_df.loc[:,meta_train_df.columns.str.startswith(featval_to_keep[0])]\n",
    "for i in range(1,len(featval_to_keep)):\n",
    "    redtrain_df = redtrain_df.join(meta_train_df.loc[:,meta_train_df.columns.str.startswith(featval_to_keep[i])])\n",
    "    \n",
    "redtrain_df.shape"
   ]
  },
  {
   "cell_type": "code",
   "execution_count": 26,
   "metadata": {},
   "outputs": [
    {
     "data": {
      "text/plain": [
       "(17146, 915)"
      ]
     },
     "execution_count": 26,
     "metadata": {},
     "output_type": "execute_result"
    }
   ],
   "source": [
    "redval_df = meta_val_df.loc[:,meta_val_df.columns.str.startswith(featval_to_keep[0])]\n",
    "for i in range(1,len(featval_to_keep)):\n",
    "    redval_df = redval_df.join(meta_val_df.loc[:,meta_val_df.columns.str.startswith(featval_to_keep[i])])\n",
    "    \n",
    "redval_df.shape"
   ]
  },
  {
   "cell_type": "code",
   "execution_count": 27,
   "metadata": {},
   "outputs": [
    {
     "data": {
      "text/plain": [
       "(17146, 915)"
      ]
     },
     "execution_count": 27,
     "metadata": {},
     "output_type": "execute_result"
    }
   ],
   "source": [
    "redtest_df = meta_test_df.loc[:,meta_test_df.columns.str.startswith(featval_to_keep[0])]\n",
    "for i in range(1,len(featval_to_keep)):\n",
    "    redtest_df = redtest_df.join(meta_test_df.loc[:,meta_test_df.columns.str.startswith(featval_to_keep[i])])\n",
    "    \n",
    "redtest_df.shape"
   ]
  },
  {
   "cell_type": "markdown",
   "metadata": {},
   "source": [
    "### Saving the dataframe"
   ]
  },
  {
   "cell_type": "code",
   "execution_count": 28,
   "metadata": {},
   "outputs": [],
   "source": [
    "redtrain_df.to_pickle(tts_path + str(len(featval_to_keep))+'_features_union_train_df_C1.pkl')\n",
    "redval_df.to_pickle(tts_path + str(len(featval_to_keep))+'_features_union_val_df_C1.pkl')\n",
    "redtest_df.to_pickle(tts_path + str(len(featval_to_keep))+'_features_union_test_df_C1.pkl')"
   ]
  },
  {
   "cell_type": "markdown",
   "metadata": {},
   "source": [
    "### Loading the dataframe"
   ]
  },
  {
   "cell_type": "code",
   "execution_count": 29,
   "metadata": {},
   "outputs": [
    {
     "data": {
      "text/plain": [
       "((51438, 915), (17146, 915), (17146, 915))"
      ]
     },
     "execution_count": 29,
     "metadata": {},
     "output_type": "execute_result"
    }
   ],
   "source": [
    "# LOAD\n",
    "redtrain_df = pd.read_pickle(tts_path + str(len(featval_to_keep))+'_features_union_train_df_C1.pkl')\n",
    "redval_df = pd.read_pickle(tts_path + str(len(featval_to_keep))+'_features_union_val_df_C1.pkl')\n",
    "redtest_df = pd.read_pickle(tts_path + str(len(featval_to_keep))+'_features_union_test_df_C1.pkl')\n",
    "redtrain_df.shape, redval_df.shape, redtest_df.shape"
   ]
  },
  {
   "cell_type": "markdown",
   "metadata": {},
   "source": [
    "#### without class_weight"
   ]
  },
  {
   "cell_type": "code",
   "execution_count": 31,
   "metadata": {},
   "outputs": [],
   "source": [
    "# rfc_red = RandomForestClassifier(n_estimators = 40, min_samples_leaf = 3, max_features = 0.5, n_jobs=-1, oob_score = True)\n",
    "# rfc_red.fit(redtrain_df, y_train)"
   ]
  },
  {
   "cell_type": "code",
   "execution_count": 32,
   "metadata": {},
   "outputs": [],
   "source": [
    "# # Saving -- DONE !!\n",
    "# from sklearn.externals import joblib\n",
    "# joblib.dump(rfc_red, tts_path + 'RandomForest_redfeat_union.sav')"
   ]
  },
  {
   "cell_type": "markdown",
   "metadata": {},
   "source": [
    "#### with class weight"
   ]
  },
  {
   "cell_type": "code",
   "execution_count": 33,
   "metadata": {},
   "outputs": [
    {
     "data": {
      "text/plain": [
       "RandomForestClassifier(bootstrap=True, class_weight={0: 1, 1: 35},\n",
       "                       criterion='gini', max_depth=8, max_features='auto',\n",
       "                       max_leaf_nodes=None, min_impurity_decrease=0.0,\n",
       "                       min_impurity_split=None, min_samples_leaf=4,\n",
       "                       min_samples_split=10, min_weight_fraction_leaf=0.0,\n",
       "                       n_estimators=300, n_jobs=-1, oob_score=True,\n",
       "                       random_state=None, verbose=0, warm_start=False)"
      ]
     },
     "execution_count": 33,
     "metadata": {},
     "output_type": "execute_result"
    }
   ],
   "source": [
    "rfc_red_cw = RandomForestClassifier(bootstrap=True,\n",
    "                                    class_weight=class_weight, criterion='gini',\n",
    "                                    max_depth=8, max_features='auto', max_leaf_nodes=None,\n",
    "                                    min_impurity_decrease=0.0, min_impurity_split=None,\n",
    "                                    min_samples_leaf=4, min_samples_split=10,\n",
    "                                    min_weight_fraction_leaf=0.0, n_estimators=300,\n",
    "                                    n_jobs=-1, oob_score=True,\n",
    "                                    verbose=0, warm_start=False)\n",
    "\n",
    "rfc_red_cw.fit(redtrain_df, y_train)"
   ]
  },
  {
   "cell_type": "markdown",
   "metadata": {},
   "source": [
    "### Loading Reduced features random forest"
   ]
  },
  {
   "cell_type": "code",
   "execution_count": 32,
   "metadata": {},
   "outputs": [],
   "source": [
    "# rfc_red = joblib.load(tts_path + 'RandomForest_redfeat.sav')"
   ]
  },
  {
   "cell_type": "code",
   "execution_count": 34,
   "metadata": {},
   "outputs": [],
   "source": [
    "# FEATURE DESCRIPTION DICTIONARY\n",
    "feat_desc = pd.read_excel(DATA_dir + 'FeatureNames.xlsx')\n",
    "feat_unique = feat_desc['UDI'].str.split('-',expand=True)[0].unique()\n",
    "feat_desc_dict, feat_unique_dict = feature_desc()"
   ]
  },
  {
   "cell_type": "code",
   "execution_count": 35,
   "metadata": {
    "scrolled": true
   },
   "outputs": [
    {
     "data": {
      "text/html": [
       "<div>\n",
       "<style scoped>\n",
       "    .dataframe tbody tr th:only-of-type {\n",
       "        vertical-align: middle;\n",
       "    }\n",
       "\n",
       "    .dataframe tbody tr th {\n",
       "        vertical-align: top;\n",
       "    }\n",
       "\n",
       "    .dataframe thead th {\n",
       "        text-align: right;\n",
       "    }\n",
       "</style>\n",
       "<table border=\"1\" class=\"dataframe\">\n",
       "  <thead>\n",
       "    <tr style=\"text-align: right;\">\n",
       "      <th></th>\n",
       "      <th>Features</th>\n",
       "      <th>Importance</th>\n",
       "    </tr>\n",
       "  </thead>\n",
       "  <tbody>\n",
       "    <tr>\n",
       "      <th>0</th>\n",
       "      <td>Taking other prescription medications</td>\n",
       "      <td>0.026463</td>\n",
       "    </tr>\n",
       "    <tr>\n",
       "      <th>1</th>\n",
       "      <td>Intra-ocular pressure, Goldmann-correlated (right)</td>\n",
       "      <td>0.023485</td>\n",
       "    </tr>\n",
       "    <tr>\n",
       "      <th>2</th>\n",
       "      <td>Intra-ocular pressure, corneal-compensated (right)</td>\n",
       "      <td>0.021165</td>\n",
       "    </tr>\n",
       "    <tr>\n",
       "      <th>3</th>\n",
       "      <td>Year of birth</td>\n",
       "      <td>0.019478</td>\n",
       "    </tr>\n",
       "    <tr>\n",
       "      <th>4</th>\n",
       "      <td>Age when attended assessment centre</td>\n",
       "      <td>0.017916</td>\n",
       "    </tr>\n",
       "    <tr>\n",
       "      <th>5</th>\n",
       "      <td>Intra-ocular pressure, Goldmann-correlated (left)</td>\n",
       "      <td>0.016544</td>\n",
       "    </tr>\n",
       "    <tr>\n",
       "      <th>6</th>\n",
       "      <td>Overall health rating</td>\n",
       "      <td>0.012553</td>\n",
       "    </tr>\n",
       "    <tr>\n",
       "      <th>7</th>\n",
       "      <td>Time since interview start at which blood pressure screen(s) shown</td>\n",
       "      <td>0.009110</td>\n",
       "    </tr>\n",
       "    <tr>\n",
       "      <th>8</th>\n",
       "      <td>Forced expiratory volume in 1-second (FEV1)</td>\n",
       "      <td>0.008721</td>\n",
       "    </tr>\n",
       "    <tr>\n",
       "      <th>9</th>\n",
       "      <td>Number of days/week of vigorous physical activity 10+ minutes</td>\n",
       "      <td>0.008327</td>\n",
       "    </tr>\n",
       "    <tr>\n",
       "      <th>10</th>\n",
       "      <td>Long-standing illness, disability or infirmity</td>\n",
       "      <td>0.008187</td>\n",
       "    </tr>\n",
       "    <tr>\n",
       "      <th>11</th>\n",
       "      <td>Forced expiratory volume in 1-second (FEV1), Best measure</td>\n",
       "      <td>0.008016</td>\n",
       "    </tr>\n",
       "    <tr>\n",
       "      <th>12</th>\n",
       "      <td>Duration visual-acuity screen displayed (right)</td>\n",
       "      <td>0.007962</td>\n",
       "    </tr>\n",
       "    <tr>\n",
       "      <th>13</th>\n",
       "      <td>Forced vital capacity (FVC)</td>\n",
       "      <td>0.007921</td>\n",
       "    </tr>\n",
       "    <tr>\n",
       "      <th>14</th>\n",
       "      <td>Forced vital capacity (FVC), Best measure</td>\n",
       "      <td>0.007588</td>\n",
       "    </tr>\n",
       "    <tr>\n",
       "      <th>15</th>\n",
       "      <td>Peak expiratory flow (PEF)</td>\n",
       "      <td>0.007465</td>\n",
       "    </tr>\n",
       "    <tr>\n",
       "      <th>16</th>\n",
       "      <td>Corneal hysteresis (right)</td>\n",
       "      <td>0.007292</td>\n",
       "    </tr>\n",
       "    <tr>\n",
       "      <th>17</th>\n",
       "      <td>Waist circumference</td>\n",
       "      <td>0.006822</td>\n",
       "    </tr>\n",
       "    <tr>\n",
       "      <th>18</th>\n",
       "      <td>logMAR, final (left)</td>\n",
       "      <td>0.006807</td>\n",
       "    </tr>\n",
       "    <tr>\n",
       "      <th>19</th>\n",
       "      <td>Usual walking pace</td>\n",
       "      <td>0.006481</td>\n",
       "    </tr>\n",
       "    <tr>\n",
       "      <th>20</th>\n",
       "      <td>Mean time to correctly identify matches</td>\n",
       "      <td>0.006123</td>\n",
       "    </tr>\n",
       "    <tr>\n",
       "      <th>21</th>\n",
       "      <td>logMAR, final (right)</td>\n",
       "      <td>0.006106</td>\n",
       "    </tr>\n",
       "    <tr>\n",
       "      <th>22</th>\n",
       "      <td>Corneal hysteresis (left)</td>\n",
       "      <td>0.005945</td>\n",
       "    </tr>\n",
       "    <tr>\n",
       "      <th>23</th>\n",
       "      <td>Duration at which OCT screen shown (right)</td>\n",
       "      <td>0.005616</td>\n",
       "    </tr>\n",
       "    <tr>\n",
       "      <th>24</th>\n",
       "      <td>Types of physical activity in last 4 weeks</td>\n",
       "      <td>0.005388</td>\n",
       "    </tr>\n",
       "    <tr>\n",
       "      <th>25</th>\n",
       "      <td>Bicycle speed</td>\n",
       "      <td>0.005187</td>\n",
       "    </tr>\n",
       "    <tr>\n",
       "      <th>26</th>\n",
       "      <td>FEV1/ FVC ratio Z-score</td>\n",
       "      <td>0.005177</td>\n",
       "    </tr>\n",
       "    <tr>\n",
       "      <th>27</th>\n",
       "      <td>Duration visual-acuity screen displayed (left)</td>\n",
       "      <td>0.005089</td>\n",
       "    </tr>\n",
       "    <tr>\n",
       "      <th>28</th>\n",
       "      <td>Frequency of tenseness / restlessness in last 2 weeks</td>\n",
       "      <td>0.005063</td>\n",
       "    </tr>\n",
       "    <tr>\n",
       "      <th>29</th>\n",
       "      <td>Duration of vigorous activity</td>\n",
       "      <td>0.004921</td>\n",
       "    </tr>\n",
       "    <tr>\n",
       "      <th>30</th>\n",
       "      <td>3mm weak meridian angle (right)</td>\n",
       "      <td>0.004851</td>\n",
       "    </tr>\n",
       "    <tr>\n",
       "      <th>31</th>\n",
       "      <td>Spirometry QC measure</td>\n",
       "      <td>0.004504</td>\n",
       "    </tr>\n",
       "    <tr>\n",
       "      <th>32</th>\n",
       "      <td>Leg fat percentage (left)</td>\n",
       "      <td>0.004465</td>\n",
       "    </tr>\n",
       "    <tr>\n",
       "      <th>33</th>\n",
       "      <td>Duration at which OCT screen shown (left)</td>\n",
       "      <td>0.004378</td>\n",
       "    </tr>\n",
       "    <tr>\n",
       "      <th>34</th>\n",
       "      <td>3mm cylindrical power angle (right)</td>\n",
       "      <td>0.004354</td>\n",
       "    </tr>\n",
       "    <tr>\n",
       "      <th>35</th>\n",
       "      <td>Corneal resistance factor (right)</td>\n",
       "      <td>0.004182</td>\n",
       "    </tr>\n",
       "    <tr>\n",
       "      <th>36</th>\n",
       "      <td>Forced expiratory volume in 1-second (FEV1) Z-score</td>\n",
       "      <td>0.004175</td>\n",
       "    </tr>\n",
       "    <tr>\n",
       "      <th>37</th>\n",
       "      <td>Duration to first press of snap-button in each round</td>\n",
       "      <td>0.004165</td>\n",
       "    </tr>\n",
       "    <tr>\n",
       "      <th>38</th>\n",
       "      <td>Cylindrical power (right)</td>\n",
       "      <td>0.004143</td>\n",
       "    </tr>\n",
       "    <tr>\n",
       "      <th>39</th>\n",
       "      <td>Whole body fat-free mass</td>\n",
       "      <td>0.004030</td>\n",
       "    </tr>\n",
       "  </tbody>\n",
       "</table>\n",
       "</div>"
      ],
      "text/plain": [
       "                                                              Features  \\\n",
       "0                                Taking other prescription medications   \n",
       "1                   Intra-ocular pressure, Goldmann-correlated (right)   \n",
       "2                   Intra-ocular pressure, corneal-compensated (right)   \n",
       "3                                                        Year of birth   \n",
       "4                                  Age when attended assessment centre   \n",
       "5                    Intra-ocular pressure, Goldmann-correlated (left)   \n",
       "6                                                Overall health rating   \n",
       "7   Time since interview start at which blood pressure screen(s) shown   \n",
       "8                          Forced expiratory volume in 1-second (FEV1)   \n",
       "9        Number of days/week of vigorous physical activity 10+ minutes   \n",
       "10                      Long-standing illness, disability or infirmity   \n",
       "11           Forced expiratory volume in 1-second (FEV1), Best measure   \n",
       "12                     Duration visual-acuity screen displayed (right)   \n",
       "13                                         Forced vital capacity (FVC)   \n",
       "14                           Forced vital capacity (FVC), Best measure   \n",
       "15                                          Peak expiratory flow (PEF)   \n",
       "16                                          Corneal hysteresis (right)   \n",
       "17                                                 Waist circumference   \n",
       "18                                                logMAR, final (left)   \n",
       "19                                                  Usual walking pace   \n",
       "20                             Mean time to correctly identify matches   \n",
       "21                                               logMAR, final (right)   \n",
       "22                                           Corneal hysteresis (left)   \n",
       "23                          Duration at which OCT screen shown (right)   \n",
       "24                          Types of physical activity in last 4 weeks   \n",
       "25                                                       Bicycle speed   \n",
       "26                                             FEV1/ FVC ratio Z-score   \n",
       "27                      Duration visual-acuity screen displayed (left)   \n",
       "28               Frequency of tenseness / restlessness in last 2 weeks   \n",
       "29                                       Duration of vigorous activity   \n",
       "30                                     3mm weak meridian angle (right)   \n",
       "31                                               Spirometry QC measure   \n",
       "32                                           Leg fat percentage (left)   \n",
       "33                           Duration at which OCT screen shown (left)   \n",
       "34                                 3mm cylindrical power angle (right)   \n",
       "35                                   Corneal resistance factor (right)   \n",
       "36                 Forced expiratory volume in 1-second (FEV1) Z-score   \n",
       "37                Duration to first press of snap-button in each round   \n",
       "38                                           Cylindrical power (right)   \n",
       "39                                            Whole body fat-free mass   \n",
       "\n",
       "    Importance  \n",
       "0     0.026463  \n",
       "1     0.023485  \n",
       "2     0.021165  \n",
       "3     0.019478  \n",
       "4     0.017916  \n",
       "5     0.016544  \n",
       "6     0.012553  \n",
       "7     0.009110  \n",
       "8     0.008721  \n",
       "9     0.008327  \n",
       "10    0.008187  \n",
       "11    0.008016  \n",
       "12    0.007962  \n",
       "13    0.007921  \n",
       "14    0.007588  \n",
       "15    0.007465  \n",
       "16    0.007292  \n",
       "17    0.006822  \n",
       "18    0.006807  \n",
       "19    0.006481  \n",
       "20    0.006123  \n",
       "21    0.006106  \n",
       "22    0.005945  \n",
       "23    0.005616  \n",
       "24    0.005388  \n",
       "25    0.005187  \n",
       "26    0.005177  \n",
       "27    0.005089  \n",
       "28    0.005063  \n",
       "29    0.004921  \n",
       "30    0.004851  \n",
       "31    0.004504  \n",
       "32    0.004465  \n",
       "33    0.004378  \n",
       "34    0.004354  \n",
       "35    0.004182  \n",
       "36    0.004175  \n",
       "37    0.004165  \n",
       "38    0.004143  \n",
       "39    0.004030  "
      ]
     },
     "metadata": {},
     "output_type": "display_data"
    }
   ],
   "source": [
    "feat_imp_dict, feat_unique_imp_dict = feature_imp(rfc_red_cw, redtrain_df)\n",
    "fi_red = get_imp_features(40)\n",
    "display_all(fi_red)"
   ]
  },
  {
   "cell_type": "code",
   "execution_count": 36,
   "metadata": {
    "scrolled": false
   },
   "outputs": [
    {
     "data": {
      "text/plain": [
       "<matplotlib.axes._subplots.AxesSubplot at 0x7f72105b4890>"
      ]
     },
     "execution_count": 36,
     "metadata": {},
     "output_type": "execute_result"
    },
    {
     "data": {
      "image/png": "[encoded data removed]",
      "text/plain": [
       "<Figure size 1080x1080 with 1 Axes>"
      ]
     },
     "metadata": {
      "needs_background": "light"
     },
     "output_type": "display_data"
    }
   ],
   "source": [
    "plot_fi(fi_red)"
   ]
  },
  {
   "cell_type": "markdown",
   "metadata": {},
   "source": [
    "## Compare The Accuracy Of Full Feature Classifier To Limited Feature Classifier\n"
   ]
  },
  {
   "cell_type": "code",
   "execution_count": 37,
   "metadata": {},
   "outputs": [],
   "source": [
    "from sklearn.metrics import accuracy_score, f1_score, recall_score, precision_score, classification_report, confusion_matrix\n",
    "\n",
    "# Full Featured Classifier To The Test Data\n",
    "y_pred = rfc_all_cw.predict(meta_val_df)\n",
    "y_important_pred = rfc_red_cw.predict(redval_df)"
   ]
  },
  {
   "cell_type": "code",
   "execution_count": 69,
   "metadata": {},
   "outputs": [],
   "source": [
    "all_pred_train = rfc_all_cw.predict(meta_train_df)\n",
    "all_pred_val = rfc_all_cw.predict(meta_val_df)\n",
    "all_pred_test = rfc_all_cw.predict(meta_test_df)"
   ]
  },
  {
   "cell_type": "code",
   "execution_count": 46,
   "metadata": {},
   "outputs": [
    {
     "data": {
      "text/plain": [
       "((17146, 4898), (17146, 915))"
      ]
     },
     "execution_count": 46,
     "metadata": {},
     "output_type": "execute_result"
    }
   ],
   "source": [
    "meta_val_df.shape, redval_df.shape"
   ]
  },
  {
   "cell_type": "markdown",
   "metadata": {},
   "source": [
    "#### F1 score"
   ]
  },
  {
   "cell_type": "code",
   "execution_count": 38,
   "metadata": {},
   "outputs": [
    {
     "data": {
      "text/plain": [
       "(0.13250517598343686, 0.13277441996490547)"
      ]
     },
     "execution_count": 38,
     "metadata": {},
     "output_type": "execute_result"
    }
   ],
   "source": [
    "# 40 features\n",
    "f1_score(y_val, y_pred) , f1_score(y_val, y_important_pred)"
   ]
  },
  {
   "cell_type": "markdown",
   "metadata": {},
   "source": [
    "#### Accuracy score"
   ]
  },
  {
   "cell_type": "code",
   "execution_count": 39,
   "metadata": {},
   "outputs": [
    {
     "data": {
      "text/plain": [
       "(0.4623818966522804, 0.4811617870057156)"
      ]
     },
     "execution_count": 39,
     "metadata": {},
     "output_type": "execute_result"
    }
   ],
   "source": [
    "accuracy_score(y_val, y_pred) , accuracy_score(y_val, y_important_pred)"
   ]
  },
  {
   "cell_type": "markdown",
   "metadata": {},
   "source": [
    "#### Recall score"
   ]
  },
  {
   "cell_type": "code",
   "execution_count": 40,
   "metadata": {},
   "outputs": [
    {
     "data": {
      "text/plain": [
       "(0.8262910798122066, 0.7992957746478874)"
      ]
     },
     "execution_count": 40,
     "metadata": {},
     "output_type": "execute_result"
    }
   ],
   "source": [
    "recall_score(y_val, y_pred) , recall_score(y_val, y_important_pred)"
   ]
  },
  {
   "cell_type": "markdown",
   "metadata": {},
   "source": [
    "#### Precision score"
   ]
  },
  {
   "cell_type": "code",
   "execution_count": 41,
   "metadata": {},
   "outputs": [
    {
     "data": {
      "text/plain": [
       "(0.07202782893390629, 0.07240059536466086)"
      ]
     },
     "execution_count": 41,
     "metadata": {},
     "output_type": "execute_result"
    }
   ],
   "source": [
    "precision_score(y_val, y_pred) , precision_score(y_val, y_important_pred)"
   ]
  },
  {
   "cell_type": "markdown",
   "metadata": {},
   "source": [
    "#### classification_report"
   ]
  },
  {
   "cell_type": "code",
   "execution_count": 42,
   "metadata": {},
   "outputs": [
    {
     "name": "stdout",
     "output_type": "stream",
     "text": [
      "              precision    recall  f1-score   support\n",
      "\n",
      "           0       0.98      0.44      0.61     16294\n",
      "           1       0.07      0.83      0.13       852\n",
      "\n",
      "    accuracy                           0.46     17146\n",
      "   macro avg       0.53      0.63      0.37     17146\n",
      "weighted avg       0.93      0.46      0.59     17146\n",
      " \n",
      "\n",
      "               precision    recall  f1-score   support\n",
      "\n",
      "           0       0.98      0.46      0.63     16294\n",
      "           1       0.07      0.80      0.13       852\n",
      "\n",
      "    accuracy                           0.48     17146\n",
      "   macro avg       0.53      0.63      0.38     17146\n",
      "weighted avg       0.93      0.48      0.61     17146\n",
      "\n"
     ]
    }
   ],
   "source": [
    "print(classification_report(y_val, y_pred) ,\"\\n\\n\", classification_report(y_val, y_important_pred))"
   ]
  },
  {
   "cell_type": "markdown",
   "metadata": {},
   "source": [
    "#### Confusion matrix"
   ]
  },
  {
   "cell_type": "code",
   "execution_count": 43,
   "metadata": {},
   "outputs": [
    {
     "name": "stdout",
     "output_type": "stream",
     "text": [
      "[[7224 9070]\n",
      " [ 148  704]] \n",
      "\n",
      " [[7569 8725]\n",
      " [ 171  681]]\n"
     ]
    }
   ],
   "source": [
    "# tn, fp, fn, tp\n",
    "print(confusion_matrix(y_val, y_pred) ,\"\\n\\n\", confusion_matrix(y_val, y_important_pred))"
   ]
  },
  {
   "cell_type": "code",
   "execution_count": 44,
   "metadata": {},
   "outputs": [
    {
     "name": "stdout",
     "output_type": "stream",
     "text": [
      "Healthy Patients - correctly identified (True Negatives):  7224 0.44335338161286364\n",
      "Healthy Patients - predicted to have glaucoma (False Positives):  9070 0.5566466183871364\n",
      "Glaucoma Patients - predicted healthy (False Negatives):  148 0.17370892018779344\n",
      "Glaucoma Patients - correctly identified (True Positives):  704 0.8262910798122066\n",
      "\n",
      "Total Glaucoma patients:  852 1.0\n",
      "Total Healthy patients:  16294 1.0\n"
     ]
    },
    {
     "data": {
      "image/png": "[encoded data removed]",
      "text/plain": [
       "<Figure size 360x360 with 2 Axes>"
      ]
     },
     "metadata": {
      "needs_background": "light"
     },
     "output_type": "display_data"
    }
   ],
   "source": [
    "plot_cm(y_val, y_pred)"
   ]
  },
  {
   "cell_type": "code",
   "execution_count": 45,
   "metadata": {},
   "outputs": [
    {
     "name": "stdout",
     "output_type": "stream",
     "text": [
      "Healthy Patients - correctly identified (True Negatives):  7569 0.4645268196882288\n",
      "Healthy Patients - predicted to have glaucoma (False Positives):  8725 0.5354731803117712\n",
      "Glaucoma Patients - predicted healthy (False Negatives):  171 0.2007042253521127\n",
      "Glaucoma Patients - correctly identified (True Positives):  681 0.7992957746478874\n",
      "\n",
      "Total Glaucoma patients:  852 1.0\n",
      "Total Healthy patients:  16294 1.0\n"
     ]
    },
    {
     "data": {
      "image/png": "[encoded data removed]",
      "text/plain": [
       "<Figure size 360x360 with 2 Axes>"
      ]
     },
     "metadata": {
      "needs_background": "light"
     },
     "output_type": "display_data"
    }
   ],
   "source": [
    "plot_cm(y_val, y_important_pred)"
   ]
  },
  {
   "cell_type": "code",
   "execution_count": 70,
   "metadata": {},
   "outputs": [
    {
     "name": "stdout",
     "output_type": "stream",
     "text": [
      "Metrics:\t\tTrain:\t\t\tValidation:\t\tTest:\n",
      "Accuracy:\t 0.4805396788366577 \t 0.4623818966522804 \t 0.4631984136241689\n",
      "Recall:\t\t 0.9736632083000798 \t 0.8262910798122066 \t 0.7924757281553398\n",
      "Precision:\t 0.08386608922801952 \t 0.07202782893390629 \t 0.0674168903572166\n",
      "F1 score:\t 0.15443037974683546 \t 0.13250517598343686 \t 0.12426260704091341\n",
      "AUC:\t\t 0.714474046723407 \t 0.6348222307125351 \t 0.6195254513831472\n"
     ]
    }
   ],
   "source": [
    "get_metrics(y_train, y_val, y_test, all_pred_train, all_pred_val, all_pred_test)"
   ]
  },
  {
   "cell_type": "markdown",
   "metadata": {},
   "source": [
    "## Creating and saving Dataframe containing final 40 features only\n"
   ]
  },
  {
   "cell_type": "code",
   "execution_count": 47,
   "metadata": {},
   "outputs": [
    {
     "data": {
      "text/plain": [
       "40"
      ]
     },
     "execution_count": 47,
     "metadata": {},
     "output_type": "execute_result"
    }
   ],
   "source": [
    "# Getting feature from feature description\n",
    "feat_to_keep = fi_red.Features\n",
    "featval_to_keep = []\n",
    "for i in range(len(feat_to_keep)):\n",
    "    for feat, desc in feat_unique_dict.items():    # for name, age in dictionary.iteritems():  (for Python 2.x)\n",
    "        if desc == feat_to_keep[i]:\n",
    "            featval_to_keep.append(feat)\n",
    "            break\n",
    "            \n",
    "len(featval_to_keep)"
   ]
  },
  {
   "cell_type": "code",
   "execution_count": 48,
   "metadata": {},
   "outputs": [
    {
     "data": {
      "text/plain": [
       "(51438, 444)"
      ]
     },
     "execution_count": 48,
     "metadata": {},
     "output_type": "execute_result"
    }
   ],
   "source": [
    "redtrain_df = meta_train_df.loc[:,meta_train_df.columns.str.startswith(featval_to_keep[0])]\n",
    "for i in range(1,len(featval_to_keep)):\n",
    "    redtrain_df = redtrain_df.join(meta_train_df.loc[:,meta_train_df.columns.str.startswith(featval_to_keep[i])])\n",
    "    \n",
    "redtrain_df.shape"
   ]
  },
  {
   "cell_type": "code",
   "execution_count": 49,
   "metadata": {},
   "outputs": [
    {
     "data": {
      "text/plain": [
       "(17146, 444)"
      ]
     },
     "execution_count": 49,
     "metadata": {},
     "output_type": "execute_result"
    }
   ],
   "source": [
    "redval_df = meta_val_df.loc[:,meta_val_df.columns.str.startswith(featval_to_keep[0])]\n",
    "for i in range(1,len(featval_to_keep)):\n",
    "    redval_df = redval_df.join(meta_val_df.loc[:,meta_val_df.columns.str.startswith(featval_to_keep[i])])\n",
    "    \n",
    "redval_df.shape"
   ]
  },
  {
   "cell_type": "code",
   "execution_count": 50,
   "metadata": {},
   "outputs": [
    {
     "data": {
      "text/plain": [
       "(17146, 444)"
      ]
     },
     "execution_count": 50,
     "metadata": {},
     "output_type": "execute_result"
    }
   ],
   "source": [
    "redtest_df = meta_test_df.loc[:,meta_test_df.columns.str.startswith(featval_to_keep[0])]\n",
    "for i in range(1,len(featval_to_keep)):\n",
    "    redtest_df = redtest_df.join(meta_test_df.loc[:,meta_test_df.columns.str.startswith(featval_to_keep[i])])\n",
    "    \n",
    "redtest_df.shape"
   ]
  },
  {
   "cell_type": "code",
   "execution_count": 51,
   "metadata": {},
   "outputs": [],
   "source": [
    "redtrain_df.to_pickle(tts_path + str(len(featval_to_keep))+'_features_union_train_df_FINAL.pkl')\n",
    "redval_df.to_pickle(tts_path + str(len(featval_to_keep))+'_features_union_val_df_FINAL.pkl')\n",
    "redtest_df.to_pickle(tts_path + str(len(featval_to_keep))+'_features_union_test_df_FINAL.pkl')"
   ]
  },
  {
   "cell_type": "markdown",
   "metadata": {},
   "source": [
    "## Loading"
   ]
  },
  {
   "cell_type": "code",
   "execution_count": 52,
   "metadata": {},
   "outputs": [
    {
     "data": {
      "text/plain": [
       "((51438, 444), (17146, 444), (17146, 444))"
      ]
     },
     "execution_count": 52,
     "metadata": {},
     "output_type": "execute_result"
    }
   ],
   "source": [
    "# LOAD\n",
    "final_redtrain_df = pd.read_pickle(tts_path + str(len(featval_to_keep))+'_features_union_train_df_FINAL.pkl')\n",
    "final_redval_df = pd.read_pickle(tts_path + str(len(featval_to_keep))+'_features_union_val_df_FINAL.pkl')\n",
    "final_redtest_df = pd.read_pickle(tts_path + str(len(featval_to_keep))+'_features_union_test_df_FINAL.pkl')\n",
    "final_redtrain_df.shape, final_redval_df.shape, final_redtest_df.shape"
   ]
  },
  {
   "cell_type": "markdown",
   "metadata": {},
   "source": [
    "## FINAL Performance on using important features only"
   ]
  },
  {
   "cell_type": "code",
   "execution_count": 56,
   "metadata": {},
   "outputs": [
    {
     "data": {
      "text/plain": [
       "RandomForestClassifier(bootstrap=True, class_weight={0: 1, 1: 35},\n",
       "                       criterion='gini', max_depth=8, max_features='auto',\n",
       "                       max_leaf_nodes=None, min_impurity_decrease=0.0,\n",
       "                       min_impurity_split=None, min_samples_leaf=4,\n",
       "                       min_samples_split=10, min_weight_fraction_leaf=0.0,\n",
       "                       n_estimators=300, n_jobs=-1, oob_score=True,\n",
       "                       random_state=None, verbose=0, warm_start=False)"
      ]
     },
     "execution_count": 56,
     "metadata": {},
     "output_type": "execute_result"
    }
   ],
   "source": [
    "rfc_imp = RandomForestClassifier(bootstrap=True,\n",
    "                                class_weight=class_weight, criterion='gini',\n",
    "                                max_depth=8, max_features='auto', max_leaf_nodes=None,\n",
    "                                min_impurity_decrease=0.0, min_impurity_split=None,\n",
    "                                min_samples_leaf=4, min_samples_split=10,\n",
    "                                min_weight_fraction_leaf=0.0, n_estimators=300,\n",
    "                                n_jobs=-1, oob_score=True,\n",
    "                                verbose=0, warm_start=False)\n",
    "\n",
    "rfc_imp.fit(final_redtrain_df, y_train)"
   ]
  },
  {
   "cell_type": "code",
   "execution_count": 58,
   "metadata": {},
   "outputs": [],
   "source": [
    "# True Values: y_train, y_val, y_test\n",
    "\n",
    "#Predicted Values\n",
    "imp_train_pred = rfc_imp.predict(final_redtrain_df)\n",
    "imp_val_pred = rfc_imp.predict(final_redval_df)\n",
    "imp_test_pred = rfc_imp.predict(final_redtest_df)\n"
   ]
  },
  {
   "cell_type": "code",
   "execution_count": 63,
   "metadata": {},
   "outputs": [
    {
     "name": "stdout",
     "output_type": "stream",
     "text": [
      "Metrics:\t\tTrain:\t\t\tValidation:\t\tTest:\n",
      "Accuracy:\t 0.524612154438353 \t 0.5036743263734982 \t 0.504607488627085\n",
      "Recall:\t\t 0.9573024740622506 \t 0.7910798122065728 \t 0.7633495145631068\n",
      "Precision:\t 0.08969900916059076 \t 0.07483899622473907 \t 0.07045250896057348\n",
      "F1 score:\t 0.16402858021947966 \t 0.13674173260296207 \t 0.12899917965545532\n",
      "AUC:\t\t 0.7298774284804836 \t 0.6398629698077175 \t 0.6274473341716404\n"
     ]
    }
   ],
   "source": [
    "get_metrics(y_train, y_val, y_test, imp_train_pred, imp_val_pred, imp_test_pred)"
   ]
  },
  {
   "cell_type": "code",
   "execution_count": 66,
   "metadata": {},
   "outputs": [
    {
     "name": "stdout",
     "output_type": "stream",
     "text": [
      "Healthy Patients - correctly identified (True Negatives):  24586 0.5024523828987166\n",
      "Healthy Patients - predicted to have glaucoma (False Positives):  24346 0.4975476171012834\n",
      "Glaucoma Patients - predicted healthy (False Negatives):  107 0.0426975259377494\n",
      "Glaucoma Patients - correctly identified (True Positives):  2399 0.9573024740622506\n",
      "\n",
      "Total Glaucoma patients:  2506 1.0\n",
      "Total Healthy patients:  48932 1.0\n"
     ]
    },
    {
     "data": {
      "image/png": "[encoded data removed]",
      "text/plain": [
       "<Figure size 360x360 with 2 Axes>"
      ]
     },
     "metadata": {
      "needs_background": "light"
     },
     "output_type": "display_data"
    }
   ],
   "source": [
    "plot_cm(y_train, imp_train_pred)"
   ]
  },
  {
   "cell_type": "code",
   "execution_count": 64,
   "metadata": {},
   "outputs": [
    {
     "name": "stdout",
     "output_type": "stream",
     "text": [
      "Healthy Patients - correctly identified (True Negatives):  7962 0.48864612740886215\n",
      "Healthy Patients - predicted to have glaucoma (False Positives):  8332 0.5113538725911378\n",
      "Glaucoma Patients - predicted healthy (False Negatives):  178 0.20892018779342722\n",
      "Glaucoma Patients - correctly identified (True Positives):  674 0.7910798122065728\n",
      "\n",
      "Total Glaucoma patients:  852 1.0\n",
      "Total Healthy patients:  16294 1.0\n"
     ]
    },
    {
     "data": {
      "image/png": "[encoded data removed]",
      "text/plain": [
       "<Figure size 360x360 with 2 Axes>"
      ]
     },
     "metadata": {
      "needs_background": "light"
     },
     "output_type": "display_data"
    }
   ],
   "source": [
    "plot_cm(y_val, imp_val_pred)"
   ]
  },
  {
   "cell_type": "code",
   "execution_count": 65,
   "metadata": {},
   "outputs": [
    {
     "name": "stdout",
     "output_type": "stream",
     "text": [
      "Healthy Patients - correctly identified (True Negatives):  8023 0.491545153780174\n",
      "Healthy Patients - predicted to have glaucoma (False Positives):  8299 0.508454846219826\n",
      "Glaucoma Patients - predicted healthy (False Negatives):  195 0.2366504854368932\n",
      "Glaucoma Patients - correctly identified (True Positives):  629 0.7633495145631068\n",
      "\n",
      "Total Glaucoma patients:  824 1.0\n",
      "Total Healthy patients:  16322 1.0\n"
     ]
    },
    {
     "data": {
      "image/png": "[encoded data removed]",
      "text/plain": [
       "<Figure size 360x360 with 2 Axes>"
      ]
     },
     "metadata": {
      "needs_background": "light"
     },
     "output_type": "display_data"
    }
   ],
   "source": [
    "plot_cm(y_test, imp_test_pred)"
   ]
  },
  {
   "cell_type": "code",
   "execution_count": null,
   "metadata": {},
   "outputs": [],
   "source": []
  }
 ],
 "metadata": {
  "kernelspec": {
   "display_name": "Python 2020",
   "language": "python",
   "name": "python2020"
  },
  "language_info": {
   "codemirror_mode": {
    "name": "ipython",
    "version": 3
   },
   "file_extension": ".py",
   "mimetype": "text/x-python",
   "name": "python",
   "nbconvert_exporter": "python",
   "pygments_lexer": "ipython3",
   "version": "3.7.5"
  }
 },
 "nbformat": 4,
 "nbformat_minor": 2
}
