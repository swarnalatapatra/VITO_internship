{
 "cells": [
  {
   "cell_type": "code",
   "execution_count": 1,
   "metadata": {
    "scrolled": false
   },
   "outputs": [
    {
     "name": "stdout",
     "output_type": "stream",
     "text": [
      "2019-12-29 22:37:15.895000\n",
      "\u001b[1m\u001b[37mthunder\u001b[m  Sun Dec 29 22:37:16 2019\n",
      "\u001b[36m[0]\u001b[m \u001b[34mGeForce GTX 1080 Ti\u001b[m |\u001b[1m\u001b[31m 66'C\u001b[m, \u001b[1m\u001b[32m 99 %\u001b[m | \u001b[36m\u001b[1m\u001b[33m10936\u001b[m / \u001b[33m11178\u001b[m MB | \u001b[1m\u001b[30mdavid\u001b[m(\u001b[33m10926M\u001b[m)\n",
      "\u001b[36m[1]\u001b[m \u001b[34mGeForce GTX 1080 Ti\u001b[m |\u001b[31m 28'C\u001b[m, \u001b[32m  0 %\u001b[m | \u001b[36m\u001b[1m\u001b[33m   10\u001b[m / \u001b[33m11178\u001b[m MB |\n",
      "\u001b[36m[2]\u001b[m \u001b[34mGeForce GTX 1080 Ti\u001b[m |\u001b[1m\u001b[31m 70'C\u001b[m, \u001b[1m\u001b[32m 98 %\u001b[m | \u001b[36m\u001b[1m\u001b[33m10936\u001b[m / \u001b[33m11178\u001b[m MB | \u001b[1m\u001b[30mdavid\u001b[m(\u001b[33m10926M\u001b[m)\n",
      "\u001b[36m[3]\u001b[m \u001b[34mGeForce GTX 1080 Ti\u001b[m |\u001b[31m 27'C\u001b[m, \u001b[32m  0 %\u001b[m | \u001b[36m\u001b[1m\u001b[33m   10\u001b[m / \u001b[33m11178\u001b[m MB |\n",
      "\u001b[36m[4]\u001b[m \u001b[34mGeForce GTX 1080 Ti\u001b[m |\u001b[31m 24'C\u001b[m, \u001b[32m  0 %\u001b[m | \u001b[36m\u001b[1m\u001b[33m  284\u001b[m / \u001b[33m11178\u001b[m MB | \u001b[1m\u001b[30msrikanth\u001b[m(\u001b[33m137M\u001b[m) \u001b[1m\u001b[30msrikanth\u001b[m(\u001b[33m137M\u001b[m)\n",
      "\u001b[36m[5]\u001b[m \u001b[34mGeForce GTX 1080 Ti\u001b[m |\u001b[31m 27'C\u001b[m, \u001b[32m  0 %\u001b[m | \u001b[36m\u001b[1m\u001b[33m   10\u001b[m / \u001b[33m11178\u001b[m MB |\n",
      "\u001b[36m[6]\u001b[m \u001b[34mGeForce GTX 1080 Ti\u001b[m |\u001b[31m 30'C\u001b[m, \u001b[32m  0 %\u001b[m | \u001b[36m\u001b[1m\u001b[33m   10\u001b[m / \u001b[33m11178\u001b[m MB |\n",
      "\u001b[36m[7]\u001b[m \u001b[34mGeForce GTX 1080 Ti\u001b[m |\u001b[31m 28'C\u001b[m, \u001b[32m  0 %\u001b[m | \u001b[36m\u001b[1m\u001b[33m   10\u001b[m / \u001b[33m11178\u001b[m MB |\n"
     ]
    },
    {
     "name": "stderr",
     "output_type": "stream",
     "text": [
      "/ds/environments/python2020/lib/python3.7/site-packages/sklearn/externals/joblib/__init__.py:15: DeprecationWarning: sklearn.externals.joblib is deprecated in 0.21 and will be removed in 0.23. Please import this functionality directly from joblib, which can be installed with: pip install joblib. If this warning is raised when loading pickled models, you may need to re-serialize those models with scikit-learn 0.21+.\n",
      "  warnings.warn(msg, category=DeprecationWarning)\n",
      "Using TensorFlow backend.\n",
      "/ds/environments/python2020/lib/python3.7/site-packages/keras/callbacks/callbacks.py:19: DeprecationWarning: Using or importing the ABCs from 'collections' instead of from 'collections.abc' is deprecated since Python 3.3,and in 3.9 it will stop working\n",
      "  from collections import Iterable\n"
     ]
    },
    {
     "name": "stdout",
     "output_type": "stream",
     "text": [
      "Dataset consist of 85730 patients data with 6251 features for each patient\n",
      "Function definitions executed\n",
      "Definitions DONE !!\n",
      "\n"
     ]
    }
   ],
   "source": [
    "%run ./Definitions.ipynb"
   ]
  },
  {
   "cell_type": "code",
   "execution_count": 2,
   "metadata": {},
   "outputs": [
    {
     "data": {
      "text/html": [
       "<div>\n",
       "<style scoped>\n",
       "    .dataframe tbody tr th:only-of-type {\n",
       "        vertical-align: middle;\n",
       "    }\n",
       "\n",
       "    .dataframe tbody tr th {\n",
       "        vertical-align: top;\n",
       "    }\n",
       "\n",
       "    .dataframe thead th {\n",
       "        text-align: right;\n",
       "    }\n",
       "</style>\n",
       "<table border=\"1\" class=\"dataframe\">\n",
       "  <thead>\n",
       "    <tr style=\"text-align: right;\">\n",
       "      <th></th>\n",
       "      <th>level_0</th>\n",
       "      <th>index</th>\n",
       "      <th>eid</th>\n",
       "      <th>21-0.0</th>\n",
       "      <th>21-1.0</th>\n",
       "      <th>21-2.0</th>\n",
       "      <th>23-0.0</th>\n",
       "      <th>23-1.0</th>\n",
       "      <th>23-2.0</th>\n",
       "      <th>31-0.0</th>\n",
       "      <th>...</th>\n",
       "      <th>41210-0.76</th>\n",
       "      <th>41210-0.77</th>\n",
       "      <th>41210-0.78</th>\n",
       "      <th>41210-0.79</th>\n",
       "      <th>41210-0.80</th>\n",
       "      <th>41210-0.81</th>\n",
       "      <th>41210-0.82</th>\n",
       "      <th>41210-0.83</th>\n",
       "      <th>41210-0.84</th>\n",
       "      <th>41210-0.85</th>\n",
       "    </tr>\n",
       "  </thead>\n",
       "  <tbody>\n",
       "    <tr>\n",
       "      <th>0</th>\n",
       "      <td>0</td>\n",
       "      <td>12</td>\n",
       "      <td>1000132</td>\n",
       "      <td>1.0</td>\n",
       "      <td>NaN</td>\n",
       "      <td>NaN</td>\n",
       "      <td>0.0</td>\n",
       "      <td>NaN</td>\n",
       "      <td>NaN</td>\n",
       "      <td>1</td>\n",
       "      <td>...</td>\n",
       "      <td>None</td>\n",
       "      <td>None</td>\n",
       "      <td>None</td>\n",
       "      <td>None</td>\n",
       "      <td>None</td>\n",
       "      <td>None</td>\n",
       "      <td>None</td>\n",
       "      <td>None</td>\n",
       "      <td>None</td>\n",
       "      <td>None</td>\n",
       "    </tr>\n",
       "    <tr>\n",
       "      <th>1</th>\n",
       "      <td>1</td>\n",
       "      <td>26</td>\n",
       "      <td>1000277</td>\n",
       "      <td>1.0</td>\n",
       "      <td>NaN</td>\n",
       "      <td>NaN</td>\n",
       "      <td>0.0</td>\n",
       "      <td>NaN</td>\n",
       "      <td>NaN</td>\n",
       "      <td>1</td>\n",
       "      <td>...</td>\n",
       "      <td>None</td>\n",
       "      <td>None</td>\n",
       "      <td>None</td>\n",
       "      <td>None</td>\n",
       "      <td>None</td>\n",
       "      <td>None</td>\n",
       "      <td>None</td>\n",
       "      <td>None</td>\n",
       "      <td>None</td>\n",
       "      <td>None</td>\n",
       "    </tr>\n",
       "    <tr>\n",
       "      <th>2</th>\n",
       "      <td>2</td>\n",
       "      <td>46</td>\n",
       "      <td>1000472</td>\n",
       "      <td>1.0</td>\n",
       "      <td>NaN</td>\n",
       "      <td>NaN</td>\n",
       "      <td>0.0</td>\n",
       "      <td>NaN</td>\n",
       "      <td>NaN</td>\n",
       "      <td>0</td>\n",
       "      <td>...</td>\n",
       "      <td>None</td>\n",
       "      <td>None</td>\n",
       "      <td>None</td>\n",
       "      <td>None</td>\n",
       "      <td>None</td>\n",
       "      <td>None</td>\n",
       "      <td>None</td>\n",
       "      <td>None</td>\n",
       "      <td>None</td>\n",
       "      <td>None</td>\n",
       "    </tr>\n",
       "    <tr>\n",
       "      <th>3</th>\n",
       "      <td>3</td>\n",
       "      <td>47</td>\n",
       "      <td>1000487</td>\n",
       "      <td>1.0</td>\n",
       "      <td>NaN</td>\n",
       "      <td>NaN</td>\n",
       "      <td>0.0</td>\n",
       "      <td>NaN</td>\n",
       "      <td>NaN</td>\n",
       "      <td>1</td>\n",
       "      <td>...</td>\n",
       "      <td>None</td>\n",
       "      <td>None</td>\n",
       "      <td>None</td>\n",
       "      <td>None</td>\n",
       "      <td>None</td>\n",
       "      <td>None</td>\n",
       "      <td>None</td>\n",
       "      <td>None</td>\n",
       "      <td>None</td>\n",
       "      <td>None</td>\n",
       "    </tr>\n",
       "    <tr>\n",
       "      <th>4</th>\n",
       "      <td>4</td>\n",
       "      <td>67</td>\n",
       "      <td>1000684</td>\n",
       "      <td>1.0</td>\n",
       "      <td>NaN</td>\n",
       "      <td>1.0</td>\n",
       "      <td>0.0</td>\n",
       "      <td>NaN</td>\n",
       "      <td>0.0</td>\n",
       "      <td>1</td>\n",
       "      <td>...</td>\n",
       "      <td>None</td>\n",
       "      <td>None</td>\n",
       "      <td>None</td>\n",
       "      <td>None</td>\n",
       "      <td>None</td>\n",
       "      <td>None</td>\n",
       "      <td>None</td>\n",
       "      <td>None</td>\n",
       "      <td>None</td>\n",
       "      <td>None</td>\n",
       "    </tr>\n",
       "    <tr>\n",
       "      <th>...</th>\n",
       "      <td>...</td>\n",
       "      <td>...</td>\n",
       "      <td>...</td>\n",
       "      <td>...</td>\n",
       "      <td>...</td>\n",
       "      <td>...</td>\n",
       "      <td>...</td>\n",
       "      <td>...</td>\n",
       "      <td>...</td>\n",
       "      <td>...</td>\n",
       "      <td>...</td>\n",
       "      <td>...</td>\n",
       "      <td>...</td>\n",
       "      <td>...</td>\n",
       "      <td>...</td>\n",
       "      <td>...</td>\n",
       "      <td>...</td>\n",
       "      <td>...</td>\n",
       "      <td>...</td>\n",
       "      <td>...</td>\n",
       "      <td>...</td>\n",
       "    </tr>\n",
       "    <tr>\n",
       "      <th>85725</th>\n",
       "      <td>85725</td>\n",
       "      <td>502508</td>\n",
       "      <td>6025090</td>\n",
       "      <td>1.0</td>\n",
       "      <td>NaN</td>\n",
       "      <td>1.0</td>\n",
       "      <td>0.0</td>\n",
       "      <td>NaN</td>\n",
       "      <td>0.0</td>\n",
       "      <td>1</td>\n",
       "      <td>...</td>\n",
       "      <td>None</td>\n",
       "      <td>None</td>\n",
       "      <td>None</td>\n",
       "      <td>None</td>\n",
       "      <td>None</td>\n",
       "      <td>None</td>\n",
       "      <td>None</td>\n",
       "      <td>None</td>\n",
       "      <td>None</td>\n",
       "      <td>None</td>\n",
       "    </tr>\n",
       "    <tr>\n",
       "      <th>85726</th>\n",
       "      <td>85726</td>\n",
       "      <td>502511</td>\n",
       "      <td>6025121</td>\n",
       "      <td>1.0</td>\n",
       "      <td>NaN</td>\n",
       "      <td>NaN</td>\n",
       "      <td>0.0</td>\n",
       "      <td>NaN</td>\n",
       "      <td>NaN</td>\n",
       "      <td>1</td>\n",
       "      <td>...</td>\n",
       "      <td>None</td>\n",
       "      <td>None</td>\n",
       "      <td>None</td>\n",
       "      <td>None</td>\n",
       "      <td>None</td>\n",
       "      <td>None</td>\n",
       "      <td>None</td>\n",
       "      <td>None</td>\n",
       "      <td>None</td>\n",
       "      <td>None</td>\n",
       "    </tr>\n",
       "    <tr>\n",
       "      <th>85727</th>\n",
       "      <td>85727</td>\n",
       "      <td>502523</td>\n",
       "      <td>6025245</td>\n",
       "      <td>1.0</td>\n",
       "      <td>NaN</td>\n",
       "      <td>NaN</td>\n",
       "      <td>0.0</td>\n",
       "      <td>NaN</td>\n",
       "      <td>NaN</td>\n",
       "      <td>1</td>\n",
       "      <td>...</td>\n",
       "      <td>None</td>\n",
       "      <td>None</td>\n",
       "      <td>None</td>\n",
       "      <td>None</td>\n",
       "      <td>None</td>\n",
       "      <td>None</td>\n",
       "      <td>None</td>\n",
       "      <td>None</td>\n",
       "      <td>None</td>\n",
       "      <td>None</td>\n",
       "    </tr>\n",
       "    <tr>\n",
       "      <th>85728</th>\n",
       "      <td>85728</td>\n",
       "      <td>502524</td>\n",
       "      <td>6025258</td>\n",
       "      <td>1.0</td>\n",
       "      <td>1.0</td>\n",
       "      <td>NaN</td>\n",
       "      <td>0.0</td>\n",
       "      <td>0.0</td>\n",
       "      <td>NaN</td>\n",
       "      <td>1</td>\n",
       "      <td>...</td>\n",
       "      <td>None</td>\n",
       "      <td>None</td>\n",
       "      <td>None</td>\n",
       "      <td>None</td>\n",
       "      <td>None</td>\n",
       "      <td>None</td>\n",
       "      <td>None</td>\n",
       "      <td>None</td>\n",
       "      <td>None</td>\n",
       "      <td>None</td>\n",
       "    </tr>\n",
       "    <tr>\n",
       "      <th>85729</th>\n",
       "      <td>85729</td>\n",
       "      <td>502535</td>\n",
       "      <td>6025364</td>\n",
       "      <td>1.0</td>\n",
       "      <td>NaN</td>\n",
       "      <td>NaN</td>\n",
       "      <td>0.0</td>\n",
       "      <td>NaN</td>\n",
       "      <td>NaN</td>\n",
       "      <td>1</td>\n",
       "      <td>...</td>\n",
       "      <td>None</td>\n",
       "      <td>None</td>\n",
       "      <td>None</td>\n",
       "      <td>None</td>\n",
       "      <td>None</td>\n",
       "      <td>None</td>\n",
       "      <td>None</td>\n",
       "      <td>None</td>\n",
       "      <td>None</td>\n",
       "      <td>None</td>\n",
       "    </tr>\n",
       "  </tbody>\n",
       "</table>\n",
       "<p>85730 rows × 6251 columns</p>\n",
       "</div>"
      ],
      "text/plain": [
       "       level_0   index      eid  21-0.0  21-1.0  21-2.0  23-0.0  23-1.0  \\\n",
       "0            0      12  1000132     1.0     NaN     NaN     0.0     NaN   \n",
       "1            1      26  1000277     1.0     NaN     NaN     0.0     NaN   \n",
       "2            2      46  1000472     1.0     NaN     NaN     0.0     NaN   \n",
       "3            3      47  1000487     1.0     NaN     NaN     0.0     NaN   \n",
       "4            4      67  1000684     1.0     NaN     1.0     0.0     NaN   \n",
       "...        ...     ...      ...     ...     ...     ...     ...     ...   \n",
       "85725    85725  502508  6025090     1.0     NaN     1.0     0.0     NaN   \n",
       "85726    85726  502511  6025121     1.0     NaN     NaN     0.0     NaN   \n",
       "85727    85727  502523  6025245     1.0     NaN     NaN     0.0     NaN   \n",
       "85728    85728  502524  6025258     1.0     1.0     NaN     0.0     0.0   \n",
       "85729    85729  502535  6025364     1.0     NaN     NaN     0.0     NaN   \n",
       "\n",
       "       23-2.0  31-0.0  ...  41210-0.76  41210-0.77  41210-0.78  41210-0.79  \\\n",
       "0         NaN       1  ...        None        None        None        None   \n",
       "1         NaN       1  ...        None        None        None        None   \n",
       "2         NaN       0  ...        None        None        None        None   \n",
       "3         NaN       1  ...        None        None        None        None   \n",
       "4         0.0       1  ...        None        None        None        None   \n",
       "...       ...     ...  ...         ...         ...         ...         ...   \n",
       "85725     0.0       1  ...        None        None        None        None   \n",
       "85726     NaN       1  ...        None        None        None        None   \n",
       "85727     NaN       1  ...        None        None        None        None   \n",
       "85728     NaN       1  ...        None        None        None        None   \n",
       "85729     NaN       1  ...        None        None        None        None   \n",
       "\n",
       "       41210-0.80  41210-0.81  41210-0.82 41210-0.83  41210-0.84  41210-0.85  \n",
       "0            None        None        None       None        None        None  \n",
       "1            None        None        None       None        None        None  \n",
       "2            None        None        None       None        None        None  \n",
       "3            None        None        None       None        None        None  \n",
       "4            None        None        None       None        None        None  \n",
       "...           ...         ...         ...        ...         ...         ...  \n",
       "85725        None        None        None       None        None        None  \n",
       "85726        None        None        None       None        None        None  \n",
       "85727        None        None        None       None        None        None  \n",
       "85728        None        None        None       None        None        None  \n",
       "85729        None        None        None       None        None        None  \n",
       "\n",
       "[85730 rows x 6251 columns]"
      ]
     },
     "execution_count": 2,
     "metadata": {},
     "output_type": "execute_result"
    }
   ],
   "source": [
    "fundus_df"
   ]
  },
  {
   "cell_type": "code",
   "execution_count": 10,
   "metadata": {},
   "outputs": [
    {
     "name": "stdout",
     "output_type": "stream",
     "text": [
      "(85730, 6251)\n"
     ]
    }
   ],
   "source": [
    "# print(fundus_df.shape)\n",
    "# fundus_df_arr = fundus_df.to_numpy()"
   ]
  },
  {
   "cell_type": "markdown",
   "metadata": {},
   "source": [
    "# Eye Diseases \n",
    "## Data-coding 100523 \n",
    "\"Has a doctor told you that you have any of the following problems with your eyes? (You can select more than one answer)\""
   ]
  },
  {
   "cell_type": "code",
   "execution_count": 11,
   "metadata": {},
   "outputs": [],
   "source": [
    "df_100523 = fundus_df.iloc[:,4248:4263]\n",
    "df100523_arr = df_100523.to_numpy()"
   ]
  },
  {
   "cell_type": "code",
   "execution_count": 12,
   "metadata": {},
   "outputs": [],
   "source": [
    "df100523_unique = []\n",
    "for i in range(len(df100523_arr)):\n",
    "    temp_list = []\n",
    "    for j in range(df100523_arr[i].shape[0]):\n",
    "#         print(df100523_arr[i][j], temp_list, \"\\n\\n\")\n",
    "        if(~np.isnan(df100523_arr[i][j])):\n",
    "            if (len(temp_list) == 0):\n",
    "                temp_list.append(df100523_arr[i][j])\n",
    "            elif(df100523_arr[i][j] not in temp_list):\n",
    "                temp_list.append(df100523_arr[i][j])\n",
    "            else:\n",
    "                continue\n",
    "    df100523_unique.append(temp_list)\n",
    "\n",
    "# Converting the final unique clean list of arrays to 2D numpy array for easier access\n",
    "df100523_unique_arr = np.array([np.array(xi) for xi in df100523_unique])\n"
   ]
  },
  {
   "cell_type": "markdown",
   "metadata": {},
   "source": [
    "###### Uncomment below to view counts"
   ]
  },
  {
   "cell_type": "code",
   "execution_count": 8,
   "metadata": {
    "scrolled": false
   },
   "outputs": [
    {
     "name": "stdout",
     "output_type": "stream",
     "text": [
      "Cataract                                          ----------------5968\n",
      "Other serious eye condition                       ----------------1982\n",
      "Glaucoma                                          ----------------1783\n",
      "Macular degeneration                              ----------------1272\n",
      "Diabetes related eye disease                      ----------------1043\n",
      "Injury or trauma resulting in loss of vision      -----------------650\n",
      "Prefer not to answer                              -----------------201\n"
     ]
    }
   ],
   "source": [
    "# disease_freqq = get_sorted_unique(df_100523)\n",
    "# dict_100523 = {1:'Diabetes related eye disease',2:'Glaucoma',3:'Injury or trauma resulting in loss of vision',\n",
    "#                4:'Cataract',5:'Macular degeneration',6:'Other serious eye condition',-7:'None of the above',-3:'Prefer not to answer',-1:'Do not know',0:'NaN'}\n",
    "# for i in range(len(dict_100523)):\n",
    "#     if ('None' not in dict_100523[disease_freqq[i][0]]) and ('NaN' not in dict_100523[disease_freqq[i][0]]) and ('know' not in dict_100523[disease_freqq[i][0]]):\n",
    "#         print('{:<50s}{:->20}'.format(dict_100523[disease_freqq[i][0]],disease_freqq[i][1]))\n"
   ]
  },
  {
   "cell_type": "code",
   "execution_count": 21,
   "metadata": {
    "scrolled": true
   },
   "outputs": [],
   "source": [
    "# pip install jupyter_nbextensions_configurator enable --user"
   ]
  },
  {
   "cell_type": "markdown",
   "metadata": {},
   "source": [
    "## Further questions asked based on above answers:"
   ]
  },
  {
   "cell_type": "markdown",
   "metadata": {},
   "source": [
    "### 1. Age at which glaucoma is diagnosed"
   ]
  },
  {
   "cell_type": "code",
   "execution_count": 5,
   "metadata": {},
   "outputs": [],
   "source": [
    "# Age at which glaucoma is diagnosed\n",
    "\n",
    "#Checking count of how many people answered with a value\n",
    "df_100291 = fundus_df.iloc[:,1516:1519]\n",
    "df_100291_arr = df_100291.to_numpy()\n",
    "df_100291_list = []\n",
    "for i in range(df_100291_arr.shape[0]):\n",
    "    temp = df_100291_arr[i]\n",
    "    if(temp[~np.isnan(temp)].any()):\n",
    "        df_100291_list.append(temp[~np.isnan(temp)])"
   ]
  },
  {
   "cell_type": "markdown",
   "metadata": {},
   "source": [
    "###### Uncomment below to view counts"
   ]
  },
  {
   "cell_type": "code",
   "execution_count": 10,
   "metadata": {},
   "outputs": [
    {
     "name": "stdout",
     "output_type": "stream",
     "text": [
      "No. of patients gave an answer: 1754\n",
      "No. of patients gave an age: 1653\n",
      "No. of people replied with don't know or prefer not to answer: 101\n"
     ]
    }
   ],
   "source": [
    "# cnt = len(df_100291_list)\n",
    "# print(\"No. of patients gave an answer:\",cnt)\n",
    "# for i in range(len(df_100291_list)):\n",
    "#     for j in range(len(df_100291_list[i])):\n",
    "#         if(df_100291_list[i][j] < 4):\n",
    "#             cnt-=1\n",
    "# print(\"No. of patients gave an age:\",cnt)\n",
    "# # 1653 people have answered with a age for themselves when glaucoma was detected for them.\n",
    "# print(\"No. of people replied with don't know or prefer not to answer:\",len(df_100291_list) - cnt)  "
   ]
  },
  {
   "cell_type": "markdown",
   "metadata": {},
   "source": [
    "### 2. Which eye(s) affected by glaucoma - data coding 100515\n"
   ]
  },
  {
   "cell_type": "code",
   "execution_count": 6,
   "metadata": {},
   "outputs": [],
   "source": [
    "# Which eye(s) affected by glaucoma - data coding 100515\n",
    "\n",
    "df_100515 = fundus_df.iloc[:,4209:4212]\n",
    "a = df_100515['6119-0.0'].value_counts()\n",
    "b = df_100515['6119-1.0'].value_counts()\n",
    "c = df_100515['6119-2.0'].value_counts()\n",
    "d = c.add(a.add(b))\n",
    "\n",
    "dict_100515 = {1:\"Left\", 2:\"Right\", 3:\"Both\" }"
   ]
  },
  {
   "cell_type": "markdown",
   "metadata": {},
   "source": [
    "###### Uncomment below to view counts"
   ]
  },
  {
   "cell_type": "code",
   "execution_count": 11,
   "metadata": {
    "scrolled": true
   },
   "outputs": [
    {
     "name": "stdout",
     "output_type": "stream",
     "text": [
      "Count: 1:Left 2:Right 3:Both\n",
      "1.0     266\n",
      "2.0     258\n",
      "3.0    1451\n",
      "dtype: int64\n",
      "Total = 1975 patients answered with which eye was affected.\n"
     ]
    }
   ],
   "source": [
    "# print(\"Count: 1:Left 2:Right 3:Both\")\n",
    "# print(d)\n",
    "# print(\"Total =\", d.sum(), \"patients answered with which eye was affected.\")\n",
    "\n"
   ]
  },
  {
   "cell_type": "markdown",
   "metadata": {},
   "source": [
    "### 3. Ever had glaucoma surgery or laser treatment for glaucoma or high eye pressure - data coding 100272\n"
   ]
  },
  {
   "cell_type": "code",
   "execution_count": 7,
   "metadata": {},
   "outputs": [],
   "source": [
    "# Ever had glaucoma surgery or laser treatment for glaucoma or high eye pressure - data coding 100272\n",
    "df_100272 = fundus_df.iloc[:,2720:2724]\n",
    "df_100272_arr = df_100272.to_numpy()\n",
    "df_100272_list = [] # Answers given by the patient about surgery\n",
    "df_100272_list_pid = [] # Which patient answered it with 0,2,3,4,5\n",
    "\n",
    "surgery_patients = [] # patients who replied either with left right or both eye had surgery\n",
    "surgery_id = []       # which eye 2: right, 3: left, 4: both\n",
    "\n",
    "dict_100523 = {0: \"No Surgery\", 2: \"Right Eye Operated\", 3: \"Left Eye Operated\", 4: \"Both Eyes Operated\", 5: \"Don't Know\"}\n",
    "\n",
    "for i in range(df_100272_arr.shape[0]):\n",
    "    temp = df_100272_arr[i]\n",
    "    if(temp[~np.isnan(temp)].any()):\n",
    "        df_100272_list.append(temp[~np.isnan(temp)])\n",
    "        df_100272_list_pid.append(i)\n"
   ]
  },
  {
   "cell_type": "markdown",
   "metadata": {},
   "source": [
    "###### Uncomment below to view counts"
   ]
  },
  {
   "cell_type": "code",
   "execution_count": 52,
   "metadata": {},
   "outputs": [
    {
     "name": "stdout",
     "output_type": "stream",
     "text": [
      "Patients having either left or right or both eyes operated for glaucoma: 26\n",
      "Patients don't know: 54\n",
      "Patients who didn't have surgery: 363\n"
     ]
    }
   ],
   "source": [
    "      \n",
    "cnt0 = 0 # Didn't have surgery    \n",
    "cnt1 = 0 # Don't know\n",
    "cnt2 = 0 # Had surgery in left, right or both eyes\n",
    "\n",
    "for i in range(len(df_100272_list)):\n",
    "    if(0 in df_100272_list[i]):\n",
    "        cnt0 +=1\n",
    "    elif(5 in df_100272_list[i]):\n",
    "        cnt1 +=1\n",
    "    else:\n",
    "        cnt2+=1\n",
    "        surgery_patients.append(df_100272_list_pid[i])\n",
    "        surgery_id.append(df_100272_list[i])\n",
    "\n",
    "# print(\"Patients having either left or right or both eyes operated for glaucoma:\",cnt2)\n",
    "# print(\"Patients don't know:\",cnt1)\n",
    "# print(\"Patients who didn't have surgery:\",cnt0)"
   ]
  },
  {
   "cell_type": "markdown",
   "metadata": {},
   "source": [
    "### Which eye had Glaucoma and which eye is operated for a particular patient"
   ]
  },
  {
   "cell_type": "markdown",
   "metadata": {},
   "source": [
    "###### Uncomment below to view counts"
   ]
  },
  {
   "cell_type": "code",
   "execution_count": 63,
   "metadata": {},
   "outputs": [
    {
     "name": "stdout",
     "output_type": "stream",
     "text": [
      "\n",
      "\n",
      "For Patient: 2154 \n",
      "Glaucoma found in: Both Eyes \n",
      " Both Eyes Operated\n",
      "\n",
      "\n",
      "For Patient: 5504 \n",
      "Glaucoma found in: Both Eyes \n",
      " Both Eyes Operated\n",
      "\n",
      "\n",
      "For Patient: 12919 \n",
      "Glaucoma found in: Both Eyes \n",
      " Both Eyes Operated\n",
      "\n",
      "\n",
      "For Patient: 17303 \n",
      "Glaucoma found in: Both Eyes \n",
      " Left Eye Operated\n",
      "\n",
      "\n",
      "For Patient: 20369 \n",
      "Glaucoma found in: Both Eyes \n",
      " Both Eyes Operated\n",
      "\n",
      "\n",
      "For Patient: 25927 \n",
      "Glaucoma found in: Both Eyes \n",
      " Both Eyes Operated\n",
      "\n",
      "\n",
      "For Patient: 25933 \n",
      "Glaucoma found in: Left Eye \n",
      " Right Eye Operated\n",
      "\n",
      "\n",
      "For Patient: 35410 \n",
      "Glaucoma found in: Both Eyes \n",
      " Left Eye Operated\n",
      "\n",
      "\n",
      "For Patient: 40407 \n",
      "Glaucoma found in: Both Eyes \n",
      " Left Eye Operated\n",
      "\n",
      "\n",
      "For Patient: 50752 \n",
      "Glaucoma found in: Both Eyes \n",
      " Left Eye Operated\n",
      "\n",
      "\n",
      "For Patient: 51790 \n",
      "Glaucoma found in: Both Eyes \n",
      " Left Eye Operated\n",
      "\n",
      "\n",
      "For Patient: 54321 \n",
      "Glaucoma found in: Both Eyes \n",
      " Both Eyes Operated\n",
      "\n",
      "\n",
      "For Patient: 57049 \n",
      "Glaucoma found in: Both Eyes \n",
      " Both Eyes Operated\n",
      "\n",
      "\n",
      "For Patient: 59189 \n",
      "Glaucoma found in: Both Eyes \n",
      " Left Eye Operated\n",
      "\n",
      "\n",
      "For Patient: 59854 \n",
      "Glaucoma found in: Both Eyes \n",
      " Both Eyes Operated\n",
      "\n",
      "\n",
      "For Patient: 62750 \n",
      "Glaucoma found in: Both Eyes \n",
      " Both Eyes Operated\n",
      "\n",
      "\n",
      "For Patient: 64383 \n",
      "Glaucoma found in: Left Eye \n",
      " Right Eye Operated\n",
      "\n",
      "\n",
      "For Patient: 68015 \n",
      "Glaucoma found in: Left Eye \n",
      " Both Eyes Operated\n",
      "\n",
      "\n",
      "For Patient: 69860 \n",
      "Glaucoma found in: Both Eyes \n",
      " Left Eye Operated\n",
      "\n",
      "\n",
      "For Patient: 75330 \n",
      "Glaucoma found in: Both Eyes \n",
      " Right Eye Operated\n",
      "\n",
      "\n",
      "For Patient: 76566 \n",
      "Glaucoma found in: Both Eyes \n",
      " Both Eyes Operated\n",
      "\n",
      "\n",
      "For Patient: 81302 \n",
      "Glaucoma found in: Both Eyes \n",
      " Both Eyes Operated\n",
      "\n",
      "\n",
      "For Patient: 81424 \n",
      "Glaucoma found in: Both Eyes \n",
      " Both Eyes Operated\n",
      "\n",
      "\n",
      "For Patient: 83032 \n",
      "Glaucoma found in: Both Eyes \n",
      " Right Eye Operated\n",
      "\n",
      "\n",
      "For Patient: 85047 \n",
      "Glaucoma found in: Don't know \n",
      " Right Eye Operated\n",
      "\n",
      "\n",
      "For Patient: 85522 \n",
      "Glaucoma found in: Both Eyes \n",
      " Both Eyes Operated\n"
     ]
    }
   ],
   "source": [
    "## which eye have glaucoma - dictionary of code meaning\n",
    "## which_eye_dict = {0: \"Don't know\", 1: \"Left Eye\", 2: \"Right Eye\", 3: \"Both Eyes\"}\n",
    "\n",
    "# for i in range(len(surgery_patients)):\n",
    "#     pat = surgery_patients[i]\n",
    "#     eye_operated = surgery_id[i][-1]\n",
    "#     print(\"\\n\\nFor Patient:\",pat,\"\\nGlaucoma found in:\",which_eye_dict[which_eye(pat)],\"\\n\", dict_100523[eye_operated])"
   ]
  },
  {
   "cell_type": "markdown",
   "metadata": {},
   "source": [
    "## Data-coding 19 - ICD10"
   ]
  },
  {
   "cell_type": "code",
   "execution_count": 30,
   "metadata": {},
   "outputs": [],
   "source": [
    "# Getting the specific columns which use data-coding 19\n",
    "# We do not consider the type of cancer and external cause of death\n",
    "\n",
    "df_prim_death = fundus_df.iloc[:,5720:5722] # Underlying (primary) cause of death: ICD10\n",
    "df_sec_death = fundus_df.iloc[:,5722:5744] # \tContributory (secondary) causes of death: ICD10\n",
    "df_main = fundus_df.iloc[:,5885:5951] # Diagnoses - main ICD10\n",
    "df_sec = fundus_df.iloc[:,5951:6135] # Diagnoses - secondary ICD10\n",
    "df_19 = pd.concat([df_prim_death, df_sec_death, df_main, df_sec], axis=1)\n",
    "df19_arr = df_19.to_numpy()"
   ]
  },
  {
   "cell_type": "code",
   "execution_count": 31,
   "metadata": {},
   "outputs": [],
   "source": [
    "# Removing None elements and form a cleaner list\n",
    "df19_clean = []\n",
    "for i in range(df19_arr.shape[0]):\n",
    "    temp = df19_arr[i]\n",
    "    df19_clean.append(temp[temp != np.array(None)])    \n",
    "\n",
    "# Unique element for each row/ patient\n",
    "df19_clean_unique = []\n",
    "\n",
    "for i in range(len(df19_clean)):\n",
    "    temp_list = []\n",
    "    for j in range(df19_clean[i].shape[0]):\n",
    "        if (len(temp_list) == 0):\n",
    "            temp_list.append(df19_clean[i][j])\n",
    "        elif(df19_clean[i][j] not in temp_list):\n",
    "            temp_list.append(df19_clean[i][j])\n",
    "        else:\n",
    "            continue\n",
    "    df19_clean_unique.append(temp_list)\n",
    "    \n",
    "# Converting the final unique clean list of arrays to 2D numpy array for easier access\n",
    "df19_clean_arr = np.array([np.array(xi) for xi in df19_clean_unique])\n",
    "\n",
    "# Count of each unique disease in the dataset\n",
    "uniqueValues, occurCount = np.unique(np.asarray([item for sublist in df19_clean_arr for item in sublist]), return_counts=True)\n",
    "# Creating a dictionary to access the frequency of each unique disease\n",
    "# disease_freq = {uniqueValues[i]: occurCount[i] for i in range(len(occurCount))}\n",
    "disease_freq = dict(zip(uniqueValues, occurCount))\n",
    "# Getting the list in a sorted array for viewing purpose\n",
    "sort_disease_freq = sorted(disease_freq.items(), key=lambda x: x[1], reverse=True)"
   ]
  },
  {
   "cell_type": "markdown",
   "metadata": {},
   "source": [
    "##### Diseases by Categories"
   ]
  },
  {
   "cell_type": "markdown",
   "metadata": {},
   "source": [
    "###### Uncomment below to view counts"
   ]
  },
  {
   "cell_type": "code",
   "execution_count": 32,
   "metadata": {
    "scrolled": true
   },
   "outputs": [],
   "source": [
    "# # For All diseases\n",
    "# discode_cat = [] # has all the major disease codes of data-coding 19\n",
    "# for i in range(len(discode_list)):\n",
    "#     if(len(discode_list[i]) == 3):\n",
    "#         discode_cat.append(discode_list[i])\n",
    "        \n",
    "# # For Eye, Neuro and Cardio diseases only\n",
    "# discode_list_specific = dc19_categories['EYE'] + dc19_categories['NEURO'] + dc19_categories['CARDIO']\n",
    "# discode_cat_specific = []\n",
    "# for i in range(len(discode_list_specific)):\n",
    "#     if(len(discode_list_specific[i]) == 3):\n",
    "#         discode_cat_specific.append(discode_list_specific[i])"
   ]
  },
  {
   "cell_type": "markdown",
   "metadata": {},
   "source": [
    "##### Below setting is to run for only EYE, NEURO and CARDIO related diseases\n",
    "To run it for all categories, **REPLACE** below fields in order to avoid overwriting:\n",
    "\n",
    "count_cat_specific by **count_cat** , discode_cat_specific by **discode_cat** , \n",
    "dict_specific by **dict_all** , sort_dict_specific by **sort_dict_all**"
   ]
  },
  {
   "cell_type": "markdown",
   "metadata": {},
   "source": [
    "###### Uncomment below to view counts"
   ]
  },
  {
   "cell_type": "code",
   "execution_count": 33,
   "metadata": {},
   "outputs": [
    {
     "name": "stdout",
     "output_type": "stream",
     "text": [
      "--- 257.3717143535614 seconds ---\n"
     ]
    }
   ],
   "source": [
    "# import time\n",
    "# start_time = time.time()\n",
    "\n",
    "# count_cat_specific = []\n",
    "# for i in range(len(discode_cat_specific)):\n",
    "#     tempsum = 0\n",
    "#     for j in range(df19_clean_arr.shape[0]):\n",
    "#         if( len(df19_clean_arr[j])> 1 ):\n",
    "# #             print(df_clean_arr[j])\n",
    "#             tempsum = tempsum + np.sum(np.char.count(df19_clean_arr[j], sub = discode_cat_specific[i]))\n",
    "# #             print(tempsum)\n",
    "#     count_cat_specific.append(tempsum)\n",
    "\n",
    "# print(\"--- %s seconds ---\" % (time.time() - start_time))\n",
    "\n",
    "# # Dictionary to store discode_cat_specific and its count count_cat_specific in a asorted manner\n",
    "\n",
    "# dict_specific = {discode_cat_specific[i]: count_cat_specific[i] for i in range(len(count_cat_specific))}\n",
    "# sort_dict_specific = sorted(dict_specific.items(), key=lambda x: x[1], reverse=True)"
   ]
  },
  {
   "cell_type": "markdown",
   "metadata": {},
   "source": [
    "##### Checking sub codes for each category"
   ]
  },
  {
   "cell_type": "markdown",
   "metadata": {},
   "source": [
    "###### Uncomment below to view counts"
   ]
  },
  {
   "cell_type": "code",
   "execution_count": 34,
   "metadata": {},
   "outputs": [
    {
     "name": "stdout",
     "output_type": "stream",
     "text": [
      "H40.9 Glaucoma, unspecified             -------707\n",
      "H40.0 Glaucoma suspect                  -------267\n",
      "H40.1 Primary open-angle glaucoma       -------246\n",
      "H40.2 Primary angle-closure glaucoma    --------91\n",
      "H40.5 Glaucoma secondary to other eye disorders--------30\n",
      "H40.8 Other glaucoma                    --------15\n",
      "H40.3 Glaucoma secondary to eye trauma  --------11\n",
      "H40.4 Glaucoma secondary to eye inflammation---------4\n",
      "H40.6 Glaucoma secondary to drugs       ---------2\n"
     ]
    }
   ],
   "source": [
    "# for i in range(len(sort_disease_freq)):\n",
    "#     if('H40' in sort_disease_freq[i][0]):\n",
    "#         print('{:<40s}{:->10}'.format(icd10[sort_disease_freq[i][0]],sort_disease_freq[i][1]))"
   ]
  },
  {
   "cell_type": "markdown",
   "metadata": {},
   "source": [
    "##### Displaying most frequent diseases with the count (For each Category) - only includes eye, neuro and cardio diseases \n"
   ]
  },
  {
   "cell_type": "markdown",
   "metadata": {},
   "source": [
    "###### Uncomment below to view counts"
   ]
  },
  {
   "cell_type": "code",
   "execution_count": 37,
   "metadata": {
    "scrolled": true
   },
   "outputs": [
    {
     "name": "stdout",
     "output_type": "stream",
     "text": [
      "I10 Essential (primary) hypertension              ---------------18146\n",
      "I25 Chronic ischaemic heart disease               ---------------10098\n",
      "I84 Haemorrhoids                                  ----------------5962\n",
      "I20 Angina pectoris                               ----------------4688\n",
      "H26 Other cataract                                ----------------4078\n",
      "I48 Atrial fibrillation and flutter               ----------------3649\n",
      "I83 Varicose veins of lower extremities           ----------------2609\n",
      "G56 Mononeuropathies of upper limb                ----------------2482\n",
      "H25 Senile cataract                               ----------------1945\n",
      "I21 Acute myocardial infarction                   ----------------1876\n",
      "I50 Heart failure                                 ----------------1601\n",
      "H02 Other disorders of eyelid                     ----------------1426\n",
      "H40 Glaucoma                                      ----------------1373\n",
      "I95 Hypotension                                   ----------------1318\n",
      "G47 Sleep disorders                               ----------------1255\n",
      "I51 Complications and ill-defined descriptions of heart disease----------------1192\n",
      "I80 Phlebitis and thrombophlebitis                ----------------1059\n",
      "H35 Other retinal disorders                       ----------------1001\n",
      "G40 Epilepsy                                      -----------------965\n",
      "I44 Atrioventricular and left bundle-branch block -----------------960\n",
      "G55 Nerve root and plexus compressions in diseases classified elsewhere-----------------922\n",
      "I26 Pulmonary embolism                            -----------------831\n",
      "I47 Paroxysmal tachycardia                        -----------------820\n",
      "H33 Retinal detachments and breaks                -----------------792\n",
      "I63 Cerebral infarction                           -----------------769\n",
      "I73 Other peripheral vascular diseases            -----------------765\n",
      "G43 Migraine                                      -----------------752\n",
      "H53 Visual disturbances                           -----------------732\n",
      "I67 Other cerebrovascular diseases                -----------------679\n",
      "I35 Nonrheumatic aortic valve disorders           -----------------674\n",
      "I34 Nonrheumatic mitral valve disorders           -----------------672\n",
      "I49 Other cardiac arrhythmias                     -----------------659\n",
      "G45 Transient cerebral ischaemic attacks and related syndromes-----------------620\n",
      "I45 Other conduction disorders                    -----------------583\n",
      "H04 Disorders of lachrymal system                 -----------------518\n",
      "H00 Hordeolum and chalazion                       -----------------513\n",
      "I24 Other acute ischaemic heart diseases          -----------------426\n",
      "H52 Disorders of refraction and accommodation     -----------------404\n",
      "I71 Aortic aneurysm and dissection                -----------------388\n",
      "I42 Cardiomyopathy                                -----------------363\n",
      "G93 Other disorders of brain                      -----------------359\n",
      "G57 Mononeuropathies of lower limb                -----------------344\n",
      "G81 Hemiplegia                                    -----------------326\n",
      "I69 Sequelae of cerebrovascular disease           -----------------326\n",
      "H36 Retinal disorders in diseases classified elsewhere-----------------325\n",
      "I31 Other diseases of pericardium                 -----------------324\n",
      "G62 Other polyneuropathies                        -----------------314\n",
      "I70 Atherosclerosis                               -----------------307\n",
      "I12 Hypertensive renal disease                    -----------------306\n",
      "I77 Other disorders of arteries and arterioles    -----------------306\n",
      "I46 Cardiac arrest                                -----------------279\n",
      "H43 Disorders of vitreous body                    -----------------266\n",
      "G35 Multiple sclerosis                            -----------------261\n",
      "G20 Parkinson's disease                           -----------------251\n",
      "I64 Stroke, not specified as haemorrhage or infarction-----------------228\n",
      "I27 Other pulmonary heart diseases                -----------------227\n",
      "I65 Occlusion and stenosis of precerebral arteries, not resulting in cerebral infarction-----------------225\n",
      "I61 Intracerebral haemorrhage                     -----------------224\n",
      "G99 Other disorders of nervous system in diseases classified elsewhere-----------------213\n",
      "H50 Other strabismus                              -----------------211\n",
      "I74 Arterial embolism and thrombosis              -----------------211\n",
      "I60 Subarachnoid haemorrhage                      -----------------208\n",
      "H11 Other disorders of conjunctiva                -----------------203\n",
      "G51 Facial nerve disorders                        -----------------193\n",
      "H54 Blindness and low vision                      -----------------167\n",
      "I89 Other non-infective disorders of lymphatic vessels and lymph nodes-----------------157\n",
      "G25 Other extrapyramidal and movement disorders   -----------------156\n",
      "H34 Retinal vascular occlusions                   -----------------155\n",
      "G95 Other diseases of spinal cord                 -----------------150\n",
      "G31 Other degenerative diseases of nervous system, not elsewhere classified-----------------148\n",
      "G44 Other headache syndromes                      -----------------137\n",
      "H01 Other inflammation of eyelid                  -----------------132\n",
      "H18 Other disorders of cornea                     -----------------132\n",
      "G91 Hydrocephalus                                 -----------------132\n",
      "I22 Subsequent myocardial infarction              -----------------130\n",
      "G30 Alzheimer's disease                           -----------------123\n",
      "I85 Oesophageal varices                           -----------------121\n",
      "I72 Other aneurysm                                -----------------120\n",
      "I87 Other disorders of veins                      -----------------117\n",
      "H57 Other disorders of eye and adnexa             -----------------114\n",
      "G50 Disorders of trigeminal nerve                 -----------------112\n",
      "I78 Diseases of capillaries                       -----------------112\n",
      "G63 Polyneuropathy in diseases classified elsewhere-----------------110\n",
      "I82 Other venous embolism and thrombosis          -----------------106\n",
      "I38 Endocarditis, valve unspecified               -----------------100\n",
      "I86 Varicose veins of other sites                 ------------------97\n",
      "I11 Hypertensive heart disease                    ------------------91\n",
      "I62 Other nontraumatic intracranial haemorrhage   ------------------91\n",
      "G82 Paraplegia and tetraplegia                    ------------------88\n",
      "G37 Other demyelinating diseases of central nervous system------------------86\n",
      "G54 Nerve root and plexus disorders               ------------------84\n",
      "G83 Other paralytic syndromes                     ------------------84\n",
      "G61 Inflammatory polyneuropathy                   ------------------82\n",
      "H20 Iridocyclitis                                 ------------------80\n",
      "H49 Paralytic strabismus                          ------------------80\n",
      "G58 Other mononeuropathies                        ------------------79\n",
      "H44 Disorders of globe                            ------------------76\n",
      "H05 Disorders of orbit                            ------------------74\n",
      "H10 Conjunctivitis                                ------------------69\n",
      "H21 Other disorders of iris and ciliary body      ------------------66\n",
      "G24 Dystonia                                      ------------------62\n",
      "G12 Spinal muscular atrophy and related syndromes ------------------60\n",
      "H27 Other disorders of lens                       ------------------49\n",
      "I98 Other disorders of circulatory system in diseases classified elsewhere------------------49\n",
      "I33 Acute and subacute endocarditis               ------------------48\n",
      "H55 Nystagmus and other irregular eye movements   ------------------47\n",
      "G90 Disorders of autonomic nervous system         ------------------47\n",
      "G96 Other disorders of central nervous system     ------------------47\n",
      "H16 Keratitis                                     ------------------46\n",
      "H31 Other disorders of choroid                    ------------------44\n",
      "G72 Other myopathies                              ------------------44\n",
      "H59 Postprocedural disorders of eye and adnexa, not elsewhere classified------------------39\n",
      "G70 Myasthenia gravis and other myoneural disorders------------------39\n",
      "I97 Postprocedural disorders of circulatory system, not elsewhere classified------------------39\n",
      "H47 Other disorders of optic [2nd] nerve and visual pathways------------------38\n",
      "G04 Encephalitis, myelitis and encephalomyelitis  ------------------37\n",
      "G71 Primary disorders of muscles                  ------------------37\n",
      "G59 Mononeuropathy in diseases classified elsewhere------------------35\n",
      "I30 Acute pericarditis                            ------------------35\n",
      "I81 Portal vein thrombosis                        ------------------35\n",
      "G41 Status epilepticus                            ------------------33\n",
      "I99 Other and unspecified disorders of circulatory system------------------32\n",
      "G97 Postprocedural disorders of nervous system, not elsewhere classified------------------30\n",
      "H46 Optic neuritis                                ------------------29\n",
      "I37 Pulmonary valve disorders                     ------------------29\n",
      "I36 Nonrheumatic tricuspid valve disorders        ------------------28\n",
      "G60 Hereditary and idiopathic neuropathy          ------------------27\n",
      "H58 Other disorders of eye and adnexa in diseases classified elsewhere------------------26\n",
      "G00 Bacterial meningitis, not elsewhere classified------------------26\n",
      "G80 Infantile cerebral palsy                      ------------------26\n",
      "G06 Intracranial and intraspinal abscess and granuloma------------------24\n",
      "G53 Cranial nerve disorders in diseases classified elsewhere------------------23\n",
      "I88 Nonspecific lymphadenitis                     ------------------23\n",
      "G03 Meningitis due to other and unspecified causes------------------22\n",
      "H06 Disorders of lachrymal system and orbit in diseases classified elsewhere------------------20\n",
      "H17 Corneal scars and opacities                   ------------------20\n",
      "G46 Vascular syndromes of brain in cerebrovascular diseases------------------18\n",
      "G52 Disorders of other cranial nerves             ------------------18\n",
      "I15 Secondary hypertension                        ------------------18\n",
      "I66 Occlusion and stenosis of cerebral arteries, not resulting in cerebral infarction------------------18\n",
      "H15 Disorders of sclera                           ------------------17\n",
      "G11 Hereditary ataxia                             ------------------17\n",
      "G23 Other degenerative diseases of basal ganglia  ------------------13\n",
      "I79 Disorders of arteries, arterioles and capillaries in diseases classified elsewhere------------------13\n",
      "G01 Meningitis in bacterial diseases classified elsewhere------------------12\n",
      "H13 Disorders of conjunctiva in diseases classified elsewhere------------------11\n",
      "G05 Encephalitis, myelitis and encephalomyelitis in diseases classified elsewhere------------------11\n",
      "H28 Cataract and other disorders of lens in diseases classified elsewhere------------------10\n",
      "G98 Other disorders of nervous system, not elsewhere classified------------------10\n",
      "H19 Disorders of sclera and cornea in diseases classified elsewhere-------------------9\n",
      "H30 Chorioretinal inflammation                    -------------------9\n",
      "I28 Other diseases of pulmonary vessels           -------------------9\n",
      "H03 Disorders of eyelid in diseases classified elsewhere-------------------8\n",
      "G08 Intracranial and intraspinal phlebitis and thrombophlebitis-------------------8\n",
      "G10 Huntington's disease                          -------------------8\n",
      "G21 Secondary Parkinsonism                        -------------------8\n",
      "G94 Other disorders of brain in diseases classified elsewhere-------------------8\n",
      "I13 Hypertensive heart and renal disease          -------------------8\n",
      "H22 Disorders of iris and ciliary body in diseases classified elsewhere-------------------7\n",
      "I00 Rheumatic fever without mention of heart involvement-------------------6\n",
      "I23 Certain current complications following acute myocardial infarction-------------------6\n",
      "I43 Cardiomyopathy in diseases classified elsewhere-------------------6\n",
      "I68 Cerebrovascular disorders in diseases classified elsewhere-------------------6\n",
      "H51 Other disorders of binocular movement         -------------------5\n",
      "G13 Systemic atrophies primarily affecting central nervous system in diseases classified elsewhere-------------------5\n",
      "G73 Disorders of myoneural junction and muscle in diseases classified elsewhere-------------------5\n",
      "G02 Meningitis in other infectious and parasitic diseases classified elsewhere-------------------4\n",
      "G09 Sequelae of inflammatory diseases of central nervous system-------------------4\n",
      "G14 Postpolio syndrome                            -------------------4\n",
      "G32 Other degenerative disorders of nervous system in diseases classified elsewhere-------------------4\n",
      "I40 Acute myocarditis                             -------------------4\n",
      "G07 Intracranial and intraspinal abscess and granuloma in diseases classified elsewhere-------------------2\n",
      "I02 Rheumatic chorea                              -------------------2\n",
      "I41 Myocarditis in diseases classified elsewhere  -------------------2\n",
      "H42 Glaucoma in diseases classified elsewhere     -------------------1\n",
      "H45 Disorders of vitreous body and globe in diseases classified elsewhere-------------------1\n",
      "H48 Disorders of optic [2nd] nerve and visual pathways in diseases classified elsewhere-------------------1\n",
      "G36 Other acute disseminated demyelination        -------------------1\n",
      "G64 Other disorders of peripheral nervous system  -------------------1\n",
      "G92 Toxic encephalopathy                          -------------------1\n",
      "I01 Rheumatic fever with heart involvement        -------------------1\n",
      "I32 Pericarditis in diseases classified elsewhere -------------------1\n",
      "H32 Chorioretinal disorders in diseases classified elsewhere-------------------0\n",
      "G22 Parkinsonism in diseases classified elsewhere -------------------0\n",
      "G26 Extrapyramidal and movement disorders in diseases classified elsewhere-------------------0\n",
      "I39 Endocarditis and heart valve disorders in diseases classified elsewhere-------------------0\n",
      "I52 Other heart disorders in diseases classified elsewhere-------------------0\n"
     ]
    }
   ],
   "source": [
    "# # Displaying most frequent diseases with the count\n",
    "# for i in range(len(sort_dict_specific)):\n",
    "#     print('{:<50s}{:->20}'.format(icd10[sort_dict_specific[i][0]],sort_dict_specific[i][1]))"
   ]
  },
  {
   "cell_type": "markdown",
   "metadata": {},
   "source": [
    "##### Displaying most frequent diseases with the count (For each individual disease at lowest level)\n"
   ]
  },
  {
   "cell_type": "markdown",
   "metadata": {},
   "source": [
    "###### Uncomment below to view counts"
   ]
  },
  {
   "cell_type": "code",
   "execution_count": 38,
   "metadata": {
    "scrolled": true
   },
   "outputs": [
    {
     "name": "stdout",
     "output_type": "stream",
     "text": [
      "I10 Essential (primary) hypertension    -----18146\n",
      "E78.0 Pure hypercholesterolaemia        ------8566\n",
      "Z86.4 Personal history of psychoactive substance abuse------6743\n",
      "K44.9 Diaphragmatic hernia without obstruction or gangrene------6218\n",
      "J45.9 Asthma, unspecified               ------5961\n",
      "K57.3 Diverticular disease of large intestine without perforation or abscess------5850\n",
      "R07.4 Chest pain, unspecified           ------4859\n",
      "E11.9 Without complications             ------4528\n",
      "Z88.0 Personal history of allergy to penicillin------4132\n",
      "K21.9 Gastro-oesophageal reflux disease without oesophagitis------4056\n",
      "I25.1 Atherosclerotic heart disease     ------4054\n",
      "R10.4 Other and unspecified abdominal pain------3960\n",
      "Z92.2 Personal history of long-term (current) use of other medicaments------3931\n",
      "M17.9 Gonarthrosis, unspecified         ------3905\n",
      "Z86.7 Personal history of diseases of the circulatory system------3812\n",
      "Z87.1 Personal history of diseases of the digestive system------3810\n",
      "Z53.8 Procedure not carried out for other reasons------3596\n",
      "K29.7 Gastritis, unspecified            ------3593\n",
      "H26.9 Cataract, unspecified             ------3550\n",
      "E03.9 Hypothyroidism, unspecified       ------3412\n",
      "I48 Atrial fibrillation and flutter     ------3375\n",
      "I20.9 Angina pectoris, unspecified      ------3347\n",
      "K40.9 Unilateral or unspecified inguinal hernia, without obstruction or gangrene------3305\n",
      "K52.9 Non-infective gastro-enteritis and colitis, unspecified------3041\n",
      "K63.5 Polyp of colon                    ------2967\n",
      "Z37.0 Single live birth                 ------2918\n",
      "Z82.4 Family history of ischaemic heart disease and other diseases of the circulatory system------2915\n",
      "D64.9 Anaemia, unspecified              ------2894\n",
      "R19.4 Change in bowel habit             ------2878\n",
      "R31 Unspecified haematuria              ------2866\n",
      "K30 Dyspepsia                           ------2817\n",
      "I25.9 Chronic ischaemic heart disease, unspecified------2808\n",
      "K62.5 Haemorrhage of anus and rectum    ------2800\n",
      "N40 Hyperplasia of prostate             ------2781\n",
      "Z92.1 Personal history of long-term (current) use of anticoagulants------2766\n",
      "F32.9 Depressive episode, unspecified   ------2742\n",
      "I84.9 Unspecified haemorrhoids without complication------2701\n",
      "N39.0 Urinary tract infection, site not specified------2646\n",
      "F17.1 Harmful use                       ------2624\n",
      "Z51.2 Other chemotherapy                ------2609\n",
      "E66.9 Obesity, unspecified              ------2601\n",
      "K59.0 Constipation                      ------2553\n",
      "K21.0 Gastro-oesophageal reflux disease with oesophagitis------2493\n",
      "R11 Nausea and vomiting                 ------2483\n",
      "Z96.6 Presence of orthopaedic joint implants------2467\n",
      "I83.9 Varicose veins of lower extremities without ulcer or inflammation------2425\n",
      "R69 Unknown and unspecified causes of morbidity------2237\n",
      "G56.0 Carpal tunnel syndrome            ------2170\n",
      "N95.0 Postmenopausal bleeding           ------2072\n",
      "Z51.1 Chemotherapy session for neoplasm ------2020\n",
      "N92.0 Excessive and frequent menstruation with regular cycle------1996\n",
      "R55 Syncope and collapse                ------1983\n",
      "R10.1 Pain localised to upper abdomen   ------1973\n",
      "D25.9 Leiomyoma of uterus, unspecified  ------1965\n",
      "K20 Oesophagitis                        ------1933\n",
      "Z72.0 Tobacco use                       ------1917\n",
      "R79.8 Other specified abnormal findings of blood chemistry------1859\n",
      "Z80.0 Family history of malignant neoplasm of digestive organs------1856\n",
      "Z72.1 Alcohol use                       ------1839\n",
      "N84.0 Polyp of corpus uteri             ------1831\n",
      "M16.9 Coxarthrosis, unspecified         ------1829\n",
      "K29.8 Duodenitis                        ------1818\n",
      "K80.2 Calculus of gallbladder without cholecystitis------1812\n",
      "R33 Retention of urine                  ------1759\n",
      "C50.9 Breast, unspecified               ------1750\n",
      "I25.2 Old myocardial infarction         ------1703\n",
      "R07.3 Other chest pain                  ------1694\n",
      "J22 Unspecified acute lower respiratory infection------1647\n",
      "R51 Headache                            ------1643\n",
      "Z53.0 Procedure not carried out because of contraindication------1611\n",
      "Z12.1 Special screening examination for neoplasm of intestinal tract------1602\n",
      "K62.1 Rectal polyp                      ------1599\n",
      "Z88.8 Personal history of allergy to other drugs, medicaments and biological substances------1594\n",
      "Z86.6 Personal history of diseases of the nervous system and sense organs------1592\n",
      "Z85.3 Personal history of malignant neoplasm of breast------1577\n",
      "Z87.4 Personal history of diseases of the genito-urinary system------1577\n",
      "M19.9 Arthrosis, unspecified            ------1568\n",
      "R10.3 Pain localised to other parts of lower abdomen------1558\n",
      "M20.1 Hallux valgus (acquired)          ------1556\n",
      "A09.9 Gastroenteritis and colitis of unspecified origin------1555\n",
      "J44.9 Chronic obstructive pulmonary disease, unspecified------1553\n",
      "C61 Malignant neoplasm of prostate      ------1552\n",
      "R13 Dysphagia                           ------1530\n",
      "K92.2 Gastro-intestinal haemorrhage, unspecified------1515\n",
      "K57.9 Diverticular disease of intestine, part unspecified, without perforation or abscess------1467\n",
      "Z30.2 Sterilisation                     ------1438\n",
      "Z95.5 Presence of coronary angioplasty implant and graft------1421\n",
      "I25.8 Other forms of chronic ischaemic heart disease------1407\n",
      "N32.8 Other specified disorders of bladder------1394\n",
      "J18.1 Lobar pneumonia, unspecified      ------1388\n",
      "R63.4 Abnormal weight loss              ------1387\n",
      "E78.5 Hyperlipidaemia, unspecified      ------1379\n",
      "Z96.1 Presence of intraocular lens      ------1376\n",
      "R06.0 Dyspnoea                          ------1350\n",
      "M13.9 Arthritis, unspecified            ------1340\n",
      "Z90.7 Acquired absence of genital organ(s)------1334\n",
      "Z90.4 Acquired absence of other parts of digestive tract------1332\n",
      "D50.9 Iron deficiency anaemia, unspecified------1318\n",
      "M75.4 Impingement syndrome of shoulder  ------1283\n"
     ]
    }
   ],
   "source": [
    "# # Displaying most frequent diseases with the count\n",
    "# for i in range(1,100):\n",
    "#     print('{:<40s}{:->10}'.format(icd10[sort_disease_freq[i][0]],sort_disease_freq[i][1]))\n"
   ]
  },
  {
   "cell_type": "markdown",
   "metadata": {},
   "source": [
    "##### Verifying count for a particular category of disease"
   ]
  },
  {
   "cell_type": "markdown",
   "metadata": {},
   "source": [
    "###### Uncomment below to view counts"
   ]
  },
  {
   "cell_type": "code",
   "execution_count": 39,
   "metadata": {},
   "outputs": [
    {
     "name": "stdout",
     "output_type": "stream",
     "text": [
      "Count:  1374\n"
     ]
    }
   ],
   "source": [
    "# count = 0\n",
    "# count1 = 0\n",
    "# count2 = 0\n",
    "# for i in range(df19_clean_arr.shape[0]):\n",
    "#     if( len(df19_clean_arr[i])> 1 ):\n",
    "#         count1 = np.sum(np.char.count(df19_clean_arr[i], sub ='H40')) # H40 Glaucoma\n",
    "#         count2 = np.sum(np.char.count(df19_clean_arr[i], sub ='H42')) # H42 Glaucoma in diseases classified elsewhere\n",
    "#         count  = count + count1 + count2\n",
    "\n",
    "# print(\"Count: \",count)"
   ]
  },
  {
   "cell_type": "markdown",
   "metadata": {},
   "source": [
    "## Intersection of DC 10053 and DC 19"
   ]
  },
  {
   "cell_type": "code",
   "execution_count": 27,
   "metadata": {},
   "outputs": [],
   "source": [
    "# fundus_gt = fundus_df.copy()\n",
    "# GT_intersect = [0] * len(fundus_gt)\n",
    "\n",
    "# # To assign 1 to those having galucoma for 100523 and icd10\n",
    "\n",
    "# for i in range(len(fundus_gt)):\n",
    "#     if(2 in df100523_unique_arr[i]): # 2 means Glaucoma\n",
    "#         if (len(df19_clean_arr[i])>1): # len=1 contains nan only \n",
    "#             for j in range(len(df19_clean_arr[i])):\n",
    "#                 if(('H40' in df19_clean_arr[i][j]) or ('H42' in df19_clean_arr[i][j])): # H40 and H42 refers to glaucoma related patients\n",
    "#                     # print(i, df100523_unique_arr[i],\"=+=+=\",df19_clean_arr[i])\n",
    "#                     GT_intersect[i] = 1 # 1 is assigned to those having glaucoma as per code 100523 and icd10\n",
    "#                     break\n",
    "#                 # Rows mismatching in the datasets\n",
    "#                 elif(j==len(df19_clean_arr[i])-1):\n",
    "#                     GT_intersect[i] = 3\n",
    "#         else:\n",
    "#             GT_intersect[i] = 3\n",
    "#     else:\n",
    "#         # Rows mismatching in the datasets\n",
    "#         if(len(df19_clean_arr[i])>1): # len=1 contains nan only \n",
    "#             for j in range(len(df19_clean_arr[i])):\n",
    "#                 if(('H40' in df19_clean_arr[i][j]) or ('H42' in df19_clean_arr[i][j])): # H40 and H42 refers to glaucoma related patients\n",
    "#                     GT_intersect[i] = 2 # not in 100523, but in icd10\n",
    "#                     break\n",
    "\n",
    "# # np.set_printoptions(threshold=np.nan) # to print it all on screen"
   ]
  },
  {
   "cell_type": "code",
   "execution_count": 26,
   "metadata": {},
   "outputs": [
    {
     "name": "stdout",
     "output_type": "stream",
     "text": [
      "Glaucoma in both: 633 \n",
      "Glaucoma in none: 83477 \n",
      "Glaucoma in 100523 only: 1150 \n",
      "Glaucoma in icd10 only: 470\n"
     ]
    }
   ],
   "source": [
    "# glau_100523_19 = []\n",
    "# no_glau_100523_19 = []\n",
    "# glau_100523_not19 = []\n",
    "# glau_19_not100523 = []\n",
    "\n",
    "# for i in range(len(GT_intersect)):\n",
    "#     if(GT_intersect[i]==0):\n",
    "#         no_glau_100523_19.append(i)\n",
    "#     elif(GT_intersect[i]==1):\n",
    "#         glau_100523_19.append(i)\n",
    "#     elif(GT_intersect[i]==2):\n",
    "#         glau_19_not100523.append(i)\n",
    "#     elif(GT_intersect[i]==3):\n",
    "#         glau_100523_not19.append(i)\n",
    "\n",
    "# print(\"Glaucoma in both:\",len(glau_100523_19),\"\\nGlaucoma in none:\",len(no_glau_100523_19),\n",
    "#       \"\\nGlaucoma in 100523 only:\",len(glau_100523_not19),\"\\nGlaucoma in icd10 only:\",len(glau_19_not100523))"
   ]
  },
  {
   "cell_type": "markdown",
   "metadata": {},
   "source": [
    "### For Glaucoma in both 100523 and icd10 -  extract fundus images\n",
    "Lists created and saved , hence commented"
   ]
  },
  {
   "cell_type": "code",
   "execution_count": 32,
   "metadata": {},
   "outputs": [
    {
     "name": "stdout",
     "output_type": "stream",
     "text": [
      "Patient 3275  has not selected which eye is affected. Hence ignoring its fundus image extraction\n",
      "Patient 19671  has not selected which eye is affected. Hence ignoring its fundus image extraction\n",
      "Patient 34984  has not selected which eye is affected. Hence ignoring its fundus image extraction\n",
      "Patient 57552  has not selected which eye is affected. Hence ignoring its fundus image extraction\n"
     ]
    }
   ],
   "source": [
    "# # Defining dataframes of left and right fundus retina images separately\n",
    "\n",
    "# df_fundus_left = fundus_df.iloc[:,5613:5617] # fundus images of left eye\n",
    "# df_fundus_right = fundus_df.iloc[:,5617:5621] # fundus images of right eye\n",
    "\n",
    "# gl_img_list = [] #image names\n",
    "# gl_img_list_pid = [] # patient number\n",
    "# eye_dont_know = [] # patients who have glaucoma, but didnt answer which eye has the issue\n",
    "# # Creating list of patient ids and respective image names\n",
    "\n",
    "# for i in range(len(glau_100523_19)): #633 patients\n",
    "#     # For each patient having galucoma as per both database, check their response of which eye from 100515\n",
    "#     patient = glau_100523_19[i]\n",
    "#     eye = which_eye(patient)\n",
    "#     if(eye==1):\n",
    "#         # Extracting Left eye image\n",
    "#         gl_img_list.append(get_img_name(patient,df_fundus_left))\n",
    "#         gl_img_list_pid.append(patient)\n",
    "#     elif(eye==2):\n",
    "#         # Extracting Right eye image\n",
    "#         gl_img_list.append(get_img_name(patient,df_fundus_right))\n",
    "#         gl_img_list_pid.append(patient)\n",
    "#     elif(eye==3):\n",
    "#         # Extracting Both eyes image\n",
    "#         gl_img_list.append(get_img_name(patient,df_fundus_left))\n",
    "#         gl_img_list_pid.append(patient)\n",
    "#         gl_img_list.append(get_img_name(patient,df_fundus_right))\n",
    "#         gl_img_list_pid.append(patient)\n",
    "#     else:\n",
    "#         # ERROR\n",
    "#         print(\"Patient\",patient,\" has not selected which eye is affected. Hence ignoring its fundus image extraction\")\n",
    "#         eye_dont_know.append(patient)\n"
   ]
  },
  {
   "cell_type": "code",
   "execution_count": 34,
   "metadata": {
    "scrolled": true
   },
   "outputs": [],
   "source": [
    "# # Deleting all those elements not having the respective fundus images as per their response (_None.txt images)\n",
    "\n",
    "# for i in range(len(gl_img_list_pid)):\n",
    "#     if ('None' in gl_img_list[i]):\n",
    "#         print(i, gl_img_list[i])\n",
    "#         del gl_img_list_pid[i]\n",
    "#         del gl_img_list[i]"
   ]
  },
  {
   "cell_type": "code",
   "execution_count": 40,
   "metadata": {},
   "outputs": [],
   "source": [
    "# # Deleting the patient id and image names for the files that do not exist in the database\n",
    "\n",
    "# g_destpath = '/ds2/data/retina/UK_BB/patra/glau_100523_icd10/'\n",
    "# for i in range(len(gl_img_list)):\n",
    "#     if(not os.path.isfile(g_destpath+gl_img_list[i])):\n",
    "#         print(i, gl_img_list[i])\n",
    "#         del gl_img_list_pid[i]\n",
    "#         del gl_img_list[i]"
   ]
  },
  {
   "cell_type": "code",
   "execution_count": 41,
   "metadata": {},
   "outputs": [
    {
     "data": {
      "text/plain": [
       "(1079, 1079)"
      ]
     },
     "execution_count": 41,
     "metadata": {},
     "output_type": "execute_result"
    }
   ],
   "source": [
    "# len(gl_img_list_pid),len(gl_img_list)"
   ]
  },
  {
   "cell_type": "markdown",
   "metadata": {},
   "source": [
    "### For Non - Glaucoma in both 100523 and icd10 -  extract fundus images\n",
    "Lists created and saved, hence commented"
   ]
  },
  {
   "cell_type": "code",
   "execution_count": 45,
   "metadata": {},
   "outputs": [],
   "source": [
    "# ngl_img_list = [] #image names\n",
    "# ngl_img_list_pid = [] # patient number\n",
    "\n",
    "# # Creating list of patient ids and respective image names\n",
    "\n",
    "# for i in range(len(no_glau_100523_19)): #83477 patients\n",
    "#     # For each healthy patient as per both database, check their response of which eye from 100515\n",
    "#     patient = no_glau_100523_19[i]\n",
    "#     ngl_img_list.append(get_img_name(patient,df_fundus_left))\n",
    "#     ngl_img_list_pid.append(patient)\n",
    "#     ngl_img_list.append(get_img_name(patient,df_fundus_right))\n",
    "#     ngl_img_list_pid.append(patient)"
   ]
  },
  {
   "cell_type": "code",
   "execution_count": 48,
   "metadata": {},
   "outputs": [],
   "source": [
    "# # Deleting all those elements not having the respective fundus images as per their response (_None.txt images)\n",
    "# for i in range(len(ngl_img_list_pid)):\n",
    "#     if ('None' in ngl_img_list[i]):\n",
    "#         del ngl_img_list_pid[i]\n",
    "#         del ngl_img_list[i]"
   ]
  },
  {
   "cell_type": "code",
   "execution_count": 52,
   "metadata": {},
   "outputs": [],
   "source": [
    "# # Deleting the patient id and image names for the files that do not exist in the database\n",
    "\n",
    "# path = '/ds2/data/retina/UK_BB/UK_BB_DATA/fundus/'\n",
    "# for i in range(len(ngl_img_list)):\n",
    "#     if(not os.path.isfile(path+ngl_img_list[i])):\n",
    "#         print(i, ngl_img_list[i])\n",
    "#         del ngl_img_list_pid[i]\n",
    "#         del ngl_img_list[i]"
   ]
  },
  {
   "cell_type": "code",
   "execution_count": 54,
   "metadata": {},
   "outputs": [
    {
     "data": {
      "text/plain": [
       "(165300, 165300, 1079, 1079)"
      ]
     },
     "execution_count": 54,
     "metadata": {},
     "output_type": "execute_result"
    }
   ],
   "source": [
    "# len(ngl_img_list_pid),len(ngl_img_list), len(gl_img_list_pid),len(gl_img_list)"
   ]
  },
  {
   "cell_type": "code",
   "execution_count": 63,
   "metadata": {},
   "outputs": [
    {
     "data": {
      "text/plain": [
       "((624,), (83477,))"
      ]
     },
     "execution_count": 63,
     "metadata": {},
     "output_type": "execute_result"
    }
   ],
   "source": [
    "# # No. of glaucoma and non-glaucoma patients\n",
    "# np.unique(np.array(gl_img_list_pid)).shape, np.unique(np.array(ngl_img_list_pid)).shape"
   ]
  },
  {
   "cell_type": "markdown",
   "metadata": {},
   "source": [
    "### Saving patient id and image names of glaucoma and healthy patients to pickle file for faster access.\n",
    "### DONE --- commented"
   ]
  },
  {
   "cell_type": "code",
   "execution_count": 55,
   "metadata": {},
   "outputs": [],
   "source": [
    "# with open(DATA_dir+'glaucoma_pid.pkl', 'wb') as f:\n",
    "#     pickle.dump(gl_img_list_pid, f)\n",
    "\n",
    "# with open(DATA_dir+'glaucoma_imgnames.pkl', 'wb') as f:\n",
    "#     pickle.dump(gl_img_list, f)\n",
    "\n",
    "# with open(DATA_dir+'no_glaucoma_pid.pkl', 'wb') as f:\n",
    "#     pickle.dump(ngl_img_list_pid, f)\n",
    "\n",
    "# with open(DATA_dir+'no_glaucoma_imgnames.pkl', 'wb') as f:\n",
    "#     pickle.dump(ngl_img_list, f)\n"
   ]
  },
  {
   "cell_type": "markdown",
   "metadata": {},
   "source": [
    "### Verification steps"
   ]
  },
  {
   "cell_type": "markdown",
   "metadata": {},
   "source": [
    "##### For a particular image, check below:\n",
    "    patient-id\n",
    "    which eye of patient was affected as per questionnaire\n",
    "    check in corresponding fundus left or right accordingly to get respective image details\n",
    "    \n",
    "   **Commented out** - only needed to verify specific details"
   ]
  },
  {
   "cell_type": "code",
   "execution_count": 54,
   "metadata": {},
   "outputs": [],
   "source": [
    "# To get the key when value is known\n",
    "# for i in range(len(gl_img_list)):\n",
    "#     if gl_img_list[i] == '6013940_21016_1_0.png':\n",
    "#         print(gl_img_list_pid[i])\n",
    "# patient = gl_img_list_pid[i]\n",
    "# patient = 1028 \n",
    "# print(which_eye(patient))\n",
    "\n",
    "# get_img_name(patient,df_fundus_left)\n",
    "# get_img_name(patient,df_fundus_right)\n",
    "\n",
    "# df_fundus_left.iloc[patient]\n",
    "# df_fundus_right.iloc[patient]"
   ]
  },
  {
   "cell_type": "markdown",
   "metadata": {},
   "source": [
    "### Patients who said \"don't know\": as per 100523\n",
    "\n",
    "We have to check how many have glaucoma as per **icd10**"
   ]
  },
  {
   "cell_type": "code",
   "execution_count": 45,
   "metadata": {},
   "outputs": [
    {
     "data": {
      "text/plain": [
       "17"
      ]
     },
     "execution_count": 45,
     "metadata": {},
     "output_type": "execute_result"
    }
   ],
   "source": [
    "# df_100523_arr = df_100523.to_numpy()\n",
    "# dont_know_patients = [] # Patients who said don't know in questionnaire 100523 - if doctor said they have eye disease\n",
    "\n",
    "# for i in range(len(df_100523_arr)):\n",
    "#     if(-1 in df_100523_arr[i]):\n",
    "#         dont_know_patients.append(i)        \n",
    "\n",
    "# # For These \"dont_know_patients\", we will check in icd10, if they were diagnosed glaucoma\n",
    "\n",
    "# dont_know_glauicd10 = [] # Patients who said don't know in questionnaire but found to have glaucoma as per diagnosis in icd10\n",
    "\n",
    "# for pat in range(len(dont_know_patients)):\n",
    "#     test_list = df_19.iloc[dont_know_patients[pat]].unique()\n",
    "#     for i in test_list:\n",
    "#         if not i:\n",
    "#             continue\n",
    "#         elif pd.isnull(i):\n",
    "#             continue\n",
    "#         elif ('H40' in i or 'H42' in i):\n",
    "# #             print(test_list)\n",
    "#             dont_know_glauicd10.append(pat)\n",
    "#             break\n",
    "\n",
    "# len(dont_know_glauicd10) #17"
   ]
  },
  {
   "cell_type": "markdown",
   "metadata": {},
   "source": [
    "**Conclusion:** len(dont_know_glauicd10) # 17 patients who said dont know - have diagnosed to have glaucoma"
   ]
  },
  {
   "cell_type": "markdown",
   "metadata": {},
   "source": [
    "# Cardiovascular diseases - COMMENTED as not needed now\n",
    "## Data-coding 100605"
   ]
  },
  {
   "cell_type": "code",
   "execution_count": 7,
   "metadata": {},
   "outputs": [
    {
     "name": "stdout",
     "output_type": "stream",
     "text": [
      "Nan                           ---------------85730\n",
      "None of the above             ---------------61458\n",
      "High blood pressure           ---------------24143\n",
      "Angina                        ----------------2611\n",
      "Heart attack                  ----------------1877\n",
      "Stroke                        ----------------1362\n",
      "Prefer not to answer          -----------------234\n"
     ]
    }
   ],
   "source": [
    "# # Vascular/heart problems diagnosed by doctor\n",
    "# df_100605 = fundus_df.iloc[:,4263:4275] #data-coding 100605\n",
    "# disease_freqq = get_sorted_unique(df_100605)\n",
    "# dict_100605 = {1:'Heart attack',2:'Angina',3:'Stroke',4:'High blood pressure',0:'Nan',-3:'Prefer not to answer',-7:'None of the above'}\n",
    "# for i in range(len(dict_100605)):\n",
    "#     print('{:<30s}{:->20}'.format(dict_100605[disease_freqq[i][0]],disease_freqq[i][1]))\n"
   ]
  },
  {
   "cell_type": "markdown",
   "metadata": {},
   "source": [
    "##### data-coding 100267"
   ]
  },
  {
   "cell_type": "code",
   "execution_count": 8,
   "metadata": {},
   "outputs": [
    {
     "data": {
      "text/plain": [
       "3595"
      ]
     },
     "execution_count": 8,
     "metadata": {},
     "output_type": "execute_result"
    }
   ],
   "source": [
    "# # TOTAL **3595**\n",
    "# # \"Doctor restricts physical activity due to heart condition\"\n",
    "# df_100267 = fundus_df.iloc[:,4171:4173]\n",
    "# data = df_100267.to_numpy()\n",
    "# np.count_nonzero(data == 1) # count of YES - people those who have heart problems"
   ]
  },
  {
   "cell_type": "code",
   "execution_count": null,
   "metadata": {},
   "outputs": [],
   "source": [
    "# # Old code Michiel\n",
    "\n",
    "# row = 0\n",
    "# count = 0\n",
    "# for row in range(len(fundus_df)):\n",
    "#     for column in range(5885, 6135):\n",
    "#         if(fundus_df.iloc[row, column] == 'H40'):\n",
    "#             count = count + 1\n",
    "#             break\n",
    "# print(count)   "
   ]
  },
  {
   "cell_type": "code",
   "execution_count": null,
   "metadata": {},
   "outputs": [],
   "source": [
    "print(\"EyeDiseases Done!!\")"
   ]
  }
 ],
 "metadata": {
  "kernelspec": {
   "display_name": "Python 2020",
   "language": "python",
   "name": "python2020"
  },
  "language_info": {
   "codemirror_mode": {
    "name": "ipython",
    "version": 3
   },
   "file_extension": ".py",
   "mimetype": "text/x-python",
   "name": "python",
   "nbconvert_exporter": "python",
   "pygments_lexer": "ipython3",
   "version": "3.7.5"
  }
 },
 "nbformat": 4,
 "nbformat_minor": 2
}
