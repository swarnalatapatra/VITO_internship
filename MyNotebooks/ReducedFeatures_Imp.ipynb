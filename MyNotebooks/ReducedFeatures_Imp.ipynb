{
 "cells": [
  {
   "cell_type": "code",
   "execution_count": 1,
   "metadata": {
    "scrolled": false
   },
   "outputs": [
    {
     "name": "stdout",
     "output_type": "stream",
     "text": [
      "2019-12-18 16:57:37.589977\n",
      "\u001b[1m\u001b[37mthunder\u001b[m  Wed Dec 18 16:57:37 2019\n",
      "\u001b[36m[0]\u001b[m \u001b[34mGeForce GTX 1080 Ti\u001b[m |\u001b[31m 39'C\u001b[m, \u001b[32m  0 %\u001b[m | \u001b[36m\u001b[1m\u001b[33m  284\u001b[m / \u001b[33m11178\u001b[m MB | \u001b[1m\u001b[30mhemelinr\u001b[m(\u001b[33m274M\u001b[m)\n",
      "\u001b[36m[1]\u001b[m \u001b[34mGeForce GTX 1080 Ti\u001b[m |\u001b[31m 26'C\u001b[m, \u001b[32m  0 %\u001b[m | \u001b[36m\u001b[1m\u001b[33m   10\u001b[m / \u001b[33m11178\u001b[m MB |\n",
      "\u001b[36m[2]\u001b[m \u001b[34mGeForce GTX 1080 Ti\u001b[m |\u001b[1m\u001b[31m 59'C\u001b[m, \u001b[1m\u001b[32m 43 %\u001b[m | \u001b[36m\u001b[1m\u001b[33m10895\u001b[m / \u001b[33m11178\u001b[m MB | \u001b[1m\u001b[30manthoula\u001b[m(\u001b[33m10885M\u001b[m)\n",
      "\u001b[36m[3]\u001b[m \u001b[34mGeForce GTX 1080 Ti\u001b[m |\u001b[1m\u001b[31m 56'C\u001b[m, \u001b[32m  0 %\u001b[m | \u001b[36m\u001b[1m\u001b[33m10895\u001b[m / \u001b[33m11178\u001b[m MB | \u001b[1m\u001b[30manthoula\u001b[m(\u001b[33m10885M\u001b[m)\n",
      "\u001b[36m[4]\u001b[m \u001b[34mGeForce GTX 1080 Ti\u001b[m |\u001b[31m 26'C\u001b[m, \u001b[32m  0 %\u001b[m | \u001b[36m\u001b[1m\u001b[33m   10\u001b[m / \u001b[33m11178\u001b[m MB |\n",
      "\u001b[36m[5]\u001b[m \u001b[34mGeForce GTX 1080 Ti\u001b[m |\u001b[31m 27'C\u001b[m, \u001b[32m  0 %\u001b[m | \u001b[36m\u001b[1m\u001b[33m10799\u001b[m / \u001b[33m11178\u001b[m MB | \u001b[1m\u001b[30mgerritsn\u001b[m(\u001b[33m10789M\u001b[m)\n",
      "\u001b[36m[6]\u001b[m \u001b[34mGeForce GTX 1080 Ti\u001b[m |\u001b[1m\u001b[31m 61'C\u001b[m, \u001b[1m\u001b[32m 38 %\u001b[m | \u001b[36m\u001b[1m\u001b[33m10895\u001b[m / \u001b[33m11178\u001b[m MB | \u001b[1m\u001b[30mpatra\u001b[m(\u001b[33m10885M\u001b[m)\n",
      "\u001b[36m[7]\u001b[m \u001b[34mGeForce GTX 1080 Ti\u001b[m |\u001b[31m 29'C\u001b[m, \u001b[32m  0 %\u001b[m | \u001b[36m\u001b[1m\u001b[33m   10\u001b[m / \u001b[33m11178\u001b[m MB |\n"
     ]
    },
    {
     "name": "stderr",
     "output_type": "stream",
     "text": [
      "/ds/environments/python2020/lib/python3.7/site-packages/sklearn/externals/joblib/__init__.py:15: DeprecationWarning: sklearn.externals.joblib is deprecated in 0.21 and will be removed in 0.23. Please import this functionality directly from joblib, which can be installed with: pip install joblib. If this warning is raised when loading pickled models, you may need to re-serialize those models with scikit-learn 0.21+.\n",
      "  warnings.warn(msg, category=DeprecationWarning)\n",
      "Using TensorFlow backend.\n",
      "/ds/environments/python2020/lib/python3.7/site-packages/keras/callbacks/callbacks.py:19: DeprecationWarning: Using or importing the ABCs from 'collections' instead of from 'collections.abc' is deprecated since Python 3.3,and in 3.9 it will stop working\n",
      "  from collections import Iterable\n"
     ]
    },
    {
     "name": "stdout",
     "output_type": "stream",
     "text": [
      "Dataset consist of 85730 patients data with 6251 features for each patient\n",
      "Function definitions executed\n",
      "Definitions DONE !!\n",
      "\n"
     ]
    }
   ],
   "source": [
    "%run ./Definitions.ipynb"
   ]
  },
  {
   "cell_type": "code",
   "execution_count": 2,
   "metadata": {
    "scrolled": true
   },
   "outputs": [
    {
     "name": "stdout",
     "output_type": "stream",
     "text": [
      "Wed Dec 18 16:57:54 2019       \n",
      "+-----------------------------------------------------------------------------+\n",
      "| NVIDIA-SMI 418.87.01    Driver Version: 418.87.01    CUDA Version: 10.1     |\n",
      "|-------------------------------+----------------------+----------------------+\n",
      "| GPU  Name        Persistence-M| Bus-Id        Disp.A | Volatile Uncorr. ECC |\n",
      "| Fan  Temp  Perf  Pwr:Usage/Cap|         Memory-Usage | GPU-Util  Compute M. |\n",
      "|===============================+======================+======================|\n",
      "|   0  GeForce GTX 108...  Off  | 00000000:04:00.0 Off |                  N/A |\n",
      "| 29%   40C    P2    56W / 250W |    284MiB / 11178MiB |      0%      Default |\n",
      "+-------------------------------+----------------------+----------------------+\n",
      "|   1  GeForce GTX 108...  Off  | 00000000:06:00.0 Off |                  N/A |\n",
      "| 29%   25C    P8     7W / 250W |     10MiB / 11178MiB |      0%      Default |\n",
      "+-------------------------------+----------------------+----------------------+\n",
      "|   2  GeForce GTX 108...  Off  | 00000000:07:00.0 Off |                  N/A |\n",
      "| 46%   57C    P2    77W / 250W |  10895MiB / 11178MiB |      0%      Default |\n",
      "+-------------------------------+----------------------+----------------------+\n",
      "|   3  GeForce GTX 108...  Off  | 00000000:08:00.0 Off |                  N/A |\n",
      "| 44%   56C    P2    71W / 250W |  10895MiB / 11178MiB |     44%      Default |\n",
      "+-------------------------------+----------------------+----------------------+\n",
      "|   4  GeForce GTX 108...  Off  | 00000000:0C:00.0 Off |                  N/A |\n",
      "| 29%   26C    P8     8W / 250W |     10MiB / 11178MiB |      0%      Default |\n",
      "+-------------------------------+----------------------+----------------------+\n",
      "|   5  GeForce GTX 108...  Off  | 00000000:0D:00.0 Off |                  N/A |\n",
      "| 29%   27C    P8     9W / 250W |  10799MiB / 11178MiB |      0%      Default |\n",
      "+-------------------------------+----------------------+----------------------+\n",
      "|   6  GeForce GTX 108...  Off  | 00000000:0E:00.0 Off |                  N/A |\n",
      "| 46%   61C    P2    80W / 250W |  10895MiB / 11178MiB |     59%      Default |\n",
      "+-------------------------------+----------------------+----------------------+\n",
      "|   7  GeForce GTX 108...  Off  | 00000000:0F:00.0 Off |                  N/A |\n",
      "| 29%   29C    P8     7W / 250W |     10MiB / 11178MiB |      0%      Default |\n",
      "+-------------------------------+----------------------+----------------------+\n",
      "                                                                               \n",
      "+-----------------------------------------------------------------------------+\n",
      "| Processes:                                                       GPU Memory |\n",
      "|  GPU       PID   Type   Process name                             Usage      |\n",
      "|=============================================================================|\n",
      "|    0     18878      C   python3                                      274MiB |\n",
      "|    2     17242      C   /ds/environments/python2020/bin/python     10885MiB |\n",
      "|    3     17879      C   /ds/environments/python2020/bin/python     10885MiB |\n",
      "|    5     18594      C   python3                                    10789MiB |\n",
      "|    6      9924      C   /ds/environments/python2020/bin/python     10885MiB |\n",
      "+-----------------------------------------------------------------------------+\n"
     ]
    }
   ],
   "source": [
    "!nvidia-smi\n",
    "import os\n",
    "\n",
    "os.environ[\"CUDA_DEVICE_ORDER\"] = \"PCI_BUS_ID\"   # so the IDs match nvidia-smi\n",
    "os.environ[\"CUDA_VISIBLE_DEVICES\"] = \"7\"   # choose here your GPU (0-7)\n",
    "\n",
    "import tensorflow as tf\n",
    "import tensorflow.compat.v1 as tf\n",
    "import keras\n",
    "# from keras import backend as K\n",
    "import tensorflow.python.keras.backend as K\n",
    "\n",
    "# config = tf.ConfigProto()\n",
    "# config.gpu_options.allow_growth=True\n",
    "# sess = tf.Session(config=config)\n",
    "# K.set_session(sess)"
   ]
  },
  {
   "cell_type": "markdown",
   "metadata": {},
   "source": [
    "## Loading train data to use in Random Forest"
   ]
  },
  {
   "cell_type": "code",
   "execution_count": 3,
   "metadata": {},
   "outputs": [],
   "source": [
    "tts_path = DATA_dir+'TrainTestVal/'\n",
    "enc_df = pd.read_pickle(DATA_dir + 'enc_df.pkl')\n",
    "y_train_df = pd.read_pickle(tts_path + 'y_train.pkl')\n",
    "y_val_df = pd.read_pickle(tts_path + 'y_val.pkl')"
   ]
  },
  {
   "cell_type": "markdown",
   "metadata": {},
   "source": [
    "#### Converting the labels to list and assign 0 label to non glaucoma (2 or 3 mismatch)"
   ]
  },
  {
   "cell_type": "code",
   "execution_count": 22,
   "metadata": {},
   "outputs": [],
   "source": [
    "y_train = y_train_df['ClassLabel'].tolist()\n",
    "y_val = y_val_df['ClassLabel'].tolist()\n",
    "\n",
    "for i in range(len(y_train)):\n",
    "    if(y_train[i] != 1):\n",
    "        y_train[i] = 0\n",
    "        \n",
    "for i in range(len(y_val)):\n",
    "    if(y_val[i] != 1):\n",
    "        y_val[i] = 0\n"
   ]
  },
  {
   "cell_type": "code",
   "execution_count": 23,
   "metadata": {},
   "outputs": [],
   "source": [
    "indices_train = np.load(tts_path + 'indices_train.npy')\n",
    "indices_val = np.load(tts_path + 'indices_val.npy')\n",
    "indices_test = np.load(tts_path + 'indices_test.npy')"
   ]
  },
  {
   "cell_type": "code",
   "execution_count": 24,
   "metadata": {},
   "outputs": [
    {
     "data": {
      "text/plain": [
       "((85730, 6251), 51438, 17146)"
      ]
     },
     "execution_count": 24,
     "metadata": {},
     "output_type": "execute_result"
    }
   ],
   "source": [
    "enc_df.shape, len(y_train), len(y_val)"
   ]
  },
  {
   "cell_type": "markdown",
   "metadata": {},
   "source": [
    "## Class Distribution"
   ]
  },
  {
   "cell_type": "markdown",
   "metadata": {},
   "source": [
    "#### No. of Glaucoma and non Glaucoma patients in training set"
   ]
  },
  {
   "cell_type": "code",
   "execution_count": 25,
   "metadata": {},
   "outputs": [
    {
     "name": "stdout",
     "output_type": "stream",
     "text": [
      "No. of Glaucoma patients in training set: 389\n",
      "No. of non-Glaucoma patients in training set: 51049\n"
     ]
    }
   ],
   "source": [
    "n_NG = 0\n",
    "n_G = 0\n",
    "\n",
    "for i in range(len(y_train)):\n",
    "    if(y_train[i] == 1):\n",
    "        n_G += 1\n",
    "    else:\n",
    "        n_NG += 1\n",
    "        \n",
    "print(\"No. of Glaucoma patients in training set:\",n_G)\n",
    "print(\"No. of non-Glaucoma patients in training set:\",n_NG)"
   ]
  },
  {
   "cell_type": "code",
   "execution_count": 26,
   "metadata": {},
   "outputs": [
    {
     "data": {
      "image/png": "[encoded data removed]",
      "text/plain": [
       "<Figure size 432x288 with 1 Axes>"
      ]
     },
     "metadata": {
      "needs_background": "light"
     },
     "output_type": "display_data"
    }
   ],
   "source": [
    "import seaborn as sns\n",
    "\n",
    "class_name = ['Non-Glaucoma', 'Glaucoma']\n",
    "count = [n_NG, n_G]\n",
    "# plt.bar(class_name, count)\n",
    "sns.barplot(x=class_name, y=count, linewidth=2.5, errcolor=\".2\", edgecolor=\".2\")\n",
    "plt.xlabel('Class', fontsize=15)\n",
    "plt.ylabel('Number of patients', fontsize=15)\n",
    "plt.title('Class distribution')\n",
    "plt.show()"
   ]
  },
  {
   "cell_type": "markdown",
   "metadata": {},
   "source": [
    "## Assigning class weight for imbalance data set to use in Random forest classifier"
   ]
  },
  {
   "cell_type": "code",
   "execution_count": 27,
   "metadata": {},
   "outputs": [],
   "source": [
    "class_weight = dict({0:1, 1:150})"
   ]
  },
  {
   "cell_type": "markdown",
   "metadata": {},
   "source": [
    "## Feature Reduction and Saving Dataframe with reduced features"
   ]
  },
  {
   "cell_type": "code",
   "execution_count": 9,
   "metadata": {},
   "outputs": [
    {
     "data": {
      "text/plain": [
       "(85730, 4898)"
      ]
     },
     "execution_count": 9,
     "metadata": {},
     "output_type": "execute_result"
    }
   ],
   "source": [
    "# cols2rem = ['87-','92-','135-','2227-','4689-','5181-','5326-','5327-','5945-','6119-','6148-','20002-','20008-','20009-','20010-','20011','20013-',\n",
    "#             '20014-','40001-','40002-','41078-','41080-','41082-','41083-','41084-','41096-','41101-','41142-','41202-','41204-',\n",
    "#             '41200-','41210-']\n",
    "\n",
    "# # len(cols2rem) # 13\n",
    "# remove_df  = enc_df.loc[:,enc_df.columns.str.startswith(cols2rem[0])]\n",
    "# for i in range(1,len(cols2rem)):\n",
    "#     remove_df = remove_df.join(enc_df.loc[:,enc_df.columns.str.startswith(cols2rem[i])])\n",
    "    \n",
    "# new_enc_df = enc_df.drop(remove_df.columns, axis=1)\n",
    "# new_enc_df.shape"
   ]
  },
  {
   "cell_type": "markdown",
   "metadata": {},
   "source": [
    "### Spliting new_enc_df to train test val as per the indices"
   ]
  },
  {
   "cell_type": "code",
   "execution_count": 98,
   "metadata": {},
   "outputs": [],
   "source": [
    "# meta_train = []\n",
    "# meta_val = []\n",
    "# meta_test = []\n",
    "\n",
    "# for i in range(len(indices_train)):\n",
    "#     meta_train.append(new_enc_df.iloc[indices_train[i]])\n",
    "    \n",
    "# for i in range(len(indices_val)):\n",
    "#     meta_val.append(new_enc_df.iloc[indices_val[i]])\n",
    "#     meta_test.append(new_enc_df.iloc[indices_test[i]])\n",
    "\n",
    "# meta_train_arr = np.asarray(meta_train)\n",
    "# meta_val_arr = np.asarray(meta_val)\n",
    "# meta_test_arr = np.asarray(meta_test)\n",
    "\n",
    "# meta_train_df = pd.DataFrame(meta_train_arr,columns = new_enc_df.columns)\n",
    "# meta_val_df = pd.DataFrame(meta_val_arr,columns = new_enc_df.columns)\n",
    "# meta_test_df = pd.DataFrame(meta_test_arr,columns = new_enc_df.columns)"
   ]
  },
  {
   "cell_type": "code",
   "execution_count": 100,
   "metadata": {},
   "outputs": [],
   "source": [
    "# #SAVE - DONE\n",
    "# meta_train_df.to_pickle(tts_path + 'reducedfeatures_meta_train.pkl')\n",
    "# meta_val_df.to_pickle(tts_path + 'reducedfeatures_meta_val.pkl')\n",
    "# meta_test_df.to_pickle(tts_path + 'reducedfeatures_meta_test.pkl')"
   ]
  },
  {
   "cell_type": "markdown",
   "metadata": {},
   "source": [
    "### Loading Reduced Features Encodeded Metadata - Train and Validation"
   ]
  },
  {
   "cell_type": "code",
   "execution_count": 28,
   "metadata": {},
   "outputs": [
    {
     "data": {
      "text/plain": [
       "((51438, 4898), (17146, 4898), 51438, 17146)"
      ]
     },
     "execution_count": 28,
     "metadata": {},
     "output_type": "execute_result"
    }
   ],
   "source": [
    "meta_train_df = pd.read_pickle(tts_path + 'reducedfeatures_meta_train.pkl')\n",
    "meta_val_df = pd.read_pickle(tts_path + 'reducedfeatures_meta_val.pkl')\n",
    "\n",
    "meta_train_df.shape, meta_val_df.shape, len(y_train), len(y_val)"
   ]
  },
  {
   "cell_type": "markdown",
   "metadata": {},
   "source": [
    "## RandomForestClassifier for Feature Importance"
   ]
  },
  {
   "cell_type": "markdown",
   "metadata": {},
   "source": [
    "#### 1. Without class weights - everything is classified as majority class - High accuracy but 0 precision and recall"
   ]
  },
  {
   "cell_type": "code",
   "execution_count": 215,
   "metadata": {},
   "outputs": [
    {
     "data": {
      "text/plain": [
       "RandomForestClassifier(bootstrap=True, class_weight=None, criterion='gini',\n",
       "                       max_depth=None, max_features=0.5, max_leaf_nodes=None,\n",
       "                       min_impurity_decrease=0.0, min_impurity_split=None,\n",
       "                       min_samples_leaf=3, min_samples_split=2,\n",
       "                       min_weight_fraction_leaf=0.0, n_estimators=40, n_jobs=-1,\n",
       "                       oob_score=True, random_state=None, verbose=0,\n",
       "                       warm_start=False)"
      ]
     },
     "execution_count": 215,
     "metadata": {},
     "output_type": "execute_result"
    }
   ],
   "source": [
    "# # # Random forest classifier\n",
    "# rfc_all = RandomForestClassifier(n_estimators = 40, min_samples_leaf = 3, max_features = 0.5, n_jobs=-1, oob_score = True)\n",
    "# rfc_all.fit(meta_train_df, y_train)"
   ]
  },
  {
   "cell_type": "code",
   "execution_count": 217,
   "metadata": {},
   "outputs": [
    {
     "data": {
      "text/plain": [
       "['/ds2/data/retina/UK_BB/patra/TrainTestVal/RandomForest_allfeat.sav']"
      ]
     },
     "execution_count": 217,
     "metadata": {},
     "output_type": "execute_result"
    }
   ],
   "source": [
    "# # Saving -- DONE !!\n",
    "# from sklearn.externals import joblib\n",
    "# joblib.dump(rfc_all, tts_path + 'RandomForest_allfeat.sav')"
   ]
  },
  {
   "cell_type": "code",
   "execution_count": 14,
   "metadata": {},
   "outputs": [],
   "source": [
    "rfc_all = joblib.load(tts_path + 'RandomForest_allfeat.sav')"
   ]
  },
  {
   "cell_type": "markdown",
   "metadata": {},
   "source": [
    "#### 2. With class weights - giving higher weight to minority class"
   ]
  },
  {
   "cell_type": "code",
   "execution_count": 29,
   "metadata": {},
   "outputs": [],
   "source": [
    "# rfc_all_cw = RandomForestClassifier(n_estimators = 40, min_samples_leaf = 3, max_features = 0.5, n_jobs=-1, oob_score = True)\n",
    "\n",
    "rfc_all_cw = RandomForestClassifier(bootstrap=True,\n",
    "                                    class_weight=class_weight, criterion='gini',\n",
    "                                    max_depth=8, max_features='auto', max_leaf_nodes=None,\n",
    "                                    min_impurity_decrease=0.0, min_impurity_split=None,\n",
    "                                    min_samples_leaf=4, min_samples_split=10,\n",
    "                                    min_weight_fraction_leaf=0.0, n_estimators=300,\n",
    "                                    n_jobs=-1, oob_score=True,\n",
    "                                    verbose=0, warm_start=False)"
   ]
  },
  {
   "cell_type": "code",
   "execution_count": 30,
   "metadata": {},
   "outputs": [
    {
     "data": {
      "text/plain": [
       "RandomForestClassifier(bootstrap=True, class_weight={0: 1, 1: 150},\n",
       "                       criterion='gini', max_depth=8, max_features='auto',\n",
       "                       max_leaf_nodes=None, min_impurity_decrease=0.0,\n",
       "                       min_impurity_split=None, min_samples_leaf=4,\n",
       "                       min_samples_split=10, min_weight_fraction_leaf=0.0,\n",
       "                       n_estimators=300, n_jobs=-1, oob_score=True,\n",
       "                       random_state=None, verbose=0, warm_start=False)"
      ]
     },
     "execution_count": 30,
     "metadata": {},
     "output_type": "execute_result"
    }
   ],
   "source": [
    "rfc_all_cw.fit(meta_train_df, y_train)"
   ]
  },
  {
   "cell_type": "markdown",
   "metadata": {},
   "source": [
    "### Feature Dictionaries"
   ]
  },
  {
   "cell_type": "code",
   "execution_count": 31,
   "metadata": {},
   "outputs": [],
   "source": [
    "# FEATURE DESCRIPTION DICTIONARY\n",
    "feat_desc = pd.read_excel(DATA_dir + 'FeatureNames.xlsx')\n",
    "feat_unique = feat_desc['UDI'].str.split('-',expand=True)[0].unique()\n",
    "feat_desc_dict, feat_unique_dict = feature_desc()"
   ]
  },
  {
   "cell_type": "code",
   "execution_count": 32,
   "metadata": {},
   "outputs": [],
   "source": [
    "feat_imp_dict, feat_unique_imp_dict = feature_imp(rfc_all_cw, meta_train_df)"
   ]
  },
  {
   "cell_type": "code",
   "execution_count": 33,
   "metadata": {
    "scrolled": true
   },
   "outputs": [
    {
     "data": {
      "text/html": [
       "<div>\n",
       "<style scoped>\n",
       "    .dataframe tbody tr th:only-of-type {\n",
       "        vertical-align: middle;\n",
       "    }\n",
       "\n",
       "    .dataframe tbody tr th {\n",
       "        vertical-align: top;\n",
       "    }\n",
       "\n",
       "    .dataframe thead th {\n",
       "        text-align: right;\n",
       "    }\n",
       "</style>\n",
       "<table border=\"1\" class=\"dataframe\">\n",
       "  <thead>\n",
       "    <tr style=\"text-align: right;\">\n",
       "      <th></th>\n",
       "      <th>Features</th>\n",
       "      <th>Importance</th>\n",
       "    </tr>\n",
       "  </thead>\n",
       "  <tbody>\n",
       "    <tr>\n",
       "      <th>0</th>\n",
       "      <td>Taking other prescription medications</td>\n",
       "      <td>0.019535</td>\n",
       "    </tr>\n",
       "    <tr>\n",
       "      <th>1</th>\n",
       "      <td>Year of birth</td>\n",
       "      <td>0.017447</td>\n",
       "    </tr>\n",
       "    <tr>\n",
       "      <th>2</th>\n",
       "      <td>Age when attended assessment centre</td>\n",
       "      <td>0.017066</td>\n",
       "    </tr>\n",
       "    <tr>\n",
       "      <th>3</th>\n",
       "      <td>Corneal hysteresis (right)</td>\n",
       "      <td>0.011003</td>\n",
       "    </tr>\n",
       "    <tr>\n",
       "      <th>4</th>\n",
       "      <td>Corneal hysteresis (left)</td>\n",
       "      <td>0.010730</td>\n",
       "    </tr>\n",
       "    <tr>\n",
       "      <th>5</th>\n",
       "      <td>Intra-ocular pressure device ID (left)</td>\n",
       "      <td>0.010117</td>\n",
       "    </tr>\n",
       "    <tr>\n",
       "      <th>6</th>\n",
       "      <td>Duration visual-acuity screen displayed (right)</td>\n",
       "      <td>0.007348</td>\n",
       "    </tr>\n",
       "    <tr>\n",
       "      <th>7</th>\n",
       "      <td>Intra-ocular pressure, corneal-compensated (right)</td>\n",
       "      <td>0.006941</td>\n",
       "    </tr>\n",
       "    <tr>\n",
       "      <th>8</th>\n",
       "      <td>Intra-ocular pressure, Goldmann-correlated (left)</td>\n",
       "      <td>0.006546</td>\n",
       "    </tr>\n",
       "    <tr>\n",
       "      <th>9</th>\n",
       "      <td>Time since interview start at which blood pressure screen(s) shown</td>\n",
       "      <td>0.006395</td>\n",
       "    </tr>\n",
       "    <tr>\n",
       "      <th>10</th>\n",
       "      <td>Long-standing illness, disability or infirmity</td>\n",
       "      <td>0.005999</td>\n",
       "    </tr>\n",
       "    <tr>\n",
       "      <th>11</th>\n",
       "      <td>Intra-ocular pressure, Goldmann-correlated (right)</td>\n",
       "      <td>0.005516</td>\n",
       "    </tr>\n",
       "    <tr>\n",
       "      <th>12</th>\n",
       "      <td>logMAR, final (right)</td>\n",
       "      <td>0.005317</td>\n",
       "    </tr>\n",
       "    <tr>\n",
       "      <th>13</th>\n",
       "      <td>3mm cylindrical power angle (right)</td>\n",
       "      <td>0.005184</td>\n",
       "    </tr>\n",
       "    <tr>\n",
       "      <th>14</th>\n",
       "      <td>logMAR, final (left)</td>\n",
       "      <td>0.004652</td>\n",
       "    </tr>\n",
       "    <tr>\n",
       "      <th>15</th>\n",
       "      <td>6mm strong meridian angle (right)</td>\n",
       "      <td>0.004397</td>\n",
       "    </tr>\n",
       "    <tr>\n",
       "      <th>16</th>\n",
       "      <td>3mm strong meridian angle (right)</td>\n",
       "      <td>0.004318</td>\n",
       "    </tr>\n",
       "    <tr>\n",
       "      <th>17</th>\n",
       "      <td>3mm weak meridian angle (right)</td>\n",
       "      <td>0.004127</td>\n",
       "    </tr>\n",
       "    <tr>\n",
       "      <th>18</th>\n",
       "      <td>Forced expiratory volume in 1-second (FEV1)</td>\n",
       "      <td>0.003813</td>\n",
       "    </tr>\n",
       "    <tr>\n",
       "      <th>19</th>\n",
       "      <td>Duration at which OCT screen shown (right)</td>\n",
       "      <td>0.003390</td>\n",
       "    </tr>\n",
       "    <tr>\n",
       "      <th>20</th>\n",
       "      <td>Medication for cholesterol, blood pressure, diabetes, or take exogenous hormones</td>\n",
       "      <td>0.003364</td>\n",
       "    </tr>\n",
       "    <tr>\n",
       "      <th>21</th>\n",
       "      <td>logMAR, initial (left)</td>\n",
       "      <td>0.003241</td>\n",
       "    </tr>\n",
       "    <tr>\n",
       "      <th>22</th>\n",
       "      <td>Cylindrical power (right)</td>\n",
       "      <td>0.003121</td>\n",
       "    </tr>\n",
       "    <tr>\n",
       "      <th>23</th>\n",
       "      <td>6mm cylindrical power angle (left)</td>\n",
       "      <td>0.003120</td>\n",
       "    </tr>\n",
       "    <tr>\n",
       "      <th>24</th>\n",
       "      <td>3mm strong meridian angle (left)</td>\n",
       "      <td>0.003013</td>\n",
       "    </tr>\n",
       "    <tr>\n",
       "      <th>25</th>\n",
       "      <td>logMAR, initial (right)</td>\n",
       "      <td>0.002985</td>\n",
       "    </tr>\n",
       "    <tr>\n",
       "      <th>26</th>\n",
       "      <td>logMAR in round (right)</td>\n",
       "      <td>0.002911</td>\n",
       "    </tr>\n",
       "    <tr>\n",
       "      <th>27</th>\n",
       "      <td>Duration at which refractometer first shown (right)</td>\n",
       "      <td>0.002901</td>\n",
       "    </tr>\n",
       "    <tr>\n",
       "      <th>28</th>\n",
       "      <td>Duration at which refractometer first shown (left)</td>\n",
       "      <td>0.002865</td>\n",
       "    </tr>\n",
       "    <tr>\n",
       "      <th>29</th>\n",
       "      <td>logMAR in round (left)</td>\n",
       "      <td>0.002816</td>\n",
       "    </tr>\n",
       "    <tr>\n",
       "      <th>30</th>\n",
       "      <td>Duration at which OCT screen shown (left)</td>\n",
       "      <td>0.002807</td>\n",
       "    </tr>\n",
       "    <tr>\n",
       "      <th>31</th>\n",
       "      <td>Forced vital capacity (FVC)</td>\n",
       "      <td>0.002785</td>\n",
       "    </tr>\n",
       "    <tr>\n",
       "      <th>32</th>\n",
       "      <td>6mm weak meridian (right)</td>\n",
       "      <td>0.002705</td>\n",
       "    </tr>\n",
       "    <tr>\n",
       "      <th>33</th>\n",
       "      <td>Corneal resistance factor (right)</td>\n",
       "      <td>0.002689</td>\n",
       "    </tr>\n",
       "    <tr>\n",
       "      <th>34</th>\n",
       "      <td>Basal metabolic rate</td>\n",
       "      <td>0.002649</td>\n",
       "    </tr>\n",
       "    <tr>\n",
       "      <th>35</th>\n",
       "      <td>Cylindrical power (left)</td>\n",
       "      <td>0.002575</td>\n",
       "    </tr>\n",
       "    <tr>\n",
       "      <th>36</th>\n",
       "      <td>3mm cylindrical power angle (left)</td>\n",
       "      <td>0.002544</td>\n",
       "    </tr>\n",
       "    <tr>\n",
       "      <th>37</th>\n",
       "      <td>3mm regularity index (left)</td>\n",
       "      <td>0.002482</td>\n",
       "    </tr>\n",
       "    <tr>\n",
       "      <th>38</th>\n",
       "      <td>Medication for cholesterol, blood pressure or diabetes</td>\n",
       "      <td>0.002472</td>\n",
       "    </tr>\n",
       "    <tr>\n",
       "      <th>39</th>\n",
       "      <td>Waist circumference</td>\n",
       "      <td>0.002465</td>\n",
       "    </tr>\n",
       "    <tr>\n",
       "      <th>40</th>\n",
       "      <td>Astigmatism angle (right)</td>\n",
       "      <td>0.002348</td>\n",
       "    </tr>\n",
       "    <tr>\n",
       "      <th>41</th>\n",
       "      <td>Trunk fat mass</td>\n",
       "      <td>0.002298</td>\n",
       "    </tr>\n",
       "    <tr>\n",
       "      <th>42</th>\n",
       "      <td>3mm regularity index (right)</td>\n",
       "      <td>0.002290</td>\n",
       "    </tr>\n",
       "    <tr>\n",
       "      <th>43</th>\n",
       "      <td>Glasses worn/required (right)</td>\n",
       "      <td>0.002274</td>\n",
       "    </tr>\n",
       "    <tr>\n",
       "      <th>44</th>\n",
       "      <td>6mm weak meridian angle (left)</td>\n",
       "      <td>0.002273</td>\n",
       "    </tr>\n",
       "    <tr>\n",
       "      <th>45</th>\n",
       "      <td>Data points for blow</td>\n",
       "      <td>0.002272</td>\n",
       "    </tr>\n",
       "    <tr>\n",
       "      <th>46</th>\n",
       "      <td>Ever had cataract surgery</td>\n",
       "      <td>0.002213</td>\n",
       "    </tr>\n",
       "    <tr>\n",
       "      <th>47</th>\n",
       "      <td>Peak expiratory flow (PEF)</td>\n",
       "      <td>0.002184</td>\n",
       "    </tr>\n",
       "    <tr>\n",
       "      <th>48</th>\n",
       "      <td>3mm weak meridian angle (left)</td>\n",
       "      <td>0.002183</td>\n",
       "    </tr>\n",
       "    <tr>\n",
       "      <th>49</th>\n",
       "      <td>Duration to first press of snap-button in each round</td>\n",
       "      <td>0.002172</td>\n",
       "    </tr>\n",
       "  </tbody>\n",
       "</table>\n",
       "</div>"
      ],
      "text/plain": [
       "                                                                            Features  \\\n",
       "0                                              Taking other prescription medications   \n",
       "1                                                                      Year of birth   \n",
       "2                                                Age when attended assessment centre   \n",
       "3                                                         Corneal hysteresis (right)   \n",
       "4                                                          Corneal hysteresis (left)   \n",
       "5                                             Intra-ocular pressure device ID (left)   \n",
       "6                                    Duration visual-acuity screen displayed (right)   \n",
       "7                                 Intra-ocular pressure, corneal-compensated (right)   \n",
       "8                                  Intra-ocular pressure, Goldmann-correlated (left)   \n",
       "9                 Time since interview start at which blood pressure screen(s) shown   \n",
       "10                                    Long-standing illness, disability or infirmity   \n",
       "11                                Intra-ocular pressure, Goldmann-correlated (right)   \n",
       "12                                                             logMAR, final (right)   \n",
       "13                                               3mm cylindrical power angle (right)   \n",
       "14                                                              logMAR, final (left)   \n",
       "15                                                 6mm strong meridian angle (right)   \n",
       "16                                                 3mm strong meridian angle (right)   \n",
       "17                                                   3mm weak meridian angle (right)   \n",
       "18                                       Forced expiratory volume in 1-second (FEV1)   \n",
       "19                                        Duration at which OCT screen shown (right)   \n",
       "20  Medication for cholesterol, blood pressure, diabetes, or take exogenous hormones   \n",
       "21                                                            logMAR, initial (left)   \n",
       "22                                                         Cylindrical power (right)   \n",
       "23                                                6mm cylindrical power angle (left)   \n",
       "24                                                  3mm strong meridian angle (left)   \n",
       "25                                                           logMAR, initial (right)   \n",
       "26                                                           logMAR in round (right)   \n",
       "27                               Duration at which refractometer first shown (right)   \n",
       "28                                Duration at which refractometer first shown (left)   \n",
       "29                                                            logMAR in round (left)   \n",
       "30                                         Duration at which OCT screen shown (left)   \n",
       "31                                                       Forced vital capacity (FVC)   \n",
       "32                                                         6mm weak meridian (right)   \n",
       "33                                                 Corneal resistance factor (right)   \n",
       "34                                                              Basal metabolic rate   \n",
       "35                                                          Cylindrical power (left)   \n",
       "36                                                3mm cylindrical power angle (left)   \n",
       "37                                                       3mm regularity index (left)   \n",
       "38                            Medication for cholesterol, blood pressure or diabetes   \n",
       "39                                                               Waist circumference   \n",
       "40                                                         Astigmatism angle (right)   \n",
       "41                                                                    Trunk fat mass   \n",
       "42                                                      3mm regularity index (right)   \n",
       "43                                                     Glasses worn/required (right)   \n",
       "44                                                    6mm weak meridian angle (left)   \n",
       "45                                                              Data points for blow   \n",
       "46                                                         Ever had cataract surgery   \n",
       "47                                                        Peak expiratory flow (PEF)   \n",
       "48                                                    3mm weak meridian angle (left)   \n",
       "49                              Duration to first press of snap-button in each round   \n",
       "\n",
       "    Importance  \n",
       "0     0.019535  \n",
       "1     0.017447  \n",
       "2     0.017066  \n",
       "3     0.011003  \n",
       "4     0.010730  \n",
       "5     0.010117  \n",
       "6     0.007348  \n",
       "7     0.006941  \n",
       "8     0.006546  \n",
       "9     0.006395  \n",
       "10    0.005999  \n",
       "11    0.005516  \n",
       "12    0.005317  \n",
       "13    0.005184  \n",
       "14    0.004652  \n",
       "15    0.004397  \n",
       "16    0.004318  \n",
       "17    0.004127  \n",
       "18    0.003813  \n",
       "19    0.003390  \n",
       "20    0.003364  \n",
       "21    0.003241  \n",
       "22    0.003121  \n",
       "23    0.003120  \n",
       "24    0.003013  \n",
       "25    0.002985  \n",
       "26    0.002911  \n",
       "27    0.002901  \n",
       "28    0.002865  \n",
       "29    0.002816  \n",
       "30    0.002807  \n",
       "31    0.002785  \n",
       "32    0.002705  \n",
       "33    0.002689  \n",
       "34    0.002649  \n",
       "35    0.002575  \n",
       "36    0.002544  \n",
       "37    0.002482  \n",
       "38    0.002472  \n",
       "39    0.002465  \n",
       "40    0.002348  \n",
       "41    0.002298  \n",
       "42    0.002290  \n",
       "43    0.002274  \n",
       "44    0.002273  \n",
       "45    0.002272  \n",
       "46    0.002213  \n",
       "47    0.002184  \n",
       "48    0.002183  \n",
       "49    0.002172  "
      ]
     },
     "metadata": {},
     "output_type": "display_data"
    }
   ],
   "source": [
    "pd.options.display.max_colwidth = 100\n",
    "\n",
    "fi_red = get_imp_features(50)\n",
    "display_all(fi_red)"
   ]
  },
  {
   "cell_type": "code",
   "execution_count": 34,
   "metadata": {
    "scrolled": true
   },
   "outputs": [
    {
     "data": {
      "text/plain": [
       "<matplotlib.axes._subplots.AxesSubplot at 0x7f7ddf10cc10>"
      ]
     },
     "execution_count": 34,
     "metadata": {},
     "output_type": "execute_result"
    },
    {
     "data": {
      "image/png": "[encoded data removed]",
      "text/plain": [
       "<Figure size 1080x1080 with 1 Axes>"
      ]
     },
     "metadata": {
      "needs_background": "light"
     },
     "output_type": "display_data"
    }
   ],
   "source": [
    "def plot_fi(finew):\n",
    "    return finew.plot('Features','Importance','barh',figsize=(15,15),legend=False)\n",
    "\n",
    "plot_fi(fi_red)"
   ]
  },
  {
   "cell_type": "markdown",
   "metadata": {},
   "source": [
    "## Creating Dataframe containing important features"
   ]
  },
  {
   "cell_type": "code",
   "execution_count": 35,
   "metadata": {},
   "outputs": [
    {
     "data": {
      "text/plain": [
       "47"
      ]
     },
     "execution_count": 35,
     "metadata": {},
     "output_type": "execute_result"
    }
   ],
   "source": [
    "# Getting feature from feature description\n",
    "feat_to_keep = fi_red[fi_red.Importance>0.0022].Features\n",
    "featval_to_keep = []\n",
    "for i in range(len(feat_to_keep)):\n",
    "    for feat, desc in feat_unique_dict.items():    # for name, age in dictionary.iteritems():  (for Python 2.x)\n",
    "        if desc == feat_to_keep[i]:\n",
    "            featval_to_keep.append(feat)\n",
    "            break\n",
    "            \n",
    "len(featval_to_keep)"
   ]
  },
  {
   "cell_type": "code",
   "execution_count": 36,
   "metadata": {},
   "outputs": [
    {
     "data": {
      "text/plain": [
       "((51438, 4898), (17146, 4898))"
      ]
     },
     "execution_count": 36,
     "metadata": {},
     "output_type": "execute_result"
    }
   ],
   "source": [
    "meta_train_df.shape, meta_val_df.shape"
   ]
  },
  {
   "cell_type": "code",
   "execution_count": 37,
   "metadata": {},
   "outputs": [
    {
     "data": {
      "text/plain": [
       "(51438, 383)"
      ]
     },
     "execution_count": 37,
     "metadata": {},
     "output_type": "execute_result"
    }
   ],
   "source": [
    "redtrain_df = meta_train_df.loc[:,meta_train_df.columns.str.startswith(featval_to_keep[0])]\n",
    "for i in range(1,len(featval_to_keep)):\n",
    "    redtrain_df = redtrain_df.join(meta_train_df.loc[:,meta_train_df.columns.str.startswith(featval_to_keep[i])])\n",
    "    \n",
    "redtrain_df.shape"
   ]
  },
  {
   "cell_type": "code",
   "execution_count": 38,
   "metadata": {},
   "outputs": [
    {
     "data": {
      "text/plain": [
       "(17146, 383)"
      ]
     },
     "execution_count": 38,
     "metadata": {},
     "output_type": "execute_result"
    }
   ],
   "source": [
    "redval_df = meta_val_df.loc[:,meta_val_df.columns.str.startswith(featval_to_keep[0])]\n",
    "for i in range(1,len(featval_to_keep)):\n",
    "    redval_df = redval_df.join(meta_val_df.loc[:,meta_val_df.columns.str.startswith(featval_to_keep[i])])\n",
    "    \n",
    "redval_df.shape"
   ]
  },
  {
   "cell_type": "markdown",
   "metadata": {},
   "source": [
    "### Saving the dataframe"
   ]
  },
  {
   "cell_type": "code",
   "execution_count": 39,
   "metadata": {},
   "outputs": [],
   "source": [
    "redtrain_df.to_pickle(tts_path + str(len(featval_to_keep))+'_features_train_df.pkl')\n",
    "redval_df.to_pickle(tts_path + str(len(featval_to_keep))+'_features_val_df.pkl')"
   ]
  },
  {
   "cell_type": "markdown",
   "metadata": {},
   "source": [
    "## Applying Random Forest Classifier to see the correlation among these selected features"
   ]
  },
  {
   "cell_type": "code",
   "execution_count": 40,
   "metadata": {},
   "outputs": [
    {
     "data": {
      "text/plain": [
       "((51438, 383), (17146, 383))"
      ]
     },
     "execution_count": 40,
     "metadata": {},
     "output_type": "execute_result"
    }
   ],
   "source": [
    "# LOAD\n",
    "redtrain_df = pd.read_pickle(tts_path + str(len(featval_to_keep))+'_features_train_df.pkl')\n",
    "redval_df = pd.read_pickle(tts_path + str(len(featval_to_keep))+'_features_val_df.pkl')\n",
    "redtrain_df.shape, redval_df.shape"
   ]
  },
  {
   "cell_type": "markdown",
   "metadata": {},
   "source": [
    "#### without class_weight"
   ]
  },
  {
   "cell_type": "code",
   "execution_count": 219,
   "metadata": {},
   "outputs": [
    {
     "data": {
      "text/plain": [
       "RandomForestClassifier(bootstrap=True, class_weight=None, criterion='gini',\n",
       "                       max_depth=None, max_features=0.5, max_leaf_nodes=None,\n",
       "                       min_impurity_decrease=0.0, min_impurity_split=None,\n",
       "                       min_samples_leaf=3, min_samples_split=2,\n",
       "                       min_weight_fraction_leaf=0.0, n_estimators=40, n_jobs=-1,\n",
       "                       oob_score=True, random_state=None, verbose=0,\n",
       "                       warm_start=False)"
      ]
     },
     "execution_count": 219,
     "metadata": {},
     "output_type": "execute_result"
    }
   ],
   "source": [
    "# rfc_red = RandomForestClassifier(n_estimators = 40, min_samples_leaf = 3, max_features = 0.5, n_jobs=-1, oob_score = True)\n",
    "# rfc_red.fit(redtrain_df, y_train)"
   ]
  },
  {
   "cell_type": "code",
   "execution_count": 220,
   "metadata": {},
   "outputs": [
    {
     "data": {
      "text/plain": [
       "['/ds2/data/retina/UK_BB/patra/TrainTestVal/RandomForest_redfeat.sav']"
      ]
     },
     "execution_count": 220,
     "metadata": {},
     "output_type": "execute_result"
    }
   ],
   "source": [
    "# Saving -- DONE !!\n",
    "from sklearn.externals import joblib\n",
    "joblib.dump(rfc_red, tts_path + 'RandomForest_redfeat.sav')"
   ]
  },
  {
   "cell_type": "markdown",
   "metadata": {},
   "source": [
    "#### with class weight"
   ]
  },
  {
   "cell_type": "code",
   "execution_count": 41,
   "metadata": {},
   "outputs": [
    {
     "data": {
      "text/plain": [
       "RandomForestClassifier(bootstrap=True, class_weight={0: 1, 1: 150},\n",
       "                       criterion='gini', max_depth=8, max_features='auto',\n",
       "                       max_leaf_nodes=None, min_impurity_decrease=0.0,\n",
       "                       min_impurity_split=None, min_samples_leaf=4,\n",
       "                       min_samples_split=10, min_weight_fraction_leaf=0.0,\n",
       "                       n_estimators=300, n_jobs=-1, oob_score=True,\n",
       "                       random_state=None, verbose=0, warm_start=False)"
      ]
     },
     "execution_count": 41,
     "metadata": {},
     "output_type": "execute_result"
    }
   ],
   "source": [
    "rfc_red_cw = RandomForestClassifier(bootstrap=True,\n",
    "                                    class_weight=class_weight, criterion='gini',\n",
    "                                    max_depth=8, max_features='auto', max_leaf_nodes=None,\n",
    "                                    min_impurity_decrease=0.0, min_impurity_split=None,\n",
    "                                    min_samples_leaf=4, min_samples_split=10,\n",
    "                                    min_weight_fraction_leaf=0.0, n_estimators=300,\n",
    "                                    n_jobs=-1, oob_score=True,\n",
    "                                    verbose=0, warm_start=False)\n",
    "\n",
    "rfc_red_cw.fit(redtrain_df, y_train)"
   ]
  },
  {
   "cell_type": "markdown",
   "metadata": {},
   "source": [
    "### Loading Reduced features random forest"
   ]
  },
  {
   "cell_type": "code",
   "execution_count": 221,
   "metadata": {},
   "outputs": [],
   "source": [
    "# rfc_red = joblib.load(tts_path + 'RandomForest_redfeat.sav')"
   ]
  },
  {
   "cell_type": "code",
   "execution_count": null,
   "metadata": {},
   "outputs": [],
   "source": []
  },
  {
   "cell_type": "code",
   "execution_count": 42,
   "metadata": {},
   "outputs": [],
   "source": [
    "# FEATURE DESCRIPTION DICTIONARY\n",
    "feat_desc = pd.read_excel(DATA_dir + 'FeatureNames.xlsx')\n",
    "feat_unique = feat_desc['UDI'].str.split('-',expand=True)[0].unique()\n",
    "feat_desc_dict, feat_unique_dict = feature_desc()"
   ]
  },
  {
   "cell_type": "code",
   "execution_count": 43,
   "metadata": {
    "scrolled": true
   },
   "outputs": [
    {
     "data": {
      "text/html": [
       "<div>\n",
       "<style scoped>\n",
       "    .dataframe tbody tr th:only-of-type {\n",
       "        vertical-align: middle;\n",
       "    }\n",
       "\n",
       "    .dataframe tbody tr th {\n",
       "        vertical-align: top;\n",
       "    }\n",
       "\n",
       "    .dataframe thead th {\n",
       "        text-align: right;\n",
       "    }\n",
       "</style>\n",
       "<table border=\"1\" class=\"dataframe\">\n",
       "  <thead>\n",
       "    <tr style=\"text-align: right;\">\n",
       "      <th></th>\n",
       "      <th>Features</th>\n",
       "      <th>Importance</th>\n",
       "    </tr>\n",
       "  </thead>\n",
       "  <tbody>\n",
       "    <tr>\n",
       "      <th>0</th>\n",
       "      <td>Taking other prescription medications</td>\n",
       "      <td>0.058557</td>\n",
       "    </tr>\n",
       "    <tr>\n",
       "      <th>1</th>\n",
       "      <td>Age when attended assessment centre</td>\n",
       "      <td>0.047556</td>\n",
       "    </tr>\n",
       "    <tr>\n",
       "      <th>2</th>\n",
       "      <td>Year of birth</td>\n",
       "      <td>0.041455</td>\n",
       "    </tr>\n",
       "    <tr>\n",
       "      <th>3</th>\n",
       "      <td>Corneal hysteresis (left)</td>\n",
       "      <td>0.035624</td>\n",
       "    </tr>\n",
       "    <tr>\n",
       "      <th>4</th>\n",
       "      <td>Intra-ocular pressure, corneal-compensated (right)</td>\n",
       "      <td>0.024997</td>\n",
       "    </tr>\n",
       "    <tr>\n",
       "      <th>5</th>\n",
       "      <td>Corneal hysteresis (right)</td>\n",
       "      <td>0.023045</td>\n",
       "    </tr>\n",
       "    <tr>\n",
       "      <th>6</th>\n",
       "      <td>Duration visual-acuity screen displayed (right)</td>\n",
       "      <td>0.019708</td>\n",
       "    </tr>\n",
       "    <tr>\n",
       "      <th>7</th>\n",
       "      <td>Time since interview start at which blood pressure screen(s) shown</td>\n",
       "      <td>0.016662</td>\n",
       "    </tr>\n",
       "    <tr>\n",
       "      <th>8</th>\n",
       "      <td>Intra-ocular pressure, Goldmann-correlated (left)</td>\n",
       "      <td>0.016585</td>\n",
       "    </tr>\n",
       "    <tr>\n",
       "      <th>9</th>\n",
       "      <td>Intra-ocular pressure, Goldmann-correlated (right)</td>\n",
       "      <td>0.014989</td>\n",
       "    </tr>\n",
       "    <tr>\n",
       "      <th>10</th>\n",
       "      <td>logMAR, final (right)</td>\n",
       "      <td>0.014382</td>\n",
       "    </tr>\n",
       "    <tr>\n",
       "      <th>11</th>\n",
       "      <td>Long-standing illness, disability or infirmity</td>\n",
       "      <td>0.012706</td>\n",
       "    </tr>\n",
       "    <tr>\n",
       "      <th>12</th>\n",
       "      <td>Forced expiratory volume in 1-second (FEV1)</td>\n",
       "      <td>0.012665</td>\n",
       "    </tr>\n",
       "    <tr>\n",
       "      <th>13</th>\n",
       "      <td>3mm strong meridian angle (right)</td>\n",
       "      <td>0.010297</td>\n",
       "    </tr>\n",
       "    <tr>\n",
       "      <th>14</th>\n",
       "      <td>Duration at which OCT screen shown (right)</td>\n",
       "      <td>0.009688</td>\n",
       "    </tr>\n",
       "    <tr>\n",
       "      <th>15</th>\n",
       "      <td>3mm weak meridian angle (right)</td>\n",
       "      <td>0.009429</td>\n",
       "    </tr>\n",
       "    <tr>\n",
       "      <th>16</th>\n",
       "      <td>Waist circumference</td>\n",
       "      <td>0.009346</td>\n",
       "    </tr>\n",
       "    <tr>\n",
       "      <th>17</th>\n",
       "      <td>Duration at which refractometer first shown (left)</td>\n",
       "      <td>0.009133</td>\n",
       "    </tr>\n",
       "    <tr>\n",
       "      <th>18</th>\n",
       "      <td>Basal metabolic rate</td>\n",
       "      <td>0.008698</td>\n",
       "    </tr>\n",
       "    <tr>\n",
       "      <th>19</th>\n",
       "      <td>Corneal resistance factor (right)</td>\n",
       "      <td>0.008631</td>\n",
       "    </tr>\n",
       "    <tr>\n",
       "      <th>20</th>\n",
       "      <td>logMAR, initial (right)</td>\n",
       "      <td>0.008493</td>\n",
       "    </tr>\n",
       "    <tr>\n",
       "      <th>21</th>\n",
       "      <td>6mm strong meridian angle (right)</td>\n",
       "      <td>0.008443</td>\n",
       "    </tr>\n",
       "    <tr>\n",
       "      <th>22</th>\n",
       "      <td>Forced vital capacity (FVC)</td>\n",
       "      <td>0.008428</td>\n",
       "    </tr>\n",
       "    <tr>\n",
       "      <th>23</th>\n",
       "      <td>logMAR, final (left)</td>\n",
       "      <td>0.008281</td>\n",
       "    </tr>\n",
       "    <tr>\n",
       "      <th>24</th>\n",
       "      <td>Cylindrical power (right)</td>\n",
       "      <td>0.008266</td>\n",
       "    </tr>\n",
       "    <tr>\n",
       "      <th>25</th>\n",
       "      <td>Duration at which refractometer first shown (right)</td>\n",
       "      <td>0.008229</td>\n",
       "    </tr>\n",
       "    <tr>\n",
       "      <th>26</th>\n",
       "      <td>Trunk fat mass</td>\n",
       "      <td>0.008175</td>\n",
       "    </tr>\n",
       "    <tr>\n",
       "      <th>27</th>\n",
       "      <td>3mm cylindrical power angle (right)</td>\n",
       "      <td>0.008039</td>\n",
       "    </tr>\n",
       "    <tr>\n",
       "      <th>28</th>\n",
       "      <td>Astigmatism angle (right)</td>\n",
       "      <td>0.007755</td>\n",
       "    </tr>\n",
       "    <tr>\n",
       "      <th>29</th>\n",
       "      <td>Cylindrical power (left)</td>\n",
       "      <td>0.007724</td>\n",
       "    </tr>\n",
       "    <tr>\n",
       "      <th>30</th>\n",
       "      <td>Duration at which OCT screen shown (left)</td>\n",
       "      <td>0.007514</td>\n",
       "    </tr>\n",
       "    <tr>\n",
       "      <th>31</th>\n",
       "      <td>Data points for blow</td>\n",
       "      <td>0.007397</td>\n",
       "    </tr>\n",
       "    <tr>\n",
       "      <th>32</th>\n",
       "      <td>logMAR in round (right)</td>\n",
       "      <td>0.007068</td>\n",
       "    </tr>\n",
       "    <tr>\n",
       "      <th>33</th>\n",
       "      <td>logMAR, initial (left)</td>\n",
       "      <td>0.006987</td>\n",
       "    </tr>\n",
       "    <tr>\n",
       "      <th>34</th>\n",
       "      <td>6mm cylindrical power angle (left)</td>\n",
       "      <td>0.006972</td>\n",
       "    </tr>\n",
       "    <tr>\n",
       "      <th>35</th>\n",
       "      <td>3mm cylindrical power angle (left)</td>\n",
       "      <td>0.006904</td>\n",
       "    </tr>\n",
       "    <tr>\n",
       "      <th>36</th>\n",
       "      <td>3mm strong meridian angle (left)</td>\n",
       "      <td>0.006521</td>\n",
       "    </tr>\n",
       "    <tr>\n",
       "      <th>37</th>\n",
       "      <td>6mm weak meridian angle (left)</td>\n",
       "      <td>0.006062</td>\n",
       "    </tr>\n",
       "    <tr>\n",
       "      <th>38</th>\n",
       "      <td>Medication for cholesterol, blood pressure, diabetes, or take exogenous hormones</td>\n",
       "      <td>0.006019</td>\n",
       "    </tr>\n",
       "    <tr>\n",
       "      <th>39</th>\n",
       "      <td>6mm weak meridian (right)</td>\n",
       "      <td>0.005799</td>\n",
       "    </tr>\n",
       "  </tbody>\n",
       "</table>\n",
       "</div>"
      ],
      "text/plain": [
       "                                                                            Features  \\\n",
       "0                                              Taking other prescription medications   \n",
       "1                                                Age when attended assessment centre   \n",
       "2                                                                      Year of birth   \n",
       "3                                                          Corneal hysteresis (left)   \n",
       "4                                 Intra-ocular pressure, corneal-compensated (right)   \n",
       "5                                                         Corneal hysteresis (right)   \n",
       "6                                    Duration visual-acuity screen displayed (right)   \n",
       "7                 Time since interview start at which blood pressure screen(s) shown   \n",
       "8                                  Intra-ocular pressure, Goldmann-correlated (left)   \n",
       "9                                 Intra-ocular pressure, Goldmann-correlated (right)   \n",
       "10                                                             logMAR, final (right)   \n",
       "11                                    Long-standing illness, disability or infirmity   \n",
       "12                                       Forced expiratory volume in 1-second (FEV1)   \n",
       "13                                                 3mm strong meridian angle (right)   \n",
       "14                                        Duration at which OCT screen shown (right)   \n",
       "15                                                   3mm weak meridian angle (right)   \n",
       "16                                                               Waist circumference   \n",
       "17                                Duration at which refractometer first shown (left)   \n",
       "18                                                              Basal metabolic rate   \n",
       "19                                                 Corneal resistance factor (right)   \n",
       "20                                                           logMAR, initial (right)   \n",
       "21                                                 6mm strong meridian angle (right)   \n",
       "22                                                       Forced vital capacity (FVC)   \n",
       "23                                                              logMAR, final (left)   \n",
       "24                                                         Cylindrical power (right)   \n",
       "25                               Duration at which refractometer first shown (right)   \n",
       "26                                                                    Trunk fat mass   \n",
       "27                                               3mm cylindrical power angle (right)   \n",
       "28                                                         Astigmatism angle (right)   \n",
       "29                                                          Cylindrical power (left)   \n",
       "30                                         Duration at which OCT screen shown (left)   \n",
       "31                                                              Data points for blow   \n",
       "32                                                           logMAR in round (right)   \n",
       "33                                                            logMAR, initial (left)   \n",
       "34                                                6mm cylindrical power angle (left)   \n",
       "35                                                3mm cylindrical power angle (left)   \n",
       "36                                                  3mm strong meridian angle (left)   \n",
       "37                                                    6mm weak meridian angle (left)   \n",
       "38  Medication for cholesterol, blood pressure, diabetes, or take exogenous hormones   \n",
       "39                                                         6mm weak meridian (right)   \n",
       "\n",
       "    Importance  \n",
       "0     0.058557  \n",
       "1     0.047556  \n",
       "2     0.041455  \n",
       "3     0.035624  \n",
       "4     0.024997  \n",
       "5     0.023045  \n",
       "6     0.019708  \n",
       "7     0.016662  \n",
       "8     0.016585  \n",
       "9     0.014989  \n",
       "10    0.014382  \n",
       "11    0.012706  \n",
       "12    0.012665  \n",
       "13    0.010297  \n",
       "14    0.009688  \n",
       "15    0.009429  \n",
       "16    0.009346  \n",
       "17    0.009133  \n",
       "18    0.008698  \n",
       "19    0.008631  \n",
       "20    0.008493  \n",
       "21    0.008443  \n",
       "22    0.008428  \n",
       "23    0.008281  \n",
       "24    0.008266  \n",
       "25    0.008229  \n",
       "26    0.008175  \n",
       "27    0.008039  \n",
       "28    0.007755  \n",
       "29    0.007724  \n",
       "30    0.007514  \n",
       "31    0.007397  \n",
       "32    0.007068  \n",
       "33    0.006987  \n",
       "34    0.006972  \n",
       "35    0.006904  \n",
       "36    0.006521  \n",
       "37    0.006062  \n",
       "38    0.006019  \n",
       "39    0.005799  "
      ]
     },
     "metadata": {},
     "output_type": "display_data"
    }
   ],
   "source": [
    "feat_imp_dict, feat_unique_imp_dict = feature_imp(rfc_red_cw, redtrain_df)\n",
    "fi_red = get_imp_features(40)\n",
    "display_all(fi_red)"
   ]
  },
  {
   "cell_type": "code",
   "execution_count": 44,
   "metadata": {
    "scrolled": false
   },
   "outputs": [
    {
     "data": {
      "text/plain": [
       "<matplotlib.axes._subplots.AxesSubplot at 0x7f7d2a570710>"
      ]
     },
     "execution_count": 44,
     "metadata": {},
     "output_type": "execute_result"
    },
    {
     "data": {
      "image/png": "[encoded data removed]",
      "text/plain": [
       "<Figure size 1080x1080 with 1 Axes>"
      ]
     },
     "metadata": {
      "needs_background": "light"
     },
     "output_type": "display_data"
    }
   ],
   "source": [
    "plot_fi(fi_red)"
   ]
  },
  {
   "cell_type": "markdown",
   "metadata": {},
   "source": [
    "## Compare The Accuracy Of Full Feature Classifier To Limited Feature Classifier\n"
   ]
  },
  {
   "cell_type": "code",
   "execution_count": 51,
   "metadata": {},
   "outputs": [],
   "source": [
    "from sklearn.metrics import accuracy_score, f1_score, recall_score, precision_score, classification_report, confusion_matrix\n",
    "\n",
    "# Full Featured Classifier To The Test Data\n",
    "y_pred = rfc_all_cw.predict(meta_val_df)\n",
    "y_important_pred = rfc_red_cw.predict(redval_df)"
   ]
  },
  {
   "cell_type": "markdown",
   "metadata": {},
   "source": [
    "#### F1 score"
   ]
  },
  {
   "cell_type": "code",
   "execution_count": 36,
   "metadata": {},
   "outputs": [
    {
     "data": {
      "text/plain": [
       "(0.08037825059101655, 0.09006622516556292)"
      ]
     },
     "execution_count": 36,
     "metadata": {},
     "output_type": "execute_result"
    }
   ],
   "source": [
    "# 40 features\n",
    "f1_score(y_val, y_pred) , f1_score(y_val, y_important_pred)"
   ]
  },
  {
   "cell_type": "code",
   "execution_count": 46,
   "metadata": {},
   "outputs": [
    {
     "data": {
      "text/plain": [
       "(0.0743919885550787, 0.08247422680412372)"
      ]
     },
     "execution_count": 46,
     "metadata": {},
     "output_type": "execute_result"
    }
   ],
   "source": [
    "# 47 features\n",
    "f1_score(y_val, y_pred) , f1_score(y_val, y_important_pred)"
   ]
  },
  {
   "cell_type": "markdown",
   "metadata": {},
   "source": [
    "#### Accuracy score"
   ]
  },
  {
   "cell_type": "code",
   "execution_count": 232,
   "metadata": {},
   "outputs": [
    {
     "data": {
      "text/plain": [
       "(0.9928846378164004, 0.9928846378164004)"
      ]
     },
     "execution_count": 232,
     "metadata": {},
     "output_type": "execute_result"
    }
   ],
   "source": [
    "#WITHOUT CLASS WEIGHTS\n",
    "\n",
    "# accuracy_score(y_val, y_pred) , accuracy_score(y_val, y_important_pred)\n",
    "# (0.9928846378164004, 0.9928846378164004)\n"
   ]
  },
  {
   "cell_type": "code",
   "execution_count": 35,
   "metadata": {},
   "outputs": [
    {
     "data": {
      "text/plain": [
       "(0.9773124927096699, 0.9599323457366149)"
      ]
     },
     "execution_count": 35,
     "metadata": {},
     "output_type": "execute_result"
    }
   ],
   "source": [
    "accuracy_score(y_val, y_pred) , accuracy_score(y_val, y_important_pred)"
   ]
  },
  {
   "cell_type": "code",
   "execution_count": 47,
   "metadata": {},
   "outputs": [
    {
     "data": {
      "text/plain": [
       "(0.962265251370582, 0.9480928496442319)"
      ]
     },
     "execution_count": 47,
     "metadata": {},
     "output_type": "execute_result"
    }
   ],
   "source": [
    "# 47 features\n",
    "accuracy_score(y_val, y_pred) , accuracy_score(y_val, y_important_pred)"
   ]
  },
  {
   "cell_type": "markdown",
   "metadata": {},
   "source": [
    "#### Recall score"
   ]
  },
  {
   "cell_type": "code",
   "execution_count": 37,
   "metadata": {},
   "outputs": [
    {
     "data": {
      "text/plain": [
       "(0.13934426229508196, 0.2786885245901639)"
      ]
     },
     "execution_count": 37,
     "metadata": {},
     "output_type": "execute_result"
    }
   ],
   "source": [
    "recall_score(y_val, y_pred) , recall_score(y_val, y_important_pred)"
   ]
  },
  {
   "cell_type": "code",
   "execution_count": 48,
   "metadata": {},
   "outputs": [
    {
     "data": {
      "text/plain": [
       "(0.21311475409836064, 0.32786885245901637)"
      ]
     },
     "execution_count": 48,
     "metadata": {},
     "output_type": "execute_result"
    }
   ],
   "source": [
    "# 47 features\n",
    "recall_score(y_val, y_pred) , recall_score(y_val, y_important_pred)"
   ]
  },
  {
   "cell_type": "markdown",
   "metadata": {},
   "source": [
    "#### Precision score"
   ]
  },
  {
   "cell_type": "code",
   "execution_count": 38,
   "metadata": {},
   "outputs": [
    {
     "data": {
      "text/plain": [
       "(0.05647840531561462, 0.053712480252764615)"
      ]
     },
     "execution_count": 38,
     "metadata": {},
     "output_type": "execute_result"
    }
   ],
   "source": [
    "precision_score(y_val, y_pred) , precision_score(y_val, y_important_pred)"
   ]
  },
  {
   "cell_type": "code",
   "execution_count": 49,
   "metadata": {},
   "outputs": [
    {
     "data": {
      "text/plain": [
       "(0.045060658578856154, 0.04716981132075472)"
      ]
     },
     "execution_count": 49,
     "metadata": {},
     "output_type": "execute_result"
    }
   ],
   "source": [
    "# 47 features\n",
    "precision_score(y_val, y_pred) , precision_score(y_val, y_important_pred)"
   ]
  },
  {
   "cell_type": "markdown",
   "metadata": {},
   "source": [
    "#### classification_report"
   ]
  },
  {
   "cell_type": "code",
   "execution_count": 56,
   "metadata": {},
   "outputs": [
    {
     "name": "stdout",
     "output_type": "stream",
     "text": [
      "              precision    recall  f1-score   support\n",
      "\n",
      "           0       0.99      0.97      0.98     17024\n",
      "           1       0.05      0.21      0.07       122\n",
      "\n",
      "    accuracy                           0.96     17146\n",
      "   macro avg       0.52      0.59      0.53     17146\n",
      "weighted avg       0.99      0.96      0.97     17146\n",
      " \n",
      "\n",
      "               precision    recall  f1-score   support\n",
      "\n",
      "           0       0.99      0.95      0.97     17024\n",
      "           1       0.05      0.33      0.08       122\n",
      "\n",
      "    accuracy                           0.95     17146\n",
      "   macro avg       0.52      0.64      0.53     17146\n",
      "weighted avg       0.99      0.95      0.97     17146\n",
      "\n"
     ]
    }
   ],
   "source": [
    "# 47 features\n",
    "print(classification_report(y_val, y_pred) ,\"\\n\\n\", classification_report(y_val, y_important_pred))"
   ]
  },
  {
   "cell_type": "markdown",
   "metadata": {},
   "source": [
    "#### Confusion matrix"
   ]
  },
  {
   "cell_type": "code",
   "execution_count": 55,
   "metadata": {},
   "outputs": [
    {
     "name": "stdout",
     "output_type": "stream",
     "text": [
      "[[16473   551]\n",
      " [   96    26]] \n",
      "\n",
      " [[16216   808]\n",
      " [   82    40]]\n"
     ]
    }
   ],
   "source": [
    "# 47 features\n",
    "# tn, fp, fn, tp\n",
    "print(confusion_matrix(y_val, y_pred) ,\"\\n\\n\", confusion_matrix(y_val, y_important_pred))"
   ]
  },
  {
   "cell_type": "code",
   "execution_count": null,
   "metadata": {},
   "outputs": [],
   "source": []
  }
 ],
 "metadata": {
  "kernelspec": {
   "display_name": "Python 2020",
   "language": "python",
   "name": "python2020"
  },
  "language_info": {
   "codemirror_mode": {
    "name": "ipython",
    "version": 3
   },
   "file_extension": ".py",
   "mimetype": "text/x-python",
   "name": "python",
   "nbconvert_exporter": "python",
   "pygments_lexer": "ipython3",
   "version": "3.7.5"
  }
 },
 "nbformat": 4,
 "nbformat_minor": 2
}
