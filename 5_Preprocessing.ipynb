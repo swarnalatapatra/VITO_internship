{
 "cells": [
  {
   "cell_type": "markdown",
   "metadata": {},
   "source": [
    "# Initial Processing"
   ]
  },
  {
   "cell_type": "code",
   "execution_count": 1,
   "metadata": {
    "scrolled": true
   },
   "outputs": [
    {
     "name": "stdout",
     "output_type": "stream",
     "text": [
      "\u001b[1m\u001b[37mthunder\u001b[m  Fri Jan 17 14:29:16 2020\r\n",
      "\u001b[36m[0]\u001b[m \u001b[34mGeForce GTX 1080 Ti\u001b[m |\u001b[31m 39'C\u001b[m, \u001b[32m  0 %\u001b[m | \u001b[36m\u001b[1m\u001b[33m10767\u001b[m / \u001b[33m11178\u001b[m MB | \u001b[1m\u001b[30mhemelinr\u001b[m(\u001b[33m10757M\u001b[m)\r\n",
      "\u001b[36m[1]\u001b[m \u001b[34mGeForce GTX 1080 Ti\u001b[m |\u001b[31m 24'C\u001b[m, \u001b[32m  0 %\u001b[m | \u001b[36m\u001b[1m\u001b[33m10767\u001b[m / \u001b[33m11178\u001b[m MB | \u001b[1m\u001b[30mhemelinr\u001b[m(\u001b[33m10757M\u001b[m)\r\n",
      "\u001b[36m[2]\u001b[m \u001b[34mGeForce GTX 1080 Ti\u001b[m |\u001b[31m 26'C\u001b[m, \u001b[32m  0 %\u001b[m | \u001b[36m\u001b[1m\u001b[33m   10\u001b[m / \u001b[33m11178\u001b[m MB |\r\n",
      "\u001b[36m[3]\u001b[m \u001b[34mGeForce GTX 1080 Ti\u001b[m |\u001b[31m 24'C\u001b[m, \u001b[32m  0 %\u001b[m | \u001b[36m\u001b[1m\u001b[33m10936\u001b[m / \u001b[33m11178\u001b[m MB | \u001b[1m\u001b[30mhemelinr\u001b[m(\u001b[33m10926M\u001b[m)\r\n",
      "\u001b[36m[4]\u001b[m \u001b[34mGeForce GTX 1080 Ti\u001b[m |\u001b[31m 23'C\u001b[m, \u001b[32m  0 %\u001b[m | \u001b[36m\u001b[1m\u001b[33m10767\u001b[m / \u001b[33m11178\u001b[m MB | \u001b[1m\u001b[30mhemelinr\u001b[m(\u001b[33m10757M\u001b[m)\r\n",
      "\u001b[36m[5]\u001b[m \u001b[34mGeForce GTX 1080 Ti\u001b[m |\u001b[31m 26'C\u001b[m, \u001b[32m  0 %\u001b[m | \u001b[36m\u001b[1m\u001b[33m   10\u001b[m / \u001b[33m11178\u001b[m MB |\r\n",
      "\u001b[36m[6]\u001b[m \u001b[34mGeForce GTX 1080 Ti\u001b[m |\u001b[1m\u001b[31m 59'C\u001b[m, \u001b[32m 21 %\u001b[m | \u001b[36m\u001b[1m\u001b[33m10895\u001b[m / \u001b[33m11178\u001b[m MB | \u001b[1m\u001b[30mmichiel\u001b[m(\u001b[33m10885M\u001b[m)\r\n",
      "\u001b[36m[7]\u001b[m \u001b[34mGeForce GTX 1080 Ti\u001b[m |\u001b[31m 43'C\u001b[m, \u001b[32m  0 %\u001b[m | \u001b[36m\u001b[1m\u001b[33m10895\u001b[m / \u001b[33m11178\u001b[m MB | \u001b[1m\u001b[30mmichiel\u001b[m(\u001b[33m10885M\u001b[m)\r\n"
     ]
    },
    {
     "name": "stderr",
     "output_type": "stream",
     "text": [
      "/ds/environments/python2020/lib/python3.7/site-packages/sklearn/externals/joblib/__init__.py:15: DeprecationWarning: sklearn.externals.joblib is deprecated in 0.21 and will be removed in 0.23. Please import this functionality directly from joblib, which can be installed with: pip install joblib. If this warning is raised when loading pickled models, you may need to re-serialize those models with scikit-learn 0.21+.\n",
      "  warnings.warn(msg, category=DeprecationWarning)\n",
      "Using TensorFlow backend.\n",
      "/ds/environments/python2020/lib/python3.7/site-packages/keras/callbacks/callbacks.py:19: DeprecationWarning: Using or importing the ABCs from 'collections' instead of from 'collections.abc' is deprecated since Python 3.3,and in 3.9 it will stop working\n",
      "  from collections import Iterable\n"
     ]
    },
    {
     "name": "stdout",
     "output_type": "stream",
     "text": [
      "Dataset consist of 85730 patients data with 6251 features for each patient\n",
      "Function definitions executed\n"
     ]
    }
   ],
   "source": [
    "%run ./1_Definitions.ipynb"
   ]
  },
  {
   "cell_type": "code",
   "execution_count": 2,
   "metadata": {
    "scrolled": true
   },
   "outputs": [
    {
     "name": "stdout",
     "output_type": "stream",
     "text": [
      "Fri Jan 17 14:29:25 2020       \n",
      "+-----------------------------------------------------------------------------+\n",
      "| NVIDIA-SMI 418.87.01    Driver Version: 418.87.01    CUDA Version: 10.1     |\n",
      "|-------------------------------+----------------------+----------------------+\n",
      "| GPU  Name        Persistence-M| Bus-Id        Disp.A | Volatile Uncorr. ECC |\n",
      "| Fan  Temp  Perf  Pwr:Usage/Cap|         Memory-Usage | GPU-Util  Compute M. |\n",
      "|===============================+======================+======================|\n",
      "|   0  GeForce GTX 108...  Off  | 00000000:04:00.0 Off |                  N/A |\n",
      "| 29%   39C    P2    56W / 250W |  10767MiB / 11178MiB |      0%      Default |\n",
      "+-------------------------------+----------------------+----------------------+\n",
      "|   1  GeForce GTX 108...  Off  | 00000000:06:00.0 Off |                  N/A |\n",
      "| 29%   24C    P8     7W / 250W |  10767MiB / 11178MiB |      0%      Default |\n",
      "+-------------------------------+----------------------+----------------------+\n",
      "|   2  GeForce GTX 108...  Off  | 00000000:07:00.0 Off |                  N/A |\n",
      "| 29%   25C    P8     7W / 250W |     10MiB / 11178MiB |      0%      Default |\n",
      "+-------------------------------+----------------------+----------------------+\n",
      "|   3  GeForce GTX 108...  Off  | 00000000:08:00.0 Off |                  N/A |\n",
      "| 29%   24C    P8     7W / 250W |  10936MiB / 11178MiB |      0%      Default |\n",
      "+-------------------------------+----------------------+----------------------+\n",
      "|   4  GeForce GTX 108...  Off  | 00000000:0C:00.0 Off |                  N/A |\n",
      "| 29%   23C    P8     8W / 250W |  10767MiB / 11178MiB |      0%      Default |\n",
      "+-------------------------------+----------------------+----------------------+\n",
      "|   5  GeForce GTX 108...  Off  | 00000000:0D:00.0 Off |                  N/A |\n",
      "| 29%   26C    P8     9W / 250W |     10MiB / 11178MiB |      0%      Default |\n",
      "+-------------------------------+----------------------+----------------------+\n",
      "|   6  GeForce GTX 108...  Off  | 00000000:0E:00.0 Off |                  N/A |\n",
      "| 44%   61C    P2    85W / 250W |  10895MiB / 11178MiB |     80%      Default |\n",
      "+-------------------------------+----------------------+----------------------+\n",
      "|   7  GeForce GTX 108...  Off  | 00000000:0F:00.0 Off |                  N/A |\n",
      "| 38%   41C    P8     9W / 250W |  10895MiB / 11178MiB |      0%      Default |\n",
      "+-------------------------------+----------------------+----------------------+\n",
      "                                                                               \n",
      "+-----------------------------------------------------------------------------+\n",
      "| Processes:                                                       GPU Memory |\n",
      "|  GPU       PID   Type   Process name                             Usage      |\n",
      "|=============================================================================|\n",
      "|    0     15736      C   ...lenb/environments/python2019/bin/python 10757MiB |\n",
      "|    1     23853      C   ...lenb/environments/python2019/bin/python 10757MiB |\n",
      "|    3     23214      C   python3                                    10926MiB |\n",
      "|    4     19505      C   ...lenb/environments/python2019/bin/python 10757MiB |\n",
      "|    6     29958      C   /ds/environments/python2020/bin/python     10885MiB |\n",
      "|    7     29025      C   /ds/environments/python2020/bin/python     10885MiB |\n",
      "+-----------------------------------------------------------------------------+\n"
     ]
    }
   ],
   "source": [
    "!nvidia-smi\n",
    "import os\n",
    "\n",
    "os.environ[\"CUDA_DEVICE_ORDER\"] = \"PCI_BUS_ID\"   # so the IDs match nvidia-smi\n",
    "os.environ[\"CUDA_VISIBLE_DEVICES\"] = \"7\"   # choose here your GPU (0-7)\n",
    "\n",
    "import tensorflow as tf\n",
    "import tensorflow.compat.v1 as tf\n",
    "import keras\n",
    "# from keras import backend as K\n",
    "import tensorflow.python.keras.backend as K"
   ]
  },
  {
   "cell_type": "code",
   "execution_count": 3,
   "metadata": {},
   "outputs": [],
   "source": [
    "df = fundus_df.copy()"
   ]
  },
  {
   "cell_type": "code",
   "execution_count": 4,
   "metadata": {},
   "outputs": [],
   "source": [
    "# Indices -  used to separate the data into train - validation and test sets\n",
    "indices = np.arange(n_patients)"
   ]
  },
  {
   "cell_type": "markdown",
   "metadata": {},
   "source": [
    "# 1. META DATA"
   ]
  },
  {
   "cell_type": "markdown",
   "metadata": {},
   "source": [
    "## Handling 'None', 'NaN' and other values - DONE\n",
    "Below code is commented out since the preprocessing is done and saved after label encoding - time taking process"
   ]
  },
  {
   "cell_type": "code",
   "execution_count": 5,
   "metadata": {},
   "outputs": [],
   "source": [
    "# df.replace(to_replace=[None], value=np.nan, inplace=True) # Replace all None values by NaN\n",
    "\n",
    "# # Replace Nan values depending on dtype of each column\n",
    "# float_cols = df.select_dtypes(include=['float64']).columns\n",
    "# int_cols = df.select_dtypes(include=['int64']).columns\n",
    "# str_cols = df.select_dtypes(include=['object']).columns\n",
    "\n",
    "# df.loc[:, int_cols] = df.loc[:, int_cols].fillna(0)\n",
    "# df.loc[:, float_cols] = df.loc[:, float_cols].fillna(0)\n",
    "# df.loc[:, str_cols] = df.loc[:, str_cols].fillna('')\n",
    "\n",
    "# # Handling weird values\n",
    "# df.iloc[:,17] = df.iloc[:,17].replace(regex=['^\\.\\.'], value='00') # changing '..2870' to '002870' by looking at the pattern"
   ]
  },
  {
   "cell_type": "markdown",
   "metadata": {},
   "source": [
    "## Label Encoding - DONE\n",
    "Saved file enc_df can be used directly to save time"
   ]
  },
  {
   "cell_type": "code",
   "execution_count": 6,
   "metadata": {},
   "outputs": [],
   "source": [
    "# # Label Encoding for the non numeric columns\n",
    "# enc_df = df.copy()\n",
    "# for i in range(enc_df.shape[1]):\n",
    "#     if not is_numeric_dtype(enc_df.iloc[:,i]):\n",
    "#         enc_df.iloc[:,i] = le.fit_transform(enc_df.iloc[:,i])\n",
    "\n",
    "# SAVING\n",
    "# enc_df.to_pickle(DATA_dir + 'enc_df.pkl')\n"
   ]
  },
  {
   "cell_type": "markdown",
   "metadata": {},
   "source": [
    "## Loading the encoded data"
   ]
  },
  {
   "cell_type": "code",
   "execution_count": 7,
   "metadata": {},
   "outputs": [],
   "source": [
    "#LOAD\n",
    "enc_df = pd.read_pickle(DATA_dir + 'enc_df.pkl')"
   ]
  },
  {
   "cell_type": "markdown",
   "metadata": {},
   "source": [
    "# 2. Ground Truth Data Loading"
   ]
  },
  {
   "cell_type": "code",
   "execution_count": 21,
   "metadata": {},
   "outputs": [],
   "source": [
    "# Since we are using UNION as our Ground truth -  we go with y_union\n",
    "y = np.load(DATA_dir + 'GroundTruths/GT_intersect.npy')\n",
    "y_union = np.load(DATA_dir + 'GroundTruths/GT_union.npy')\n",
    "\n",
    "GTu_L = np.load(DATA_dir + 'GroundTruths/GTu_L.npy')               # Ground truth of left eye - union\n",
    "GTu_R = np.load(DATA_dir + 'GroundTruths/GTu_R.npy')               # Ground truth of right eye - union\n",
    "\n",
    "GTi_L = np.load(DATA_dir + 'GroundTruths/GTi_L.npy')\n",
    "GTi_R = np.load(DATA_dir + 'GroundTruths/GTi_R.npy')\n",
    "\n",
    "GT523_L = np.load(DATA_dir + 'GroundTruths/GT523_L.npy')\n",
    "GT523_R = np.load(DATA_dir + 'GroundTruths/GT523_R.npy')\n",
    "\n",
    "GT_19 = np.load(DATA_dir + 'GroundTruths/GT_19.npy')"
   ]
  },
  {
   "cell_type": "code",
   "execution_count": 22,
   "metadata": {},
   "outputs": [],
   "source": [
    "GT523_L_df = pd.DataFrame(GT523_L, columns=['GT523_L'])\n",
    "GT19_L_df = pd.DataFrame(GT_19, columns=['GT19_L'])\n",
    "GTi_L_df = pd.DataFrame(GTi_L, columns=['GTi_L'])\n",
    "GTu_L_df = pd.DataFrame(GTu_L, columns=['GTu_L'])\n",
    "\n",
    "GT523_R_df = pd.DataFrame(GT523_R, columns=['GT523_R'])\n",
    "GT19_R_df = pd.DataFrame(GT_19, columns=['GT19_R'])\n",
    "GTi_R_df = pd.DataFrame(GTi_R, columns=['GTi_R'])\n",
    "GTu_R_df = pd.DataFrame(GTu_R, columns=['GTu_R'])\n"
   ]
  },
  {
   "cell_type": "code",
   "execution_count": 23,
   "metadata": {},
   "outputs": [],
   "source": [
    "GT_LEFT = pd.concat([GT523_L_df,GT19_L_df,GTi_L_df,GTu_L_df],axis = 1)\n",
    "GT_RIGHT = pd.concat([GT523_R_df,GT19_R_df,GTi_R_df,GTu_R_df],axis = 1)"
   ]
  },
  {
   "cell_type": "code",
   "execution_count": 24,
   "metadata": {},
   "outputs": [
    {
     "name": "stdout",
     "output_type": "stream",
     "text": [
      "UNION\n",
      "No. of Glaucoma patients in training set: 4182\n",
      "No. of non-Glaucoma patients in training set: 81548\n"
     ]
    }
   ],
   "source": [
    "n_NG = 0\n",
    "n_G = 0\n",
    "\n",
    "for i in range(len(y_union)):\n",
    "    if(y_union[i] == 1):\n",
    "        n_G += 1\n",
    "    else:\n",
    "        n_NG += 1\n",
    "        \n",
    "print(\"UNION\") # y_union is used for union\n",
    "print(\"No. of Glaucoma patients in training set:\",n_G)\n",
    "print(\"No. of non-Glaucoma patients in training set:\",n_NG)\n"
   ]
  },
  {
   "cell_type": "markdown",
   "metadata": {},
   "source": [
    "# 3. FUNDUS Images filename Loading"
   ]
  },
  {
   "cell_type": "code",
   "execution_count": 25,
   "metadata": {},
   "outputs": [],
   "source": [
    "# LOAD\n",
    "filenames_L = np.load(DATA_dir + 'filenames_L.npy') # fundus left eye image names\n",
    "filenames_R = np.load(DATA_dir + 'filenames_R.npy') # fundus right eye image names\n",
    "\n",
    "# converted to dataframe for easier usage\n",
    "filenames_L_df = pd.DataFrame(filenames_L, columns=['filenames_L']) \n",
    "filenames_R_df = pd.DataFrame(filenames_R, columns=['filenames_R'])"
   ]
  },
  {
   "cell_type": "markdown",
   "metadata": {},
   "source": [
    "# 4. Concatenate File names and Ground truths\n",
    "This is done so that file and respective ground truths can be accessed easily."
   ]
  },
  {
   "cell_type": "code",
   "execution_count": 26,
   "metadata": {},
   "outputs": [],
   "source": [
    "fundus_names_gt_df = pd.concat([filenames_L_df,GT_LEFT,filenames_R_df,GT_RIGHT], axis = 1)"
   ]
  },
  {
   "cell_type": "code",
   "execution_count": 27,
   "metadata": {},
   "outputs": [
    {
     "data": {
      "text/html": [
       "<div>\n",
       "<style scoped>\n",
       "    .dataframe tbody tr th:only-of-type {\n",
       "        vertical-align: middle;\n",
       "    }\n",
       "\n",
       "    .dataframe tbody tr th {\n",
       "        vertical-align: top;\n",
       "    }\n",
       "\n",
       "    .dataframe thead th {\n",
       "        text-align: right;\n",
       "    }\n",
       "</style>\n",
       "<table border=\"1\" class=\"dataframe\">\n",
       "  <thead>\n",
       "    <tr style=\"text-align: right;\">\n",
       "      <th></th>\n",
       "      <th>filenames_L</th>\n",
       "      <th>GT523_L</th>\n",
       "      <th>GT19_L</th>\n",
       "      <th>GTi_L</th>\n",
       "      <th>GTu_L</th>\n",
       "      <th>filenames_R</th>\n",
       "      <th>GT523_R</th>\n",
       "      <th>GT19_R</th>\n",
       "      <th>GTi_R</th>\n",
       "      <th>GTu_R</th>\n",
       "    </tr>\n",
       "  </thead>\n",
       "  <tbody>\n",
       "    <tr>\n",
       "      <th>0</th>\n",
       "      <td>1000132_21015_0_0.png</td>\n",
       "      <td>1</td>\n",
       "      <td>0</td>\n",
       "      <td>0</td>\n",
       "      <td>0</td>\n",
       "      <td>1000132_21016_0_0.png</td>\n",
       "      <td>1</td>\n",
       "      <td>0</td>\n",
       "      <td>0</td>\n",
       "      <td>0</td>\n",
       "    </tr>\n",
       "    <tr>\n",
       "      <th>1</th>\n",
       "      <td>1000277_21015_0_1.png</td>\n",
       "      <td>1</td>\n",
       "      <td>0</td>\n",
       "      <td>0</td>\n",
       "      <td>0</td>\n",
       "      <td>1000277_21016_0_1.png</td>\n",
       "      <td>1</td>\n",
       "      <td>0</td>\n",
       "      <td>0</td>\n",
       "      <td>0</td>\n",
       "    </tr>\n",
       "    <tr>\n",
       "      <th>2</th>\n",
       "      <td>1000472_21015_0_0.png</td>\n",
       "      <td>1</td>\n",
       "      <td>0</td>\n",
       "      <td>0</td>\n",
       "      <td>0</td>\n",
       "      <td>1000472_21016_0_0.png</td>\n",
       "      <td>1</td>\n",
       "      <td>0</td>\n",
       "      <td>0</td>\n",
       "      <td>0</td>\n",
       "    </tr>\n",
       "    <tr>\n",
       "      <th>3</th>\n",
       "      <td>1000487_21015_0_0.png</td>\n",
       "      <td>1</td>\n",
       "      <td>0</td>\n",
       "      <td>0</td>\n",
       "      <td>0</td>\n",
       "      <td>1000487_21016_0_0.png</td>\n",
       "      <td>1</td>\n",
       "      <td>0</td>\n",
       "      <td>0</td>\n",
       "      <td>0</td>\n",
       "    </tr>\n",
       "    <tr>\n",
       "      <th>4</th>\n",
       "      <td>1000684_21015_0_0.png</td>\n",
       "      <td>1</td>\n",
       "      <td>0</td>\n",
       "      <td>0</td>\n",
       "      <td>0</td>\n",
       "      <td>1000684_21016_0_0.png</td>\n",
       "      <td>1</td>\n",
       "      <td>0</td>\n",
       "      <td>0</td>\n",
       "      <td>0</td>\n",
       "    </tr>\n",
       "  </tbody>\n",
       "</table>\n",
       "</div>"
      ],
      "text/plain": [
       "             filenames_L  GT523_L  GT19_L  GTi_L  GTu_L  \\\n",
       "0  1000132_21015_0_0.png        1       0      0      0   \n",
       "1  1000277_21015_0_1.png        1       0      0      0   \n",
       "2  1000472_21015_0_0.png        1       0      0      0   \n",
       "3  1000487_21015_0_0.png        1       0      0      0   \n",
       "4  1000684_21015_0_0.png        1       0      0      0   \n",
       "\n",
       "             filenames_R  GT523_R  GT19_R  GTi_R  GTu_R  \n",
       "0  1000132_21016_0_0.png        1       0      0      0  \n",
       "1  1000277_21016_0_1.png        1       0      0      0  \n",
       "2  1000472_21016_0_0.png        1       0      0      0  \n",
       "3  1000487_21016_0_0.png        1       0      0      0  \n",
       "4  1000684_21016_0_0.png        1       0      0      0  "
      ]
     },
     "execution_count": 27,
     "metadata": {},
     "output_type": "execute_result"
    }
   ],
   "source": [
    "fundus_names_gt_df.head()"
   ]
  },
  {
   "cell_type": "markdown",
   "metadata": {},
   "source": [
    "# 4. Splitting into Train Test Validation\n",
    "\n",
    "Train-validation-test sets are created in such a way that a paritcular set of patients in each set, \n",
    "have the respective meta-data as well as left and right fundus image names along with their ground truth in that set.\n",
    "This is done using indices and fundus_names_gt_df dataframe created in above field."
   ]
  },
  {
   "cell_type": "code",
   "execution_count": 28,
   "metadata": {},
   "outputs": [
    {
     "name": "stdout",
     "output_type": "stream",
     "text": [
      "Meta data index: (51438,) (17146,) (17146,)\n",
      "Fundus Images and all ground truths: (51438, 10) (17146, 10) (17146, 10)\n"
     ]
    }
   ],
   "source": [
    "# Spliting to train and test\n",
    "indices_train, indices_test, fundus_train, fundus_test = train_test_split(indices,fundus_names_gt_df,test_size=0.2, random_state=1)\n",
    "\n",
    "# Spliting train into train and validation\n",
    "indices_train, indices_val, fundus_train, fundus_val = train_test_split(indices_train,fundus_train,test_size=0.25, random_state=1)\n",
    "\n",
    "print(\"Meta data index:\",indices_train.shape, indices_val.shape, indices_test.shape)\n",
    "print(\"Fundus Images and all ground truths:\",fundus_train.shape, fundus_val.shape, fundus_test.shape)"
   ]
  },
  {
   "cell_type": "markdown",
   "metadata": {},
   "source": [
    "### GT union Split into Train Test Val as per indices"
   ]
  },
  {
   "cell_type": "code",
   "execution_count": 30,
   "metadata": {},
   "outputs": [
    {
     "name": "stdout",
     "output_type": "stream",
     "text": [
      "Progress: [####################] 100.0%\n"
     ]
    }
   ],
   "source": [
    "# TRAIN\n",
    "yu_train = pd.DataFrame(columns = ['ClassLabel'])\n",
    "for idx in range(len(indices_train)):\n",
    "    yu_train.loc[idx] = y_union[indices_train[idx]]\n",
    "    update_progress(idx/len(indices_train))\n",
    "\n",
    "# VALIDATION\n",
    "yu_val = pd.DataFrame(columns = ['ClassLabel'])\n",
    "for idx in range(len(indices_val)):\n",
    "    yu_val.loc[idx] = y_union[indices_val[idx]]\n",
    "    update_progress(idx/len(indices_val))\n",
    "\n",
    "# TEST\n",
    "yu_test = pd.DataFrame(columns = ['ClassLabel'])\n",
    "for idx in range(len(indices_test)):\n",
    "    yu_test.loc[idx] = y_union[indices_test[idx]]\n",
    "    update_progress(idx/len(indices_test))\n"
   ]
  },
  {
   "cell_type": "code",
   "execution_count": 31,
   "metadata": {},
   "outputs": [
    {
     "name": "stdout",
     "output_type": "stream",
     "text": [
      "Y_union: (51438, 1) (17146, 1) (17146, 1)\n",
      "Fundus image names and GT: (51438, 10) (17146, 10) (17146, 10)\n"
     ]
    }
   ],
   "source": [
    "print(\"Y_union:\",yu_train.shape, yu_val.shape, yu_test.shape)\n",
    "print(\"Fundus image names and GT:\",fundus_train.shape, fundus_val.shape, fundus_test.shape)"
   ]
  },
  {
   "cell_type": "markdown",
   "metadata": {},
   "source": [
    "### Saving the train test validation data - DONE !!"
   ]
  },
  {
   "cell_type": "code",
   "execution_count": 32,
   "metadata": {},
   "outputs": [],
   "source": [
    "# INDICES\n",
    "np.save(tts_path + 'indices_train.npy', indices_train)\n",
    "np.save(tts_path + 'indices_val.npy', indices_val)\n",
    "np.save(tts_path + 'indices_test.npy', indices_test)\n",
    "\n",
    "# FUNDUS IMAGE NAMES AND GROUND TRUTHS - LEFT and RIGHT\n",
    "fundus_train.to_pickle(tts_path + 'fundus_train.pkl')\n",
    "fundus_val.to_pickle(tts_path + 'fundus_val.pkl')\n",
    "fundus_test.to_pickle(tts_path + 'fundus_test.pkl')\n",
    "\n",
    "# GROUND TRUTH UNION FOR FEATURE IMPORTANCE\n",
    "yu_train.to_pickle(tts_path + 'yu_train.pkl')\n",
    "yu_val.to_pickle(tts_path + 'yu_val.pkl')\n",
    "yu_test.to_pickle(tts_path + 'yu_test.pkl')"
   ]
  },
  {
   "cell_type": "markdown",
   "metadata": {},
   "source": []
  }
 ],
 "metadata": {
  "kernelspec": {
   "display_name": "Python 2020",
   "language": "python",
   "name": "python2020"
  },
  "language_info": {
   "codemirror_mode": {
    "name": "ipython",
    "version": 3
   },
   "file_extension": ".py",
   "mimetype": "text/x-python",
   "name": "python",
   "nbconvert_exporter": "python",
   "pygments_lexer": "ipython3",
   "version": "3.7.5"
  }
 },
 "nbformat": 4,
 "nbformat_minor": 2
}
